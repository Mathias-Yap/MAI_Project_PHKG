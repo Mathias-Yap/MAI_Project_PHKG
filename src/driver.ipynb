{
 "cells": [
  {
   "cell_type": "code",
   "execution_count": 8,
   "metadata": {},
   "outputs": [],
   "source": [
    "import millenniumdb_driver\n",
    "\n",
    "# url = 'http://localhost:4321/'\n",
    "url = 'http://localhost:1234/'\n",
    "driver = millenniumdb_driver.driver(url)"
   ]
  },
  {
   "cell_type": "code",
   "execution_count": 7,
   "metadata": {},
   "outputs": [],
   "source": [
    "!curl http://localhost:1234/"
   ]
  },
  {
   "cell_type": "code",
   "execution_count": 6,
   "metadata": {},
   "outputs": [
    {
     "name": "stdout",
     "output_type": "stream",
     "text": [
      "<!DOCTYPE html>\n",
      "<html lang=\"en\">\n",
      "  <head>\n",
      "    <meta charset=\"utf-8\" />\n",
      "    <meta name=\"viewport\" content=\"initial-scale=1, width=device-width\" />\n",
      "    <link rel=\"icon\" type=\"image/svg+xml\" href=\"/favicon.ico\" />\n",
      "    <title>MillenniumDB</title>\n",
      "    <script type=\"module\" crossorigin src=\"/assets/index-mpQCT_ry.js\"></script>\n",
      "    <link rel=\"stylesheet\" crossorigin href=\"/assets/index-LH6ATiEr.css\">\n",
      "  </head>\n",
      "  <body>\n",
      "    <div id=\"root\"></div>\n",
      "  </body>\n",
      "</html>\n"
     ]
    }
   ],
   "source": [
    "!curl http://localhost:4321/"
   ]
  },
  {
   "cell_type": "code",
   "execution_count": 9,
   "metadata": {},
   "outputs": [],
   "source": [
    "session = driver.session()"
   ]
  },
  {
   "cell_type": "code",
   "execution_count": 10,
   "metadata": {},
   "outputs": [],
   "source": [
    "query = \"\"\"\n",
    "SELECT *\n",
    "WHERE { ?s ?p ?o . }\n",
    "LIMIT 100\n",
    "\"\"\"\n",
    "result = session.run(query)"
   ]
  },
  {
   "cell_type": "code",
   "execution_count": 11,
   "metadata": {},
   "outputs": [
    {
     "name": "stdout",
     "output_type": "stream",
     "text": [
      "{s: IRI<https://www.biomedit.ch/rdf/sphn-schema/sphn/DrugPrescription/4/patients/12118473/Substance>, p: IRI<http://www.w3.org/1999/02/22-rdf-syntax-ns#type>, o: IRI<https://www.biomedit.ch/rdf/sphn-schema/sphn/Substance>}\n",
      "{s: IRI<https://www.biomedit.ch/rdf/sphn-schema/sphn/DrugPrescription/4/patients/12118473/Substance>, p: IRI<https://www.biomedit.ch/rdf/sphn-schema/sphn/hasCode>, o: IRI<https://www.biomedit.ch/rdf/sphn-schema/sphn/ndc#904516561>}\n",
      "{s: IRI<https://www.biomedit.ch/rdf/sphn-schema/sphn/DrugPrescription/33/patients/16596364/Substance>, p: IRI<http://www.w3.org/1999/02/22-rdf-syntax-ns#type>, o: IRI<https://www.biomedit.ch/rdf/sphn-schema/sphn/Substance>}\n",
      "{s: IRI<https://www.biomedit.ch/rdf/sphn-schema/sphn/DrugPrescription/33/patients/16596364/Substance>, p: IRI<https://www.biomedit.ch/rdf/sphn-schema/sphn/hasCode>, o: IRI<https://www.biomedit.ch/rdf/sphn-schema/sphn/ndc#54162060002>}\n",
      "{s: IRI<https://www.biomedit.ch/rdf/sphn-schema/sphn/LabTestEvent/2/patients/10768463/LabResult>, p: IRI<http://www.w3.org/1999/02/22-rdf-syntax-ns#type>, o: IRI<https://www.biomedit.ch/rdf/sphn-schema/sphn/LabResult>}\n",
      "{s: IRI<https://www.biomedit.ch/rdf/sphn-schema/sphn/LabTestEvent/2/patients/10768463/LabResult>, p: IRI<https://www.biomedit.ch/rdf/sphn-schema/sphn/hasCode>, o: IRI<https://www.biomedit.ch/rdf/sphn-schema/sphn/d_labitems/50852>}\n",
      "{s: IRI<https://www.biomedit.ch/rdf/sphn-schema/sphn/LabTestEvent/28/patients/19638540/LabResult>, p: IRI<http://www.w3.org/1999/02/22-rdf-syntax-ns#type>, o: IRI<https://www.biomedit.ch/rdf/sphn-schema/sphn/LabResult>}\n",
      "{s: IRI<https://www.biomedit.ch/rdf/sphn-schema/sphn/LabTestEvent/28/patients/19638540/LabResult>, p: IRI<https://www.biomedit.ch/rdf/sphn-schema/sphn/hasCode>, o: IRI<https://www.biomedit.ch/rdf/sphn-schema/sphn/d_labitems/51125>}\n",
      "{s: IRI<https://www.biomedit.ch/rdf/sphn-schema/sphn/LabTestEvent/47/patients/19164956/LabResult>, p: IRI<http://www.w3.org/1999/02/22-rdf-syntax-ns#type>, o: IRI<https://www.biomedit.ch/rdf/sphn-schema/sphn/LabResult>}\n",
      "{s: IRI<https://www.biomedit.ch/rdf/sphn-schema/sphn/LabTestEvent/47/patients/19164956/LabResult>, p: IRI<https://www.biomedit.ch/rdf/sphn-schema/sphn/hasCode>, o: IRI<https://www.biomedit.ch/rdf/sphn-schema/sphn/d_labitems/50820>}\n",
      "{s: IRI<https://www.biomedit.ch/rdf/sphn-schema/sphn/LabTestEvent/106/patients/10764017/LabResult>, p: IRI<http://www.w3.org/1999/02/22-rdf-syntax-ns#type>, o: IRI<https://www.biomedit.ch/rdf/sphn-schema/sphn/LabResult>}\n",
      "{s: IRI<https://www.biomedit.ch/rdf/sphn-schema/sphn/LabTestEvent/106/patients/10764017/LabResult>, p: IRI<https://www.biomedit.ch/rdf/sphn-schema/sphn/hasCode>, o: IRI<https://www.biomedit.ch/rdf/sphn-schema/sphn/d_labitems/53181>}\n",
      "{s: IRI<https://www.biomedit.ch/rdf/sphn-schema/sphn/DrugPrescription/14/patients/18945729/Drug>, p: IRI<http://www.w3.org/1999/02/22-rdf-syntax-ns#type>, o: IRI<https://www.biomedit.ch/rdf/sphn-schema/sphn/Drug>}\n",
      "{s: IRI<https://www.biomedit.ch/rdf/sphn-schema/sphn/DrugPrescription/14/patients/18945729/Drug>, p: IRI<https://www.biomedit.ch/rdf/sphn-schema/sphn/hasActiveIngredient>, o: IRI<https://www.biomedit.ch/rdf/sphn-schema/sphn/DrugPrescription/14/patients/18945729/Substance>}\n",
      "{s: IRI<https://www.biomedit.ch/rdf/sphn-schema/sphn/DrugPrescription/77/patients/10136820/Substance>, p: IRI<http://www.w3.org/1999/02/22-rdf-syntax-ns#type>, o: IRI<https://www.biomedit.ch/rdf/sphn-schema/sphn/Substance>}\n",
      "{s: IRI<https://www.biomedit.ch/rdf/sphn-schema/sphn/DrugPrescription/77/patients/10136820/Substance>, p: IRI<https://www.biomedit.ch/rdf/sphn-schema/sphn/hasCode>, o: IRI<https://www.biomedit.ch/rdf/sphn-schema/sphn/ndc#50242004164>}\n",
      "{s: IRI<https://www.biomedit.ch/rdf/sphn-schema/sphn/LabTestEvent/4/patients/10345163/LabResult>, p: IRI<http://www.w3.org/1999/02/22-rdf-syntax-ns#type>, o: IRI<https://www.biomedit.ch/rdf/sphn-schema/sphn/LabResult>}\n",
      "{s: IRI<https://www.biomedit.ch/rdf/sphn-schema/sphn/LabTestEvent/4/patients/10345163/LabResult>, p: IRI<https://www.biomedit.ch/rdf/sphn-schema/sphn/hasCode>, o: IRI<https://www.biomedit.ch/rdf/sphn-schema/sphn/d_labitems/50912>}\n",
      "{s: IRI<https://www.biomedit.ch/rdf/sphn-schema/sphn/DrugPrescription/28/patients/17205470/Drug>, p: IRI<http://www.w3.org/1999/02/22-rdf-syntax-ns#type>, o: IRI<https://www.biomedit.ch/rdf/sphn-schema/sphn/Drug>}\n",
      "{s: IRI<https://www.biomedit.ch/rdf/sphn-schema/sphn/DrugPrescription/28/patients/17205470/Drug>, p: IRI<https://www.biomedit.ch/rdf/sphn-schema/sphn/hasActiveIngredient>, o: IRI<https://www.biomedit.ch/rdf/sphn-schema/sphn/DrugPrescription/28/patients/17205470/Substance>}\n",
      "{s: IRI<https://www.biomedit.ch/rdf/sphn-schema/sphn/DrugPrescription/28/patients/17205470/Substance>, p: IRI<http://www.w3.org/1999/02/22-rdf-syntax-ns#type>, o: IRI<https://www.biomedit.ch/rdf/sphn-schema/sphn/Substance>}\n",
      "{s: IRI<https://www.biomedit.ch/rdf/sphn-schema/sphn/DrugPrescription/28/patients/17205470/Substance>, p: IRI<https://www.biomedit.ch/rdf/sphn-schema/sphn/hasCode>, o: IRI<https://www.biomedit.ch/rdf/sphn-schema/sphn/ndc#904651961>}\n",
      "{s: IRI<https://www.biomedit.ch/rdf/sphn-schema/sphn/DrugPrescription/32/patients/12715413/Substance>, p: IRI<http://www.w3.org/1999/02/22-rdf-syntax-ns#type>, o: IRI<https://www.biomedit.ch/rdf/sphn-schema/sphn/Substance>}\n",
      "{s: IRI<https://www.biomedit.ch/rdf/sphn-schema/sphn/DrugPrescription/32/patients/12715413/Substance>, p: IRI<https://www.biomedit.ch/rdf/sphn-schema/sphn/hasCode>, o: IRI<https://www.biomedit.ch/rdf/sphn-schema/sphn/ndc#904640161>}\n",
      "{s: IRI<https://www.biomedit.ch/rdf/sphn-schema/sphn/DrugPrescription/43/patients/10768463/Drug>, p: IRI<http://www.w3.org/1999/02/22-rdf-syntax-ns#type>, o: IRI<https://www.biomedit.ch/rdf/sphn-schema/sphn/Drug>}\n",
      "{s: IRI<https://www.biomedit.ch/rdf/sphn-schema/sphn/DrugPrescription/43/patients/10768463/Drug>, p: IRI<https://www.biomedit.ch/rdf/sphn-schema/sphn/hasActiveIngredient>, o: IRI<https://www.biomedit.ch/rdf/sphn-schema/sphn/DrugPrescription/43/patients/10768463/Substance>}\n",
      "{s: IRI<https://www.biomedit.ch/rdf/sphn-schema/sphn/LabTestEvent/13/patients/18387406/LabResult>, p: IRI<http://www.w3.org/1999/02/22-rdf-syntax-ns#type>, o: IRI<https://www.biomedit.ch/rdf/sphn-schema/sphn/LabResult>}\n",
      "{s: IRI<https://www.biomedit.ch/rdf/sphn-schema/sphn/LabTestEvent/13/patients/18387406/LabResult>, p: IRI<https://www.biomedit.ch/rdf/sphn-schema/sphn/hasCode>, o: IRI<https://www.biomedit.ch/rdf/sphn-schema/sphn/d_labitems/50983>}\n",
      "{s: IRI<https://www.biomedit.ch/rdf/sphn-schema/sphn/DrugPrescription/1/patients/13299787/Drug>, p: IRI<http://www.w3.org/1999/02/22-rdf-syntax-ns#type>, o: IRI<https://www.biomedit.ch/rdf/sphn-schema/sphn/Drug>}\n",
      "{s: IRI<https://www.biomedit.ch/rdf/sphn-schema/sphn/DrugPrescription/1/patients/13299787/Drug>, p: IRI<https://www.biomedit.ch/rdf/sphn-schema/sphn/hasActiveIngredient>, o: IRI<https://www.biomedit.ch/rdf/sphn-schema/sphn/DrugPrescription/1/patients/13299787/Substance>}\n",
      "{s: IRI<https://www.biomedit.ch/rdf/sphn-schema/sphn/LabTestEvent/28/patients/19347414/LabResult>, p: IRI<http://www.w3.org/1999/02/22-rdf-syntax-ns#type>, o: IRI<https://www.biomedit.ch/rdf/sphn-schema/sphn/LabResult>}\n",
      "{s: IRI<https://www.biomedit.ch/rdf/sphn-schema/sphn/LabTestEvent/28/patients/19347414/LabResult>, p: IRI<https://www.biomedit.ch/rdf/sphn-schema/sphn/hasCode>, o: IRI<https://www.biomedit.ch/rdf/sphn-schema/sphn/d_labitems/51250>}\n",
      "{s: IRI<https://www.biomedit.ch/rdf/sphn-schema/sphn/DrugPrescription/6/patients/13369964/Substance>, p: IRI<http://www.w3.org/1999/02/22-rdf-syntax-ns#type>, o: IRI<https://www.biomedit.ch/rdf/sphn-schema/sphn/Substance>}\n",
      "{s: IRI<https://www.biomedit.ch/rdf/sphn-schema/sphn/DrugPrescription/6/patients/13369964/Substance>, p: IRI<https://www.biomedit.ch/rdf/sphn-schema/sphn/hasCode>, o: IRI<https://www.biomedit.ch/rdf/sphn-schema/sphn/ndc#409610210>}\n",
      "{s: IRI<https://www.biomedit.ch/rdf/sphn-schema/sphn/DrugPrescription/0/patients/15059385/Substance>, p: IRI<http://www.w3.org/1999/02/22-rdf-syntax-ns#type>, o: IRI<https://www.biomedit.ch/rdf/sphn-schema/sphn/Substance>}\n",
      "{s: IRI<https://www.biomedit.ch/rdf/sphn-schema/sphn/DrugPrescription/0/patients/15059385/Substance>, p: IRI<https://www.biomedit.ch/rdf/sphn-schema/sphn/hasCode>, o: IRI<https://www.biomedit.ch/rdf/sphn-schema/sphn/ndc#51079045420>}\n",
      "{s: IRI<https://www.biomedit.ch/rdf/sphn-schema/sphn/DrugPrescription/29/patients/10692563/Drug>, p: IRI<http://www.w3.org/1999/02/22-rdf-syntax-ns#type>, o: IRI<https://www.biomedit.ch/rdf/sphn-schema/sphn/Drug>}\n",
      "{s: IRI<https://www.biomedit.ch/rdf/sphn-schema/sphn/DrugPrescription/29/patients/10692563/Drug>, p: IRI<https://www.biomedit.ch/rdf/sphn-schema/sphn/hasActiveIngredient>, o: IRI<https://www.biomedit.ch/rdf/sphn-schema/sphn/DrugPrescription/29/patients/10692563/Substance>}\n",
      "{s: IRI<https://www.biomedit.ch/rdf/sphn-schema/sphn/DrugPrescription/0/patients/10045854/Drug>, p: IRI<http://www.w3.org/1999/02/22-rdf-syntax-ns#type>, o: IRI<https://www.biomedit.ch/rdf/sphn-schema/sphn/Drug>}\n",
      "{s: IRI<https://www.biomedit.ch/rdf/sphn-schema/sphn/DrugPrescription/0/patients/10045854/Drug>, p: IRI<https://www.biomedit.ch/rdf/sphn-schema/sphn/hasActiveIngredient>, o: IRI<https://www.biomedit.ch/rdf/sphn-schema/sphn/DrugPrescription/0/patients/10045854/Substance>}\n",
      "{s: IRI<https://www.biomedit.ch/rdf/sphn-schema/sphn/DrugPrescription/5/patients/18556017/Drug>, p: IRI<http://www.w3.org/1999/02/22-rdf-syntax-ns#type>, o: IRI<https://www.biomedit.ch/rdf/sphn-schema/sphn/Drug>}\n",
      "{s: IRI<https://www.biomedit.ch/rdf/sphn-schema/sphn/DrugPrescription/5/patients/18556017/Drug>, p: IRI<https://www.biomedit.ch/rdf/sphn-schema/sphn/hasActiveIngredient>, o: IRI<https://www.biomedit.ch/rdf/sphn-schema/sphn/DrugPrescription/5/patients/18556017/Substance>}\n",
      "{s: IRI<https://www.biomedit.ch/rdf/sphn-schema/sphn/LabTestEvent/59/patients/19899327/LabResult>, p: IRI<http://www.w3.org/1999/02/22-rdf-syntax-ns#type>, o: IRI<https://www.biomedit.ch/rdf/sphn-schema/sphn/LabResult>}\n",
      "{s: IRI<https://www.biomedit.ch/rdf/sphn-schema/sphn/LabTestEvent/59/patients/19899327/LabResult>, p: IRI<https://www.biomedit.ch/rdf/sphn-schema/sphn/hasCode>, o: IRI<https://www.biomedit.ch/rdf/sphn-schema/sphn/d_labitems/50893>}\n",
      "{s: IRI<https://www.biomedit.ch/rdf/sphn-schema/sphn/LabTestEvent/37/patients/19347414/LabResult>, p: IRI<http://www.w3.org/1999/02/22-rdf-syntax-ns#type>, o: IRI<https://www.biomedit.ch/rdf/sphn-schema/sphn/LabResult>}\n",
      "{s: IRI<https://www.biomedit.ch/rdf/sphn-schema/sphn/LabTestEvent/37/patients/19347414/LabResult>, p: IRI<https://www.biomedit.ch/rdf/sphn-schema/sphn/hasCode>, o: IRI<https://www.biomedit.ch/rdf/sphn-schema/sphn/d_labitems/52074>}\n",
      "{s: IRI<https://www.biomedit.ch/rdf/sphn-schema/sphn/LabTestEvent/1/patients/19164956/LabResult>, p: IRI<http://www.w3.org/1999/02/22-rdf-syntax-ns#type>, o: IRI<https://www.biomedit.ch/rdf/sphn-schema/sphn/LabResult>}\n",
      "{s: IRI<https://www.biomedit.ch/rdf/sphn-schema/sphn/LabTestEvent/1/patients/19164956/LabResult>, p: IRI<https://www.biomedit.ch/rdf/sphn-schema/sphn/hasCode>, o: IRI<https://www.biomedit.ch/rdf/sphn-schema/sphn/d_labitems/51464>}\n",
      "{s: IRI<https://www.biomedit.ch/rdf/sphn-schema/sphn/LabTestEvent/12/patients/18553288/LabResult>, p: IRI<http://www.w3.org/1999/02/22-rdf-syntax-ns#type>, o: IRI<https://www.biomedit.ch/rdf/sphn-schema/sphn/LabResult>}\n",
      "{s: IRI<https://www.biomedit.ch/rdf/sphn-schema/sphn/LabTestEvent/12/patients/18553288/LabResult>, p: IRI<https://www.biomedit.ch/rdf/sphn-schema/sphn/hasCode>, o: IRI<https://www.biomedit.ch/rdf/sphn-schema/sphn/d_labitems/51249>}\n",
      "{s: IRI<https://www.biomedit.ch/rdf/sphn-schema/sphn/LabTestEvent/32/patients/19638540/LabResult>, p: IRI<http://www.w3.org/1999/02/22-rdf-syntax-ns#type>, o: IRI<https://www.biomedit.ch/rdf/sphn-schema/sphn/LabResult>}\n",
      "{s: IRI<https://www.biomedit.ch/rdf/sphn-schema/sphn/LabTestEvent/32/patients/19638540/LabResult>, p: IRI<https://www.biomedit.ch/rdf/sphn-schema/sphn/hasCode>, o: IRI<https://www.biomedit.ch/rdf/sphn-schema/sphn/d_labitems/51233>}\n",
      "{s: IRI<https://www.biomedit.ch/rdf/sphn-schema/sphn/LabTestEvent/8/patients/16991278/LabResult>, p: IRI<http://www.w3.org/1999/02/22-rdf-syntax-ns#type>, o: IRI<https://www.biomedit.ch/rdf/sphn-schema/sphn/LabResult>}\n",
      "{s: IRI<https://www.biomedit.ch/rdf/sphn-schema/sphn/LabTestEvent/8/patients/16991278/LabResult>, p: IRI<https://www.biomedit.ch/rdf/sphn-schema/sphn/hasCode>, o: IRI<https://www.biomedit.ch/rdf/sphn-schema/sphn/d_labitems/51301>}\n",
      "{s: IRI<https://www.biomedit.ch/rdf/sphn-schema/sphn/DrugPrescription/84/patients/10136820/Substance>, p: IRI<http://www.w3.org/1999/02/22-rdf-syntax-ns#type>, o: IRI<https://www.biomedit.ch/rdf/sphn-schema/sphn/Substance>}\n",
      "{s: IRI<https://www.biomedit.ch/rdf/sphn-schema/sphn/DrugPrescription/84/patients/10136820/Substance>, p: IRI<https://www.biomedit.ch/rdf/sphn-schema/sphn/hasCode>, o: IRI<https://www.biomedit.ch/rdf/sphn-schema/sphn/ndc#60687042401>}\n",
      "{s: IRI<https://www.biomedit.ch/rdf/sphn-schema/sphn/LabTestEvent/32/patients/12715413/LabResult>, p: IRI<http://www.w3.org/1999/02/22-rdf-syntax-ns#type>, o: IRI<https://www.biomedit.ch/rdf/sphn-schema/sphn/LabResult>}\n",
      "{s: IRI<https://www.biomedit.ch/rdf/sphn-schema/sphn/LabTestEvent/32/patients/12715413/LabResult>, p: IRI<https://www.biomedit.ch/rdf/sphn-schema/sphn/hasCode>, o: IRI<https://www.biomedit.ch/rdf/sphn-schema/sphn/d_labitems/51143>}\n",
      "{s: IRI<https://www.biomedit.ch/rdf/sphn-schema/sphn/LabTestEvent/62/patients/10768463/LabResult>, p: IRI<http://www.w3.org/1999/02/22-rdf-syntax-ns#type>, o: IRI<https://www.biomedit.ch/rdf/sphn-schema/sphn/LabResult>}\n",
      "{s: IRI<https://www.biomedit.ch/rdf/sphn-schema/sphn/LabTestEvent/62/patients/10768463/LabResult>, p: IRI<https://www.biomedit.ch/rdf/sphn-schema/sphn/hasCode>, o: IRI<https://www.biomedit.ch/rdf/sphn-schema/sphn/d_labitems/50809>}\n",
      "{s: IRI<https://www.biomedit.ch/rdf/sphn-schema/sphn/DrugPrescription/8/patients/12385857/Drug>, p: IRI<http://www.w3.org/1999/02/22-rdf-syntax-ns#type>, o: IRI<https://www.biomedit.ch/rdf/sphn-schema/sphn/Drug>}\n",
      "{s: IRI<https://www.biomedit.ch/rdf/sphn-schema/sphn/DrugPrescription/8/patients/12385857/Drug>, p: IRI<https://www.biomedit.ch/rdf/sphn-schema/sphn/hasActiveIngredient>, o: IRI<https://www.biomedit.ch/rdf/sphn-schema/sphn/DrugPrescription/8/patients/12385857/Substance>}\n",
      "{s: IRI<https://www.biomedit.ch/rdf/sphn-schema/sphn/DrugPrescription/8/patients/12385857/Substance>, p: IRI<http://www.w3.org/1999/02/22-rdf-syntax-ns#type>, o: IRI<https://www.biomedit.ch/rdf/sphn-schema/sphn/Substance>}\n",
      "{s: IRI<https://www.biomedit.ch/rdf/sphn-schema/sphn/DrugPrescription/8/patients/12385857/Substance>, p: IRI<https://www.biomedit.ch/rdf/sphn-schema/sphn/hasCode>, o: IRI<https://www.biomedit.ch/rdf/sphn-schema/sphn/ndc#597026010>}\n",
      "{s: IRI<https://www.biomedit.ch/rdf/sphn-schema/sphn/LabTestEvent/37/patients/14305067/LabResult>, p: IRI<http://www.w3.org/1999/02/22-rdf-syntax-ns#type>, o: IRI<https://www.biomedit.ch/rdf/sphn-schema/sphn/LabResult>}\n",
      "{s: IRI<https://www.biomedit.ch/rdf/sphn-schema/sphn/LabTestEvent/37/patients/14305067/LabResult>, p: IRI<https://www.biomedit.ch/rdf/sphn-schema/sphn/hasCode>, o: IRI<https://www.biomedit.ch/rdf/sphn-schema/sphn/d_labitems/51498>}\n",
      "{s: IRI<https://www.biomedit.ch/rdf/sphn-schema/sphn/DrugPrescription/16/patients/19889187/Drug>, p: IRI<http://www.w3.org/1999/02/22-rdf-syntax-ns#type>, o: IRI<https://www.biomedit.ch/rdf/sphn-schema/sphn/Drug>}\n",
      "{s: IRI<https://www.biomedit.ch/rdf/sphn-schema/sphn/DrugPrescription/16/patients/19889187/Drug>, p: IRI<https://www.biomedit.ch/rdf/sphn-schema/sphn/hasActiveIngredient>, o: IRI<https://www.biomedit.ch/rdf/sphn-schema/sphn/DrugPrescription/16/patients/19889187/Substance>}\n",
      "{s: IRI<https://www.biomedit.ch/rdf/sphn-schema/sphn/LabTestEvent/46/patients/10692064/LabResult>, p: IRI<http://www.w3.org/1999/02/22-rdf-syntax-ns#type>, o: IRI<https://www.biomedit.ch/rdf/sphn-schema/sphn/LabResult>}\n",
      "{s: IRI<https://www.biomedit.ch/rdf/sphn-schema/sphn/LabTestEvent/46/patients/10692064/LabResult>, p: IRI<https://www.biomedit.ch/rdf/sphn-schema/sphn/hasCode>, o: IRI<https://www.biomedit.ch/rdf/sphn-schema/sphn/d_labitems/51466>}\n",
      "{s: IRI<https://www.biomedit.ch/rdf/sphn-schema/sphn/DrugPrescription/3/patients/19832244/Drug>, p: IRI<http://www.w3.org/1999/02/22-rdf-syntax-ns#type>, o: IRI<https://www.biomedit.ch/rdf/sphn-schema/sphn/Drug>}\n",
      "{s: IRI<https://www.biomedit.ch/rdf/sphn-schema/sphn/DrugPrescription/3/patients/19832244/Drug>, p: IRI<https://www.biomedit.ch/rdf/sphn-schema/sphn/hasActiveIngredient>, o: IRI<https://www.biomedit.ch/rdf/sphn-schema/sphn/DrugPrescription/3/patients/19832244/Substance>}\n",
      "{s: IRI<https://www.biomedit.ch/rdf/sphn-schema/sphn/DrugPrescription/2/patients/17219911/Drug>, p: IRI<http://www.w3.org/1999/02/22-rdf-syntax-ns#type>, o: IRI<https://www.biomedit.ch/rdf/sphn-schema/sphn/Drug>}\n",
      "{s: IRI<https://www.biomedit.ch/rdf/sphn-schema/sphn/DrugPrescription/2/patients/17219911/Drug>, p: IRI<https://www.biomedit.ch/rdf/sphn-schema/sphn/hasActiveIngredient>, o: IRI<https://www.biomedit.ch/rdf/sphn-schema/sphn/DrugPrescription/2/patients/17219911/Substance>}\n",
      "{s: IRI<https://www.biomedit.ch/rdf/sphn-schema/sphn/LabTestEvent/31/patients/18533307/LabResult>, p: IRI<http://www.w3.org/1999/02/22-rdf-syntax-ns#type>, o: IRI<https://www.biomedit.ch/rdf/sphn-schema/sphn/LabResult>}\n",
      "{s: IRI<https://www.biomedit.ch/rdf/sphn-schema/sphn/LabTestEvent/31/patients/18533307/LabResult>, p: IRI<https://www.biomedit.ch/rdf/sphn-schema/sphn/hasCode>, o: IRI<https://www.biomedit.ch/rdf/sphn-schema/sphn/d_labitems/52074>}\n",
      "{s: IRI<https://www.biomedit.ch/rdf/sphn-schema/sphn/LabTestEvent/9/patients/10907349/LabResult>, p: IRI<http://www.w3.org/1999/02/22-rdf-syntax-ns#type>, o: IRI<https://www.biomedit.ch/rdf/sphn-schema/sphn/LabResult>}\n",
      "{s: IRI<https://www.biomedit.ch/rdf/sphn-schema/sphn/LabTestEvent/9/patients/10907349/LabResult>, p: IRI<https://www.biomedit.ch/rdf/sphn-schema/sphn/hasCode>, o: IRI<https://www.biomedit.ch/rdf/sphn-schema/sphn/d_labitems/51491>}\n",
      "{s: IRI<https://www.biomedit.ch/rdf/sphn-schema/sphn/DrugPrescription/35/patients/10136820/Drug>, p: IRI<http://www.w3.org/1999/02/22-rdf-syntax-ns#type>, o: IRI<https://www.biomedit.ch/rdf/sphn-schema/sphn/Drug>}\n",
      "{s: IRI<https://www.biomedit.ch/rdf/sphn-schema/sphn/DrugPrescription/35/patients/10136820/Drug>, p: IRI<https://www.biomedit.ch/rdf/sphn-schema/sphn/hasActiveIngredient>, o: IRI<https://www.biomedit.ch/rdf/sphn-schema/sphn/DrugPrescription/35/patients/10136820/Substance>}\n",
      "{s: IRI<https://www.biomedit.ch/rdf/sphn-schema/sphn/DrugPrescription/28/patients/19164956/Drug>, p: IRI<http://www.w3.org/1999/02/22-rdf-syntax-ns#type>, o: IRI<https://www.biomedit.ch/rdf/sphn-schema/sphn/Drug>}\n",
      "{s: IRI<https://www.biomedit.ch/rdf/sphn-schema/sphn/DrugPrescription/28/patients/19164956/Drug>, p: IRI<https://www.biomedit.ch/rdf/sphn-schema/sphn/hasActiveIngredient>, o: IRI<https://www.biomedit.ch/rdf/sphn-schema/sphn/DrugPrescription/28/patients/19164956/Substance>}\n",
      "{s: IRI<https://www.biomedit.ch/rdf/sphn-schema/sphn/LabTestEvent/28/patients/13369964/LabResult>, p: IRI<http://www.w3.org/1999/02/22-rdf-syntax-ns#type>, o: IRI<https://www.biomedit.ch/rdf/sphn-schema/sphn/LabResult>}\n",
      "{s: IRI<https://www.biomedit.ch/rdf/sphn-schema/sphn/LabTestEvent/28/patients/13369964/LabResult>, p: IRI<https://www.biomedit.ch/rdf/sphn-schema/sphn/hasCode>, o: IRI<https://www.biomedit.ch/rdf/sphn-schema/sphn/d_labitems/51266>}\n",
      "{s: IRI<https://www.biomedit.ch/rdf/sphn-schema/sphn/LabTestEvent/18/patients/13299787/LabResult>, p: IRI<http://www.w3.org/1999/02/22-rdf-syntax-ns#type>, o: IRI<https://www.biomedit.ch/rdf/sphn-schema/sphn/LabResult>}\n",
      "{s: IRI<https://www.biomedit.ch/rdf/sphn-schema/sphn/LabTestEvent/18/patients/13299787/LabResult>, p: IRI<https://www.biomedit.ch/rdf/sphn-schema/sphn/hasCode>, o: IRI<https://www.biomedit.ch/rdf/sphn-schema/sphn/d_labitems/50971>}\n",
      "{s: IRI<https://www.biomedit.ch/rdf/sphn-schema/sphn/LabTestEvent/18/patients/18506623/LabResult>, p: IRI<http://www.w3.org/1999/02/22-rdf-syntax-ns#type>, o: IRI<https://www.biomedit.ch/rdf/sphn-schema/sphn/LabResult>}\n",
      "{s: IRI<https://www.biomedit.ch/rdf/sphn-schema/sphn/LabTestEvent/18/patients/18506623/LabResult>, p: IRI<https://www.biomedit.ch/rdf/sphn-schema/sphn/hasCode>, o: IRI<https://www.biomedit.ch/rdf/sphn-schema/sphn/d_labitems/51087>}\n",
      "{s: IRI<https://www.biomedit.ch/rdf/sphn-schema/sphn/LabTestEvent/7/patients/19347414/LabResult>, p: IRI<http://www.w3.org/1999/02/22-rdf-syntax-ns#type>, o: IRI<https://www.biomedit.ch/rdf/sphn-schema/sphn/LabResult>}\n",
      "{s: IRI<https://www.biomedit.ch/rdf/sphn-schema/sphn/LabTestEvent/7/patients/19347414/LabResult>, p: IRI<https://www.biomedit.ch/rdf/sphn-schema/sphn/hasCode>, o: IRI<https://www.biomedit.ch/rdf/sphn-schema/sphn/d_labitems/50821>}\n",
      "{s: IRI<https://www.biomedit.ch/rdf/sphn-schema/sphn/LabTestEvent/29/patients/19261730/LabResult>, p: IRI<http://www.w3.org/1999/02/22-rdf-syntax-ns#type>, o: IRI<https://www.biomedit.ch/rdf/sphn-schema/sphn/LabResult>}\n",
      "{s: IRI<https://www.biomedit.ch/rdf/sphn-schema/sphn/LabTestEvent/29/patients/19261730/LabResult>, p: IRI<https://www.biomedit.ch/rdf/sphn-schema/sphn/hasCode>, o: IRI<https://www.biomedit.ch/rdf/sphn-schema/sphn/d_labitems/50934>}\n",
      "{s: IRI<https://www.biomedit.ch/rdf/sphn-schema/sphn/DrugPrescription/45/patients/18945729/Drug>, p: IRI<http://www.w3.org/1999/02/22-rdf-syntax-ns#type>, o: IRI<https://www.biomedit.ch/rdf/sphn-schema/sphn/Drug>}\n",
      "{s: IRI<https://www.biomedit.ch/rdf/sphn-schema/sphn/DrugPrescription/45/patients/18945729/Drug>, p: IRI<https://www.biomedit.ch/rdf/sphn-schema/sphn/hasActiveIngredient>, o: IRI<https://www.biomedit.ch/rdf/sphn-schema/sphn/DrugPrescription/45/patients/18945729/Substance>}\n",
      "{s: IRI<https://www.biomedit.ch/rdf/sphn-schema/sphn/LabTestEvent/5/patients/17727916/LabResult>, p: IRI<http://www.w3.org/1999/02/22-rdf-syntax-ns#type>, o: IRI<https://www.biomedit.ch/rdf/sphn-schema/sphn/LabResult>}\n",
      "{s: IRI<https://www.biomedit.ch/rdf/sphn-schema/sphn/LabTestEvent/5/patients/17727916/LabResult>, p: IRI<https://www.biomedit.ch/rdf/sphn-schema/sphn/hasCode>, o: IRI<https://www.biomedit.ch/rdf/sphn-schema/sphn/d_labitems/51484>}\n",
      "{s: IRI<https://www.biomedit.ch/rdf/sphn-schema/sphn/LabTestEvent/79/patients/10768463/LabResult>, p: IRI<http://www.w3.org/1999/02/22-rdf-syntax-ns#type>, o: IRI<https://www.biomedit.ch/rdf/sphn-schema/sphn/LabResult>}\n",
      "{s: IRI<https://www.biomedit.ch/rdf/sphn-schema/sphn/LabTestEvent/79/patients/10768463/LabResult>, p: IRI<https://www.biomedit.ch/rdf/sphn-schema/sphn/hasCode>, o: IRI<https://www.biomedit.ch/rdf/sphn-schema/sphn/d_labitems/51256>}\n",
      "{s: IRI<https://www.biomedit.ch/rdf/sphn-schema/sphn/DrugPrescription/54/patients/10764017/Drug>, p: IRI<http://www.w3.org/1999/02/22-rdf-syntax-ns#type>, o: IRI<https://www.biomedit.ch/rdf/sphn-schema/sphn/Drug>}\n",
      "{s: IRI<https://www.biomedit.ch/rdf/sphn-schema/sphn/DrugPrescription/54/patients/10764017/Drug>, p: IRI<https://www.biomedit.ch/rdf/sphn-schema/sphn/hasActiveIngredient>, o: IRI<https://www.biomedit.ch/rdf/sphn-schema/sphn/DrugPrescription/54/patients/10764017/Substance>}\n"
     ]
    }
   ],
   "source": [
    "for record in result:\n",
    "    print(record)"
   ]
  },
  {
   "cell_type": "code",
   "execution_count": 25,
   "metadata": {},
   "outputs": [],
   "source": [
    "driver.close()"
   ]
  }
 ],
 "metadata": {
  "kernelspec": {
   "display_name": "Python 3",
   "language": "python",
   "name": "python3"
  },
  "language_info": {
   "codemirror_mode": {
    "name": "ipython",
    "version": 3
   },
   "file_extension": ".py",
   "mimetype": "text/x-python",
   "name": "python",
   "nbconvert_exporter": "python",
   "pygments_lexer": "ipython3",
   "version": "3.13.2"
  }
 },
 "nbformat": 4,
 "nbformat_minor": 2
}
