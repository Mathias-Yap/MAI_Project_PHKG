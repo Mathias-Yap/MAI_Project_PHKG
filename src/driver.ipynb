{
 "cells": [
  {
   "cell_type": "code",
   "execution_count": 14,
   "metadata": {},
   "outputs": [],
   "source": [
    "import millenniumdb_driver\n",
    "\n",
    "# url = 'http://localhost:4321/'\n",
    "url = 'http://localhost:1234/'\n",
    "driver = millenniumdb_driver.driver(url)"
   ]
  },
  {
   "cell_type": "code",
   "execution_count": 21,
   "metadata": {},
   "outputs": [
    {
     "name": "stderr",
     "output_type": "stream",
     "text": [
      "1291.08s - pydevd: Sending message related to process being replaced timed-out after 5 seconds\n"
     ]
    }
   ],
   "source": [
    "!curl http://localhost:1234/"
   ]
  },
  {
   "cell_type": "code",
   "execution_count": 10,
   "metadata": {},
   "outputs": [
    {
     "name": "stdout",
     "output_type": "stream",
     "text": [
      "<!DOCTYPE html>\n",
      "<html lang=\"en\">\n",
      "  <head>\n",
      "    <meta charset=\"utf-8\" />\n",
      "    <meta name=\"viewport\" content=\"initial-scale=1, width=device-width\" />\n",
      "    <link rel=\"icon\" type=\"image/svg+xml\" href=\"/favicon.ico\" />\n",
      "    <title>MillenniumDB</title>\n",
      "    <script type=\"module\" crossorigin src=\"/assets/index-mpQCT_ry.js\"></script>\n",
      "    <link rel=\"stylesheet\" crossorigin href=\"/assets/index-LH6ATiEr.css\">\n",
      "  </head>\n",
      "  <body>\n",
      "    <div id=\"root\"></div>\n",
      "  </body>\n",
      "</html>\n"
     ]
    }
   ],
   "source": [
    "!curl http://localhost:4321/"
   ]
  },
  {
   "cell_type": "code",
   "execution_count": 22,
   "metadata": {},
   "outputs": [],
   "source": [
    "session = driver.session()"
   ]
  },
  {
   "cell_type": "code",
   "execution_count": 23,
   "metadata": {},
   "outputs": [],
   "source": [
    "query = \"\"\"\n",
    "SELECT *\n",
    "WHERE { ?s ?p ?o . }\n",
    "LIMIT 100\n",
    "\"\"\"\n",
    "result = session.run(query)"
   ]
  },
  {
   "cell_type": "code",
   "execution_count": 24,
   "metadata": {},
   "outputs": [
    {
     "name": "stdout",
     "output_type": "stream",
     "text": [
      "{s: IRI<http://www.path.com/data-types>, p: IRI<http://www.path.com/numeric>, o: 382}\n",
      "{s: IRI<http://www.path.com/data-types>, p: IRI<http://www.path.com/numeric>, o: Decimal('123.4')}\n",
      "{s: IRI<http://www.path.com/data-types>, p: IRI<http://www.path.com/numeric>, o: 2.3399999141693115}\n",
      "{s: IRI<http://www.path.com/data-types>, p: IRI<http://www.path.com/numeric>, o: -730.0}\n",
      "{s: IRI<http://www.path.com/data-types>, p: IRI<http://www.path.com/boolean>, o: False}\n",
      "{s: IRI<http://www.path.com/data-types>, p: IRI<http://www.path.com/boolean>, o: True}\n",
      "{s: IRI<http://www.path.com/data-types>, p: IRI<http://www.path.com/datetime>, o: SimpleDate<504403158265495559--2015642308225007616-570646534815744+385330149239:28>}\n",
      "{s: IRI<http://www.path.com/data-types>, p: IRI<http://www.path.com/datetime>, o: Time<504403158265495552:1659294987709317120:570646534815744+568582087202:08>}\n",
      "{s: IRI<http://www.path.com/data-types>, p: IRI<http://www.path.com/datetime>, o: DateTime<504403158265495559--2015642308225007616-570646534815744T23119808954368:98901688320:34013184+33890:08>}\n",
      "{s: IRI<http://www.path.com/data-types>, p: IRI<http://www.path.com/strings>, o: 'simple literal'}\n",
      "{s: IRI<http://www.path.com/data-types>, p: IRI<http://www.path.com/strings>, o: StringLang<\"literal with language\"@en>}\n",
      "{s: IRI<http://www.path.com/data-types>, p: IRI<http://www.path.com/strings>, o: StringDatatype<\"typed literal\"^^<http://www.w3.org/2001/XMLSchema#:string>>}\n",
      "{s: IRI<http://www.path.com/data-types>, p: IRI<http://www.path.com/strings>, o: StringDatatype<\"custom datatype\"^^<http://www.path.com/custom-datatype>>}\n",
      "{s: IRI<http://www.path.com/data-types>, p: IRI<http://www.path.com/blank-nodes>, o: GraphAnon<_:b0>}\n",
      "{s: IRI<http://www.path.com/data-types>, p: IRI<http://www.path.com/blank-nodes>, o: GraphAnon<_:b1>}\n"
     ]
    }
   ],
   "source": [
    "for record in result:\n",
    "    print(record)"
   ]
  },
  {
   "cell_type": "code",
   "execution_count": 25,
   "metadata": {},
   "outputs": [],
   "source": [
    "driver.close()"
   ]
  }
 ],
 "metadata": {
  "kernelspec": {
   "display_name": "research_project_2",
   "language": "python",
   "name": "python3"
  },
  "language_info": {
   "codemirror_mode": {
    "name": "ipython",
    "version": 3
   },
   "file_extension": ".py",
   "mimetype": "text/x-python",
   "name": "python",
   "nbconvert_exporter": "python",
   "pygments_lexer": "ipython3",
   "version": "3.13.2"
  }
 },
 "nbformat": 4,
 "nbformat_minor": 2
}
