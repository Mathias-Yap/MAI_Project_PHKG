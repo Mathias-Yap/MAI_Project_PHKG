{
 "cells": [
  {
   "cell_type": "code",
   "execution_count": 1,
   "id": "09f0e089",
   "metadata": {},
   "outputs": [],
   "source": [
    "import pandas as pd\n",
    "\n",
    "merged_full_pipeline_df = pd.read_csv(\"merged_full_pipeline.csv\")\n",
    "summary_full_pipeline_df = pd.read_csv(\"summary_full_pipeline.csv\")\n",
    "merged_baseline_pipeline_df = pd.read_csv(\"merged_baseline_pipeline.csv\")\n",
    "summary_baseline = pd.read_csv(\"summary_baseline.csv\")\n",
    "merged_sparql_llm_pipeline_df = pd.read_csv(\"merged_sparql_llm_pipeline.csv\")\n",
    "summary_sparql_llm_pipeline_df = pd.read_csv(\"summary_sparql_llm_pipeline.csv\")"
   ]
  },
  {
   "cell_type": "code",
   "execution_count": 3,
   "id": "9416d670",
   "metadata": {},
   "outputs": [
    {
     "data": {
      "text/plain": [
       "Index(['question', 'prompt_templates', 'prompt_examples', 'all_prompts_ranked',\n",
       "       'most_similar_template', 'validation_time', 'valid_query', 'query',\n",
       "       'attempts', 'initial_query_time', 'result',\n",
       "       'final_query_execution_time', 'total_time', 'Unnamed: 0', 'sparql',\n",
       "       'question_template', 'sparql_template', 'expected_result',\n",
       "       'template_rank', 'precision', 'recall', 'exact_match',\n",
       "       'sparql_template_key'],\n",
       "      dtype='object')"
      ]
     },
     "execution_count": 3,
     "metadata": {},
     "output_type": "execute_result"
    }
   ],
   "source": [
    "merged_baseline_pipeline_df.columns"
   ]
  },
  {
   "cell_type": "code",
   "execution_count": 12,
   "id": "a8d6a4d8",
   "metadata": {},
   "outputs": [],
   "source": [
    "import ast\n",
    "\n",
    "valid_nonempty_validation_df = merged_baseline_pipeline_df[\n",
    "    (merged_baseline_pipeline_df['valid_query']) &\n",
    "    (merged_baseline_pipeline_df['validation_time'].apply(lambda x: isinstance(ast.literal_eval(x), list) and len(ast.literal_eval(x)) > 0))\n",
    "]\n",
    "\n",
    "invalid_nonempty_validation_df = merged_baseline_pipeline_df[\n",
    "    (~merged_baseline_pipeline_df['valid_query']) &\n",
    "    (merged_baseline_pipeline_df['validation_time'].apply(lambda x: isinstance(ast.literal_eval(x), list) and len(ast.literal_eval(x)) > 0))\n",
    "]"
   ]
  },
  {
   "cell_type": "code",
   "execution_count": 8,
   "id": "0719c57f",
   "metadata": {},
   "outputs": [
    {
     "data": {
      "text/plain": [
       "'[]'"
      ]
     },
     "execution_count": 8,
     "metadata": {},
     "output_type": "execute_result"
    }
   ],
   "source": [
    "merged_baseline_pipeline_df['validation_time'][0]"
   ]
  },
  {
   "cell_type": "code",
   "execution_count": 11,
   "id": "112a3e66",
   "metadata": {},
   "outputs": [
    {
     "data": {
      "text/plain": [
       "attempts\n",
       "1    31\n",
       "2     7\n",
       "3     2\n",
       "Name: count, dtype: int64"
      ]
     },
     "execution_count": 11,
     "metadata": {},
     "output_type": "execute_result"
    }
   ],
   "source": [
    "valid_nonempty_validation_df['attempts'].value_counts()"
   ]
  },
  {
   "cell_type": "code",
   "execution_count": null,
   "id": "10a5aaf3",
   "metadata": {},
   "outputs": [],
   "source": [
    "\n",
    "invalid_nonempty_validation_df['attempts'].value_counts()"
   ]
  },
  {
   "cell_type": "code",
   "execution_count": null,
   "id": "8cc7c010",
   "metadata": {},
   "outputs": [],
   "source": []
  },
  {
   "cell_type": "code",
   "execution_count": 3,
   "id": "bb5eafd0",
   "metadata": {},
   "outputs": [],
   "source": [
    "sparql_template_dict = dict(zip(summary_baseline.index, summary_baseline['sparql_template']))"
   ]
  },
  {
   "cell_type": "code",
   "execution_count": 4,
   "id": "a549b8bc",
   "metadata": {},
   "outputs": [
    {
     "data": {
      "text/plain": [
       "{0: 'PREFIX sphn: <https://www.biomedit.ch/rdf/sphn-schema/sphn/>\\nPREFIX icd: <https://www.biomedit.ch/rdf/sphn-schema/sphn/icd#>\\n\\nSELECT (COUNT(*) AS ?numPatients) WHERE {\\n  {\\n    SELECT DISTINCT ?patient WHERE {\\n      ?patient sphn:hasDiagnosis ?diag .\\n      ?diag sphn:hasCode ?code .\\n      ?code sphn:hasCodeValue icd:§Diagnosis§ .\\n    }\\n  }\\n}\\n',\n",
       " 1: 'PREFIX sphn: <https://www.biomedit.ch/rdf/sphn-schema/sphn/>\\nPREFIX icd: <https://www.biomedit.ch/rdf/sphn-schema/sphn/icd#>\\n\\nSELECT ?patient WHERE {\\n  ?patient sphn:hasDiagnosis ?diag .\\n  ?diag sphn:hasCode ?code .\\n  ?code sphn:hasCodeValue icd:§Diagnosis§ .\\n}\\n',\n",
       " 2: 'PREFIX sphn: <https://www.biomedit.ch/rdf/sphn-schema/sphn/>\\nSELECT ?patient WHERE {\\n  ?ae <http://www.w3.org/1999/02/22-rdf-syntax-ns#type>\\n       sphn:AdverseEvent .\\n  ?ae sphn:hasSubjectPseudoIdentifier ?patient .\\n  ?ae sphn:hasSeverity ?sev .\\n  FILTER(?sev IN (\"§Severity§\"))\\n}\\n',\n",
       " 3: 'PREFIX sphn: <https://www.biomedit.ch/rdf/sphn-schema/sphn/>\\nSELECT ?patient WHERE {\\n  ?event sphn:hasSubjectPseudoIdentifier ?patient .\\n  ?event sphn:hasLabResult ?res .\\n  ?res sphn:hasQuantityValue ?val .\\n  FILTER(?val < §Threshold§)\\n}\\n',\n",
       " 4: 'PREFIX sphn: <https://www.biomedit.ch/rdf/sphn-schema/sphn/>\\nSELECT ?patient WHERE {\\n  ?patient sphn:hasBirthDate ?dob .\\n  BIND(year(NOW()) - year(?dob) AS ?age)\\n  FILTER(?age >= §Age§)\\n}\\n',\n",
       " 5: 'PREFIX sphn: <https://www.biomedit.ch/rdf/sphn-schema/sphn/>\\nSELECT ?patient WHERE {\\n  ?presc sphn:hasSubjectPseudoIdentifier ?patient .\\n  ?presc sphn:hasDrug ?drug .\\n  ?drug sphn:hasCode ?code .\\n  ?code sphn:hasValue \"§Drug§\"\\n}\\n'}"
      ]
     },
     "execution_count": 4,
     "metadata": {},
     "output_type": "execute_result"
    }
   ],
   "source": [
    "sparql_template_dict"
   ]
  },
  {
   "cell_type": "code",
   "execution_count": 5,
   "id": "95a605ac",
   "metadata": {},
   "outputs": [],
   "source": [
    "def get_template_key(sparql_template):\n",
    "    for key, template in sparql_template_dict.items():\n",
    "        if template == sparql_template:\n",
    "            return key\n",
    "    return None"
   ]
  },
  {
   "cell_type": "code",
   "execution_count": 6,
   "id": "2712fd71",
   "metadata": {},
   "outputs": [],
   "source": [
    "merged_dfs = [\n",
    "    merged_full_pipeline_df,\n",
    "    merged_baseline_pipeline_df,\n",
    "    merged_sparql_llm_pipeline_df,\n",
    "]\n",
    "summary_dfs = [\n",
    "    summary_full_pipeline_df,\n",
    "    summary_baseline,\n",
    "    summary_sparql_llm_pipeline_df,\n",
    "]"
   ]
  },
  {
   "cell_type": "code",
   "execution_count": 7,
   "id": "8f6391a2",
   "metadata": {},
   "outputs": [],
   "source": [
    "for merged_df in merged_dfs:\n",
    "    merged_df[\"total_time\"]\n",
    "    merged_df[\"final_query_execution_time\"]\n",
    "    merged_df[\"initial_query_time\"]\n",
    "    # Calculate total validation time by summing the values in the 'validation_time' list for each row\n",
    "    merged_df[\"total_validation_time\"] = merged_full_pipeline_df[\n",
    "        \"validation_time\"\n",
    "    ].apply(lambda x: sum(x) if isinstance(x, list) else 0)\n"
   ]
  },
  {
   "cell_type": "code",
   "execution_count": 17,
   "id": "1e9c8c9d",
   "metadata": {},
   "outputs": [
    {
     "data": {
      "text/plain": [
       "array([0, 0, 0, 0, 0, 0, 0, 0, 0, 0, 0, 0, 0, 0, 0, 0, 0, 0, 0, 0, 0, 0,\n",
       "       0, 0, 0, 0, 0, 0, 0, 0, 0, 0, 0, 0, 0, 0, 0, 0, 0, 0, 0, 0, 0, 0,\n",
       "       0, 0, 0, 0, 0, 0, 0, 0, 0, 0, 0, 0, 0, 0, 0, 0, 0, 0, 0, 0, 0, 0,\n",
       "       0, 0, 0, 0, 0, 0, 0, 0, 0, 0, 0, 0, 0, 0, 0, 0, 0, 0, 0, 0, 0, 0,\n",
       "       0, 0, 0, 0, 0, 0, 0, 0, 0, 0, 0, 0, 0, 0, 0, 0, 0, 0, 0, 0, 0, 0,\n",
       "       0, 0, 0, 0, 0, 0, 0, 0, 0, 0, 0, 0, 0, 0, 0, 0, 0, 0, 0, 0, 0, 0,\n",
       "       0, 0, 0, 0, 0, 0, 0, 0, 0, 0, 0, 0, 0, 0, 0, 0, 0, 0, 0, 0, 0, 0,\n",
       "       0, 0, 0, 0, 0, 0, 0, 0, 0, 0, 0, 0, 0, 0, 0, 0, 0, 0, 0, 0, 0, 0,\n",
       "       0, 0, 0, 0, 0, 0, 0, 0, 0, 0, 0, 0, 0, 0, 0, 0, 0, 0, 0, 0, 0, 0,\n",
       "       0, 0, 0, 0, 0, 0, 0, 0, 0, 0, 0, 0])"
      ]
     },
     "execution_count": 17,
     "metadata": {},
     "output_type": "execute_result"
    }
   ],
   "source": [
    "merged_sparql_llm_pipeline_df['total_validation_time'].values"
   ]
  },
  {
   "cell_type": "code",
   "execution_count": 13,
   "id": "6ef3a2e3",
   "metadata": {},
   "outputs": [],
   "source": [
    "non_empty_validation_df = merged_baseline_pipeline_df[merged_baseline_pipeline_df['validation_time'].apply(lambda x: isinstance(x, list) and len(x) > 0)]"
   ]
  },
  {
   "cell_type": "code",
   "execution_count": 14,
   "id": "a62245e9",
   "metadata": {},
   "outputs": [
    {
     "data": {
      "text/html": [
       "<div>\n",
       "<style scoped>\n",
       "    .dataframe tbody tr th:only-of-type {\n",
       "        vertical-align: middle;\n",
       "    }\n",
       "\n",
       "    .dataframe tbody tr th {\n",
       "        vertical-align: top;\n",
       "    }\n",
       "\n",
       "    .dataframe thead th {\n",
       "        text-align: right;\n",
       "    }\n",
       "</style>\n",
       "<table border=\"1\" class=\"dataframe\">\n",
       "  <thead>\n",
       "    <tr style=\"text-align: right;\">\n",
       "      <th></th>\n",
       "      <th>question</th>\n",
       "      <th>prompt_templates</th>\n",
       "      <th>prompt_examples</th>\n",
       "      <th>all_prompts_ranked</th>\n",
       "      <th>most_similar_template</th>\n",
       "      <th>validation_time</th>\n",
       "      <th>valid_query</th>\n",
       "      <th>query</th>\n",
       "      <th>attempts</th>\n",
       "      <th>initial_query_time</th>\n",
       "      <th>...</th>\n",
       "      <th>sparql</th>\n",
       "      <th>question_template</th>\n",
       "      <th>sparql_template</th>\n",
       "      <th>expected_result</th>\n",
       "      <th>template_rank</th>\n",
       "      <th>precision</th>\n",
       "      <th>recall</th>\n",
       "      <th>exact_match</th>\n",
       "      <th>sparql_template_key</th>\n",
       "      <th>total_validation_time</th>\n",
       "    </tr>\n",
       "  </thead>\n",
       "  <tbody>\n",
       "  </tbody>\n",
       "</table>\n",
       "<p>0 rows × 24 columns</p>\n",
       "</div>"
      ],
      "text/plain": [
       "Empty DataFrame\n",
       "Columns: [question, prompt_templates, prompt_examples, all_prompts_ranked, most_similar_template, validation_time, valid_query, query, attempts, initial_query_time, result, final_query_execution_time, total_time, Unnamed: 0, sparql, question_template, sparql_template, expected_result, template_rank, precision, recall, exact_match, sparql_template_key, total_validation_time]\n",
       "Index: []\n",
       "\n",
       "[0 rows x 24 columns]"
      ]
     },
     "execution_count": 14,
     "metadata": {},
     "output_type": "execute_result"
    }
   ],
   "source": [
    "non_empty_validation_df"
   ]
  },
  {
   "cell_type": "code",
   "execution_count": 11,
   "id": "d97af162",
   "metadata": {},
   "outputs": [
    {
     "data": {
      "text/plain": [
       "array([0, 0, 0, 0, 0, 0, 0, 0, 0, 0, 0, 0, 0, 0, 0, 0, 0, 0, 0, 0, 0, 0,\n",
       "       0, 0, 0, 0, 0, 0, 0, 0, 0, 0, 0, 0, 0, 0, 0, 0, 0, 0, 0, 0, 0, 0,\n",
       "       0, 0, 0, 0, 0, 0, 0, 0, 0, 0, 0, 0, 0, 0, 0, 0, 0, 0, 0, 0, 0, 0,\n",
       "       0, 0, 0, 0, 0, 0, 0, 0, 0, 0, 0, 0, 0, 0, 0, 0, 0, 0, 0, 0, 0, 0,\n",
       "       0, 0, 0, 0, 0, 0, 0, 0, 0, 0, 0, 0, 0, 0, 0, 0, 0, 0, 0, 0, 0, 0,\n",
       "       0, 0, 0, 0, 0, 0, 0, 0, 0, 0, 0, 0, 0, 0, 0, 0, 0, 0, 0, 0, 0, 0,\n",
       "       0, 0, 0, 0, 0, 0, 0, 0, 0, 0, 0, 0, 0, 0, 0, 0, 0, 0, 0, 0, 0, 0,\n",
       "       0, 0, 0, 0, 0, 0, 0, 0, 0, 0, 0, 0, 0, 0, 0, 0, 0, 0, 0, 0, 0, 0,\n",
       "       0, 0, 0, 0, 0, 0, 0, 0, 0, 0, 0, 0, 0, 0, 0, 0, 0, 0, 0, 0, 0, 0,\n",
       "       0, 0, 0, 0, 0, 0, 0, 0, 0, 0, 0, 0])"
      ]
     },
     "execution_count": 11,
     "metadata": {},
     "output_type": "execute_result"
    }
   ],
   "source": [
    "merged_sparql_llm_pipeline_df['total_validation_time'].values"
   ]
  },
  {
   "cell_type": "code",
   "execution_count": 9,
   "id": "36483fc4",
   "metadata": {},
   "outputs": [
    {
     "data": {
      "text/plain": [
       "Index(['question', 'prompt_templates', 'prompt_examples', 'all_prompts_ranked',\n",
       "       'most_similar_template', 'validation_time', 'valid_query', 'query',\n",
       "       'attempts', 'initial_query_time', 'result',\n",
       "       'final_query_execution_time', 'total_time', 'Unnamed: 0', 'sparql',\n",
       "       'question_template', 'sparql_template', 'expected_result',\n",
       "       'template_rank', 'precision', 'recall', 'exact_match',\n",
       "       'total_validation_time', 'sparql_template_key'],\n",
       "      dtype='object')"
      ]
     },
     "execution_count": 9,
     "metadata": {},
     "output_type": "execute_result"
    }
   ],
   "source": [
    "merged_full_pipeline_df.columns"
   ]
  }
 ],
 "metadata": {
  "kernelspec": {
   "display_name": "Python 3",
   "language": "python",
   "name": "python3"
  },
  "language_info": {
   "codemirror_mode": {
    "name": "ipython",
    "version": 3
   },
   "file_extension": ".py",
   "mimetype": "text/x-python",
   "name": "python",
   "nbconvert_exporter": "python",
   "pygments_lexer": "ipython3",
   "version": "3.13.3"
  }
 },
 "nbformat": 4,
 "nbformat_minor": 5
}
