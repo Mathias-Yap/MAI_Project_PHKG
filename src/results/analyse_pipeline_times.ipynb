{
 "cells": [
  {
   "cell_type": "markdown",
   "id": "9b7a0420",
   "metadata": {},
   "source": [
    "# Analysis of the validation times and validation attempts on the test set"
   ]
  },
  {
   "cell_type": "code",
   "execution_count": 10,
   "id": "09f0e089",
   "metadata": {},
   "outputs": [],
   "source": [
    "import pandas as pd\n",
    "\n",
    "merged_full_pipeline_df = pd.read_csv(\"merged_full_pipeline.csv\")\n",
    "summary_full_pipeline_df = pd.read_csv(\"summary_full_pipeline.csv\")\n",
    "merged_baseline_pipeline_df = pd.read_csv(\"merged_baseline_pipeline.csv\")\n",
    "summary_baseline = pd.read_csv(\"summary_baseline.csv\")\n",
    "merged_sparql_llm_pipeline_df = pd.read_csv(\"merged_sparql_llm_pipeline.csv\")\n",
    "summary_sparql_llm_pipeline_df = pd.read_csv(\"summary_sparql_llm_pipeline.csv\")"
   ]
  },
  {
   "cell_type": "markdown",
   "id": "5e3a1532",
   "metadata": {},
   "source": [
    "### Only a single nonempty validation time in the other two test sets"
   ]
  },
  {
   "cell_type": "code",
   "execution_count": 13,
   "id": "c66fc9ed",
   "metadata": {},
   "outputs": [
    {
     "name": "stdout",
     "output_type": "stream",
     "text": [
      "Count of nonempty lists in merged_full_pipeline_df: 0\n",
      "Count of nonempty lists in merged_sparql_llm_pipeline_df: 1\n",
      "Nonempty lists in merged_full_pipeline_df: False\n",
      "Nonempty lists in merged_sparql_llm_pipeline_df: True\n"
     ]
    }
   ],
   "source": [
    "import ast\n",
    "\n",
    "# Check for nonempty lists in 'validation_time' for merged_full_pipeline_df\n",
    "nonempty_validation_full = merged_full_pipeline_df['validation_time'].apply(lambda x: isinstance(x, list) and len(x) > 0).any()\n",
    "\n",
    "# Check for nonempty lists in 'validation_time' for merged_sparql_llm_pipeline_df\n",
    "nonempty_validation_sparql_llm = merged_sparql_llm_pipeline_df['validation_time'].apply(lambda x: isinstance(ast.literal_eval(x), list) and len(ast.literal_eval(x)) > 0).any()\n",
    "# Count nonempty lists in 'validation_time' for merged_full_pipeline_df\n",
    "count_nonempty_full = merged_full_pipeline_df['validation_time'].apply(lambda x: isinstance(x, list) and len(x) > 0).sum()\n",
    "\n",
    "# Count nonempty lists in 'validation_time' for merged_sparql_llm_pipeline_df\n",
    "count_nonempty_sparql_llm = merged_sparql_llm_pipeline_df['validation_time'].apply(lambda x: isinstance(ast.literal_eval(x), list) and len(ast.literal_eval(x)) > 0).sum()\n",
    "\n",
    "print(\"Count of nonempty lists in merged_full_pipeline_df:\", count_nonempty_full)\n",
    "print(\"Count of nonempty lists in merged_sparql_llm_pipeline_df:\", count_nonempty_sparql_llm)\n",
    "print(\"Nonempty lists in merged_full_pipeline_df:\", nonempty_validation_full)\n",
    "print(\"Nonempty lists in merged_sparql_llm_pipeline_df:\", nonempty_validation_sparql_llm)"
   ]
  },
  {
   "cell_type": "markdown",
   "id": "db619255",
   "metadata": {},
   "source": [
    "### More in baseline\n"
   ]
  },
  {
   "cell_type": "code",
   "execution_count": 14,
   "id": "a8d6a4d8",
   "metadata": {},
   "outputs": [],
   "source": [
    "\n",
    "valid_nonempty_validation_df = merged_baseline_pipeline_df[\n",
    "    (merged_baseline_pipeline_df['valid_query']) &\n",
    "    (merged_baseline_pipeline_df['validation_time'].apply(lambda x: isinstance(ast.literal_eval(x), list) and len(ast.literal_eval(x)) > 0))\n",
    "]\n",
    "\n",
    "invalid_nonempty_validation_df = merged_baseline_pipeline_df[\n",
    "    (~merged_baseline_pipeline_df['valid_query']) &\n",
    "    (merged_baseline_pipeline_df['validation_time'].apply(lambda x: isinstance(ast.literal_eval(x), list) and len(ast.literal_eval(x)) > 0))\n",
    "]"
   ]
  },
  {
   "cell_type": "code",
   "execution_count": 15,
   "id": "112a3e66",
   "metadata": {},
   "outputs": [
    {
     "data": {
      "text/plain": [
       "attempts\n",
       "1    31\n",
       "2     7\n",
       "3     2\n",
       "Name: count, dtype: int64"
      ]
     },
     "execution_count": 15,
     "metadata": {},
     "output_type": "execute_result"
    }
   ],
   "source": [
    "valid_nonempty_validation_df['attempts'].value_counts()"
   ]
  },
  {
   "cell_type": "markdown",
   "id": "9c96d9d4",
   "metadata": {},
   "source": [
    "Total attempts fully failed:"
   ]
  },
  {
   "cell_type": "code",
   "execution_count": 16,
   "id": "10a5aaf3",
   "metadata": {},
   "outputs": [
    {
     "data": {
      "text/plain": [
       "attempts\n",
       "3    2\n",
       "Name: count, dtype: int64"
      ]
     },
     "execution_count": 16,
     "metadata": {},
     "output_type": "execute_result"
    }
   ],
   "source": [
    "\n",
    "invalid_nonempty_validation_df['attempts'].value_counts()"
   ]
  }
 ],
 "metadata": {
  "kernelspec": {
   "display_name": "Python 3",
   "language": "python",
   "name": "python3"
  },
  "language_info": {
   "codemirror_mode": {
    "name": "ipython",
    "version": 3
   },
   "file_extension": ".py",
   "mimetype": "text/x-python",
   "name": "python",
   "nbconvert_exporter": "python",
   "pygments_lexer": "ipython3",
   "version": "3.13.3"
  }
 },
 "nbformat": 4,
 "nbformat_minor": 5
}
