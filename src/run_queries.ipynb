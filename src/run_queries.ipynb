{
 "cells": [
  {
   "cell_type": "code",
   "execution_count": 3,
   "id": "25ebb20a",
   "metadata": {},
   "outputs": [],
   "source": [
    "from pipeline.query_engine_component import QueryExecutorStep"
   ]
  },
  {
   "cell_type": "markdown",
   "id": "863d2ba3",
   "metadata": {},
   "source": [
    "### HOW TO SET UP THE QUERY EXECUTOR\n",
    "- Use milleniumDB for the engine name\n",
    "- Write just the name of the rdf file as it is in the data folder!\n",
    "- When mdb reads a file, it creates its own graph folder in mdb_graph_loads. To use a graph load, simply use the same graph path as you would normally, but set construct_graph = False."
   ]
  },
  {
   "cell_type": "code",
   "execution_count": 4,
   "id": "ce10b9ae",
   "metadata": {},
   "outputs": [
    {
     "name": "stdout",
     "output_type": "stream",
     "text": [
      "Checking available images...\n",
      "['mdb:latest']\n",
      "['docker-aseprite:latest']\n",
      "['ghcr.io/avantlab/avantgraph:openaire-transport']\n",
      "['ghcr.io/avantlab/avantgraph:openaire-energy']\n",
      "['ghcr.io/avantlab/avantgraph:openaire-neuro']\n",
      "['ghcr.io/avantlab/avantgraph:openaire-cancer']\n",
      "['hello-world:latest']\n",
      "['ghcr.io/avantlab/avantgraph:ckg']\n",
      "['ghcr.io/avantlab/avantgraph:release-2024-01-31']\n"
     ]
    }
   ],
   "source": [
    "# Initialize the QueryExecutorStep with the MillenniumDB engine, construct the graph from the path first.\n",
    "query_executor = QueryExecutorStep(engine_name = \"milleniumDB\", graph_path=\"rdf_400_sphn.nt\"\n",
    ", construct_graph=False)"
   ]
  },
  {
   "attachments": {
    "image.png": {
     "image/png": "[encoded data removed]"
    }
   },
   "cell_type": "markdown",
   "id": "2c7a60c2",
   "metadata": {},
   "source": [
    "### Querying the engine\n",
    "Now, when you have constructed the executor component, it will have started a docker container in which it is running the server:\n",
    "\n",
    "![image.png](attachment:image.png)\n",
    "\n",
    "You can access this in one of two ways:\n",
    "- go to http://localhost:4321. This will bring you to the MDB web page interface where you can test queries.\n",
    "- Run queries through code as shown below:\n"
   ]
  },
  {
   "cell_type": "code",
   "execution_count": 5,
   "id": "595ffbf3",
   "metadata": {},
   "outputs": [
    {
     "name": "stdout",
     "output_type": "stream",
     "text": [
      ">>> Query being sent to MillenniumDB:\n",
      " \n",
      "                     SELECT *\n",
      "WHERE { ?s ?p ?o . }\n",
      "LIMIT 100\n",
      "\n",
      "Example query results:\n",
      "{'s': IRI<https://www.biomedit.ch/rdf/sphn-schema/sphn/DrugPrescription/20/patients/17349828/Drug>, 'p': IRI<http://www.w3.org/1999/02/22-rdf-syntax-ns#type>, 'o': IRI<https://www.biomedit.ch/rdf/sphn-schema/sphn/Drug>}\n",
      "{'s': IRI<https://www.biomedit.ch/rdf/sphn-schema/sphn/DrugPrescription/20/patients/17349828/Drug>, 'p': IRI<https://www.biomedit.ch/rdf/sphn-schema/sphn/hasActiveIngredient>, 'o': IRI<https://www.biomedit.ch/rdf/sphn-schema/sphn/DrugPrescription/20/patients/17349828/Substance>}\n",
      "{'s': IRI<https://www.biomedit.ch/rdf/sphn-schema/sphn/DrugPrescription/67/patients/11072440/Drug>, 'p': IRI<http://www.w3.org/1999/02/22-rdf-syntax-ns#type>, 'o': IRI<https://www.biomedit.ch/rdf/sphn-schema/sphn/Drug>}\n",
      "{'s': IRI<https://www.biomedit.ch/rdf/sphn-schema/sphn/DrugPrescription/67/patients/11072440/Drug>, 'p': IRI<https://www.biomedit.ch/rdf/sphn-schema/sphn/hasActiveIngredient>, 'o': IRI<https://www.biomedit.ch/rdf/sphn-schema/sphn/DrugPrescription/67/patients/11072440/Substance>}\n",
      "{'s': IRI<https://www.biomedit.ch/rdf/sphn-schema/sphn/LabTestEvent/9/patients/16535066/LabResult>, 'p': IRI<http://www.w3.org/1999/02/22-rdf-syntax-ns#type>, 'o': IRI<https://www.biomedit.ch/rdf/sphn-schema/sphn/LabResult>}\n",
      "{'s': IRI<https://www.biomedit.ch/rdf/sphn-schema/sphn/LabTestEvent/9/patients/16535066/LabResult>, 'p': IRI<https://www.biomedit.ch/rdf/sphn-schema/sphn/hasCode>, 'o': IRI<https://www.biomedit.ch/rdf/sphn-schema/sphn/d_labitems/50882>}\n",
      "{'s': IRI<https://www.biomedit.ch/rdf/sphn-schema/sphn/LabTestEvent/91/patients/13146633/LabResult>, 'p': IRI<http://www.w3.org/1999/02/22-rdf-syntax-ns#type>, 'o': IRI<https://www.biomedit.ch/rdf/sphn-schema/sphn/LabResult>}\n",
      "{'s': IRI<https://www.biomedit.ch/rdf/sphn-schema/sphn/LabTestEvent/91/patients/13146633/LabResult>, 'p': IRI<https://www.biomedit.ch/rdf/sphn-schema/sphn/hasCode>, 'o': IRI<https://www.biomedit.ch/rdf/sphn-schema/sphn/d_labitems/51613>}\n",
      "{'s': IRI<https://www.biomedit.ch/rdf/sphn-schema/sphn/LabTestEvent/67/patients/13206731/LabResult>, 'p': IRI<http://www.w3.org/1999/02/22-rdf-syntax-ns#type>, 'o': IRI<https://www.biomedit.ch/rdf/sphn-schema/sphn/LabResult>}\n",
      "{'s': IRI<https://www.biomedit.ch/rdf/sphn-schema/sphn/LabTestEvent/67/patients/13206731/LabResult>, 'p': IRI<https://www.biomedit.ch/rdf/sphn-schema/sphn/hasCode>, 'o': IRI<https://www.biomedit.ch/rdf/sphn-schema/sphn/d_labitems/50924>}\n",
      "{'s': IRI<https://www.biomedit.ch/rdf/sphn-schema/sphn/LabTestEvent/42/patients/11992178/LabResult>, 'p': IRI<http://www.w3.org/1999/02/22-rdf-syntax-ns#type>, 'o': IRI<https://www.biomedit.ch/rdf/sphn-schema/sphn/LabResult>}\n",
      "{'s': IRI<https://www.biomedit.ch/rdf/sphn-schema/sphn/LabTestEvent/42/patients/11992178/LabResult>, 'p': IRI<https://www.biomedit.ch/rdf/sphn-schema/sphn/hasCode>, 'o': IRI<https://www.biomedit.ch/rdf/sphn-schema/sphn/d_labitems/51491>}\n",
      "{'s': IRI<https://www.biomedit.ch/rdf/sphn-schema/sphn/LabTestEvent/46/patients/12559829/LabResult>, 'p': IRI<http://www.w3.org/1999/02/22-rdf-syntax-ns#type>, 'o': IRI<https://www.biomedit.ch/rdf/sphn-schema/sphn/LabResult>}\n",
      "{'s': IRI<https://www.biomedit.ch/rdf/sphn-schema/sphn/LabTestEvent/46/patients/12559829/LabResult>, 'p': IRI<https://www.biomedit.ch/rdf/sphn-schema/sphn/hasCode>, 'o': IRI<https://www.biomedit.ch/rdf/sphn-schema/sphn/d_labitems/50808>}\n",
      "{'s': IRI<https://www.biomedit.ch/rdf/sphn-schema/sphn/DrugPrescription/6/patients/16438060/Drug>, 'p': IRI<http://www.w3.org/1999/02/22-rdf-syntax-ns#type>, 'o': IRI<https://www.biomedit.ch/rdf/sphn-schema/sphn/Drug>}\n",
      "{'s': IRI<https://www.biomedit.ch/rdf/sphn-schema/sphn/DrugPrescription/6/patients/16438060/Drug>, 'p': IRI<https://www.biomedit.ch/rdf/sphn-schema/sphn/hasActiveIngredient>, 'o': IRI<https://www.biomedit.ch/rdf/sphn-schema/sphn/DrugPrescription/6/patients/16438060/Substance>}\n",
      "{'s': IRI<https://www.biomedit.ch/rdf/sphn-schema/sphn/LabTestEvent/2/patients/15882933/LabResult>, 'p': IRI<http://www.w3.org/1999/02/22-rdf-syntax-ns#type>, 'o': IRI<https://www.biomedit.ch/rdf/sphn-schema/sphn/LabResult>}\n",
      "{'s': IRI<https://www.biomedit.ch/rdf/sphn-schema/sphn/LabTestEvent/2/patients/15882933/LabResult>, 'p': IRI<https://www.biomedit.ch/rdf/sphn-schema/sphn/hasCode>, 'o': IRI<https://www.biomedit.ch/rdf/sphn-schema/sphn/d_labitems/51275>}\n",
      "{'s': IRI<https://www.biomedit.ch/rdf/sphn-schema/sphn/DrugPrescription/56/patients/13845707/Substance>, 'p': IRI<http://www.w3.org/1999/02/22-rdf-syntax-ns#type>, 'o': IRI<https://www.biomedit.ch/rdf/sphn-schema/sphn/Substance>}\n",
      "{'s': IRI<https://www.biomedit.ch/rdf/sphn-schema/sphn/DrugPrescription/56/patients/13845707/Substance>, 'p': IRI<https://www.biomedit.ch/rdf/sphn-schema/sphn/hasCode>, 'o': IRI<https://www.biomedit.ch/rdf/sphn-schema/sphn/ndc#70004080640>}\n",
      "{'s': IRI<https://www.biomedit.ch/rdf/sphn-schema/sphn/DrugPrescription/23/patients/15862570/Substance>, 'p': IRI<http://www.w3.org/1999/02/22-rdf-syntax-ns#type>, 'o': IRI<https://www.biomedit.ch/rdf/sphn-schema/sphn/Substance>}\n",
      "{'s': IRI<https://www.biomedit.ch/rdf/sphn-schema/sphn/DrugPrescription/23/patients/15862570/Substance>, 'p': IRI<https://www.biomedit.ch/rdf/sphn-schema/sphn/hasCode>, 'o': IRI<https://www.biomedit.ch/rdf/sphn-schema/sphn/ndc#186077739>}\n",
      "{'s': IRI<https://www.biomedit.ch/rdf/sphn-schema/sphn/LabTestEvent/16/patients/18301731/LabResult>, 'p': IRI<http://www.w3.org/1999/02/22-rdf-syntax-ns#type>, 'o': IRI<https://www.biomedit.ch/rdf/sphn-schema/sphn/LabResult>}\n",
      "{'s': IRI<https://www.biomedit.ch/rdf/sphn-schema/sphn/LabTestEvent/16/patients/18301731/LabResult>, 'p': IRI<https://www.biomedit.ch/rdf/sphn-schema/sphn/hasCode>, 'o': IRI<https://www.biomedit.ch/rdf/sphn-schema/sphn/d_labitems/50983>}\n",
      "{'s': IRI<https://www.biomedit.ch/rdf/sphn-schema/sphn/DrugPrescription/0/patients/17548402/Drug>, 'p': IRI<http://www.w3.org/1999/02/22-rdf-syntax-ns#type>, 'o': IRI<https://www.biomedit.ch/rdf/sphn-schema/sphn/Drug>}\n",
      "{'s': IRI<https://www.biomedit.ch/rdf/sphn-schema/sphn/DrugPrescription/0/patients/17548402/Drug>, 'p': IRI<https://www.biomedit.ch/rdf/sphn-schema/sphn/hasActiveIngredient>, 'o': IRI<https://www.biomedit.ch/rdf/sphn-schema/sphn/DrugPrescription/0/patients/17548402/Substance>}\n",
      "{'s': IRI<https://www.biomedit.ch/rdf/sphn-schema/sphn/DrugPrescription/0/patients/17548402/Substance>, 'p': IRI<http://www.w3.org/1999/02/22-rdf-syntax-ns#type>, 'o': IRI<https://www.biomedit.ch/rdf/sphn-schema/sphn/Substance>}\n",
      "{'s': IRI<https://www.biomedit.ch/rdf/sphn-schema/sphn/DrugPrescription/0/patients/17548402/Substance>, 'p': IRI<https://www.biomedit.ch/rdf/sphn-schema/sphn/hasCode>, 'o': IRI<https://www.biomedit.ch/rdf/sphn-schema/sphn/ndc#66758016013>}\n",
      "{'s': IRI<https://www.biomedit.ch/rdf/sphn-schema/sphn/LabTestEvent/6/patients/12476304/LabResult>, 'p': IRI<http://www.w3.org/1999/02/22-rdf-syntax-ns#type>, 'o': IRI<https://www.biomedit.ch/rdf/sphn-schema/sphn/LabResult>}\n",
      "{'s': IRI<https://www.biomedit.ch/rdf/sphn-schema/sphn/LabTestEvent/6/patients/12476304/LabResult>, 'p': IRI<https://www.biomedit.ch/rdf/sphn-schema/sphn/hasCode>, 'o': IRI<https://www.biomedit.ch/rdf/sphn-schema/sphn/d_labitems/51248>}\n",
      "{'s': IRI<https://www.biomedit.ch/rdf/sphn-schema/sphn/LabTestEvent/5/patients/18569084/LabResult>, 'p': IRI<http://www.w3.org/1999/02/22-rdf-syntax-ns#type>, 'o': IRI<https://www.biomedit.ch/rdf/sphn-schema/sphn/LabResult>}\n",
      "{'s': IRI<https://www.biomedit.ch/rdf/sphn-schema/sphn/LabTestEvent/5/patients/18569084/LabResult>, 'p': IRI<https://www.biomedit.ch/rdf/sphn-schema/sphn/hasCode>, 'o': IRI<https://www.biomedit.ch/rdf/sphn-schema/sphn/d_labitems/51244>}\n",
      "{'s': IRI<https://www.biomedit.ch/rdf/sphn-schema/sphn/LabTestEvent/19/patients/12117074/LabResult>, 'p': IRI<http://www.w3.org/1999/02/22-rdf-syntax-ns#type>, 'o': IRI<https://www.biomedit.ch/rdf/sphn-schema/sphn/LabResult>}\n",
      "{'s': IRI<https://www.biomedit.ch/rdf/sphn-schema/sphn/LabTestEvent/19/patients/12117074/LabResult>, 'p': IRI<https://www.biomedit.ch/rdf/sphn-schema/sphn/hasCode>, 'o': IRI<https://www.biomedit.ch/rdf/sphn-schema/sphn/d_labitems/52135>}\n",
      "{'s': IRI<https://www.biomedit.ch/rdf/sphn-schema/sphn/DrugPrescription/18/patients/15143785/Substance>, 'p': IRI<http://www.w3.org/1999/02/22-rdf-syntax-ns#type>, 'o': IRI<https://www.biomedit.ch/rdf/sphn-schema/sphn/Substance>}\n",
      "{'s': IRI<https://www.biomedit.ch/rdf/sphn-schema/sphn/DrugPrescription/18/patients/15143785/Substance>, 'p': IRI<https://www.biomedit.ch/rdf/sphn-schema/sphn/hasCode>, 'o': IRI<https://www.biomedit.ch/rdf/sphn-schema/sphn/ndc#71041813>}\n",
      "{'s': IRI<https://www.biomedit.ch/rdf/sphn-schema/sphn/DrugPrescription/25/patients/15606157/Substance>, 'p': IRI<http://www.w3.org/1999/02/22-rdf-syntax-ns#type>, 'o': IRI<https://www.biomedit.ch/rdf/sphn-schema/sphn/Substance>}\n",
      "{'s': IRI<https://www.biomedit.ch/rdf/sphn-schema/sphn/DrugPrescription/25/patients/15606157/Substance>, 'p': IRI<https://www.biomedit.ch/rdf/sphn-schema/sphn/hasCode>, 'o': IRI<https://www.biomedit.ch/rdf/sphn-schema/sphn/ndc#63739035810>}\n",
      "{'s': IRI<https://www.biomedit.ch/rdf/sphn-schema/sphn/DrugPrescription/42/patients/16368797/Substance>, 'p': IRI<http://www.w3.org/1999/02/22-rdf-syntax-ns#type>, 'o': IRI<https://www.biomedit.ch/rdf/sphn-schema/sphn/Substance>}\n",
      "{'s': IRI<https://www.biomedit.ch/rdf/sphn-schema/sphn/DrugPrescription/42/patients/16368797/Substance>, 'p': IRI<https://www.biomedit.ch/rdf/sphn-schema/sphn/hasCode>, 'o': IRI<https://www.biomedit.ch/rdf/sphn-schema/sphn/ndc#904652261>}\n",
      "{'s': IRI<https://www.biomedit.ch/rdf/sphn-schema/sphn/LabTestEvent/54/patients/16946310/LabResult>, 'p': IRI<http://www.w3.org/1999/02/22-rdf-syntax-ns#type>, 'o': IRI<https://www.biomedit.ch/rdf/sphn-schema/sphn/LabResult>}\n",
      "{'s': IRI<https://www.biomedit.ch/rdf/sphn-schema/sphn/LabTestEvent/54/patients/16946310/LabResult>, 'p': IRI<https://www.biomedit.ch/rdf/sphn-schema/sphn/hasCode>, 'o': IRI<https://www.biomedit.ch/rdf/sphn-schema/sphn/d_labitems/50920>}\n",
      "{'s': IRI<https://www.biomedit.ch/rdf/sphn-schema/sphn/LabTestEvent/68/patients/12033684/LabResult>, 'p': IRI<http://www.w3.org/1999/02/22-rdf-syntax-ns#type>, 'o': IRI<https://www.biomedit.ch/rdf/sphn-schema/sphn/LabResult>}\n",
      "{'s': IRI<https://www.biomedit.ch/rdf/sphn-schema/sphn/LabTestEvent/68/patients/12033684/LabResult>, 'p': IRI<https://www.biomedit.ch/rdf/sphn-schema/sphn/hasCode>, 'o': IRI<https://www.biomedit.ch/rdf/sphn-schema/sphn/d_labitems/50878>}\n",
      "{'s': IRI<https://www.biomedit.ch/rdf/sphn-schema/sphn/DrugPrescription/40/patients/19285526/Substance>, 'p': IRI<http://www.w3.org/1999/02/22-rdf-syntax-ns#type>, 'o': IRI<https://www.biomedit.ch/rdf/sphn-schema/sphn/Substance>}\n",
      "{'s': IRI<https://www.biomedit.ch/rdf/sphn-schema/sphn/DrugPrescription/40/patients/19285526/Substance>, 'p': IRI<https://www.biomedit.ch/rdf/sphn-schema/sphn/hasCode>, 'o': IRI<https://www.biomedit.ch/rdf/sphn-schema/sphn/ndc#68084009801>}\n",
      "{'s': IRI<https://www.biomedit.ch/rdf/sphn-schema/sphn/LabTestEvent/16/patients/13845707/LabResult>, 'p': IRI<http://www.w3.org/1999/02/22-rdf-syntax-ns#type>, 'o': IRI<https://www.biomedit.ch/rdf/sphn-schema/sphn/LabResult>}\n",
      "{'s': IRI<https://www.biomedit.ch/rdf/sphn-schema/sphn/LabTestEvent/16/patients/13845707/LabResult>, 'p': IRI<https://www.biomedit.ch/rdf/sphn-schema/sphn/hasCode>, 'o': IRI<https://www.biomedit.ch/rdf/sphn-schema/sphn/d_labitems/51248>}\n",
      "{'s': IRI<https://www.biomedit.ch/rdf/sphn-schema/sphn/LabTestEvent/35/patients/11454208/LabResult>, 'p': IRI<http://www.w3.org/1999/02/22-rdf-syntax-ns#type>, 'o': IRI<https://www.biomedit.ch/rdf/sphn-schema/sphn/LabResult>}\n",
      "{'s': IRI<https://www.biomedit.ch/rdf/sphn-schema/sphn/LabTestEvent/35/patients/11454208/LabResult>, 'p': IRI<https://www.biomedit.ch/rdf/sphn-schema/sphn/hasCode>, 'o': IRI<https://www.biomedit.ch/rdf/sphn-schema/sphn/d_labitems/50983>}\n",
      "{'s': IRI<https://www.biomedit.ch/rdf/sphn-schema/sphn/DrugPrescription/11/patients/17848200/Substance>, 'p': IRI<http://www.w3.org/1999/02/22-rdf-syntax-ns#type>, 'o': IRI<https://www.biomedit.ch/rdf/sphn-schema/sphn/Substance>}\n",
      "{'s': IRI<https://www.biomedit.ch/rdf/sphn-schema/sphn/DrugPrescription/11/patients/17848200/Substance>, 'p': IRI<https://www.biomedit.ch/rdf/sphn-schema/sphn/hasCode>, 'o': IRI<https://www.biomedit.ch/rdf/sphn-schema/sphn/ndc#62584073401>}\n",
      "{'s': IRI<https://www.biomedit.ch/rdf/sphn-schema/sphn/DrugPrescription/44/patients/19620469/Substance>, 'p': IRI<http://www.w3.org/1999/02/22-rdf-syntax-ns#type>, 'o': IRI<https://www.biomedit.ch/rdf/sphn-schema/sphn/Substance>}\n",
      "{'s': IRI<https://www.biomedit.ch/rdf/sphn-schema/sphn/DrugPrescription/44/patients/19620469/Substance>, 'p': IRI<https://www.biomedit.ch/rdf/sphn-schema/sphn/hasCode>, 'o': IRI<https://www.biomedit.ch/rdf/sphn-schema/sphn/ndc#143985725>}\n",
      "{'s': IRI<https://www.biomedit.ch/rdf/sphn-schema/sphn/LabTestEvent/15/patients/14813707/LabResult>, 'p': IRI<http://www.w3.org/1999/02/22-rdf-syntax-ns#type>, 'o': IRI<https://www.biomedit.ch/rdf/sphn-schema/sphn/LabResult>}\n",
      "{'s': IRI<https://www.biomedit.ch/rdf/sphn-schema/sphn/LabTestEvent/15/patients/14813707/LabResult>, 'p': IRI<https://www.biomedit.ch/rdf/sphn-schema/sphn/hasCode>, 'o': IRI<https://www.biomedit.ch/rdf/sphn-schema/sphn/d_labitems/50863>}\n",
      "{'s': IRI<https://www.biomedit.ch/rdf/sphn-schema/sphn/LabTestEvent/82/patients/12671770/LabResult>, 'p': IRI<http://www.w3.org/1999/02/22-rdf-syntax-ns#type>, 'o': IRI<https://www.biomedit.ch/rdf/sphn-schema/sphn/LabResult>}\n",
      "{'s': IRI<https://www.biomedit.ch/rdf/sphn-schema/sphn/LabTestEvent/82/patients/12671770/LabResult>, 'p': IRI<https://www.biomedit.ch/rdf/sphn-schema/sphn/hasCode>, 'o': IRI<https://www.biomedit.ch/rdf/sphn-schema/sphn/d_labitems/50951>}\n",
      "{'s': IRI<https://www.biomedit.ch/rdf/sphn-schema/sphn/LabTestEvent/33/patients/12965871/LabResult>, 'p': IRI<http://www.w3.org/1999/02/22-rdf-syntax-ns#type>, 'o': IRI<https://www.biomedit.ch/rdf/sphn-schema/sphn/LabResult>}\n",
      "{'s': IRI<https://www.biomedit.ch/rdf/sphn-schema/sphn/LabTestEvent/33/patients/12965871/LabResult>, 'p': IRI<https://www.biomedit.ch/rdf/sphn-schema/sphn/hasCode>, 'o': IRI<https://www.biomedit.ch/rdf/sphn-schema/sphn/d_labitems/50911>}\n",
      "{'s': IRI<https://www.biomedit.ch/rdf/sphn-schema/sphn/LabTestEvent/12/patients/16209399/LabResult>, 'p': IRI<http://www.w3.org/1999/02/22-rdf-syntax-ns#type>, 'o': IRI<https://www.biomedit.ch/rdf/sphn-schema/sphn/LabResult>}\n",
      "{'s': IRI<https://www.biomedit.ch/rdf/sphn-schema/sphn/LabTestEvent/12/patients/16209399/LabResult>, 'p': IRI<https://www.biomedit.ch/rdf/sphn-schema/sphn/hasCode>, 'o': IRI<https://www.biomedit.ch/rdf/sphn-schema/sphn/d_labitems/50893>}\n",
      "{'s': IRI<https://www.biomedit.ch/rdf/sphn-schema/sphn/LabTestEvent/77/patients/13103745/LabResult>, 'p': IRI<http://www.w3.org/1999/02/22-rdf-syntax-ns#type>, 'o': IRI<https://www.biomedit.ch/rdf/sphn-schema/sphn/LabResult>}\n",
      "{'s': IRI<https://www.biomedit.ch/rdf/sphn-schema/sphn/LabTestEvent/77/patients/13103745/LabResult>, 'p': IRI<https://www.biomedit.ch/rdf/sphn-schema/sphn/hasCode>, 'o': IRI<https://www.biomedit.ch/rdf/sphn-schema/sphn/d_labitems/51100>}\n",
      "{'s': IRI<https://www.biomedit.ch/rdf/sphn-schema/sphn/LabTestEvent/75/patients/18389709/LabResult>, 'p': IRI<http://www.w3.org/1999/02/22-rdf-syntax-ns#type>, 'o': IRI<https://www.biomedit.ch/rdf/sphn-schema/sphn/LabResult>}\n",
      "{'s': IRI<https://www.biomedit.ch/rdf/sphn-schema/sphn/LabTestEvent/75/patients/18389709/LabResult>, 'p': IRI<https://www.biomedit.ch/rdf/sphn-schema/sphn/hasCode>, 'o': IRI<https://www.biomedit.ch/rdf/sphn-schema/sphn/d_labitems/51512>}\n",
      "{'s': IRI<https://www.biomedit.ch/rdf/sphn-schema/sphn/LabTestEvent/81/patients/16849123/LabResult>, 'p': IRI<http://www.w3.org/1999/02/22-rdf-syntax-ns#type>, 'o': IRI<https://www.biomedit.ch/rdf/sphn-schema/sphn/LabResult>}\n",
      "{'s': IRI<https://www.biomedit.ch/rdf/sphn-schema/sphn/LabTestEvent/81/patients/16849123/LabResult>, 'p': IRI<https://www.biomedit.ch/rdf/sphn-schema/sphn/hasCode>, 'o': IRI<https://www.biomedit.ch/rdf/sphn-schema/sphn/d_labitems/51282>}\n",
      "{'s': IRI<https://www.biomedit.ch/rdf/sphn-schema/sphn/DrugPrescription/3/patients/17297209/Drug>, 'p': IRI<http://www.w3.org/1999/02/22-rdf-syntax-ns#type>, 'o': IRI<https://www.biomedit.ch/rdf/sphn-schema/sphn/Drug>}\n",
      "{'s': IRI<https://www.biomedit.ch/rdf/sphn-schema/sphn/DrugPrescription/3/patients/17297209/Drug>, 'p': IRI<https://www.biomedit.ch/rdf/sphn-schema/sphn/hasActiveIngredient>, 'o': IRI<https://www.biomedit.ch/rdf/sphn-schema/sphn/DrugPrescription/3/patients/17297209/Substance>}\n",
      "{'s': IRI<https://www.biomedit.ch/rdf/sphn-schema/sphn/LabTestEvent/7/patients/15977249/LabResult>, 'p': IRI<http://www.w3.org/1999/02/22-rdf-syntax-ns#type>, 'o': IRI<https://www.biomedit.ch/rdf/sphn-schema/sphn/LabResult>}\n",
      "{'s': IRI<https://www.biomedit.ch/rdf/sphn-schema/sphn/LabTestEvent/7/patients/15977249/LabResult>, 'p': IRI<https://www.biomedit.ch/rdf/sphn-schema/sphn/hasCode>, 'o': IRI<https://www.biomedit.ch/rdf/sphn-schema/sphn/d_labitems/50931>}\n",
      "{'s': IRI<https://www.biomedit.ch/rdf/sphn-schema/sphn/DrugPrescription/31/patients/15533500/Drug>, 'p': IRI<http://www.w3.org/1999/02/22-rdf-syntax-ns#type>, 'o': IRI<https://www.biomedit.ch/rdf/sphn-schema/sphn/Drug>}\n",
      "{'s': IRI<https://www.biomedit.ch/rdf/sphn-schema/sphn/DrugPrescription/31/patients/15533500/Drug>, 'p': IRI<https://www.biomedit.ch/rdf/sphn-schema/sphn/hasActiveIngredient>, 'o': IRI<https://www.biomedit.ch/rdf/sphn-schema/sphn/DrugPrescription/31/patients/15533500/Substance>}\n",
      "{'s': IRI<https://www.biomedit.ch/rdf/sphn-schema/sphn/LabTestEvent/38/patients/16451476/LabResult>, 'p': IRI<http://www.w3.org/1999/02/22-rdf-syntax-ns#type>, 'o': IRI<https://www.biomedit.ch/rdf/sphn-schema/sphn/LabResult>}\n",
      "{'s': IRI<https://www.biomedit.ch/rdf/sphn-schema/sphn/LabTestEvent/38/patients/16451476/LabResult>, 'p': IRI<https://www.biomedit.ch/rdf/sphn-schema/sphn/hasCode>, 'o': IRI<https://www.biomedit.ch/rdf/sphn-schema/sphn/d_labitems/52069>}\n",
      "{'s': IRI<https://www.biomedit.ch/rdf/sphn-schema/sphn/LabTestEvent/18/patients/10886219/LabResult>, 'p': IRI<http://www.w3.org/1999/02/22-rdf-syntax-ns#type>, 'o': IRI<https://www.biomedit.ch/rdf/sphn-schema/sphn/LabResult>}\n",
      "{'s': IRI<https://www.biomedit.ch/rdf/sphn-schema/sphn/LabTestEvent/18/patients/10886219/LabResult>, 'p': IRI<https://www.biomedit.ch/rdf/sphn-schema/sphn/hasCode>, 'o': IRI<https://www.biomedit.ch/rdf/sphn-schema/sphn/d_labitems/51249>}\n",
      "{'s': IRI<https://www.biomedit.ch/rdf/sphn-schema/sphn/LabTestEvent/24/patients/13228928/LabResult>, 'p': IRI<http://www.w3.org/1999/02/22-rdf-syntax-ns#type>, 'o': IRI<https://www.biomedit.ch/rdf/sphn-schema/sphn/LabResult>}\n",
      "{'s': IRI<https://www.biomedit.ch/rdf/sphn-schema/sphn/LabTestEvent/24/patients/13228928/LabResult>, 'p': IRI<https://www.biomedit.ch/rdf/sphn-schema/sphn/hasCode>, 'o': IRI<https://www.biomedit.ch/rdf/sphn-schema/sphn/d_labitems/52172>}\n",
      "{'s': IRI<https://www.biomedit.ch/rdf/sphn-schema/sphn/DrugPrescription/10/patients/10886219/Drug>, 'p': IRI<http://www.w3.org/1999/02/22-rdf-syntax-ns#type>, 'o': IRI<https://www.biomedit.ch/rdf/sphn-schema/sphn/Drug>}\n",
      "{'s': IRI<https://www.biomedit.ch/rdf/sphn-schema/sphn/DrugPrescription/10/patients/10886219/Drug>, 'p': IRI<https://www.biomedit.ch/rdf/sphn-schema/sphn/hasActiveIngredient>, 'o': IRI<https://www.biomedit.ch/rdf/sphn-schema/sphn/DrugPrescription/10/patients/10886219/Substance>}\n",
      "{'s': IRI<https://www.biomedit.ch/rdf/sphn-schema/sphn/LabTestEvent/0/patients/17767787/LabResult>, 'p': IRI<http://www.w3.org/1999/02/22-rdf-syntax-ns#type>, 'o': IRI<https://www.biomedit.ch/rdf/sphn-schema/sphn/LabResult>}\n",
      "{'s': IRI<https://www.biomedit.ch/rdf/sphn-schema/sphn/LabTestEvent/0/patients/17767787/LabResult>, 'p': IRI<https://www.biomedit.ch/rdf/sphn-schema/sphn/hasCode>, 'o': IRI<https://www.biomedit.ch/rdf/sphn-schema/sphn/d_labitems/51237>}\n",
      "{'s': IRI<https://www.biomedit.ch/rdf/sphn-schema/sphn/LabTestEvent/36/patients/19021878/LabResult>, 'p': IRI<http://www.w3.org/1999/02/22-rdf-syntax-ns#type>, 'o': IRI<https://www.biomedit.ch/rdf/sphn-schema/sphn/LabResult>}\n",
      "{'s': IRI<https://www.biomedit.ch/rdf/sphn-schema/sphn/LabTestEvent/36/patients/19021878/LabResult>, 'p': IRI<https://www.biomedit.ch/rdf/sphn-schema/sphn/hasCode>, 'o': IRI<https://www.biomedit.ch/rdf/sphn-schema/sphn/d_labitems/50878>}\n",
      "{'s': IRI<https://www.biomedit.ch/rdf/sphn-schema/sphn/LabTestEvent/58/patients/13103745/LabResult>, 'p': IRI<http://www.w3.org/1999/02/22-rdf-syntax-ns#type>, 'o': IRI<https://www.biomedit.ch/rdf/sphn-schema/sphn/LabResult>}\n",
      "{'s': IRI<https://www.biomedit.ch/rdf/sphn-schema/sphn/LabTestEvent/58/patients/13103745/LabResult>, 'p': IRI<https://www.biomedit.ch/rdf/sphn-schema/sphn/hasCode>, 'o': IRI<https://www.biomedit.ch/rdf/sphn-schema/sphn/d_labitems/51484>}\n",
      "{'s': IRI<https://www.biomedit.ch/rdf/sphn-schema/sphn/DrugPrescription/14/patients/17798591/Drug>, 'p': IRI<http://www.w3.org/1999/02/22-rdf-syntax-ns#type>, 'o': IRI<https://www.biomedit.ch/rdf/sphn-schema/sphn/Drug>}\n",
      "{'s': IRI<https://www.biomedit.ch/rdf/sphn-schema/sphn/DrugPrescription/14/patients/17798591/Drug>, 'p': IRI<https://www.biomedit.ch/rdf/sphn-schema/sphn/hasActiveIngredient>, 'o': IRI<https://www.biomedit.ch/rdf/sphn-schema/sphn/DrugPrescription/14/patients/17798591/Substance>}\n",
      "{'s': IRI<https://www.biomedit.ch/rdf/sphn-schema/sphn/LabTestEvent/3/patients/12476304/LabResult>, 'p': IRI<http://www.w3.org/1999/02/22-rdf-syntax-ns#type>, 'o': IRI<https://www.biomedit.ch/rdf/sphn-schema/sphn/LabResult>}\n",
      "{'s': IRI<https://www.biomedit.ch/rdf/sphn-schema/sphn/LabTestEvent/3/patients/12476304/LabResult>, 'p': IRI<https://www.biomedit.ch/rdf/sphn-schema/sphn/hasCode>, 'o': IRI<https://www.biomedit.ch/rdf/sphn-schema/sphn/d_labitems/51221>}\n",
      "{'s': IRI<https://www.biomedit.ch/rdf/sphn-schema/sphn/LabTestEvent/56/patients/14756995/LabResult>, 'p': IRI<http://www.w3.org/1999/02/22-rdf-syntax-ns#type>, 'o': IRI<https://www.biomedit.ch/rdf/sphn-schema/sphn/LabResult>}\n",
      "{'s': IRI<https://www.biomedit.ch/rdf/sphn-schema/sphn/LabTestEvent/56/patients/14756995/LabResult>, 'p': IRI<https://www.biomedit.ch/rdf/sphn-schema/sphn/hasCode>, 'o': IRI<https://www.biomedit.ch/rdf/sphn-schema/sphn/d_labitems/50998>}\n",
      "{'s': IRI<https://www.biomedit.ch/rdf/sphn-schema/sphn/DrugPrescription/20/patients/12605265/Substance>, 'p': IRI<http://www.w3.org/1999/02/22-rdf-syntax-ns#type>, 'o': IRI<https://www.biomedit.ch/rdf/sphn-schema/sphn/Substance>}\n",
      "{'s': IRI<https://www.biomedit.ch/rdf/sphn-schema/sphn/DrugPrescription/20/patients/12605265/Substance>, 'p': IRI<https://www.biomedit.ch/rdf/sphn-schema/sphn/hasCode>, 'o': IRI<https://www.biomedit.ch/rdf/sphn-schema/sphn/ndc#597007575>}\n",
      "{'s': IRI<https://www.biomedit.ch/rdf/sphn-schema/sphn/DrugPrescription/12/patients/19339132/Substance>, 'p': IRI<http://www.w3.org/1999/02/22-rdf-syntax-ns#type>, 'o': IRI<https://www.biomedit.ch/rdf/sphn-schema/sphn/Substance>}\n",
      "{'s': IRI<https://www.biomedit.ch/rdf/sphn-schema/sphn/DrugPrescription/12/patients/19339132/Substance>, 'p': IRI<https://www.biomedit.ch/rdf/sphn-schema/sphn/hasCode>, 'o': IRI<https://www.biomedit.ch/rdf/sphn-schema/sphn/ndc#51079010520>}\n",
      "{'s': IRI<https://www.biomedit.ch/rdf/sphn-schema/sphn/DrugPrescription/1/patients/10118493/Substance>, 'p': IRI<http://www.w3.org/1999/02/22-rdf-syntax-ns#type>, 'o': IRI<https://www.biomedit.ch/rdf/sphn-schema/sphn/Substance>}\n",
      "{'s': IRI<https://www.biomedit.ch/rdf/sphn-schema/sphn/DrugPrescription/1/patients/10118493/Substance>, 'p': IRI<https://www.biomedit.ch/rdf/sphn-schema/sphn/hasCode>, 'o': IRI<https://www.biomedit.ch/rdf/sphn-schema/sphn/ndc#76014000410>}\n"
     ]
    }
   ],
   "source": [
    "# If a query is executable, this will return a list of dictionaries that contain\n",
    "# results. \n",
    "\n",
    "\n",
    "# set path = False to give a query as a string directly.\n",
    "example = query_executor.query(\"\"\"\n",
    "                     SELECT *\n",
    "WHERE { ?s ?p ?o . }\n",
    "LIMIT 100\n",
    "\"\"\", path=False).data()\n",
    "print(\"Example query results:\")\n",
    "for item in example:\n",
    "    print(item)\n"
   ]
  },
  {
   "cell_type": "markdown",
   "id": "3843ff7c",
   "metadata": {},
   "source": [
    "### Queries that are not executable\n",
    "If a query is not executable, the code will throw an MilleniumDBError. The error will also say what it thinks is wrong with the query. Example below."
   ]
  },
  {
   "cell_type": "code",
   "execution_count": 6,
   "id": "0a737d13",
   "metadata": {},
   "outputs": [
    {
     "name": "stdout",
     "output_type": "stream",
     "text": [
      ">>> Query being sent to MillenniumDB:\n",
      " \n",
      "                     SELECT *.\n",
      "WHERE { ?s ?p ?o . }\n",
      "\n"
     ]
    },
    {
     "ename": "ResultError",
     "evalue": "",
     "output_type": "error",
     "traceback": [
      "\u001b[31m---------------------------------------------------------------------------\u001b[39m",
      "\u001b[31mMillenniumDBError\u001b[39m                         Traceback (most recent call last)",
      "\u001b[31mMillenniumDBError\u001b[39m: Query Exception: extraneous input '.' expecting {FROM, WHERE, '{'}",
      "\nThe above exception was the direct cause of the following exception:\n",
      "\u001b[31mResultError\u001b[39m                               Traceback (most recent call last)",
      "\u001b[36mCell\u001b[39m\u001b[36m \u001b[39m\u001b[32mIn[6]\u001b[39m\u001b[32m, line 2\u001b[39m\n\u001b[32m      1\u001b[39m \u001b[38;5;66;03m# if a query is not executable, this will return an error message.\u001b[39;00m\n\u001b[32m----> \u001b[39m\u001b[32m2\u001b[39m error = \u001b[43mquery_executor\u001b[49m\u001b[43m.\u001b[49m\u001b[43mquery\u001b[49m\u001b[43m(\u001b[49m\u001b[33;43m\"\"\"\u001b[39;49m\n\u001b[32m      3\u001b[39m \u001b[33;43m                     SELECT *.\u001b[39;49m\n\u001b[32m      4\u001b[39m \u001b[33;43mWHERE \u001b[39;49m\u001b[33;43m{\u001b[39;49m\u001b[33;43m ?s ?p ?o . }\u001b[39;49m\n\u001b[32m      5\u001b[39m \u001b[33;43m\"\"\"\u001b[39;49m\u001b[43m,\u001b[49m\u001b[43m \u001b[49m\u001b[43mpath\u001b[49m\u001b[43m=\u001b[49m\u001b[38;5;28;43;01mFalse\u001b[39;49;00m\u001b[43m)\u001b[49m\n",
      "\u001b[36mFile \u001b[39m\u001b[32m~/Code/university/phkg/MAI_Project_PHKG/src/pipeline/query_engine_component.py:96\u001b[39m, in \u001b[36mQueryExecutorStep.query\u001b[39m\u001b[34m(self, query, path)\u001b[39m\n\u001b[32m     94\u001b[39m         \u001b[38;5;28;01mreturn\u001b[39;00m \u001b[38;5;28mself\u001b[39m.mdb_server_query_path(query)\n\u001b[32m     95\u001b[39m     \u001b[38;5;28;01melse\u001b[39;00m:\n\u001b[32m---> \u001b[39m\u001b[32m96\u001b[39m         \u001b[38;5;28;01mreturn\u001b[39;00m \u001b[38;5;28;43mself\u001b[39;49m\u001b[43m.\u001b[49m\u001b[43mmdb_server_query\u001b[49m\u001b[43m(\u001b[49m\u001b[43mquery\u001b[49m\u001b[43m)\u001b[49m\n\u001b[32m     97\u001b[39m \u001b[38;5;28;01mcase\u001b[39;00m \u001b[33m\"\u001b[39m\u001b[33mavantgraph\u001b[39m\u001b[33m\"\u001b[39m:\n\u001b[32m     98\u001b[39m     \u001b[38;5;28;01mif\u001b[39;00m path:\n",
      "\u001b[36mFile \u001b[39m\u001b[32m~/Code/university/phkg/MAI_Project_PHKG/src/pipeline/query_engine_component.py:115\u001b[39m, in \u001b[36mQueryExecutorStep.mdb_server_query\u001b[39m\u001b[34m(self, query)\u001b[39m\n\u001b[32m    113\u001b[39m driver = millenniumdb_driver.driver(url)\n\u001b[32m    114\u001b[39m session = driver.session()\n\u001b[32m--> \u001b[39m\u001b[32m115\u001b[39m result = \u001b[43msession\u001b[49m\u001b[43m.\u001b[49m\u001b[43mrun\u001b[49m\u001b[43m(\u001b[49m\u001b[43mquery\u001b[49m\u001b[43m)\u001b[49m\n\u001b[32m    116\u001b[39m \u001b[38;5;28;01mreturn\u001b[39;00m result\n",
      "\u001b[36mFile \u001b[39m\u001b[32m~/.local/lib/python3.13/site-packages/millenniumdb_driver/session.py:21\u001b[39m, in \u001b[36m_ensure_session_open.<locals>.wrapper\u001b[39m\u001b[34m(self, *args, **kwargs)\u001b[39m\n\u001b[32m     19\u001b[39m \u001b[38;5;28;01mif\u001b[39;00m \u001b[38;5;129;01mnot\u001b[39;00m \u001b[38;5;28mself\u001b[39m._open:\n\u001b[32m     20\u001b[39m     \u001b[38;5;28;01mraise\u001b[39;00m MillenniumDBError(\u001b[33m\"\u001b[39m\u001b[33mSession Error: session is closed\u001b[39m\u001b[33m\"\u001b[39m)\n\u001b[32m---> \u001b[39m\u001b[32m21\u001b[39m \u001b[38;5;28;01mreturn\u001b[39;00m \u001b[43mfunc\u001b[49m\u001b[43m(\u001b[49m\u001b[38;5;28;43mself\u001b[39;49m\u001b[43m,\u001b[49m\u001b[43m \u001b[49m\u001b[43m*\u001b[49m\u001b[43margs\u001b[49m\u001b[43m,\u001b[49m\u001b[43m \u001b[49m\u001b[43m*\u001b[49m\u001b[43m*\u001b[49m\u001b[43mkwargs\u001b[49m\u001b[43m)\u001b[49m\n",
      "\u001b[36mFile \u001b[39m\u001b[32m~/.local/lib/python3.13/site-packages/millenniumdb_driver/session.py:44\u001b[39m, in \u001b[36mSession.run\u001b[39m\u001b[34m(self, query, timeout)\u001b[39m\n\u001b[32m     38\u001b[39m \u001b[38;5;129m@_ensure_session_open\u001b[39m\n\u001b[32m     39\u001b[39m \u001b[38;5;28;01mdef\u001b[39;00m\u001b[38;5;250m \u001b[39m\u001b[34mrun\u001b[39m(\u001b[38;5;28mself\u001b[39m, query: \u001b[38;5;28mstr\u001b[39m, timeout: \u001b[38;5;28mfloat\u001b[39m = \u001b[32m0.0\u001b[39m) -> Result:\n\u001b[32m     40\u001b[39m \u001b[38;5;250m    \u001b[39m\u001b[33;03m\"\"\"\u001b[39;00m\n\u001b[32m     41\u001b[39m \u001b[33;03m    Run a query on the server.\u001b[39;00m\n\u001b[32m     42\u001b[39m \u001b[33;03m    :return: The result of the query.\u001b[39;00m\n\u001b[32m     43\u001b[39m \u001b[33;03m    \"\"\"\u001b[39;00m\n\u001b[32m---> \u001b[39m\u001b[32m44\u001b[39m     \u001b[38;5;28;01mreturn\u001b[39;00m \u001b[43mResult\u001b[49m\u001b[43m(\u001b[49m\n\u001b[32m     45\u001b[39m \u001b[43m        \u001b[49m\u001b[38;5;28;43mself\u001b[39;49m\u001b[43m.\u001b[49m\u001b[43m_driver\u001b[49m\u001b[43m,\u001b[49m\n\u001b[32m     46\u001b[39m \u001b[43m        \u001b[49m\u001b[38;5;28;43mself\u001b[39;49m\u001b[43m.\u001b[49m\u001b[43m_connection\u001b[49m\u001b[43m,\u001b[49m\n\u001b[32m     47\u001b[39m \u001b[43m        \u001b[49m\u001b[38;5;28;43mself\u001b[39;49m\u001b[43m.\u001b[49m\u001b[43m_message_receiver\u001b[49m\u001b[43m,\u001b[49m\n\u001b[32m     48\u001b[39m \u001b[43m        \u001b[49m\u001b[38;5;28;43mself\u001b[39;49m\u001b[43m.\u001b[49m\u001b[43m_response_handler\u001b[49m\u001b[43m,\u001b[49m\n\u001b[32m     49\u001b[39m \u001b[43m        \u001b[49m\u001b[43mquery\u001b[49m\u001b[43m,\u001b[49m\n\u001b[32m     50\u001b[39m \u001b[43m        \u001b[49m\u001b[43mtimeout\u001b[49m\u001b[43m,\u001b[49m\n\u001b[32m     51\u001b[39m \u001b[43m    \u001b[49m\u001b[43m)\u001b[49m\n",
      "\u001b[36mFile \u001b[39m\u001b[32m~/.local/lib/python3.13/site-packages/millenniumdb_driver/result.py:38\u001b[39m, in \u001b[36mResult.__init__\u001b[39m\u001b[34m(self, driver, connection, message_receiver, response_handler, query, timeout)\u001b[39m\n\u001b[32m     36\u001b[39m \u001b[38;5;28mself\u001b[39m._message_receiver = message_receiver\n\u001b[32m     37\u001b[39m \u001b[38;5;28mself\u001b[39m._response_handler = response_handler\n\u001b[32m---> \u001b[39m\u001b[32m38\u001b[39m \u001b[38;5;28;43mself\u001b[39;49m\u001b[43m.\u001b[49m\u001b[43m_run\u001b[49m\u001b[43m(\u001b[49m\u001b[43mquery\u001b[49m\u001b[43m,\u001b[49m\u001b[43m \u001b[49m\u001b[43mtimeout\u001b[49m\u001b[43m)\u001b[49m\n",
      "\u001b[36mFile \u001b[39m\u001b[32m~/.local/lib/python3.13/site-packages/millenniumdb_driver/result.py:118\u001b[39m, in \u001b[36mResult._run\u001b[39m\u001b[34m(self, query, timeout)\u001b[39m\n\u001b[32m    116\u001b[39m \u001b[38;5;66;03m# on_variables\u001b[39;00m\n\u001b[32m    117\u001b[39m message = \u001b[38;5;28mself\u001b[39m._message_receiver.receive()\n\u001b[32m--> \u001b[39m\u001b[32m118\u001b[39m \u001b[38;5;28;43mself\u001b[39;49m\u001b[43m.\u001b[49m\u001b[43m_response_handler\u001b[49m\u001b[43m.\u001b[49m\u001b[43mhandle\u001b[49m\u001b[43m(\u001b[49m\u001b[43mmessage\u001b[49m\u001b[43m)\u001b[49m\n\u001b[32m    120\u001b[39m \u001b[38;5;66;03m# on_record / on_success\u001b[39;00m\n\u001b[32m    121\u001b[39m raw_records, termination_message = \u001b[38;5;28mself\u001b[39m._message_receiver.receive_records()\n",
      "\u001b[36mFile \u001b[39m\u001b[32m~/.local/lib/python3.13/site-packages/millenniumdb_driver/response_handler.py:29\u001b[39m, in \u001b[36mResponseHandler.handle\u001b[39m\u001b[34m(self, message)\u001b[39m\n\u001b[32m     26\u001b[39m     \u001b[38;5;28mself\u001b[39m._next_observer()\n\u001b[32m     28\u001b[39m \u001b[38;5;28;01mcase\u001b[39;00m protocol.ResponseType.ERROR:\n\u001b[32m---> \u001b[39m\u001b[32m29\u001b[39m     \u001b[38;5;28;43mself\u001b[39;49m\u001b[43m.\u001b[49m\u001b[43m_callback\u001b[49m\u001b[43m(\u001b[49m\u001b[33;43m\"\u001b[39;49m\u001b[33;43mon_error\u001b[39;49m\u001b[33;43m\"\u001b[39;49m\u001b[43m,\u001b[49m\u001b[43m \u001b[49m\u001b[43mMillenniumDBError\u001b[49m\u001b[43m(\u001b[49m\u001b[43mmessage\u001b[49m\u001b[43m[\u001b[49m\u001b[33;43m\"\u001b[39;49m\u001b[33;43mpayload\u001b[39;49m\u001b[33;43m\"\u001b[39;49m\u001b[43m]\u001b[49m\u001b[43m)\u001b[49m\u001b[43m)\u001b[49m\n\u001b[32m     30\u001b[39m     \u001b[38;5;28mself\u001b[39m._next_observer()\n\u001b[32m     32\u001b[39m \u001b[38;5;28;01mcase\u001b[39;00m protocol.ResponseType.VARIABLES:\n",
      "\u001b[36mFile \u001b[39m\u001b[32m~/.local/lib/python3.13/site-packages/millenniumdb_driver/response_handler.py:64\u001b[39m, in \u001b[36mResponseHandler._callback\u001b[39m\u001b[34m(self, callback_key, *args, **kwargs)\u001b[39m\n\u001b[32m     54\u001b[39m \u001b[38;5;250m\u001b[39m\u001b[33;03m\"\"\"\u001b[39;00m\n\u001b[32m     55\u001b[39m \u001b[33;03mCall the observer with the given key and arguments.\u001b[39;00m\n\u001b[32m     56\u001b[39m \n\u001b[32m     57\u001b[39m \u001b[33;03m:param callback_key: The key of the observer to call.\u001b[39;00m\n\u001b[32m     58\u001b[39m \u001b[33;03m:type callback_key: str\u001b[39;00m\n\u001b[32m     59\u001b[39m \u001b[33;03m\"\"\"\u001b[39;00m\n\u001b[32m     60\u001b[39m \u001b[38;5;28;01mif\u001b[39;00m (\n\u001b[32m     61\u001b[39m     \u001b[38;5;28mself\u001b[39m._current_observer \u001b[38;5;129;01mis\u001b[39;00m \u001b[38;5;129;01mnot\u001b[39;00m \u001b[38;5;28;01mNone\u001b[39;00m\n\u001b[32m     62\u001b[39m     \u001b[38;5;129;01mand\u001b[39;00m callback_key \u001b[38;5;129;01min\u001b[39;00m \u001b[38;5;28mself\u001b[39m._current_observer\n\u001b[32m     63\u001b[39m ):\n\u001b[32m---> \u001b[39m\u001b[32m64\u001b[39m     \u001b[38;5;28;43mself\u001b[39;49m\u001b[43m.\u001b[49m\u001b[43m_current_observer\u001b[49m\u001b[43m[\u001b[49m\u001b[43mcallback_key\u001b[49m\u001b[43m]\u001b[49m\u001b[43m(\u001b[49m\u001b[43m*\u001b[49m\u001b[43margs\u001b[49m\u001b[43m,\u001b[49m\u001b[43m \u001b[49m\u001b[43m*\u001b[49m\u001b[43m*\u001b[49m\u001b[43mkwargs\u001b[49m\u001b[43m)\u001b[49m\n",
      "\u001b[36mFile \u001b[39m\u001b[32m~/.local/lib/python3.13/site-packages/millenniumdb_driver/result.py:106\u001b[39m, in \u001b[36mResult._run.<locals>.on_error\u001b[39m\u001b[34m(error)\u001b[39m\n\u001b[32m    104\u001b[39m \u001b[38;5;28mself\u001b[39m._streaming = \u001b[38;5;28;01mFalse\u001b[39;00m\n\u001b[32m    105\u001b[39m \u001b[38;5;28mself\u001b[39m._exception = error\n\u001b[32m--> \u001b[39m\u001b[32m106\u001b[39m \u001b[38;5;28;01mraise\u001b[39;00m ResultError(\u001b[38;5;28mself\u001b[39m) \u001b[38;5;28;01mfrom\u001b[39;00m\u001b[38;5;250m \u001b[39m\u001b[34;01mself\u001b[39;00m\u001b[34;01m.\u001b[39;00m\u001b[34;01m_exception\u001b[39;00m\n",
      "\u001b[31mResultError\u001b[39m: "
     ]
    }
   ],
   "source": [
    "# if a query is not executable, this will return an error message.\n",
    "error = query_executor.query(\"\"\"\n",
    "                     SELECT *.\n",
    "WHERE { ?s ?p ?o . }\n",
    "\"\"\", path=False)"
   ]
  },
  {
   "cell_type": "markdown",
   "id": "1a8a737a",
   "metadata": {},
   "source": [
    "When you're done with the code, you have a server and docker container running. It should be closed. You can do it as follows:"
   ]
  },
  {
   "cell_type": "code",
   "execution_count": 13,
   "id": "fc118bf4",
   "metadata": {},
   "outputs": [],
   "source": [
    "query_executor.close()"
   ]
  },
  {
   "cell_type": "markdown",
   "id": "1368e3f2",
   "metadata": {},
   "source": [
    "That's it :)"
   ]
  }
 ],
 "metadata": {
  "kernelspec": {
   "display_name": "Python 3",
   "language": "python",
   "name": "python3"
  },
  "language_info": {
   "codemirror_mode": {
    "name": "ipython",
    "version": 3
   },
   "file_extension": ".py",
   "mimetype": "text/x-python",
   "name": "python",
   "nbconvert_exporter": "python",
   "pygments_lexer": "ipython3",
   "version": "3.13.3"
  }
 },
 "nbformat": 4,
 "nbformat_minor": 5
}
