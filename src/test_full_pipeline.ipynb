{
 "cells": [
  {
   "cell_type": "code",
   "execution_count": 1,
   "id": "83bc11fd",
   "metadata": {},
   "outputs": [
    {
     "name": "stderr",
     "output_type": "stream",
     "text": [
      "/home/mathiasyap/.local/lib/python3.13/site-packages/tqdm/auto.py:21: TqdmWarning: IProgress not found. Please update jupyter and ipywidgets. See https://ipywidgets.readthedocs.io/en/stable/user_install.html\n",
      "  from .autonotebook import tqdm as notebook_tqdm\n"
     ]
    },
    {
     "name": "stdout",
     "output_type": "stream",
     "text": [
      "4.52.4\n"
     ]
    }
   ],
   "source": [
    "from pipeline import pipelines\n",
    "from pipeline import mdb_validated_generation\n",
    "from pipeline.context.context_constructor import context_constructor\n",
    "from tqdm.autonotebook import tqdm as notebook_tqdm\n",
    "import traceback\n",
    "def run_validated_pipeline(data: list[dict]):\n",
    "\n",
    "    context_component = context_constructor(construct_vector_store=True, example_queries_file=\"/home/mathiasyap/Code/university/phkg/MAI_Project_PHKG/src/data/question_query_pairs_examples.yaml\")\n",
    "    generate_execute_component = mdb_validated_generation.MDBValidatedGeneration(model_name = \"meta-llama/Llama-3.2-1B-Instruct\")\n",
    "    val_pipeline  = pipelines.InitialPipeline([context_component,generate_execute_component])\n",
    "    val_pipeline.initialize()\n",
    "    results = []\n",
    "    for entry in notebook_tqdm(data):\n",
    "        try: \n",
    "\n",
    "            result = val_pipeline.run(entry, natural_language_question=entry[\"natural_language_question\"],\n",
    "                                                              sparql_is_path=False)\n",
    "            # print(\"LLM Result with context:\", result_llm_with_context['query'])\n",
    "\n",
    "            results.append(result)\n",
    "        except Exception as ex:\n",
    "            traceback.print_exc()\n",
    "\n",
    "        finally:\n",
    "            try:\n",
    "                val_pipeline.close()\n",
    "            except Exception as e:\n",
    "                print(f\"Error while closing pipeline: {e}\")\n",
    "        return results"
   ]
  },
  {
   "cell_type": "code",
   "execution_count": 2,
   "id": "acfda009",
   "metadata": {},
   "outputs": [
    {
     "name": "stdout",
     "output_type": "stream",
     "text": [
      "['mdb:latest']\n",
      "['docker-aseprite:latest']\n",
      "['ghcr.io/avantlab/avantgraph:openaire-transport']\n",
      "['ghcr.io/avantlab/avantgraph:openaire-energy']\n",
      "['ghcr.io/avantlab/avantgraph:openaire-neuro']\n",
      "['ghcr.io/avantlab/avantgraph:openaire-cancer']\n",
      "['hello-world:latest']\n",
      "['ghcr.io/avantlab/avantgraph:ckg']\n",
      "['ghcr.io/avantlab/avantgraph:release-2024-01-31']\n",
      "Using device: cpu\n"
     ]
    },
    {
     "name": "stderr",
     "output_type": "stream",
     "text": [
      "  0%|          | 0/1 [00:00<?, ?it/s]"
     ]
    },
    {
     "name": "stdout",
     "output_type": "stream",
     "text": [
      "data after context:  {'natural_language_question': 'Which patients have been diagnosed with I521?', 'prompt_examples': 'Question: Which patients have been diagnosed with I428?\\nQuery template: SELECT ?patient WHERE { ?patient <https://www.biomedit.ch/rdf/sphn-schema/sphn/hasDiagnosis> ?diag . ?diag <https://www.biomedit.ch/rdf/sphn-schema/sphn/hasCode> ?code . ?code <https://www.biomedit.ch/rdf/sphn-schema/sphn/hasCodeValue> §Diagnosis§ . }\\nFilled in query: SELECT ?patient WHERE { ?patient <https://www.biomedit.ch/rdf/sphn-schema/sphn/hasDiagnosis> ?diag . ?diag <https://www.biomedit.ch/rdf/sphn-schema/sphn/hasCode> ?code . ?code <https://www.biomedit.ch/rdf/sphn-schema/sphn/hasCodeValue> \"I428\" . }\\n\\nQuestion: Which patients have been diagnosed with I739 or I452\\nQuery template: SELECT ?patient WHERE { { ?patient <https://www.biomedit.ch/rdf/sphn-schema/sphn/hasDiagnosis> ?diag . ?diag <https://www.biomedit.ch/rdf/sphn-schema/sphn/hasCode> ?code . ?code <https://www.biomedit.ch/rdf/sphn-schema/sphn/hasCodeValue> §Diagnosis1§ .} UNION { ?patient <https://www.biomedit.ch/rdf/sphn-schema/sphn/hasDiagnosis> ?diag . ?diag <https://www.biomedit.ch/rdf/sphn-schema/sphn/hasCode> ?code . ?code <https://www.biomedit.ch/rdf/sphn-schema/sphn/hasCodeValue> §Diagnosis2§ . } }\\nFilled in query: SELECT ?patient WHERE { { ?patient <https://www.biomedit.ch/rdf/sphn-schema/sphn/hasDiagnosis> ?diag . ?diag <https://www.biomedit.ch/rdf/sphn-schema/sphn/hasCode> ?code . ?code <https://www.biomedit.ch/rdf/sphn-schema/sphn/hasCodeValue> \"I739\" .} UNION { ?patient <https://www.biomedit.ch/rdf/sphn-schema/sphn/hasDiagnosis> ?diag . ?diag <https://www.biomedit.ch/rdf/sphn-schema/sphn/hasCode> ?code . ?code <https://www.biomedit.ch/rdf/sphn-schema/sphn/hasCodeValue> \"I452\" . } }\\n\\nQuestion: Which patients have taken M01AE01?\\nQuery template: ?patient WHERE { ?presc <https://www.biomedit.ch/rdf/sphn-schema/sphn/hasSubjectPseudoIdentifier> ?patient . ?presc <https://www.biomedit.ch/rdf/sphn-schema/sphn/hasDrug> ?drug . ?drug <https://www.biomedit.ch/rdf/sphn-schema/sphn/hasCode> ?code . ?code <https://www.biomedit.ch/rdf/sphn-schema/sphn/hasCodeValue> §Drug§ }\\nFilled in query: ?patient WHERE { ?presc <https://www.biomedit.ch/rdf/sphn-schema/sphn/hasSubjectPseudoIdentifier> ?patient . ?presc <https://www.biomedit.ch/rdf/sphn-schema/sphn/hasDrug> ?drug . ?drug <https://www.biomedit.ch/rdf/sphn-schema/sphn/hasCode> ?code . ?code <https://www.biomedit.ch/rdf/sphn-schema/sphn/hasCodeValue> \"M01AE01\" }\\n', 'found_template': {'query_example': 'SELECT ?patient WHERE { ?patient <https://www.biomedit.ch/rdf/sphn-schema/sphn/hasDiagnosis> ?diag . ?diag <https://www.biomedit.ch/rdf/sphn-schema/sphn/hasCode> ?code . ?code <https://www.biomedit.ch/rdf/sphn-schema/sphn/hasCodeValue> \"I428\" . }', 'query_template': 'SELECT ?patient WHERE { ?patient <https://www.biomedit.ch/rdf/sphn-schema/sphn/hasDiagnosis> ?diag . ?diag <https://www.biomedit.ch/rdf/sphn-schema/sphn/hasCode> ?code . ?code <https://www.biomedit.ch/rdf/sphn-schema/sphn/hasCodeValue> §Diagnosis§ . }', 'question_example': 'Which patients have been diagnosed with I428?', 'question_template': 'Which patients have been diagnosed with §Diagnosis§?', 'question_placeholders': [], 'query_placeholders': [], 'score': np.float32(182.40573)}, 'relevant_classes': 'Class IRI: []\\nClass IRI: []'}\n",
      "prompt filled in: \n",
      "Task: Modify a query template into a SPARQL SELECT statement for querying a graph database.\n",
      "For instance, given the templates below, their corresponding sparql query below in backticks would be suitable:\n",
      "```\n",
      "Question: Which patients have been diagnosed with I428?\n",
      "Query template: SELECT ?patient WHERE { ?patient <https://www.biomedit.ch/rdf/sphn-schema/sphn/hasDiagnosis> ?diag . ?diag <https://www.biomedit.ch/rdf/sphn-schema/sphn/hasCode> ?code . ?code <https://www.biomedit.ch/rdf/sphn-schema/sphn/hasCodeValue> §Diagnosis§ . }\n",
      "Filled in query: SELECT ?patient WHERE { ?patient <https://www.biomedit.ch/rdf/sphn-schema/sphn/hasDiagnosis> ?diag . ?diag <https://www.biomedit.ch/rdf/sphn-schema/sphn/hasCode> ?code . ?code <https://www.biomedit.ch/rdf/sphn-schema/sphn/hasCodeValue> \"I428\" . }\n",
      "\n",
      "Question: Which patients have been diagnosed with I739 or I452\n",
      "Query template: SELECT ?patient WHERE { { ?patient <https://www.biomedit.ch/rdf/sphn-schema/sphn/hasDiagnosis> ?diag . ?diag <https://www.biomedit.ch/rdf/sphn-schema/sphn/hasCode> ?code . ?code <https://www.biomedit.ch/rdf/sphn-schema/sphn/hasCodeValue> §Diagnosis1§ .} UNION { ?patient <https://www.biomedit.ch/rdf/sphn-schema/sphn/hasDiagnosis> ?diag . ?diag <https://www.biomedit.ch/rdf/sphn-schema/sphn/hasCode> ?code . ?code <https://www.biomedit.ch/rdf/sphn-schema/sphn/hasCodeValue> §Diagnosis2§ . } }\n",
      "Filled in query: SELECT ?patient WHERE { { ?patient <https://www.biomedit.ch/rdf/sphn-schema/sphn/hasDiagnosis> ?diag . ?diag <https://www.biomedit.ch/rdf/sphn-schema/sphn/hasCode> ?code . ?code <https://www.biomedit.ch/rdf/sphn-schema/sphn/hasCodeValue> \"I739\" .} UNION { ?patient <https://www.biomedit.ch/rdf/sphn-schema/sphn/hasDiagnosis> ?diag . ?diag <https://www.biomedit.ch/rdf/sphn-schema/sphn/hasCode> ?code . ?code <https://www.biomedit.ch/rdf/sphn-schema/sphn/hasCodeValue> \"I452\" . } }\n",
      "\n",
      "Question: Which patients have taken M01AE01?\n",
      "Query template: ?patient WHERE { ?presc <https://www.biomedit.ch/rdf/sphn-schema/sphn/hasSubjectPseudoIdentifier> ?patient . ?presc <https://www.biomedit.ch/rdf/sphn-schema/sphn/hasDrug> ?drug . ?drug <https://www.biomedit.ch/rdf/sphn-schema/sphn/hasCode> ?code . ?code <https://www.biomedit.ch/rdf/sphn-schema/sphn/hasCodeValue> §Drug§ }\n",
      "Filled in query: ?patient WHERE { ?presc <https://www.biomedit.ch/rdf/sphn-schema/sphn/hasSubjectPseudoIdentifier> ?patient . ?presc <https://www.biomedit.ch/rdf/sphn-schema/sphn/hasDrug> ?drug . ?drug <https://www.biomedit.ch/rdf/sphn-schema/sphn/hasCode> ?code . ?code <https://www.biomedit.ch/rdf/sphn-schema/sphn/hasCodeValue> \"M01AE01\" }\n",
      "\n",
      "```\n",
      "\n",
      "Keep in mind that you might need to fill in several classes in order to provide the correct answer. \n",
      "\n",
      "Instructions:\n",
      "You are provided a query template and list of classes of entities that you can use. Replace the words enclosed with the symbol \"§\" by an IRI for an entity of that class.\n",
      "Do not edit anything in the template query except the classes enclosed in the symbol \"§\". \n",
      "Use only entities of the class types provided with the question.\n",
      "Do not use any class types that are not specifically provided.\n",
      "Include all necessary prefixes and relations.\n",
      "\n",
      "Note: Be as concise as possible.\n",
      "Do not include any explanations or apologies in your responses.\n",
      "Do not respond to any questions that ask for anything else than for you to construct a SPARQL query.\n",
      "Do not include any text except for the SPARQL query generated \n",
      "\n",
      "The question is:\n",
      "Which patients have been diagnosed with I521?\n",
      "The relevant query template is:\n",
      "{'query_example': 'SELECT ?patient WHERE { ?patient <https://www.biomedit.ch/rdf/sphn-schema/sphn/hasDiagnosis> ?diag . ?diag <https://www.biomedit.ch/rdf/sphn-schema/sphn/hasCode> ?code . ?code <https://www.biomedit.ch/rdf/sphn-schema/sphn/hasCodeValue> \"I428\" . }', 'query_template': 'SELECT ?patient WHERE { ?patient <https://www.biomedit.ch/rdf/sphn-schema/sphn/hasDiagnosis> ?diag . ?diag <https://www.biomedit.ch/rdf/sphn-schema/sphn/hasCode> ?code . ?code <https://www.biomedit.ch/rdf/sphn-schema/sphn/hasCodeValue> §Diagnosis§ . }', 'question_example': 'Which patients have been diagnosed with I428?', 'question_template': 'Which patients have been diagnosed with §Diagnosis§?', 'question_placeholders': [], 'query_placeholders': [], 'score': np.float32(182.40573)}\n",
      "The list of classes of entities you may use is:\n",
      "Class IRI: []\n",
      "Class IRI: []\n",
      "Fill in the template.\n",
      "\n"
     ]
    },
    {
     "name": "stderr",
     "output_type": "stream",
     "text": [
      "Device set to use cpu\n",
      "Setting `pad_token_id` to `eos_token_id`:128001 for open-end generation.\n"
     ]
    },
    {
     "name": "stdout",
     "output_type": "stream",
     "text": [
      "\n",
      "🧠 Attempt 0: Executing query...\n",
      "{'query_example': 'SELECT?patient WHERE {?patient <https://www.biomedit.ch/rdf/sphn-schema/sphn/hasDiagnosis>?diag.?diag <https://www.biomedit.ch/rdf/sphn-schema/sphn/hasCode>?code.?code <https://www.biomedit.ch/rdf/sphn/schema/sphn/hasCodeValue> \"I521\". }', 'query_template': 'SELECT?patient WHERE {?patient <https://www.biomedit.ch/rdf/sphn/schema/sphn/hasDiagnosis>?diag.?diag <https://www.biomedit.ch/rdf/sphn/schema/sphn/hasCode>?code.?code <https://www.biomedit.ch/rdf/sphn/schema/sphn/hasCodeValue> §Diagnosis§. }', 'question_example': 'Which patients have been diagnosed with I521?', 'question_template': 'Which patients have been diagnosed with §Diagnosis§?', 'question_placeholders': [], 'query_placeholders': [],'score': np.float32(182.40573)}\n",
      "\n"
     ]
    },
    {
     "name": "stderr",
     "output_type": "stream",
     "text": [
      "Device set to use cpu\n",
      "Setting `pad_token_id` to `eos_token_id`:128001 for open-end generation.\n"
     ]
    },
    {
     "name": "stdout",
     "output_type": "stream",
     "text": [
      "\n",
      "🧠 Attempt 1: Executing query...\n",
      "```python\n",
      "{\n",
      "    'query_example': 'SELECT?patient WHERE {?patient <https://www.biomedit.ch/rdf/sphn/schema/sphn/hasDiagnosis>?diag.?diag <https://www.biomedit.ch/rdf/sphn/schema/sphn/hasCode>?code.?code <https://www.biomedit.ch/rdf/sphn/schema/sphn/hasCodeValue> \"I521\".} WHERE?patient <https://www.biomedit.ch/rdf/sphn/schema/sphn/hasDiagnosis>?diag.?diag <https://www.biomedit.ch/rdf/sphn/schema/sphn/hasCode>?code.?code <https://www.biomedit.ch/rdf/sphn/schema/sphn/hasCodeValue> §Diagnosis§.},\n",
      "    'query_template': 'SELECT?patient WHERE {?patient <https://www.biomedit.ch/rdf/sphn/schema/sphn/hasDiagnosis>?diag.?diag <https://www.biomedit.ch/rdf/sphn/schema/sphn/hasCode>?code.?code <https://www.biomedit.ch/rdf/sphn/schema/sphn/hasCodeValue> §Diagnosis§.} WHERE?patient <https://www.biomedit.ch/rdf/sphn/schema/sphn/hasDiagnosis>?diag.?diag <https://www.biomedit.ch/rdf/sphn/schema/sphn/hasCode>?code.?code <https://www.biomedit.ch/rdf/sphn/schema/sphn/hasCodeValue> §Diagnosis§.},\n",
      "    'question_example': 'Which patients have been diagnosed with I521?', \n",
      "    'question_template': 'SELECT?patient WHERE {?patient <https://www.biomedit.ch/rdf/sphn/schema/sphn/hasDiagnosis>?diag.?diag <https://www.biomedit.ch/rdf/sphn/schema/sphn/hasCode>?code.?code <https://www.biomedit.ch/rdf/sphn/schema/sphn/hasCodeValue> \"I521\".} WHERE?patient <https://www.biomedit.ch/rdf/sphn/schema/sphn/hasDiagnosis>?diag.?diag <https://www.biomedit.ch/rdf/sphn/schema/sphn/hasCode>?code.?code <https://\n",
      "\n"
     ]
    },
    {
     "name": "stderr",
     "output_type": "stream",
     "text": [
      "Device set to use cpu\n",
      "Setting `pad_token_id` to `eos_token_id`:128001 for open-end generation.\n"
     ]
    },
    {
     "name": "stdout",
     "output_type": "stream",
     "text": [
      "\n",
      "🧠 Attempt 2: Executing query...\n",
      "```python\n",
      "{\n",
      "    'query_example': 'SELECT?patient WHERE {?patient <https://www.biomedit.ch/rdf/sphn/schema/sphn/hasDiagnosis>?diag.?diag <https://www.biomedit.ch/rdf/sphn/schema/sphn/hasCode>?code.?code <https://www.biomedit.ch/rdf/sphn/schema/sphn/hasCodeValue> \"I521\".} WHERE?patient <https://www.biomedit.ch/rdf/sphn/schema/sphn/hasDiagnosis>?diag.?diag <https://www.biomedit.ch/rdf/sphn/schema/sphn/hasCode>?code.?code <https://www.biomedit.ch/rdf/sphn/schema/sphn/hasCodeValue> §Diagnosis§.} \n",
      "    'query_template': 'SELECT?patient WHERE {?patient <https://www.biomedit.ch/rdf/sphn/schema/sphn/hasDiagnosis>?diag.?diag <https://www.biomedit.ch/rdf/sphn/schema/sphn/hasCode>?code.?code <https://www.biomedit.ch/rdf/sphn/schema/sphn/hasCodeValue> \"I521\".} WHERE?patient <https://www.biomedit.ch/rdf/sphn/schema/sphn/hasDiagnosis>?diag.?diag <https://www.biomedit.ch/rdf/sphn/schema/sphn/hasCode>?code.?code <https://www.biomedit.ch/rdf/sphn/schema/sphn/hasCodeValue> §Diagnosis§.} \n",
      "    'question_example': 'Which patients have been diagnosed with I521?', \n",
      "    'question_template': 'SELECT?patient WHERE {?patient <https://www.biomedit.ch/rdf/sphn/schema/sphn/hasDiagnosis>?diag.?diag <https://www.biomedit.ch/rdf/sphn/schema/sphn/hasCode>?code.?code <https://www.biomedit.ch/rdf/sphn/schema/sphn/hasCodeValue> \"I521\".} WHERE?patient <https://www.biomedit.ch/rdf/sphn/schema/sphn/hasDiagnosis>?diag.?diag <https://www.biomedit.ch/rdf/sphn/schema/sphn/hasCode>?code.?code <https\n",
      "\n"
     ]
    },
    {
     "name": "stderr",
     "output_type": "stream",
     "text": [
      "Device set to use cpu\n",
      "Setting `pad_token_id` to `eos_token_id`:128001 for open-end generation.\n",
      "  0%|          | 0/1 [03:53<?, ?it/s]"
     ]
    },
    {
     "name": "stdout",
     "output_type": "stream",
     "text": [
      "\n",
      "🧠 Attempt 3: Executing query...\n",
      "```python\n",
      "{\n",
      "    'query_example': 'SELECT?patient WHERE {?patient <https://www.biomedit.ch/rdf/sphn/schema/sphn/hasDiagnosis>?diag.?diag <https://www.biomedit.ch/rdf/sphn/schema/sphn/hasCode>?code.?code <https://www.biomedit.ch/rdf/sphn/schema/sphn/hasCodeValue> \"I521\".} WHERE?patient <https://www.biomedit.ch/rdf/sphn/schema/sphn/hasDiagnosis>?diag.?diag <https://www.biomedit.ch/rdf/sphn/schema/sphn/hasCode>?code.?code <https://www.biomedit.ch/rdf/sphn/schema/sphn/hasCodeValue> §Diagnosis§.} LIMIT 10} \n",
      "    'query_template': 'SELECT?patient WHERE {?patient <https://www.biomedit.ch/rdf/sphn/schema/sphn/hasDiagnosis>?diag.?diag <https://www.biomedit.ch/rdf/sphn/schema/sphn/hasCode>?code.?code <https://www.biomedit.ch/rdf/sphn/schema/sphn/hasCodeValue> \"I521\".} WHERE?patient <https://www.biomedit.ch/rdf/sphn/schema/sphn/hasDiagnosis>?diag.?diag <https://www.biomedit.ch/rdf/sphn/schema/sphn/hasCode>?code.?code <https://www.biomedit.ch/rdf/sphn/schema/sphn/hasCodeValue> §Diagnosis§.} LIMIT 10} \n",
      "    'question_example': 'Which patients have been diagnosed with I521?', \n",
      "    'question_template': 'SELECT?patient WHERE {?patient <https://www.biomedit.ch/rdf/sphn/schema/sphn/hasDiagnosis>?diag.?diag <https://www.biomedit.ch/rdf/sphn/schema/sphn/hasCode>?code.?code <https://www.biomedit.ch/rdf/sphn/schema/sphn/hasCodeValue> \"I521\".} WHERE?patient <https://www.biomedit.ch/rdf/sphn/schema/sphn/hasDiagnosis>?diag.?diag <https://www.biomedit.ch/rdf/sphn/schema/sphn/\n",
      "\n",
      "❌ Maximum attempts reached. Unable to generate a valid query.\n",
      "Failed query: ```python\n",
      "{\n",
      "    'query_example': 'SELECT?patient WHERE {?patient <https://www.biomedit.ch/rdf/sphn/schema/sphn/hasDiagnosis>?diag.?diag <https://www.biomedit.ch/rdf/sphn/schema/sphn/hasCode>?code.?code <https://www.biomedit.ch/rdf/sphn/schema/sphn/hasCodeValue> \"I521\".} WHERE?patient <https://www.biomedit.ch/rdf/sphn/schema/sphn/hasDiagnosis>?diag.?diag <https://www.biomedit.ch/rdf/sphn/schema/sphn/hasCode>?code.?code <https://www.biomedit.ch/rdf/sphn/schema/sphn/hasCodeValue> §Diagnosis§.} LIMIT 10} \n",
      "    'query_template': 'SELECT?patient WHERE {?patient <https://www.biomedit.ch/rdf/sphn/schema/sphn/hasDiagnosis>?diag.?diag <https://www.biomedit.ch/rdf/sphn/schema/sphn/hasCode>?code.?code <https://www.biomedit.ch/rdf/sphn/schema/sphn/hasCodeValue> \"I521\".} WHERE?patient <https://www.biomedit.ch/rdf/sphn/schema/sphn/hasDiagnosis>?diag.?diag <https://www.biomedit.ch/rdf/sphn/schema/sphn/hasCode>?code.?code <https://www.biomedit.ch/rdf/sphn/schema/sphn/hasCodeValue> §Diagnosis§.} LIMIT 10} \n",
      "    'question_example': 'Which patients have been diagnosed with I521?', \n",
      "    'question_template': 'SELECT?patient WHERE {?patient <https://www.biomedit.ch/rdf/sphn/schema/sphn/hasDiagnosis>?diag.?diag <https://www.biomedit.ch/rdf/sphn/schema/sphn/hasCode>?code.?code <https://www.biomedit.ch/rdf/sphn/schema/sphn/hasCodeValue> \"I521\".} WHERE?patient <https://www.biomedit.ch/rdf/sphn/schema/sphn/hasDiagnosis>?diag.?diag <https://www.biomedit.ch/rdf/sphn/schema/sphn/\n",
      "Error message:  mismatched input '`' expecting {BASE, PREFIX, SELECT, CONSTRUCT, DESCRIBE, ASK, SHOW}\n"
     ]
    },
    {
     "name": "stderr",
     "output_type": "stream",
     "text": [
      "\n"
     ]
    }
   ],
   "source": [
    "data =[]\n",
    "entry = {}\n",
    "entry[\"natural_language_question\"] = \"Which patients have been diagnosed with I521?\"\n",
    "data.append(entry)\n",
    "data_try = run_validated_pipeline(\n",
    "        data\n",
    ")"
   ]
  },
  {
   "cell_type": "code",
   "execution_count": null,
   "id": "3098caa9",
   "metadata": {},
   "outputs": [
    {
     "data": {
      "text/plain": [
       "{'natural_language_question': 'Which patients have been diagnosed with I521?',\n",
       " 'prompt_examples': 'Question: Which patients have been diagnosed with I428?\\nQuery template: SELECT ?patient WHERE { ?patient <https://www.biomedit.ch/rdf/sphn-schema/sphn/hasDiagnosis> ?diag . ?diag <https://www.biomedit.ch/rdf/sphn-schema/sphn/hasCode> ?code . ?code <https://www.biomedit.ch/rdf/sphn-schema/sphn/hasCodeValue> §Diagnosis§ . }\\nFilled in query: SELECT ?patient WHERE { ?patient <https://www.biomedit.ch/rdf/sphn-schema/sphn/hasDiagnosis> ?diag . ?diag <https://www.biomedit.ch/rdf/sphn-schema/sphn/hasCode> ?code . ?code <https://www.biomedit.ch/rdf/sphn-schema/sphn/hasCodeValue> \"I428\" . }\\n\\nQuestion: Which patients have been diagnosed with I739 or I452\\nQuery template: SELECT ?patient WHERE { { ?patient <https://www.biomedit.ch/rdf/sphn-schema/sphn/hasDiagnosis> ?diag . ?diag <https://www.biomedit.ch/rdf/sphn-schema/sphn/hasCode> ?code . ?code <https://www.biomedit.ch/rdf/sphn-schema/sphn/hasCodeValue> §Diagnosis1§ .} UNION { ?patient <https://www.biomedit.ch/rdf/sphn-schema/sphn/hasDiagnosis> ?diag . ?diag <https://www.biomedit.ch/rdf/sphn-schema/sphn/hasCode> ?code . ?code <https://www.biomedit.ch/rdf/sphn-schema/sphn/hasCodeValue> §Diagnosis2§ . } }\\nFilled in query: SELECT ?patient WHERE { { ?patient <https://www.biomedit.ch/rdf/sphn-schema/sphn/hasDiagnosis> ?diag . ?diag <https://www.biomedit.ch/rdf/sphn-schema/sphn/hasCode> ?code . ?code <https://www.biomedit.ch/rdf/sphn-schema/sphn/hasCodeValue> \"I739\" .} UNION { ?patient <https://www.biomedit.ch/rdf/sphn-schema/sphn/hasDiagnosis> ?diag . ?diag <https://www.biomedit.ch/rdf/sphn-schema/sphn/hasCode> ?code . ?code <https://www.biomedit.ch/rdf/sphn-schema/sphn/hasCodeValue> \"I452\" . } }\\n\\nQuestion: Which patients have taken M01AE01?\\nQuery template: ?patient WHERE { ?presc <https://www.biomedit.ch/rdf/sphn-schema/sphn/hasSubjectPseudoIdentifier> ?patient . ?presc <https://www.biomedit.ch/rdf/sphn-schema/sphn/hasDrug> ?drug . ?drug <https://www.biomedit.ch/rdf/sphn-schema/sphn/hasCode> ?code . ?code <https://www.biomedit.ch/rdf/sphn-schema/sphn/hasCodeValue> §Drug§ }\\nFilled in query: ?patient WHERE { ?presc <https://www.biomedit.ch/rdf/sphn-schema/sphn/hasSubjectPseudoIdentifier> ?patient . ?presc <https://www.biomedit.ch/rdf/sphn-schema/sphn/hasDrug> ?drug . ?drug <https://www.biomedit.ch/rdf/sphn-schema/sphn/hasCode> ?code . ?code <https://www.biomedit.ch/rdf/sphn-schema/sphn/hasCodeValue> \"M01AE01\" }\\n',\n",
       " 'found_template': {'query_example': 'SELECT ?patient WHERE { ?patient <https://www.biomedit.ch/rdf/sphn-schema/sphn/hasDiagnosis> ?diag . ?diag <https://www.biomedit.ch/rdf/sphn-schema/sphn/hasCode> ?code . ?code <https://www.biomedit.ch/rdf/sphn-schema/sphn/hasCodeValue> \"I428\" . }',\n",
       "  'query_template': 'SELECT ?patient WHERE { ?patient <https://www.biomedit.ch/rdf/sphn-schema/sphn/hasDiagnosis> ?diag . ?diag <https://www.biomedit.ch/rdf/sphn-schema/sphn/hasCode> ?code . ?code <https://www.biomedit.ch/rdf/sphn-schema/sphn/hasCodeValue> §Diagnosis§ . }',\n",
       "  'question_example': 'Which patients have been diagnosed with I428?',\n",
       "  'question_template': 'Which patients have been diagnosed with §Diagnosis§?',\n",
       "  'question_placeholders': [],\n",
       "  'query_placeholders': [],\n",
       "  'score': np.float32(182.40573)},\n",
       " 'relevant_classes': 'Class IRI: []\\nClass IRI: []',\n",
       " 'validation_time': [56.8190381526947, 64.77440142631531, 66.87210035324097],\n",
       " 'valid_query': False,\n",
       " 'query': '```python\\n{\\n    \\'query_example\\': \\'SELECT?patient WHERE {?patient <https://www.biomedit.ch/rdf/sphn/schema/sphn/hasDiagnosis>?diag.?diag <https://www.biomedit.ch/rdf/sphn/schema/sphn/hasCode>?code.?code <https://www.biomedit.ch/rdf/sphn/schema/sphn/hasCodeValue> \"I521\".} WHERE?patient <https://www.biomedit.ch/rdf/sphn/schema/sphn/hasDiagnosis>?diag.?diag <https://www.biomedit.ch/rdf/sphn/schema/sphn/hasCode>?code.?code <https://www.biomedit.ch/rdf/sphn/schema/sphn/hasCodeValue> §Diagnosis§.} LIMIT 10} \\n    \\'query_template\\': \\'SELECT?patient WHERE {?patient <https://www.biomedit.ch/rdf/sphn/schema/sphn/hasDiagnosis>?diag.?diag <https://www.biomedit.ch/rdf/sphn/schema/sphn/hasCode>?code.?code <https://www.biomedit.ch/rdf/sphn/schema/sphn/hasCodeValue> \"I521\".} WHERE?patient <https://www.biomedit.ch/rdf/sphn/schema/sphn/hasDiagnosis>?diag.?diag <https://www.biomedit.ch/rdf/sphn/schema/sphn/hasCode>?code.?code <https://www.biomedit.ch/rdf/sphn/schema/sphn/hasCodeValue> §Diagnosis§.} LIMIT 10} \\n    \\'question_example\\': \\'Which patients have been diagnosed with I521?\\', \\n    \\'question_template\\': \\'SELECT?patient WHERE {?patient <https://www.biomedit.ch/rdf/sphn/schema/sphn/hasDiagnosis>?diag.?diag <https://www.biomedit.ch/rdf/sphn/schema/sphn/hasCode>?code.?code <https://www.biomedit.ch/rdf/sphn/schema/sphn/hasCodeValue> \"I521\".} WHERE?patient <https://www.biomedit.ch/rdf/sphn/schema/sphn/hasDiagnosis>?diag.?diag <https://www.biomedit.ch/rdf/sphn/schema/sphn/',\n",
       " 'attempts': 3,\n",
       " 'initial_query_time': 40.30517339706421,\n",
       " 'total_time': 233.46947312355042}"
      ]
     },
     "execution_count": 6,
     "metadata": {},
     "output_type": "execute_result"
    }
   ],
   "source": [
    "data_try[0]"
   ]
  },
  {
   "cell_type": "code",
   "execution_count": 7,
   "id": "a9845493",
   "metadata": {},
   "outputs": [
    {
     "data": {
      "text/plain": [
       "'```python\\n{\\n    \\'query_example\\': \\'SELECT?patient WHERE {?patient <https://www.biomedit.ch/rdf/sphn/schema/sphn/hasDiagnosis>?diag.?diag <https://www.biomedit.ch/rdf/sphn/schema/sphn/hasCode>?code.?code <https://www.biomedit.ch/rdf/sphn/schema/sphn/hasCodeValue> \"I521\".} WHERE?patient <https://www.biomedit.ch/rdf/sphn/schema/sphn/hasDiagnosis>?diag.?diag <https://www.biomedit.ch/rdf/sphn/schema/sphn/hasCode>?code.?code <https://www.biomedit.ch/rdf/sphn/schema/sphn/hasCodeValue> §Diagnosis§.} LIMIT 10} \\n    \\'query_template\\': \\'SELECT?patient WHERE {?patient <https://www.biomedit.ch/rdf/sphn/schema/sphn/hasDiagnosis>?diag.?diag <https://www.biomedit.ch/rdf/sphn/schema/sphn/hasCode>?code.?code <https://www.biomedit.ch/rdf/sphn/schema/sphn/hasCodeValue> \"I521\".} WHERE?patient <https://www.biomedit.ch/rdf/sphn/schema/sphn/hasDiagnosis>?diag.?diag <https://www.biomedit.ch/rdf/sphn/schema/sphn/hasCode>?code.?code <https://www.biomedit.ch/rdf/sphn/schema/sphn/hasCodeValue> §Diagnosis§.} LIMIT 10} \\n    \\'question_example\\': \\'Which patients have been diagnosed with I521?\\', \\n    \\'question_template\\': \\'SELECT?patient WHERE {?patient <https://www.biomedit.ch/rdf/sphn/schema/sphn/hasDiagnosis>?diag.?diag <https://www.biomedit.ch/rdf/sphn/schema/sphn/hasCode>?code.?code <https://www.biomedit.ch/rdf/sphn/schema/sphn/hasCodeValue> \"I521\".} WHERE?patient <https://www.biomedit.ch/rdf/sphn/schema/sphn/hasDiagnosis>?diag.?diag <https://www.biomedit.ch/rdf/sphn/schema/sphn/'"
      ]
     },
     "execution_count": 7,
     "metadata": {},
     "output_type": "execute_result"
    }
   ],
   "source": [
    "data_try[0]['query']"
   ]
  },
  {
   "cell_type": "code",
   "execution_count": 4,
   "id": "b21faa1e",
   "metadata": {},
   "outputs": [
    {
     "name": "stdout",
     "output_type": "stream",
     "text": [
      "[{'natural_language_question': 'Which patients have been diagnosed with I521?', 'prompt_examples': 'Question: Which patients have been diagnosed with I428?\\nQuery template: SELECT ?patient WHERE { ?patient <https://www.biomedit.ch/rdf/sphn-schema/sphn/hasDiagnosis> ?diag . ?diag <https://www.biomedit.ch/rdf/sphn-schema/sphn/hasCode> ?code . ?code <https://www.biomedit.ch/rdf/sphn-schema/sphn/hasCodeValue> §Diagnosis§ . }\\nFilled in query: SELECT ?patient WHERE { ?patient <https://www.biomedit.ch/rdf/sphn-schema/sphn/hasDiagnosis> ?diag . ?diag <https://www.biomedit.ch/rdf/sphn-schema/sphn/hasCode> ?code . ?code <https://www.biomedit.ch/rdf/sphn-schema/sphn/hasCodeValue> \"I428\" . }\\n\\nQuestion: Which patients have been diagnosed with I739 or I452\\nQuery template: SELECT ?patient WHERE { { ?patient <https://www.biomedit.ch/rdf/sphn-schema/sphn/hasDiagnosis> ?diag . ?diag <https://www.biomedit.ch/rdf/sphn-schema/sphn/hasCode> ?code . ?code <https://www.biomedit.ch/rdf/sphn-schema/sphn/hasCodeValue> §Diagnosis1§ .} UNION { ?patient <https://www.biomedit.ch/rdf/sphn-schema/sphn/hasDiagnosis> ?diag . ?diag <https://www.biomedit.ch/rdf/sphn-schema/sphn/hasCode> ?code . ?code <https://www.biomedit.ch/rdf/sphn-schema/sphn/hasCodeValue> §Diagnosis2§ . } }\\nFilled in query: SELECT ?patient WHERE { { ?patient <https://www.biomedit.ch/rdf/sphn-schema/sphn/hasDiagnosis> ?diag . ?diag <https://www.biomedit.ch/rdf/sphn-schema/sphn/hasCode> ?code . ?code <https://www.biomedit.ch/rdf/sphn-schema/sphn/hasCodeValue> \"I739\" .} UNION { ?patient <https://www.biomedit.ch/rdf/sphn-schema/sphn/hasDiagnosis> ?diag . ?diag <https://www.biomedit.ch/rdf/sphn-schema/sphn/hasCode> ?code . ?code <https://www.biomedit.ch/rdf/sphn-schema/sphn/hasCodeValue> \"I452\" . } }\\n\\nQuestion: Which patients have taken M01AE01?\\nQuery template: ?patient WHERE { ?presc <https://www.biomedit.ch/rdf/sphn-schema/sphn/hasSubjectPseudoIdentifier> ?patient . ?presc <https://www.biomedit.ch/rdf/sphn-schema/sphn/hasDrug> ?drug . ?drug <https://www.biomedit.ch/rdf/sphn-schema/sphn/hasCode> ?code . ?code <https://www.biomedit.ch/rdf/sphn-schema/sphn/hasCodeValue> §Drug§ }\\nFilled in query: ?patient WHERE { ?presc <https://www.biomedit.ch/rdf/sphn-schema/sphn/hasSubjectPseudoIdentifier> ?patient . ?presc <https://www.biomedit.ch/rdf/sphn-schema/sphn/hasDrug> ?drug . ?drug <https://www.biomedit.ch/rdf/sphn-schema/sphn/hasCode> ?code . ?code <https://www.biomedit.ch/rdf/sphn-schema/sphn/hasCodeValue> \"M01AE01\" }\\n', 'found_template': {'query_example': 'SELECT ?patient WHERE { ?patient <https://www.biomedit.ch/rdf/sphn-schema/sphn/hasDiagnosis> ?diag . ?diag <https://www.biomedit.ch/rdf/sphn-schema/sphn/hasCode> ?code . ?code <https://www.biomedit.ch/rdf/sphn-schema/sphn/hasCodeValue> \"I428\" . }', 'query_template': 'SELECT ?patient WHERE { ?patient <https://www.biomedit.ch/rdf/sphn-schema/sphn/hasDiagnosis> ?diag . ?diag <https://www.biomedit.ch/rdf/sphn-schema/sphn/hasCode> ?code . ?code <https://www.biomedit.ch/rdf/sphn-schema/sphn/hasCodeValue> §Diagnosis§ . }', 'question_example': 'Which patients have been diagnosed with I428?', 'question_template': 'Which patients have been diagnosed with §Diagnosis§?', 'question_placeholders': [], 'query_placeholders': [], 'score': np.float32(182.40573)}, 'relevant_classes': 'Class IRI: []\\nClass IRI: []', 'validation_time': [56.8190381526947, 64.77440142631531, 66.87210035324097], 'valid_query': False, 'query': '```python\\n{\\n    \\'query_example\\': \\'SELECT?patient WHERE {?patient <https://www.biomedit.ch/rdf/sphn/schema/sphn/hasDiagnosis>?diag.?diag <https://www.biomedit.ch/rdf/sphn/schema/sphn/hasCode>?code.?code <https://www.biomedit.ch/rdf/sphn/schema/sphn/hasCodeValue> \"I521\".} WHERE?patient <https://www.biomedit.ch/rdf/sphn/schema/sphn/hasDiagnosis>?diag.?diag <https://www.biomedit.ch/rdf/sphn/schema/sphn/hasCode>?code.?code <https://www.biomedit.ch/rdf/sphn/schema/sphn/hasCodeValue> §Diagnosis§.} LIMIT 10} \\n    \\'query_template\\': \\'SELECT?patient WHERE {?patient <https://www.biomedit.ch/rdf/sphn/schema/sphn/hasDiagnosis>?diag.?diag <https://www.biomedit.ch/rdf/sphn/schema/sphn/hasCode>?code.?code <https://www.biomedit.ch/rdf/sphn/schema/sphn/hasCodeValue> \"I521\".} WHERE?patient <https://www.biomedit.ch/rdf/sphn/schema/sphn/hasDiagnosis>?diag.?diag <https://www.biomedit.ch/rdf/sphn/schema/sphn/hasCode>?code.?code <https://www.biomedit.ch/rdf/sphn/schema/sphn/hasCodeValue> §Diagnosis§.} LIMIT 10} \\n    \\'question_example\\': \\'Which patients have been diagnosed with I521?\\', \\n    \\'question_template\\': \\'SELECT?patient WHERE {?patient <https://www.biomedit.ch/rdf/sphn/schema/sphn/hasDiagnosis>?diag.?diag <https://www.biomedit.ch/rdf/sphn/schema/sphn/hasCode>?code.?code <https://www.biomedit.ch/rdf/sphn/schema/sphn/hasCodeValue> \"I521\".} WHERE?patient <https://www.biomedit.ch/rdf/sphn/schema/sphn/hasDiagnosis>?diag.?diag <https://www.biomedit.ch/rdf/sphn/schema/sphn/', 'attempts': 3, 'initial_query_time': 40.30517339706421, 'total_time': 233.46947312355042}]\n"
     ]
    }
   ],
   "source": [
    "print(data_try)"
   ]
  }
 ],
 "metadata": {
  "kernelspec": {
   "display_name": "Python 3",
   "language": "python",
   "name": "python3"
  },
  "language_info": {
   "codemirror_mode": {
    "name": "ipython",
    "version": 3
   },
   "file_extension": ".py",
   "mimetype": "text/x-python",
   "name": "python",
   "nbconvert_exporter": "python",
   "pygments_lexer": "ipython3",
   "version": "3.13.3"
  }
 },
 "nbformat": 4,
 "nbformat_minor": 5
}
