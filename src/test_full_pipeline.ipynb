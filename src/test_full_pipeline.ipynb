{
 "cells": [
  {
   "cell_type": "code",
   "execution_count": 1,
   "id": "83bc11fd",
   "metadata": {},
   "outputs": [
    {
     "name": "stderr",
     "output_type": "stream",
     "text": [
      "/home/mathiasyap/.local/lib/python3.13/site-packages/tqdm/auto.py:21: TqdmWarning: IProgress not found. Please update jupyter and ipywidgets. See https://ipywidgets.readthedocs.io/en/stable/user_install.html\n",
      "  from .autonotebook import tqdm as notebook_tqdm\n"
     ]
    },
    {
     "name": "stdout",
     "output_type": "stream",
     "text": [
      "4.52.4\n"
     ]
    }
   ],
   "source": [
    "from pipeline import pipelines\n",
    "from pipeline import mdb_validated_generation\n",
    "from pipeline.context.context_constructor import context_constructor\n",
    "from tqdm.autonotebook import tqdm as notebook_tqdm\n",
    "import traceback\n",
    "def run_validated_pipeline(data: list[dict]):\n",
    "\n",
    "    context_component = context_constructor(construct_vector_store=True, example_queries_file=\"/home/mathiasyap/Code/university/phkg/MAI_Project_PHKG/src/data/question_queries.yaml\")\n",
    "    generate_execute_component = mdb_validated_generation.MDBValidatedGeneration(model_name = \"gpt-4o-mini\")\n",
    "    val_pipeline  = pipelines.InitialPipeline([context_component,generate_execute_component])\n",
    "    val_pipeline.initialize()\n",
    "    results = []\n",
    "    for entry in notebook_tqdm(data):\n",
    "        try: \n",
    "\n",
    "            result = val_pipeline.run(entry, natural_language_question=entry[\"natural_language_question\"],\n",
    "                                                              sparql_is_path=False)\n",
    "            # print(\"LLM Result with context:\", result_llm_with_context['query'])\n",
    "\n",
    "            results.append(result)\n",
    "        except Exception as ex:\n",
    "            traceback.print_exc()\n",
    "\n",
    "        finally:\n",
    "            try:\n",
    "                val_pipeline.close()\n",
    "            except Exception as e:\n",
    "                print(f\"Error while closing pipeline: {e}\")\n",
    "    return results"
   ]
  },
  {
   "cell_type": "markdown",
   "id": "9d9b3b57",
   "metadata": {},
   "source": [
    "Data prep:"
   ]
  },
  {
   "cell_type": "code",
   "execution_count": 2,
   "id": "cac78549",
   "metadata": {},
   "outputs": [],
   "source": [
    "import pandas as pd\n",
    "test_set_df =  pd.read_csv(\"/home/mathiasyap/Code/university/phkg/MAI_Project_PHKG/src/test_set.csv\")\n",
    "data = [{'natural_language_question': row['question']} for _,row in test_set_df.iterrows()]\n"
   ]
  },
  {
   "cell_type": "markdown",
   "id": "d26a3ea5",
   "metadata": {},
   "source": [
    "Running and saving test set:"
   ]
  },
  {
   "cell_type": "code",
   "execution_count": 3,
   "id": "acfda009",
   "metadata": {},
   "outputs": [
    {
     "name": "stdout",
     "output_type": "stream",
     "text": [
      "['mdb:latest']\n",
      "['docker-aseprite:latest']\n",
      "['ghcr.io/avantlab/avantgraph:openaire-transport']\n",
      "['ghcr.io/avantlab/avantgraph:openaire-energy']\n",
      "['ghcr.io/avantlab/avantgraph:openaire-neuro']\n",
      "['ghcr.io/avantlab/avantgraph:openaire-cancer']\n",
      "['hello-world:latest']\n",
      "['ghcr.io/avantlab/avantgraph:ckg']\n",
      "['ghcr.io/avantlab/avantgraph:release-2024-01-31']\n"
     ]
    },
    {
     "name": "stderr",
     "output_type": "stream",
     "text": [
      "  0%|          | 1/269 [00:14<1:04:32, 14.45s/it]"
     ]
    },
    {
     "name": "stdout",
     "output_type": "stream",
     "text": [
      "Cost (USD): $0.000204\n"
     ]
    },
    {
     "name": "stderr",
     "output_type": "stream",
     "text": [
      "  1%|          | 2/269 [00:29<1:05:35, 14.74s/it]"
     ]
    },
    {
     "name": "stdout",
     "output_type": "stream",
     "text": [
      "Cost (USD): $0.000228\n"
     ]
    },
    {
     "name": "stderr",
     "output_type": "stream",
     "text": [
      "  1%|          | 3/269 [00:43<1:04:31, 14.56s/it]"
     ]
    },
    {
     "name": "stdout",
     "output_type": "stream",
     "text": [
      "Cost (USD): $0.000190\n"
     ]
    },
    {
     "name": "stderr",
     "output_type": "stream",
     "text": [
      "  1%|▏         | 4/269 [00:56<1:01:45, 13.98s/it]"
     ]
    },
    {
     "name": "stdout",
     "output_type": "stream",
     "text": [
      "Cost (USD): $0.000238\n"
     ]
    },
    {
     "name": "stderr",
     "output_type": "stream",
     "text": [
      "  2%|▏         | 5/269 [01:11<1:02:24, 14.18s/it]"
     ]
    },
    {
     "name": "stdout",
     "output_type": "stream",
     "text": [
      "Cost (USD): $0.000190\n"
     ]
    },
    {
     "name": "stderr",
     "output_type": "stream",
     "text": [
      "  2%|▏         | 6/269 [01:23<59:30, 13.57s/it]  "
     ]
    },
    {
     "name": "stdout",
     "output_type": "stream",
     "text": [
      "Cost (USD): $0.000190\n"
     ]
    },
    {
     "name": "stderr",
     "output_type": "stream",
     "text": [
      "  3%|▎         | 7/269 [01:36<57:52, 13.26s/it]"
     ]
    },
    {
     "name": "stdout",
     "output_type": "stream",
     "text": [
      "Cost (USD): $0.000189\n"
     ]
    },
    {
     "name": "stderr",
     "output_type": "stream",
     "text": [
      "  3%|▎         | 8/269 [01:47<55:19, 12.72s/it]"
     ]
    },
    {
     "name": "stdout",
     "output_type": "stream",
     "text": [
      "Cost (USD): $0.000189\n"
     ]
    },
    {
     "name": "stderr",
     "output_type": "stream",
     "text": [
      "  3%|▎         | 9/269 [01:59<54:09, 12.50s/it]"
     ]
    },
    {
     "name": "stdout",
     "output_type": "stream",
     "text": [
      "Cost (USD): $0.000190\n"
     ]
    },
    {
     "name": "stderr",
     "output_type": "stream",
     "text": [
      "  4%|▎         | 10/269 [02:13<55:24, 12.84s/it]"
     ]
    },
    {
     "name": "stdout",
     "output_type": "stream",
     "text": [
      "Cost (USD): $0.000315\n"
     ]
    },
    {
     "name": "stderr",
     "output_type": "stream",
     "text": [
      "  4%|▍         | 11/269 [02:25<54:42, 12.72s/it]"
     ]
    },
    {
     "name": "stdout",
     "output_type": "stream",
     "text": [
      "Cost (USD): $0.000190\n"
     ]
    },
    {
     "name": "stderr",
     "output_type": "stream",
     "text": [
      "  4%|▍         | 12/269 [02:39<55:17, 12.91s/it]"
     ]
    },
    {
     "name": "stdout",
     "output_type": "stream",
     "text": [
      "Cost (USD): $0.000190\n"
     ]
    },
    {
     "name": "stderr",
     "output_type": "stream",
     "text": [
      "  5%|▍         | 13/269 [02:52<55:04, 12.91s/it]"
     ]
    },
    {
     "name": "stdout",
     "output_type": "stream",
     "text": [
      "Cost (USD): $0.000189\n"
     ]
    },
    {
     "name": "stderr",
     "output_type": "stream",
     "text": [
      "  5%|▌         | 14/269 [03:05<55:22, 13.03s/it]"
     ]
    },
    {
     "name": "stdout",
     "output_type": "stream",
     "text": [
      "Cost (USD): $0.000189\n"
     ]
    },
    {
     "name": "stderr",
     "output_type": "stream",
     "text": [
      "  6%|▌         | 15/269 [03:18<54:51, 12.96s/it]"
     ]
    },
    {
     "name": "stdout",
     "output_type": "stream",
     "text": [
      "Cost (USD): $0.000238\n"
     ]
    },
    {
     "name": "stderr",
     "output_type": "stream",
     "text": [
      "  6%|▌         | 16/269 [03:32<55:44, 13.22s/it]"
     ]
    },
    {
     "name": "stdout",
     "output_type": "stream",
     "text": [
      "Cost (USD): $0.000189\n"
     ]
    },
    {
     "name": "stderr",
     "output_type": "stream",
     "text": [
      "  6%|▋         | 17/269 [03:44<53:49, 12.81s/it]"
     ]
    },
    {
     "name": "stdout",
     "output_type": "stream",
     "text": [
      "Cost (USD): $0.000189\n"
     ]
    },
    {
     "name": "stderr",
     "output_type": "stream",
     "text": [
      "  7%|▋         | 18/269 [03:56<53:08, 12.71s/it]"
     ]
    },
    {
     "name": "stdout",
     "output_type": "stream",
     "text": [
      "Cost (USD): $0.000190\n"
     ]
    },
    {
     "name": "stderr",
     "output_type": "stream",
     "text": [
      "  7%|▋         | 19/269 [04:10<54:00, 12.96s/it]"
     ]
    },
    {
     "name": "stdout",
     "output_type": "stream",
     "text": [
      "Cost (USD): $0.000189\n"
     ]
    },
    {
     "name": "stderr",
     "output_type": "stream",
     "text": [
      "  7%|▋         | 20/269 [04:22<52:34, 12.67s/it]"
     ]
    },
    {
     "name": "stdout",
     "output_type": "stream",
     "text": [
      "Cost (USD): $0.000189\n"
     ]
    },
    {
     "name": "stderr",
     "output_type": "stream",
     "text": [
      "  8%|▊         | 21/269 [04:36<54:01, 13.07s/it]"
     ]
    },
    {
     "name": "stdout",
     "output_type": "stream",
     "text": [
      "Cost (USD): $0.000190\n"
     ]
    },
    {
     "name": "stderr",
     "output_type": "stream",
     "text": [
      "  8%|▊         | 22/269 [04:49<53:45, 13.06s/it]"
     ]
    },
    {
     "name": "stdout",
     "output_type": "stream",
     "text": [
      "Cost (USD): $0.000189\n"
     ]
    },
    {
     "name": "stderr",
     "output_type": "stream",
     "text": [
      "  9%|▊         | 23/269 [05:01<52:12, 12.73s/it]"
     ]
    },
    {
     "name": "stdout",
     "output_type": "stream",
     "text": [
      "Cost (USD): $0.000189\n"
     ]
    },
    {
     "name": "stderr",
     "output_type": "stream",
     "text": [
      "  9%|▉         | 24/269 [05:14<53:15, 13.04s/it]"
     ]
    },
    {
     "name": "stdout",
     "output_type": "stream",
     "text": [
      "Cost (USD): $0.000190\n"
     ]
    },
    {
     "name": "stderr",
     "output_type": "stream",
     "text": [
      "  9%|▉         | 25/269 [05:27<52:41, 12.96s/it]"
     ]
    },
    {
     "name": "stdout",
     "output_type": "stream",
     "text": [
      "Cost (USD): $0.000189\n"
     ]
    },
    {
     "name": "stderr",
     "output_type": "stream",
     "text": [
      " 10%|▉         | 26/269 [05:39<51:25, 12.70s/it]"
     ]
    },
    {
     "name": "stdout",
     "output_type": "stream",
     "text": [
      "Cost (USD): $0.000189\n"
     ]
    },
    {
     "name": "stderr",
     "output_type": "stream",
     "text": [
      " 10%|█         | 27/269 [05:52<51:12, 12.70s/it]"
     ]
    },
    {
     "name": "stdout",
     "output_type": "stream",
     "text": [
      "Cost (USD): $0.000190\n"
     ]
    },
    {
     "name": "stderr",
     "output_type": "stream",
     "text": [
      " 10%|█         | 28/269 [06:04<50:52, 12.67s/it]"
     ]
    },
    {
     "name": "stdout",
     "output_type": "stream",
     "text": [
      "Cost (USD): $0.000189\n"
     ]
    },
    {
     "name": "stderr",
     "output_type": "stream",
     "text": [
      " 11%|█         | 29/269 [06:16<49:21, 12.34s/it]"
     ]
    },
    {
     "name": "stdout",
     "output_type": "stream",
     "text": [
      "Cost (USD): $0.000189\n"
     ]
    },
    {
     "name": "stderr",
     "output_type": "stream",
     "text": [
      " 11%|█         | 30/269 [06:29<49:26, 12.41s/it]"
     ]
    },
    {
     "name": "stdout",
     "output_type": "stream",
     "text": [
      "Cost (USD): $0.000190\n"
     ]
    },
    {
     "name": "stderr",
     "output_type": "stream",
     "text": [
      " 12%|█▏        | 31/269 [06:44<52:30, 13.24s/it]"
     ]
    },
    {
     "name": "stdout",
     "output_type": "stream",
     "text": [
      "Cost (USD): $0.000189\n"
     ]
    },
    {
     "name": "stderr",
     "output_type": "stream",
     "text": [
      " 12%|█▏        | 32/269 [06:56<50:55, 12.89s/it]"
     ]
    },
    {
     "name": "stdout",
     "output_type": "stream",
     "text": [
      "Cost (USD): $0.000189\n"
     ]
    },
    {
     "name": "stderr",
     "output_type": "stream",
     "text": [
      " 12%|█▏        | 33/269 [07:10<51:37, 13.13s/it]"
     ]
    },
    {
     "name": "stdout",
     "output_type": "stream",
     "text": [
      "Cost (USD): $0.000190\n"
     ]
    },
    {
     "name": "stderr",
     "output_type": "stream",
     "text": [
      " 13%|█▎        | 34/269 [07:24<53:00, 13.53s/it]"
     ]
    },
    {
     "name": "stdout",
     "output_type": "stream",
     "text": [
      "Cost (USD): $0.000238\n"
     ]
    },
    {
     "name": "stderr",
     "output_type": "stream",
     "text": [
      " 13%|█▎        | 35/269 [07:38<53:07, 13.62s/it]"
     ]
    },
    {
     "name": "stdout",
     "output_type": "stream",
     "text": [
      "Cost (USD): $0.000189\n"
     ]
    },
    {
     "name": "stderr",
     "output_type": "stream",
     "text": [
      " 13%|█▎        | 36/269 [07:53<54:26, 14.02s/it]"
     ]
    },
    {
     "name": "stdout",
     "output_type": "stream",
     "text": [
      "Cost (USD): $0.000225\n"
     ]
    },
    {
     "name": "stderr",
     "output_type": "stream",
     "text": [
      " 14%|█▍        | 37/269 [08:08<55:31, 14.36s/it]"
     ]
    },
    {
     "name": "stdout",
     "output_type": "stream",
     "text": [
      "Cost (USD): $0.000238\n"
     ]
    },
    {
     "name": "stderr",
     "output_type": "stream",
     "text": [
      " 14%|█▍        | 38/269 [08:21<53:57, 14.01s/it]"
     ]
    },
    {
     "name": "stdout",
     "output_type": "stream",
     "text": [
      "Cost (USD): $0.000190\n"
     ]
    },
    {
     "name": "stderr",
     "output_type": "stream",
     "text": [
      " 14%|█▍        | 39/269 [08:36<54:26, 14.20s/it]"
     ]
    },
    {
     "name": "stdout",
     "output_type": "stream",
     "text": [
      "Cost (USD): $0.000190\n"
     ]
    },
    {
     "name": "stderr",
     "output_type": "stream",
     "text": [
      " 15%|█▍        | 40/269 [08:49<52:57, 13.88s/it]"
     ]
    },
    {
     "name": "stdout",
     "output_type": "stream",
     "text": [
      "Cost (USD): $0.000190\n"
     ]
    },
    {
     "name": "stderr",
     "output_type": "stream",
     "text": [
      " 15%|█▌        | 41/269 [09:03<52:32, 13.83s/it]"
     ]
    },
    {
     "name": "stdout",
     "output_type": "stream",
     "text": [
      "Cost (USD): $0.000190\n"
     ]
    },
    {
     "name": "stderr",
     "output_type": "stream",
     "text": [
      " 16%|█▌        | 42/269 [09:16<52:11, 13.80s/it]"
     ]
    },
    {
     "name": "stdout",
     "output_type": "stream",
     "text": [
      "Cost (USD): $0.000190\n"
     ]
    },
    {
     "name": "stderr",
     "output_type": "stream",
     "text": [
      " 16%|█▌        | 43/269 [09:31<53:09, 14.11s/it]"
     ]
    },
    {
     "name": "stdout",
     "output_type": "stream",
     "text": [
      "Cost (USD): $0.000200\n"
     ]
    },
    {
     "name": "stderr",
     "output_type": "stream",
     "text": [
      " 16%|█▋        | 44/269 [09:44<51:12, 13.65s/it]"
     ]
    },
    {
     "name": "stdout",
     "output_type": "stream",
     "text": [
      "Cost (USD): $0.000190\n"
     ]
    },
    {
     "name": "stderr",
     "output_type": "stream",
     "text": [
      " 17%|█▋        | 45/269 [09:58<51:44, 13.86s/it]"
     ]
    },
    {
     "name": "stdout",
     "output_type": "stream",
     "text": [
      "Cost (USD): $0.000190\n",
      "Cost (USD): $0.000229\n"
     ]
    },
    {
     "name": "stderr",
     "output_type": "stream",
     "text": [
      " 17%|█▋        | 46/269 [10:15<54:54, 14.77s/it]"
     ]
    },
    {
     "name": "stdout",
     "output_type": "stream",
     "text": [
      "Cost (USD): $0.000131\n",
      "Cost (USD): $0.000181\n"
     ]
    },
    {
     "name": "stderr",
     "output_type": "stream",
     "text": [
      " 17%|█▋        | 47/269 [10:32<56:54, 15.38s/it]"
     ]
    },
    {
     "name": "stdout",
     "output_type": "stream",
     "text": [
      "Cost (USD): $0.000131\n",
      "Cost (USD): $0.000181\n"
     ]
    },
    {
     "name": "stderr",
     "output_type": "stream",
     "text": [
      " 18%|█▊        | 48/269 [10:49<58:26, 15.86s/it]"
     ]
    },
    {
     "name": "stdout",
     "output_type": "stream",
     "text": [
      "Cost (USD): $0.000131\n",
      "Cost (USD): $0.000182\n"
     ]
    },
    {
     "name": "stderr",
     "output_type": "stream",
     "text": [
      " 18%|█▊        | 49/269 [11:06<59:27, 16.22s/it]"
     ]
    },
    {
     "name": "stdout",
     "output_type": "stream",
     "text": [
      "Cost (USD): $0.000131\n",
      "Cost (USD): $0.000182\n",
      "Cost (USD): $0.000130\n"
     ]
    },
    {
     "name": "stderr",
     "output_type": "stream",
     "text": [
      " 19%|█▊        | 50/269 [11:24<1:01:34, 16.87s/it]"
     ]
    },
    {
     "name": "stdout",
     "output_type": "stream",
     "text": [
      "Cost (USD): $0.000131\n",
      "Cost (USD): $0.000182\n",
      "Cost (USD): $0.000130\n"
     ]
    },
    {
     "name": "stderr",
     "output_type": "stream",
     "text": [
      " 19%|█▉        | 51/269 [11:43<1:02:53, 17.31s/it]"
     ]
    },
    {
     "name": "stdout",
     "output_type": "stream",
     "text": [
      "Cost (USD): $0.000136\n",
      "Cost (USD): $0.000182\n",
      "Cost (USD): $0.000130\n"
     ]
    },
    {
     "name": "stderr",
     "output_type": "stream",
     "text": [
      " 19%|█▉        | 52/269 [12:01<1:03:29, 17.56s/it]"
     ]
    },
    {
     "name": "stdout",
     "output_type": "stream",
     "text": [
      "Cost (USD): $0.000131\n",
      "Cost (USD): $0.000182\n",
      "Cost (USD): $0.000132\n"
     ]
    },
    {
     "name": "stderr",
     "output_type": "stream",
     "text": [
      " 20%|█▉        | 53/269 [12:19<1:04:27, 17.91s/it]"
     ]
    },
    {
     "name": "stdout",
     "output_type": "stream",
     "text": [
      "Cost (USD): $0.000139\n",
      "Cost (USD): $0.000182\n"
     ]
    },
    {
     "name": "stderr",
     "output_type": "stream",
     "text": [
      " 20%|██        | 54/269 [12:36<1:03:04, 17.60s/it]"
     ]
    },
    {
     "name": "stdout",
     "output_type": "stream",
     "text": [
      "Cost (USD): $0.000131\n",
      "Cost (USD): $0.000229\n"
     ]
    },
    {
     "name": "stderr",
     "output_type": "stream",
     "text": [
      " 20%|██        | 55/269 [12:53<1:01:35, 17.27s/it]"
     ]
    },
    {
     "name": "stdout",
     "output_type": "stream",
     "text": [
      "Cost (USD): $0.000131\n",
      "Cost (USD): $0.000181\n",
      "Cost (USD): $0.000131\n"
     ]
    },
    {
     "name": "stderr",
     "output_type": "stream",
     "text": [
      " 21%|██        | 56/269 [13:11<1:02:26, 17.59s/it]"
     ]
    },
    {
     "name": "stdout",
     "output_type": "stream",
     "text": [
      "Cost (USD): $0.000138\n",
      "Cost (USD): $0.000182\n"
     ]
    },
    {
     "name": "stderr",
     "output_type": "stream",
     "text": [
      " 21%|██        | 57/269 [13:28<1:01:24, 17.38s/it]"
     ]
    },
    {
     "name": "stdout",
     "output_type": "stream",
     "text": [
      "Cost (USD): $0.000132\n",
      "Cost (USD): $0.000181\n"
     ]
    },
    {
     "name": "stderr",
     "output_type": "stream",
     "text": [
      " 22%|██▏       | 58/269 [13:44<59:57, 17.05s/it]  "
     ]
    },
    {
     "name": "stdout",
     "output_type": "stream",
     "text": [
      "Cost (USD): $0.000131\n",
      "Cost (USD): $0.000181\n"
     ]
    },
    {
     "name": "stderr",
     "output_type": "stream",
     "text": [
      " 22%|██▏       | 59/269 [14:01<59:37, 17.03s/it]"
     ]
    },
    {
     "name": "stdout",
     "output_type": "stream",
     "text": [
      "Cost (USD): $0.000131\n",
      "Cost (USD): $0.000181\n",
      "Cost (USD): $0.000131\n"
     ]
    },
    {
     "name": "stderr",
     "output_type": "stream",
     "text": [
      " 22%|██▏       | 60/269 [14:19<59:58, 17.22s/it]"
     ]
    },
    {
     "name": "stdout",
     "output_type": "stream",
     "text": [
      "Cost (USD): $0.000105\n",
      "Cost (USD): $0.000183\n",
      "Cost (USD): $0.000132\n"
     ]
    },
    {
     "name": "stderr",
     "output_type": "stream",
     "text": [
      " 23%|██▎       | 61/269 [14:41<1:04:25, 18.59s/it]"
     ]
    },
    {
     "name": "stdout",
     "output_type": "stream",
     "text": [
      "Cost (USD): $0.000141\n",
      "Cost (USD): $0.000182\n",
      "Cost (USD): $0.000130\n"
     ]
    },
    {
     "name": "stderr",
     "output_type": "stream",
     "text": [
      " 23%|██▎       | 62/269 [15:00<1:04:23, 18.66s/it]"
     ]
    },
    {
     "name": "stdout",
     "output_type": "stream",
     "text": [
      "Cost (USD): $0.000137\n",
      "Cost (USD): $0.000182\n"
     ]
    },
    {
     "name": "stderr",
     "output_type": "stream",
     "text": [
      " 23%|██▎       | 63/269 [15:17<1:02:34, 18.23s/it]"
     ]
    },
    {
     "name": "stdout",
     "output_type": "stream",
     "text": [
      "Cost (USD): $0.000131\n",
      "Cost (USD): $0.000182\n",
      "Cost (USD): $0.000131\n",
      "Cost (USD): $0.000095\n"
     ]
    },
    {
     "name": "stderr",
     "output_type": "stream",
     "text": [
      " 24%|██▍       | 64/269 [15:38<1:05:25, 19.15s/it]"
     ]
    },
    {
     "name": "stdout",
     "output_type": "stream",
     "text": [
      "Cost (USD): $0.000131\n",
      "❌ Maximum attempts reached. Unable to generate a valid query.\n",
      "Failed query: PREFIX sphn: <https://www.biomedit.ch/rdf/sphn-schema/sphn/>\n",
      "SELECT ?patient WHERE {\n",
      "  ?event sphn:hasSubjectPseudoIdentifier ?patient .\n",
      "  ?event sphn:hasLabResult ?res .\n",
      "  ?res sphn:hasQuantityValue ?val .\n",
      "  FILTER(?val > <Threshold>)\n",
      "}\n",
      "Error message:  Bad query semantic: `The IRI 'Threshold' is not absolute and the base IRI is not defined`.\n",
      "Cost (USD): $0.000307\n"
     ]
    },
    {
     "name": "stderr",
     "output_type": "stream",
     "text": [
      " 24%|██▍       | 65/269 [15:56<1:03:57, 18.81s/it]"
     ]
    },
    {
     "name": "stdout",
     "output_type": "stream",
     "text": [
      "Cost (USD): $0.000131\n",
      "Cost (USD): $0.000182\n"
     ]
    },
    {
     "name": "stderr",
     "output_type": "stream",
     "text": [
      " 25%|██▍       | 66/269 [16:14<1:03:02, 18.63s/it]"
     ]
    },
    {
     "name": "stdout",
     "output_type": "stream",
     "text": [
      "Cost (USD): $0.000131\n",
      "Cost (USD): $0.000182\n",
      "Cost (USD): $0.000131\n"
     ]
    },
    {
     "name": "stderr",
     "output_type": "stream",
     "text": [
      " 25%|██▍       | 67/269 [16:33<1:02:44, 18.64s/it]"
     ]
    },
    {
     "name": "stdout",
     "output_type": "stream",
     "text": [
      "Cost (USD): $0.000140\n",
      "Cost (USD): $0.000182\n",
      "Cost (USD): $0.000130\n"
     ]
    },
    {
     "name": "stderr",
     "output_type": "stream",
     "text": [
      " 25%|██▌       | 68/269 [16:51<1:02:01, 18.51s/it]"
     ]
    },
    {
     "name": "stdout",
     "output_type": "stream",
     "text": [
      "Cost (USD): $0.000141\n",
      "Cost (USD): $0.000182\n",
      "Cost (USD): $0.000130\n"
     ]
    },
    {
     "name": "stderr",
     "output_type": "stream",
     "text": [
      " 26%|██▌       | 69/269 [17:10<1:01:43, 18.52s/it]"
     ]
    },
    {
     "name": "stdout",
     "output_type": "stream",
     "text": [
      "Cost (USD): $0.000137\n",
      "Cost (USD): $0.000182\n"
     ]
    },
    {
     "name": "stderr",
     "output_type": "stream",
     "text": [
      " 26%|██▌       | 70/269 [17:28<1:00:49, 18.34s/it]"
     ]
    },
    {
     "name": "stdout",
     "output_type": "stream",
     "text": [
      "Cost (USD): $0.000131\n",
      "Cost (USD): $0.000182\n"
     ]
    },
    {
     "name": "stderr",
     "output_type": "stream",
     "text": [
      " 26%|██▋       | 71/269 [17:46<1:00:36, 18.37s/it]"
     ]
    },
    {
     "name": "stdout",
     "output_type": "stream",
     "text": [
      "Cost (USD): $0.000131\n",
      "Cost (USD): $0.000182\n",
      "Cost (USD): $0.000131\n"
     ]
    },
    {
     "name": "stderr",
     "output_type": "stream",
     "text": [
      " 27%|██▋       | 72/269 [18:06<1:02:05, 18.91s/it]"
     ]
    },
    {
     "name": "stdout",
     "output_type": "stream",
     "text": [
      "Cost (USD): $0.000102\n",
      "Cost (USD): $0.000182\n",
      "Cost (USD): $0.000131\n"
     ]
    },
    {
     "name": "stderr",
     "output_type": "stream",
     "text": [
      " 27%|██▋       | 73/269 [18:25<1:02:00, 18.98s/it]"
     ]
    },
    {
     "name": "stdout",
     "output_type": "stream",
     "text": [
      "Cost (USD): $0.000102\n",
      "Cost (USD): $0.000182\n"
     ]
    },
    {
     "name": "stderr",
     "output_type": "stream",
     "text": [
      " 28%|██▊       | 74/269 [18:43<59:57, 18.45s/it]  "
     ]
    },
    {
     "name": "stdout",
     "output_type": "stream",
     "text": [
      "Cost (USD): $0.000131\n",
      "Cost (USD): $0.000182\n",
      "Cost (USD): $0.000130\n"
     ]
    },
    {
     "name": "stderr",
     "output_type": "stream",
     "text": [
      " 28%|██▊       | 75/269 [19:02<1:00:43, 18.78s/it]"
     ]
    },
    {
     "name": "stdout",
     "output_type": "stream",
     "text": [
      "Cost (USD): $0.000136\n",
      "Cost (USD): $0.000182\n"
     ]
    },
    {
     "name": "stderr",
     "output_type": "stream",
     "text": [
      " 28%|██▊       | 76/269 [19:21<59:58, 18.65s/it]  "
     ]
    },
    {
     "name": "stdout",
     "output_type": "stream",
     "text": [
      "Cost (USD): $0.000131\n",
      "Cost (USD): $0.000182\n",
      "Cost (USD): $0.000130\n"
     ]
    },
    {
     "name": "stderr",
     "output_type": "stream",
     "text": [
      " 29%|██▊       | 77/269 [19:40<1:00:55, 19.04s/it]"
     ]
    },
    {
     "name": "stdout",
     "output_type": "stream",
     "text": [
      "Cost (USD): $0.000137\n",
      "Cost (USD): $0.000182\n"
     ]
    },
    {
     "name": "stderr",
     "output_type": "stream",
     "text": [
      " 29%|██▉       | 78/269 [20:01<1:02:11, 19.54s/it]"
     ]
    },
    {
     "name": "stdout",
     "output_type": "stream",
     "text": [
      "Cost (USD): $0.000131\n",
      "Cost (USD): $0.000182\n"
     ]
    },
    {
     "name": "stderr",
     "output_type": "stream",
     "text": [
      " 29%|██▉       | 79/269 [20:18<59:44, 18.87s/it]  "
     ]
    },
    {
     "name": "stdout",
     "output_type": "stream",
     "text": [
      "Cost (USD): $0.000131\n",
      "Cost (USD): $0.000182\n"
     ]
    },
    {
     "name": "stderr",
     "output_type": "stream",
     "text": [
      " 30%|██▉       | 80/269 [20:37<59:06, 18.77s/it]"
     ]
    },
    {
     "name": "stdout",
     "output_type": "stream",
     "text": [
      "Cost (USD): $0.000131\n",
      "Cost (USD): $0.000182\n",
      "Cost (USD): $0.000130\n"
     ]
    },
    {
     "name": "stderr",
     "output_type": "stream",
     "text": [
      " 30%|███       | 81/269 [20:56<59:09, 18.88s/it]"
     ]
    },
    {
     "name": "stdout",
     "output_type": "stream",
     "text": [
      "Cost (USD): $0.000133\n",
      "Cost (USD): $0.000182\n"
     ]
    },
    {
     "name": "stderr",
     "output_type": "stream",
     "text": [
      " 30%|███       | 82/269 [21:15<58:42, 18.84s/it]"
     ]
    },
    {
     "name": "stdout",
     "output_type": "stream",
     "text": [
      "Cost (USD): $0.000131\n",
      "Cost (USD): $0.000182\n"
     ]
    },
    {
     "name": "stderr",
     "output_type": "stream",
     "text": [
      " 31%|███       | 83/269 [21:36<1:00:35, 19.55s/it]"
     ]
    },
    {
     "name": "stdout",
     "output_type": "stream",
     "text": [
      "Cost (USD): $0.000131\n",
      "Cost (USD): $0.000182\n"
     ]
    },
    {
     "name": "stderr",
     "output_type": "stream",
     "text": [
      " 31%|███       | 84/269 [21:56<1:00:22, 19.58s/it]"
     ]
    },
    {
     "name": "stdout",
     "output_type": "stream",
     "text": [
      "Cost (USD): $0.000131\n",
      "Cost (USD): $0.000182\n"
     ]
    },
    {
     "name": "stderr",
     "output_type": "stream",
     "text": [
      " 32%|███▏      | 85/269 [22:13<57:51, 18.87s/it]  "
     ]
    },
    {
     "name": "stdout",
     "output_type": "stream",
     "text": [
      "Cost (USD): $0.000131\n",
      "Cost (USD): $0.000182\n",
      "Cost (USD): $0.000130\n"
     ]
    },
    {
     "name": "stderr",
     "output_type": "stream",
     "text": [
      " 32%|███▏      | 86/269 [22:32<57:50, 18.96s/it]"
     ]
    },
    {
     "name": "stdout",
     "output_type": "stream",
     "text": [
      "Cost (USD): $0.000137\n",
      "Cost (USD): $0.000182\n"
     ]
    },
    {
     "name": "stderr",
     "output_type": "stream",
     "text": [
      " 32%|███▏      | 87/269 [22:52<58:18, 19.22s/it]"
     ]
    },
    {
     "name": "stdout",
     "output_type": "stream",
     "text": [
      "Cost (USD): $0.000138\n",
      "Cost (USD): $0.000182\n"
     ]
    },
    {
     "name": "stderr",
     "output_type": "stream",
     "text": [
      " 33%|███▎      | 88/269 [23:09<56:04, 18.59s/it]"
     ]
    },
    {
     "name": "stdout",
     "output_type": "stream",
     "text": [
      "Cost (USD): $0.000131\n",
      "Cost (USD): $0.000182\n"
     ]
    },
    {
     "name": "stderr",
     "output_type": "stream",
     "text": [
      " 33%|███▎      | 89/269 [23:26<54:41, 18.23s/it]"
     ]
    },
    {
     "name": "stdout",
     "output_type": "stream",
     "text": [
      "Cost (USD): $0.000131\n",
      "Cost (USD): $0.000182\n",
      "Cost (USD): $0.000131\n"
     ]
    },
    {
     "name": "stderr",
     "output_type": "stream",
     "text": [
      " 33%|███▎      | 90/269 [23:46<55:18, 18.54s/it]"
     ]
    },
    {
     "name": "stdout",
     "output_type": "stream",
     "text": [
      "Cost (USD): $0.000103\n"
     ]
    },
    {
     "name": "stderr",
     "output_type": "stream",
     "text": [
      " 34%|███▍      | 91/269 [23:59<50:42, 17.09s/it]"
     ]
    },
    {
     "name": "stdout",
     "output_type": "stream",
     "text": [
      "Cost (USD): $0.000231\n"
     ]
    },
    {
     "name": "stderr",
     "output_type": "stream",
     "text": [
      " 34%|███▍      | 92/269 [24:13<47:21, 16.05s/it]"
     ]
    },
    {
     "name": "stdout",
     "output_type": "stream",
     "text": [
      "Cost (USD): $0.000183\n"
     ]
    },
    {
     "name": "stderr",
     "output_type": "stream",
     "text": [
      " 35%|███▍      | 93/269 [24:29<46:44, 15.94s/it]"
     ]
    },
    {
     "name": "stdout",
     "output_type": "stream",
     "text": [
      "Cost (USD): $0.000183\n"
     ]
    },
    {
     "name": "stderr",
     "output_type": "stream",
     "text": [
      " 35%|███▍      | 94/269 [24:43<45:20, 15.55s/it]"
     ]
    },
    {
     "name": "stdout",
     "output_type": "stream",
     "text": [
      "Cost (USD): $0.000231\n"
     ]
    },
    {
     "name": "stderr",
     "output_type": "stream",
     "text": [
      " 35%|███▌      | 95/269 [24:59<44:50, 15.46s/it]"
     ]
    },
    {
     "name": "stdout",
     "output_type": "stream",
     "text": [
      "Cost (USD): $0.000308\n"
     ]
    },
    {
     "name": "stderr",
     "output_type": "stream",
     "text": [
      " 36%|███▌      | 96/269 [25:13<43:25, 15.06s/it]"
     ]
    },
    {
     "name": "stdout",
     "output_type": "stream",
     "text": [
      "Cost (USD): $0.000183\n"
     ]
    },
    {
     "name": "stderr",
     "output_type": "stream",
     "text": [
      " 36%|███▌      | 97/269 [25:27<42:06, 14.69s/it]"
     ]
    },
    {
     "name": "stdout",
     "output_type": "stream",
     "text": [
      "Cost (USD): $0.000231\n"
     ]
    },
    {
     "name": "stderr",
     "output_type": "stream",
     "text": [
      " 36%|███▋      | 98/269 [25:41<41:17, 14.49s/it]"
     ]
    },
    {
     "name": "stdout",
     "output_type": "stream",
     "text": [
      "Cost (USD): $0.000183\n"
     ]
    },
    {
     "name": "stderr",
     "output_type": "stream",
     "text": [
      " 37%|███▋      | 99/269 [25:57<42:35, 15.03s/it]"
     ]
    },
    {
     "name": "stdout",
     "output_type": "stream",
     "text": [
      "Cost (USD): $0.000184\n"
     ]
    },
    {
     "name": "stderr",
     "output_type": "stream",
     "text": [
      " 37%|███▋      | 100/269 [26:11<41:13, 14.64s/it]"
     ]
    },
    {
     "name": "stdout",
     "output_type": "stream",
     "text": [
      "Cost (USD): $0.000183\n"
     ]
    },
    {
     "name": "stderr",
     "output_type": "stream",
     "text": [
      " 38%|███▊      | 101/269 [26:24<40:07, 14.33s/it]"
     ]
    },
    {
     "name": "stdout",
     "output_type": "stream",
     "text": [
      "Cost (USD): $0.000183\n"
     ]
    },
    {
     "name": "stderr",
     "output_type": "stream",
     "text": [
      " 38%|███▊      | 102/269 [26:38<39:33, 14.21s/it]"
     ]
    },
    {
     "name": "stdout",
     "output_type": "stream",
     "text": [
      "Cost (USD): $0.000183\n"
     ]
    },
    {
     "name": "stderr",
     "output_type": "stream",
     "text": [
      " 38%|███▊      | 103/269 [26:52<39:20, 14.22s/it]"
     ]
    },
    {
     "name": "stdout",
     "output_type": "stream",
     "text": [
      "Cost (USD): $0.000223\n"
     ]
    },
    {
     "name": "stderr",
     "output_type": "stream",
     "text": [
      " 39%|███▊      | 104/269 [27:07<39:06, 14.22s/it]"
     ]
    },
    {
     "name": "stdout",
     "output_type": "stream",
     "text": [
      "Cost (USD): $0.000183\n"
     ]
    },
    {
     "name": "stderr",
     "output_type": "stream",
     "text": [
      " 39%|███▉      | 105/269 [27:23<40:28, 14.81s/it]"
     ]
    },
    {
     "name": "stdout",
     "output_type": "stream",
     "text": [
      "Cost (USD): $0.000259\n"
     ]
    },
    {
     "name": "stderr",
     "output_type": "stream",
     "text": [
      " 39%|███▉      | 106/269 [27:39<41:41, 15.35s/it]"
     ]
    },
    {
     "name": "stdout",
     "output_type": "stream",
     "text": [
      "Cost (USD): $0.000211\n"
     ]
    },
    {
     "name": "stderr",
     "output_type": "stream",
     "text": [
      " 40%|███▉      | 107/269 [27:56<42:25, 15.72s/it]"
     ]
    },
    {
     "name": "stdout",
     "output_type": "stream",
     "text": [
      "Cost (USD): $0.000212\n"
     ]
    },
    {
     "name": "stderr",
     "output_type": "stream",
     "text": [
      " 40%|████      | 108/269 [28:13<42:57, 16.01s/it]"
     ]
    },
    {
     "name": "stdout",
     "output_type": "stream",
     "text": [
      "Cost (USD): $0.000250\n"
     ]
    },
    {
     "name": "stderr",
     "output_type": "stream",
     "text": [
      " 41%|████      | 109/269 [28:30<44:03, 16.52s/it]"
     ]
    },
    {
     "name": "stdout",
     "output_type": "stream",
     "text": [
      "Cost (USD): $0.000259\n"
     ]
    },
    {
     "name": "stderr",
     "output_type": "stream",
     "text": [
      " 41%|████      | 110/269 [28:48<44:43, 16.88s/it]"
     ]
    },
    {
     "name": "stdout",
     "output_type": "stream",
     "text": [
      "Cost (USD): $0.000258\n"
     ]
    },
    {
     "name": "stderr",
     "output_type": "stream",
     "text": [
      " 41%|████▏     | 111/269 [29:06<44:51, 17.04s/it]"
     ]
    },
    {
     "name": "stdout",
     "output_type": "stream",
     "text": [
      "Cost (USD): $0.000260\n"
     ]
    },
    {
     "name": "stderr",
     "output_type": "stream",
     "text": [
      " 42%|████▏     | 112/269 [29:23<44:56, 17.18s/it]"
     ]
    },
    {
     "name": "stdout",
     "output_type": "stream",
     "text": [
      "Cost (USD): $0.000210\n"
     ]
    },
    {
     "name": "stderr",
     "output_type": "stream",
     "text": [
      " 42%|████▏     | 113/269 [29:40<44:12, 17.00s/it]"
     ]
    },
    {
     "name": "stdout",
     "output_type": "stream",
     "text": [
      "Cost (USD): $0.000260\n"
     ]
    },
    {
     "name": "stderr",
     "output_type": "stream",
     "text": [
      " 42%|████▏     | 114/269 [29:57<44:00, 17.03s/it]"
     ]
    },
    {
     "name": "stdout",
     "output_type": "stream",
     "text": [
      "Cost (USD): $0.000212\n"
     ]
    },
    {
     "name": "stderr",
     "output_type": "stream",
     "text": [
      " 43%|████▎     | 115/269 [30:14<44:09, 17.21s/it]"
     ]
    },
    {
     "name": "stdout",
     "output_type": "stream",
     "text": [
      "Cost (USD): $0.000212\n"
     ]
    },
    {
     "name": "stderr",
     "output_type": "stream",
     "text": [
      " 43%|████▎     | 116/269 [30:32<44:25, 17.42s/it]"
     ]
    },
    {
     "name": "stdout",
     "output_type": "stream",
     "text": [
      "Cost (USD): $0.000212\n"
     ]
    },
    {
     "name": "stderr",
     "output_type": "stream",
     "text": [
      " 43%|████▎     | 117/269 [30:47<42:24, 16.74s/it]"
     ]
    },
    {
     "name": "stdout",
     "output_type": "stream",
     "text": [
      "Cost (USD): $0.000211\n"
     ]
    },
    {
     "name": "stderr",
     "output_type": "stream",
     "text": [
      " 44%|████▍     | 118/269 [31:03<41:33, 16.51s/it]"
     ]
    },
    {
     "name": "stdout",
     "output_type": "stream",
     "text": [
      "Cost (USD): $0.000211\n"
     ]
    },
    {
     "name": "stderr",
     "output_type": "stream",
     "text": [
      " 44%|████▍     | 119/269 [31:20<41:24, 16.56s/it]"
     ]
    },
    {
     "name": "stdout",
     "output_type": "stream",
     "text": [
      "Cost (USD): $0.000212\n"
     ]
    },
    {
     "name": "stderr",
     "output_type": "stream",
     "text": [
      " 45%|████▍     | 120/269 [31:37<41:13, 16.60s/it]"
     ]
    },
    {
     "name": "stdout",
     "output_type": "stream",
     "text": [
      "Cost (USD): $0.000211\n"
     ]
    },
    {
     "name": "stderr",
     "output_type": "stream",
     "text": [
      " 45%|████▍     | 121/269 [31:53<41:00, 16.63s/it]"
     ]
    },
    {
     "name": "stdout",
     "output_type": "stream",
     "text": [
      "Cost (USD): $0.000211\n"
     ]
    },
    {
     "name": "stderr",
     "output_type": "stream",
     "text": [
      " 45%|████▌     | 122/269 [32:10<41:00, 16.74s/it]"
     ]
    },
    {
     "name": "stdout",
     "output_type": "stream",
     "text": [
      "Cost (USD): $0.000212\n"
     ]
    },
    {
     "name": "stderr",
     "output_type": "stream",
     "text": [
      " 46%|████▌     | 123/269 [32:28<41:08, 16.91s/it]"
     ]
    },
    {
     "name": "stdout",
     "output_type": "stream",
     "text": [
      "Cost (USD): $0.000211\n"
     ]
    },
    {
     "name": "stderr",
     "output_type": "stream",
     "text": [
      " 46%|████▌     | 124/269 [32:45<40:52, 16.92s/it]"
     ]
    },
    {
     "name": "stdout",
     "output_type": "stream",
     "text": [
      "Cost (USD): $0.000259\n"
     ]
    },
    {
     "name": "stderr",
     "output_type": "stream",
     "text": [
      " 46%|████▋     | 125/269 [33:01<40:28, 16.87s/it]"
     ]
    },
    {
     "name": "stdout",
     "output_type": "stream",
     "text": [
      "Cost (USD): $0.000212\n"
     ]
    },
    {
     "name": "stderr",
     "output_type": "stream",
     "text": [
      " 47%|████▋     | 126/269 [33:19<40:35, 17.03s/it]"
     ]
    },
    {
     "name": "stdout",
     "output_type": "stream",
     "text": [
      "Cost (USD): $0.000250\n"
     ]
    },
    {
     "name": "stderr",
     "output_type": "stream",
     "text": [
      " 47%|████▋     | 127/269 [33:39<42:40, 18.03s/it]"
     ]
    },
    {
     "name": "stdout",
     "output_type": "stream",
     "text": [
      "Cost (USD): $0.000212\n"
     ]
    },
    {
     "name": "stderr",
     "output_type": "stream",
     "text": [
      " 48%|████▊     | 128/269 [33:57<42:31, 18.09s/it]"
     ]
    },
    {
     "name": "stdout",
     "output_type": "stream",
     "text": [
      "Cost (USD): $0.000213\n"
     ]
    },
    {
     "name": "stderr",
     "output_type": "stream",
     "text": [
      " 48%|████▊     | 129/269 [34:14<41:18, 17.70s/it]"
     ]
    },
    {
     "name": "stdout",
     "output_type": "stream",
     "text": [
      "Cost (USD): $0.000336\n"
     ]
    },
    {
     "name": "stderr",
     "output_type": "stream",
     "text": [
      " 48%|████▊     | 130/269 [34:32<40:46, 17.60s/it]"
     ]
    },
    {
     "name": "stdout",
     "output_type": "stream",
     "text": [
      "Cost (USD): $0.000211\n"
     ]
    },
    {
     "name": "stderr",
     "output_type": "stream",
     "text": [
      " 49%|████▊     | 131/269 [34:49<40:14, 17.50s/it]"
     ]
    },
    {
     "name": "stdout",
     "output_type": "stream",
     "text": [
      "Cost (USD): $0.000212\n"
     ]
    },
    {
     "name": "stderr",
     "output_type": "stream",
     "text": [
      " 49%|████▉     | 132/269 [35:06<39:57, 17.50s/it]"
     ]
    },
    {
     "name": "stdout",
     "output_type": "stream",
     "text": [
      "Cost (USD): $0.000212\n"
     ]
    },
    {
     "name": "stderr",
     "output_type": "stream",
     "text": [
      " 49%|████▉     | 133/269 [35:23<39:15, 17.32s/it]"
     ]
    },
    {
     "name": "stdout",
     "output_type": "stream",
     "text": [
      "Cost (USD): $0.000250\n"
     ]
    },
    {
     "name": "stderr",
     "output_type": "stream",
     "text": [
      " 50%|████▉     | 134/269 [35:40<38:49, 17.25s/it]"
     ]
    },
    {
     "name": "stdout",
     "output_type": "stream",
     "text": [
      "Cost (USD): $0.000213\n"
     ]
    },
    {
     "name": "stderr",
     "output_type": "stream",
     "text": [
      " 50%|█████     | 135/269 [35:57<38:01, 17.02s/it]"
     ]
    },
    {
     "name": "stdout",
     "output_type": "stream",
     "text": [
      "Cost (USD): $0.000212\n"
     ]
    },
    {
     "name": "stderr",
     "output_type": "stream",
     "text": [
      " 51%|█████     | 136/269 [36:12<36:41, 16.56s/it]"
     ]
    },
    {
     "name": "stdout",
     "output_type": "stream",
     "text": [
      "Cost (USD): $0.000260\n"
     ]
    },
    {
     "name": "stderr",
     "output_type": "stream",
     "text": [
      " 51%|█████     | 137/269 [36:31<38:08, 17.33s/it]"
     ]
    },
    {
     "name": "stdout",
     "output_type": "stream",
     "text": [
      "Cost (USD): $0.000213\n"
     ]
    },
    {
     "name": "stderr",
     "output_type": "stream",
     "text": [
      " 51%|█████▏    | 138/269 [36:50<38:29, 17.63s/it]"
     ]
    },
    {
     "name": "stdout",
     "output_type": "stream",
     "text": [
      "Cost (USD): $0.000212\n"
     ]
    },
    {
     "name": "stderr",
     "output_type": "stream",
     "text": [
      " 52%|█████▏    | 139/269 [37:08<38:47, 17.90s/it]"
     ]
    },
    {
     "name": "stdout",
     "output_type": "stream",
     "text": [
      "Cost (USD): $0.000212\n"
     ]
    },
    {
     "name": "stderr",
     "output_type": "stream",
     "text": [
      " 52%|█████▏    | 140/269 [37:28<39:17, 18.28s/it]"
     ]
    },
    {
     "name": "stdout",
     "output_type": "stream",
     "text": [
      "Cost (USD): $0.000213\n"
     ]
    },
    {
     "name": "stderr",
     "output_type": "stream",
     "text": [
      " 52%|█████▏    | 141/269 [37:44<37:54, 17.77s/it]"
     ]
    },
    {
     "name": "stdout",
     "output_type": "stream",
     "text": [
      "Cost (USD): $0.000211\n"
     ]
    },
    {
     "name": "stderr",
     "output_type": "stream",
     "text": [
      " 53%|█████▎    | 142/269 [38:00<36:43, 17.35s/it]"
     ]
    },
    {
     "name": "stdout",
     "output_type": "stream",
     "text": [
      "Cost (USD): $0.000211\n"
     ]
    },
    {
     "name": "stderr",
     "output_type": "stream",
     "text": [
      " 53%|█████▎    | 143/269 [38:18<36:22, 17.32s/it]"
     ]
    },
    {
     "name": "stdout",
     "output_type": "stream",
     "text": [
      "Cost (USD): $0.000212\n"
     ]
    },
    {
     "name": "stderr",
     "output_type": "stream",
     "text": [
      " 54%|█████▎    | 144/269 [38:37<37:00, 17.77s/it]"
     ]
    },
    {
     "name": "stdout",
     "output_type": "stream",
     "text": [
      "Cost (USD): $0.000250\n"
     ]
    },
    {
     "name": "stderr",
     "output_type": "stream",
     "text": [
      " 54%|█████▍    | 145/269 [38:54<36:33, 17.69s/it]"
     ]
    },
    {
     "name": "stdout",
     "output_type": "stream",
     "text": [
      "Cost (USD): $0.000250\n"
     ]
    },
    {
     "name": "stderr",
     "output_type": "stream",
     "text": [
      " 54%|█████▍    | 146/269 [39:11<35:54, 17.51s/it]"
     ]
    },
    {
     "name": "stdout",
     "output_type": "stream",
     "text": [
      "Cost (USD): $0.000212\n"
     ]
    },
    {
     "name": "stderr",
     "output_type": "stream",
     "text": [
      " 55%|█████▍    | 147/269 [39:27<34:47, 17.11s/it]"
     ]
    },
    {
     "name": "stdout",
     "output_type": "stream",
     "text": [
      "Cost (USD): $0.000212\n"
     ]
    },
    {
     "name": "stderr",
     "output_type": "stream",
     "text": [
      " 55%|█████▌    | 148/269 [39:43<33:52, 16.80s/it]"
     ]
    },
    {
     "name": "stdout",
     "output_type": "stream",
     "text": [
      "Cost (USD): $0.000212\n"
     ]
    },
    {
     "name": "stderr",
     "output_type": "stream",
     "text": [
      " 55%|█████▌    | 149/269 [39:59<32:51, 16.43s/it]"
     ]
    },
    {
     "name": "stdout",
     "output_type": "stream",
     "text": [
      "Cost (USD): $0.000213\n"
     ]
    },
    {
     "name": "stderr",
     "output_type": "stream",
     "text": [
      " 56%|█████▌    | 150/269 [40:11<29:52, 15.06s/it]"
     ]
    },
    {
     "name": "stdout",
     "output_type": "stream",
     "text": [
      "Cost (USD): $0.000218\n"
     ]
    },
    {
     "name": "stderr",
     "output_type": "stream",
     "text": [
      " 56%|█████▌    | 151/269 [40:23<27:41, 14.08s/it]"
     ]
    },
    {
     "name": "stdout",
     "output_type": "stream",
     "text": [
      "Cost (USD): $0.000180\n"
     ]
    },
    {
     "name": "stderr",
     "output_type": "stream",
     "text": [
      " 57%|█████▋    | 152/269 [40:35<26:13, 13.45s/it]"
     ]
    },
    {
     "name": "stdout",
     "output_type": "stream",
     "text": [
      "Cost (USD): $0.000180\n"
     ]
    },
    {
     "name": "stderr",
     "output_type": "stream",
     "text": [
      " 57%|█████▋    | 153/269 [40:48<26:13, 13.56s/it]"
     ]
    },
    {
     "name": "stdout",
     "output_type": "stream",
     "text": [
      "Cost (USD): $0.000180\n"
     ]
    },
    {
     "name": "stderr",
     "output_type": "stream",
     "text": [
      " 57%|█████▋    | 154/269 [41:02<25:54, 13.52s/it]"
     ]
    },
    {
     "name": "stdout",
     "output_type": "stream",
     "text": [
      "Cost (USD): $0.000170\n"
     ]
    },
    {
     "name": "stderr",
     "output_type": "stream",
     "text": [
      " 58%|█████▊    | 155/269 [41:14<25:06, 13.21s/it]"
     ]
    },
    {
     "name": "stdout",
     "output_type": "stream",
     "text": [
      "Cost (USD): $0.000170\n"
     ]
    },
    {
     "name": "stderr",
     "output_type": "stream",
     "text": [
      " 58%|█████▊    | 156/269 [41:28<25:02, 13.30s/it]"
     ]
    },
    {
     "name": "stdout",
     "output_type": "stream",
     "text": [
      "Cost (USD): $0.000180\n"
     ]
    },
    {
     "name": "stderr",
     "output_type": "stream",
     "text": [
      " 58%|█████▊    | 157/269 [41:41<25:00, 13.40s/it]"
     ]
    },
    {
     "name": "stdout",
     "output_type": "stream",
     "text": [
      "Cost (USD): $0.000170\n"
     ]
    },
    {
     "name": "stderr",
     "output_type": "stream",
     "text": [
      " 59%|█████▊    | 158/269 [41:55<24:37, 13.31s/it]"
     ]
    },
    {
     "name": "stdout",
     "output_type": "stream",
     "text": [
      "Cost (USD): $0.000170\n"
     ]
    },
    {
     "name": "stderr",
     "output_type": "stream",
     "text": [
      " 59%|█████▉    | 159/269 [42:07<24:07, 13.16s/it]"
     ]
    },
    {
     "name": "stdout",
     "output_type": "stream",
     "text": [
      "Cost (USD): $0.000295\n"
     ]
    },
    {
     "name": "stderr",
     "output_type": "stream",
     "text": [
      " 59%|█████▉    | 160/269 [42:20<23:39, 13.02s/it]"
     ]
    },
    {
     "name": "stdout",
     "output_type": "stream",
     "text": [
      "Cost (USD): $0.000170\n"
     ]
    },
    {
     "name": "stderr",
     "output_type": "stream",
     "text": [
      " 60%|█████▉    | 161/269 [42:33<23:32, 13.08s/it]"
     ]
    },
    {
     "name": "stdout",
     "output_type": "stream",
     "text": [
      "Cost (USD): $0.000170\n"
     ]
    },
    {
     "name": "stderr",
     "output_type": "stream",
     "text": [
      " 60%|██████    | 162/269 [42:47<23:39, 13.27s/it]"
     ]
    },
    {
     "name": "stdout",
     "output_type": "stream",
     "text": [
      "Cost (USD): $0.000180\n"
     ]
    },
    {
     "name": "stderr",
     "output_type": "stream",
     "text": [
      " 61%|██████    | 163/269 [43:00<23:13, 13.15s/it]"
     ]
    },
    {
     "name": "stdout",
     "output_type": "stream",
     "text": [
      "Cost (USD): $0.000170\n"
     ]
    },
    {
     "name": "stderr",
     "output_type": "stream",
     "text": [
      " 61%|██████    | 164/269 [43:13<23:06, 13.21s/it]"
     ]
    },
    {
     "name": "stdout",
     "output_type": "stream",
     "text": [
      "Cost (USD): $0.000180\n"
     ]
    },
    {
     "name": "stderr",
     "output_type": "stream",
     "text": [
      " 61%|██████▏   | 165/269 [43:27<23:23, 13.50s/it]"
     ]
    },
    {
     "name": "stdout",
     "output_type": "stream",
     "text": [
      "Cost (USD): $0.000209\n"
     ]
    },
    {
     "name": "stderr",
     "output_type": "stream",
     "text": [
      " 62%|██████▏   | 166/269 [43:41<22:58, 13.39s/it]"
     ]
    },
    {
     "name": "stdout",
     "output_type": "stream",
     "text": [
      "Cost (USD): $0.000209\n"
     ]
    },
    {
     "name": "stderr",
     "output_type": "stream",
     "text": [
      " 62%|██████▏   | 167/269 [43:54<22:41, 13.35s/it]"
     ]
    },
    {
     "name": "stdout",
     "output_type": "stream",
     "text": [
      "Cost (USD): $0.000170\n"
     ]
    },
    {
     "name": "stderr",
     "output_type": "stream",
     "text": [
      " 62%|██████▏   | 168/269 [44:06<22:05, 13.12s/it]"
     ]
    },
    {
     "name": "stdout",
     "output_type": "stream",
     "text": [
      "Cost (USD): $0.000180\n"
     ]
    },
    {
     "name": "stderr",
     "output_type": "stream",
     "text": [
      " 63%|██████▎   | 169/269 [44:20<21:54, 13.15s/it]"
     ]
    },
    {
     "name": "stdout",
     "output_type": "stream",
     "text": [
      "Cost (USD): $0.000295\n"
     ]
    },
    {
     "name": "stderr",
     "output_type": "stream",
     "text": [
      " 63%|██████▎   | 170/269 [44:32<21:12, 12.85s/it]"
     ]
    },
    {
     "name": "stdout",
     "output_type": "stream",
     "text": [
      "Cost (USD): $0.000170\n"
     ]
    },
    {
     "name": "stderr",
     "output_type": "stream",
     "text": [
      " 64%|██████▎   | 171/269 [44:45<21:01, 12.87s/it]"
     ]
    },
    {
     "name": "stdout",
     "output_type": "stream",
     "text": [
      "Cost (USD): $0.000180\n"
     ]
    },
    {
     "name": "stderr",
     "output_type": "stream",
     "text": [
      " 64%|██████▍   | 172/269 [44:57<20:31, 12.70s/it]"
     ]
    },
    {
     "name": "stdout",
     "output_type": "stream",
     "text": [
      "Cost (USD): $0.000295\n"
     ]
    },
    {
     "name": "stderr",
     "output_type": "stream",
     "text": [
      " 64%|██████▍   | 173/269 [45:10<20:30, 12.82s/it]"
     ]
    },
    {
     "name": "stdout",
     "output_type": "stream",
     "text": [
      "Cost (USD): $0.000295\n"
     ]
    },
    {
     "name": "stderr",
     "output_type": "stream",
     "text": [
      " 65%|██████▍   | 174/269 [45:24<20:52, 13.18s/it]"
     ]
    },
    {
     "name": "stdout",
     "output_type": "stream",
     "text": [
      "Cost (USD): $0.000210\n"
     ]
    },
    {
     "name": "stderr",
     "output_type": "stream",
     "text": [
      " 65%|██████▌   | 175/269 [45:37<20:42, 13.22s/it]"
     ]
    },
    {
     "name": "stdout",
     "output_type": "stream",
     "text": [
      "Cost (USD): $0.000171\n"
     ]
    },
    {
     "name": "stderr",
     "output_type": "stream",
     "text": [
      " 65%|██████▌   | 176/269 [45:50<20:06, 12.97s/it]"
     ]
    },
    {
     "name": "stdout",
     "output_type": "stream",
     "text": [
      "Cost (USD): $0.000180\n"
     ]
    },
    {
     "name": "stderr",
     "output_type": "stream",
     "text": [
      " 66%|██████▌   | 177/269 [46:01<19:17, 12.58s/it]"
     ]
    },
    {
     "name": "stdout",
     "output_type": "stream",
     "text": [
      "Cost (USD): $0.000180\n"
     ]
    },
    {
     "name": "stderr",
     "output_type": "stream",
     "text": [
      " 66%|██████▌   | 178/269 [46:14<19:13, 12.68s/it]"
     ]
    },
    {
     "name": "stdout",
     "output_type": "stream",
     "text": [
      "Cost (USD): $0.000210\n"
     ]
    },
    {
     "name": "stderr",
     "output_type": "stream",
     "text": [
      " 67%|██████▋   | 179/269 [46:26<18:31, 12.35s/it]"
     ]
    },
    {
     "name": "stdout",
     "output_type": "stream",
     "text": [
      "Cost (USD): $0.000170\n"
     ]
    },
    {
     "name": "stderr",
     "output_type": "stream",
     "text": [
      " 67%|██████▋   | 180/269 [46:38<18:20, 12.36s/it]"
     ]
    },
    {
     "name": "stdout",
     "output_type": "stream",
     "text": [
      "Cost (USD): $0.000180\n"
     ]
    },
    {
     "name": "stderr",
     "output_type": "stream",
     "text": [
      " 67%|██████▋   | 181/269 [46:51<18:08, 12.37s/it]"
     ]
    },
    {
     "name": "stdout",
     "output_type": "stream",
     "text": [
      "Cost (USD): $0.000171\n"
     ]
    },
    {
     "name": "stderr",
     "output_type": "stream",
     "text": [
      " 68%|██████▊   | 182/269 [47:03<18:04, 12.47s/it]"
     ]
    },
    {
     "name": "stdout",
     "output_type": "stream",
     "text": [
      "Cost (USD): $0.000180\n"
     ]
    },
    {
     "name": "stderr",
     "output_type": "stream",
     "text": [
      " 68%|██████▊   | 183/269 [47:17<18:11, 12.69s/it]"
     ]
    },
    {
     "name": "stdout",
     "output_type": "stream",
     "text": [
      "Cost (USD): $0.000180\n"
     ]
    },
    {
     "name": "stderr",
     "output_type": "stream",
     "text": [
      " 68%|██████▊   | 184/269 [47:30<18:27, 13.03s/it]"
     ]
    },
    {
     "name": "stdout",
     "output_type": "stream",
     "text": [
      "Cost (USD): $0.000172\n"
     ]
    },
    {
     "name": "stderr",
     "output_type": "stream",
     "text": [
      " 69%|██████▉   | 185/269 [47:44<18:29, 13.21s/it]"
     ]
    },
    {
     "name": "stdout",
     "output_type": "stream",
     "text": [
      "Cost (USD): $0.000180\n"
     ]
    },
    {
     "name": "stderr",
     "output_type": "stream",
     "text": [
      " 69%|██████▉   | 186/269 [47:57<18:11, 13.15s/it]"
     ]
    },
    {
     "name": "stdout",
     "output_type": "stream",
     "text": [
      "Cost (USD): $0.000219\n"
     ]
    },
    {
     "name": "stderr",
     "output_type": "stream",
     "text": [
      " 70%|██████▉   | 187/269 [48:11<18:22, 13.44s/it]"
     ]
    },
    {
     "name": "stdout",
     "output_type": "stream",
     "text": [
      "Cost (USD): $0.000219\n"
     ]
    },
    {
     "name": "stderr",
     "output_type": "stream",
     "text": [
      " 70%|██████▉   | 188/269 [48:26<18:40, 13.83s/it]"
     ]
    },
    {
     "name": "stdout",
     "output_type": "stream",
     "text": [
      "Cost (USD): $0.000306\n"
     ]
    },
    {
     "name": "stderr",
     "output_type": "stream",
     "text": [
      " 70%|███████   | 189/269 [48:39<18:11, 13.65s/it]"
     ]
    },
    {
     "name": "stdout",
     "output_type": "stream",
     "text": [
      "Cost (USD): $0.000180\n"
     ]
    },
    {
     "name": "stderr",
     "output_type": "stream",
     "text": [
      " 71%|███████   | 190/269 [48:53<17:55, 13.61s/it]"
     ]
    },
    {
     "name": "stdout",
     "output_type": "stream",
     "text": [
      "Cost (USD): $0.000219\n"
     ]
    },
    {
     "name": "stderr",
     "output_type": "stream",
     "text": [
      " 71%|███████   | 191/269 [49:06<17:27, 13.43s/it]"
     ]
    },
    {
     "name": "stdout",
     "output_type": "stream",
     "text": [
      "Cost (USD): $0.000170\n"
     ]
    },
    {
     "name": "stderr",
     "output_type": "stream",
     "text": [
      " 71%|███████▏  | 192/269 [49:20<17:32, 13.67s/it]"
     ]
    },
    {
     "name": "stdout",
     "output_type": "stream",
     "text": [
      "Cost (USD): $0.000180\n"
     ]
    },
    {
     "name": "stderr",
     "output_type": "stream",
     "text": [
      " 72%|███████▏  | 193/269 [49:34<17:24, 13.75s/it]"
     ]
    },
    {
     "name": "stdout",
     "output_type": "stream",
     "text": [
      "Cost (USD): $0.000180\n"
     ]
    },
    {
     "name": "stderr",
     "output_type": "stream",
     "text": [
      " 72%|███████▏  | 194/269 [49:48<17:10, 13.74s/it]"
     ]
    },
    {
     "name": "stdout",
     "output_type": "stream",
     "text": [
      "Cost (USD): $0.000295\n"
     ]
    },
    {
     "name": "stderr",
     "output_type": "stream",
     "text": [
      " 72%|███████▏  | 195/269 [50:04<17:55, 14.53s/it]"
     ]
    },
    {
     "name": "stdout",
     "output_type": "stream",
     "text": [
      "Cost (USD): $0.000232\n"
     ]
    },
    {
     "name": "stderr",
     "output_type": "stream",
     "text": [
      " 73%|███████▎  | 196/269 [50:20<18:19, 15.06s/it]"
     ]
    },
    {
     "name": "stdout",
     "output_type": "stream",
     "text": [
      "Cost (USD): $0.000234\n"
     ]
    },
    {
     "name": "stderr",
     "output_type": "stream",
     "text": [
      " 73%|███████▎  | 197/269 [50:37<18:37, 15.52s/it]"
     ]
    },
    {
     "name": "stdout",
     "output_type": "stream",
     "text": [
      "Cost (USD): $0.000232\n"
     ]
    },
    {
     "name": "stderr",
     "output_type": "stream",
     "text": [
      " 74%|███████▎  | 198/269 [50:52<18:07, 15.32s/it]"
     ]
    },
    {
     "name": "stdout",
     "output_type": "stream",
     "text": [
      "Cost (USD): $0.000234\n"
     ]
    },
    {
     "name": "stderr",
     "output_type": "stream",
     "text": [
      " 74%|███████▍  | 199/269 [51:08<18:18, 15.70s/it]"
     ]
    },
    {
     "name": "stdout",
     "output_type": "stream",
     "text": [
      "Cost (USD): $0.000185\n"
     ]
    },
    {
     "name": "stderr",
     "output_type": "stream",
     "text": [
      " 74%|███████▍  | 200/269 [51:25<18:17, 15.90s/it]"
     ]
    },
    {
     "name": "stdout",
     "output_type": "stream",
     "text": [
      "Cost (USD): $0.000185\n"
     ]
    },
    {
     "name": "stderr",
     "output_type": "stream",
     "text": [
      " 75%|███████▍  | 201/269 [51:41<18:05, 15.96s/it]"
     ]
    },
    {
     "name": "stdout",
     "output_type": "stream",
     "text": [
      "Cost (USD): $0.000186\n"
     ]
    },
    {
     "name": "stderr",
     "output_type": "stream",
     "text": [
      " 75%|███████▌  | 202/269 [51:56<17:45, 15.90s/it]"
     ]
    },
    {
     "name": "stdout",
     "output_type": "stream",
     "text": [
      "Cost (USD): $0.000186\n"
     ]
    },
    {
     "name": "stderr",
     "output_type": "stream",
     "text": [
      " 75%|███████▌  | 203/269 [52:12<17:22, 15.80s/it]"
     ]
    },
    {
     "name": "stdout",
     "output_type": "stream",
     "text": [
      "Cost (USD): $0.000186\n"
     ]
    },
    {
     "name": "stderr",
     "output_type": "stream",
     "text": [
      " 76%|███████▌  | 204/269 [52:28<17:08, 15.82s/it]"
     ]
    },
    {
     "name": "stdout",
     "output_type": "stream",
     "text": [
      "Cost (USD): $0.000186\n"
     ]
    },
    {
     "name": "stderr",
     "output_type": "stream",
     "text": [
      " 76%|███████▌  | 205/269 [52:43<16:37, 15.59s/it]"
     ]
    },
    {
     "name": "stdout",
     "output_type": "stream",
     "text": [
      "Cost (USD): $0.000184\n"
     ]
    },
    {
     "name": "stderr",
     "output_type": "stream",
     "text": [
      " 77%|███████▋  | 206/269 [52:59<16:31, 15.74s/it]"
     ]
    },
    {
     "name": "stdout",
     "output_type": "stream",
     "text": [
      "Cost (USD): $0.000186\n"
     ]
    },
    {
     "name": "stderr",
     "output_type": "stream",
     "text": [
      " 77%|███████▋  | 207/269 [53:16<16:39, 16.11s/it]"
     ]
    },
    {
     "name": "stdout",
     "output_type": "stream",
     "text": [
      "Cost (USD): $0.000225\n"
     ]
    },
    {
     "name": "stderr",
     "output_type": "stream",
     "text": [
      " 77%|███████▋  | 208/269 [53:32<16:22, 16.11s/it]"
     ]
    },
    {
     "name": "stdout",
     "output_type": "stream",
     "text": [
      "Cost (USD): $0.000234\n"
     ]
    },
    {
     "name": "stderr",
     "output_type": "stream",
     "text": [
      " 78%|███████▊  | 209/269 [53:49<16:26, 16.43s/it]"
     ]
    },
    {
     "name": "stdout",
     "output_type": "stream",
     "text": [
      "Cost (USD): $0.000186\n"
     ]
    },
    {
     "name": "stderr",
     "output_type": "stream",
     "text": [
      " 78%|███████▊  | 210/269 [54:03<15:21, 15.62s/it]"
     ]
    },
    {
     "name": "stdout",
     "output_type": "stream",
     "text": [
      "Cost (USD): $0.000231\n"
     ]
    },
    {
     "name": "stderr",
     "output_type": "stream",
     "text": [
      " 78%|███████▊  | 211/269 [54:18<14:48, 15.31s/it]"
     ]
    },
    {
     "name": "stdout",
     "output_type": "stream",
     "text": [
      "Cost (USD): $0.000183\n"
     ]
    },
    {
     "name": "stderr",
     "output_type": "stream",
     "text": [
      " 79%|███████▉  | 212/269 [54:31<14:05, 14.84s/it]"
     ]
    },
    {
     "name": "stdout",
     "output_type": "stream",
     "text": [
      "Cost (USD): $0.000231\n"
     ]
    },
    {
     "name": "stderr",
     "output_type": "stream",
     "text": [
      " 79%|███████▉  | 213/269 [54:46<13:43, 14.70s/it]"
     ]
    },
    {
     "name": "stdout",
     "output_type": "stream",
     "text": [
      "Cost (USD): $0.000183\n"
     ]
    },
    {
     "name": "stderr",
     "output_type": "stream",
     "text": [
      " 80%|███████▉  | 214/269 [55:00<13:15, 14.47s/it]"
     ]
    },
    {
     "name": "stdout",
     "output_type": "stream",
     "text": [
      "Cost (USD): $0.000183\n"
     ]
    },
    {
     "name": "stderr",
     "output_type": "stream",
     "text": [
      " 80%|███████▉  | 215/269 [55:14<12:55, 14.36s/it]"
     ]
    },
    {
     "name": "stdout",
     "output_type": "stream",
     "text": [
      "Cost (USD): $0.000183\n"
     ]
    },
    {
     "name": "stderr",
     "output_type": "stream",
     "text": [
      " 80%|████████  | 216/269 [55:29<12:50, 14.54s/it]"
     ]
    },
    {
     "name": "stdout",
     "output_type": "stream",
     "text": [
      "Cost (USD): $0.000183\n"
     ]
    },
    {
     "name": "stderr",
     "output_type": "stream",
     "text": [
      " 81%|████████  | 217/269 [55:44<12:45, 14.72s/it]"
     ]
    },
    {
     "name": "stdout",
     "output_type": "stream",
     "text": [
      "Cost (USD): $0.000183\n"
     ]
    },
    {
     "name": "stderr",
     "output_type": "stream",
     "text": [
      " 81%|████████  | 218/269 [55:58<12:28, 14.67s/it]"
     ]
    },
    {
     "name": "stdout",
     "output_type": "stream",
     "text": [
      "Cost (USD): $0.000183\n"
     ]
    },
    {
     "name": "stderr",
     "output_type": "stream",
     "text": [
      " 81%|████████▏ | 219/269 [56:13<12:13, 14.66s/it]"
     ]
    },
    {
     "name": "stdout",
     "output_type": "stream",
     "text": [
      "Cost (USD): $0.000183\n"
     ]
    },
    {
     "name": "stderr",
     "output_type": "stream",
     "text": [
      " 82%|████████▏ | 220/269 [56:28<11:56, 14.63s/it]"
     ]
    },
    {
     "name": "stdout",
     "output_type": "stream",
     "text": [
      "Cost (USD): $0.000183\n"
     ]
    },
    {
     "name": "stderr",
     "output_type": "stream",
     "text": [
      " 82%|████████▏ | 221/269 [56:43<11:49, 14.79s/it]"
     ]
    },
    {
     "name": "stdout",
     "output_type": "stream",
     "text": [
      "Cost (USD): $0.000183\n"
     ]
    },
    {
     "name": "stderr",
     "output_type": "stream",
     "text": [
      " 83%|████████▎ | 222/269 [56:57<11:32, 14.74s/it]"
     ]
    },
    {
     "name": "stdout",
     "output_type": "stream",
     "text": [
      "Cost (USD): $0.000183\n"
     ]
    },
    {
     "name": "stderr",
     "output_type": "stream",
     "text": [
      " 83%|████████▎ | 223/269 [57:12<11:22, 14.84s/it]"
     ]
    },
    {
     "name": "stdout",
     "output_type": "stream",
     "text": [
      "Cost (USD): $0.000183\n"
     ]
    },
    {
     "name": "stderr",
     "output_type": "stream",
     "text": [
      " 83%|████████▎ | 224/269 [57:27<11:05, 14.78s/it]"
     ]
    },
    {
     "name": "stdout",
     "output_type": "stream",
     "text": [
      "Cost (USD): $0.000183\n"
     ]
    },
    {
     "name": "stderr",
     "output_type": "stream",
     "text": [
      " 84%|████████▎ | 225/269 [57:42<10:56, 14.92s/it]"
     ]
    },
    {
     "name": "stdout",
     "output_type": "stream",
     "text": [
      "Cost (USD): $0.000183\n"
     ]
    },
    {
     "name": "stderr",
     "output_type": "stream",
     "text": [
      " 84%|████████▍ | 226/269 [57:57<10:42, 14.93s/it]"
     ]
    },
    {
     "name": "stdout",
     "output_type": "stream",
     "text": [
      "Cost (USD): $0.000183\n"
     ]
    },
    {
     "name": "stderr",
     "output_type": "stream",
     "text": [
      " 84%|████████▍ | 227/269 [58:12<10:19, 14.75s/it]"
     ]
    },
    {
     "name": "stdout",
     "output_type": "stream",
     "text": [
      "Cost (USD): $0.000183\n"
     ]
    },
    {
     "name": "stderr",
     "output_type": "stream",
     "text": [
      " 85%|████████▍ | 228/269 [58:29<10:32, 15.43s/it]"
     ]
    },
    {
     "name": "stdout",
     "output_type": "stream",
     "text": [
      "Cost (USD): $0.000308\n"
     ]
    },
    {
     "name": "stderr",
     "output_type": "stream",
     "text": [
      " 85%|████████▌ | 229/269 [58:44<10:15, 15.38s/it]"
     ]
    },
    {
     "name": "stdout",
     "output_type": "stream",
     "text": [
      "Cost (USD): $0.000183\n"
     ]
    },
    {
     "name": "stderr",
     "output_type": "stream",
     "text": [
      " 86%|████████▌ | 230/269 [58:59<09:54, 15.25s/it]"
     ]
    },
    {
     "name": "stdout",
     "output_type": "stream",
     "text": [
      "Cost (USD): $0.000183\n"
     ]
    },
    {
     "name": "stderr",
     "output_type": "stream",
     "text": [
      " 86%|████████▌ | 231/269 [59:13<09:30, 15.00s/it]"
     ]
    },
    {
     "name": "stdout",
     "output_type": "stream",
     "text": [
      "Cost (USD): $0.000183\n"
     ]
    },
    {
     "name": "stderr",
     "output_type": "stream",
     "text": [
      " 86%|████████▌ | 232/269 [59:28<09:12, 14.93s/it]"
     ]
    },
    {
     "name": "stdout",
     "output_type": "stream",
     "text": [
      "Cost (USD): $0.000183\n"
     ]
    },
    {
     "name": "stderr",
     "output_type": "stream",
     "text": [
      " 87%|████████▋ | 233/269 [59:43<08:52, 14.78s/it]"
     ]
    },
    {
     "name": "stdout",
     "output_type": "stream",
     "text": [
      "Cost (USD): $0.000183\n"
     ]
    },
    {
     "name": "stderr",
     "output_type": "stream",
     "text": [
      " 87%|████████▋ | 234/269 [59:59<08:54, 15.26s/it]"
     ]
    },
    {
     "name": "stdout",
     "output_type": "stream",
     "text": [
      "Cost (USD): $0.000183\n"
     ]
    },
    {
     "name": "stderr",
     "output_type": "stream",
     "text": [
      " 87%|████████▋ | 235/269 [1:00:13<08:28, 14.96s/it]"
     ]
    },
    {
     "name": "stdout",
     "output_type": "stream",
     "text": [
      "Cost (USD): $0.000183\n"
     ]
    },
    {
     "name": "stderr",
     "output_type": "stream",
     "text": [
      " 88%|████████▊ | 236/269 [1:00:28<08:14, 14.98s/it]"
     ]
    },
    {
     "name": "stdout",
     "output_type": "stream",
     "text": [
      "Cost (USD): $0.000183\n"
     ]
    },
    {
     "name": "stderr",
     "output_type": "stream",
     "text": [
      " 88%|████████▊ | 237/269 [1:00:43<07:58, 14.94s/it]"
     ]
    },
    {
     "name": "stdout",
     "output_type": "stream",
     "text": [
      "Cost (USD): $0.000183\n"
     ]
    },
    {
     "name": "stderr",
     "output_type": "stream",
     "text": [
      " 88%|████████▊ | 238/269 [1:00:57<07:35, 14.70s/it]"
     ]
    },
    {
     "name": "stdout",
     "output_type": "stream",
     "text": [
      "Cost (USD): $0.000183\n"
     ]
    },
    {
     "name": "stderr",
     "output_type": "stream",
     "text": [
      " 89%|████████▉ | 239/269 [1:01:12<07:24, 14.81s/it]"
     ]
    },
    {
     "name": "stdout",
     "output_type": "stream",
     "text": [
      "Cost (USD): $0.000183\n"
     ]
    },
    {
     "name": "stderr",
     "output_type": "stream",
     "text": [
      " 89%|████████▉ | 240/269 [1:01:27<07:06, 14.69s/it]"
     ]
    },
    {
     "name": "stdout",
     "output_type": "stream",
     "text": [
      "Cost (USD): $0.000308\n"
     ]
    },
    {
     "name": "stderr",
     "output_type": "stream",
     "text": [
      " 90%|████████▉ | 241/269 [1:01:41<06:51, 14.71s/it]"
     ]
    },
    {
     "name": "stdout",
     "output_type": "stream",
     "text": [
      "Cost (USD): $0.000183\n"
     ]
    },
    {
     "name": "stderr",
     "output_type": "stream",
     "text": [
      " 90%|████████▉ | 242/269 [1:01:55<06:31, 14.51s/it]"
     ]
    },
    {
     "name": "stdout",
     "output_type": "stream",
     "text": [
      "Cost (USD): $0.000183\n"
     ]
    },
    {
     "name": "stderr",
     "output_type": "stream",
     "text": [
      " 90%|█████████ | 243/269 [1:02:10<06:17, 14.52s/it]"
     ]
    },
    {
     "name": "stdout",
     "output_type": "stream",
     "text": [
      "Cost (USD): $0.000308\n"
     ]
    },
    {
     "name": "stderr",
     "output_type": "stream",
     "text": [
      " 91%|█████████ | 244/269 [1:02:24<06:02, 14.49s/it]"
     ]
    },
    {
     "name": "stdout",
     "output_type": "stream",
     "text": [
      "Cost (USD): $0.000183\n"
     ]
    },
    {
     "name": "stderr",
     "output_type": "stream",
     "text": [
      " 91%|█████████ | 245/269 [1:02:39<05:46, 14.44s/it]"
     ]
    },
    {
     "name": "stdout",
     "output_type": "stream",
     "text": [
      "Cost (USD): $0.000183\n"
     ]
    },
    {
     "name": "stderr",
     "output_type": "stream",
     "text": [
      " 91%|█████████▏| 246/269 [1:02:53<05:33, 14.51s/it]"
     ]
    },
    {
     "name": "stdout",
     "output_type": "stream",
     "text": [
      "Cost (USD): $0.000183\n"
     ]
    },
    {
     "name": "stderr",
     "output_type": "stream",
     "text": [
      " 92%|█████████▏| 247/269 [1:03:08<05:21, 14.61s/it]"
     ]
    },
    {
     "name": "stdout",
     "output_type": "stream",
     "text": [
      "Cost (USD): $0.000183\n"
     ]
    },
    {
     "name": "stderr",
     "output_type": "stream",
     "text": [
      " 92%|█████████▏| 248/269 [1:03:23<05:07, 14.65s/it]"
     ]
    },
    {
     "name": "stdout",
     "output_type": "stream",
     "text": [
      "Cost (USD): $0.000183\n"
     ]
    },
    {
     "name": "stderr",
     "output_type": "stream",
     "text": [
      " 93%|█████████▎| 249/269 [1:03:38<04:52, 14.65s/it]"
     ]
    },
    {
     "name": "stdout",
     "output_type": "stream",
     "text": [
      "Cost (USD): $0.000183\n"
     ]
    },
    {
     "name": "stderr",
     "output_type": "stream",
     "text": [
      " 93%|█████████▎| 250/269 [1:03:52<04:36, 14.55s/it]"
     ]
    },
    {
     "name": "stdout",
     "output_type": "stream",
     "text": [
      "Cost (USD): $0.000183\n"
     ]
    },
    {
     "name": "stderr",
     "output_type": "stream",
     "text": [
      " 93%|█████████▎| 251/269 [1:04:06<04:20, 14.49s/it]"
     ]
    },
    {
     "name": "stdout",
     "output_type": "stream",
     "text": [
      "Cost (USD): $0.000183\n"
     ]
    },
    {
     "name": "stderr",
     "output_type": "stream",
     "text": [
      " 94%|█████████▎| 252/269 [1:04:20<04:04, 14.38s/it]"
     ]
    },
    {
     "name": "stdout",
     "output_type": "stream",
     "text": [
      "Cost (USD): $0.000184\n"
     ]
    },
    {
     "name": "stderr",
     "output_type": "stream",
     "text": [
      " 94%|█████████▍| 253/269 [1:04:35<03:49, 14.37s/it]"
     ]
    },
    {
     "name": "stdout",
     "output_type": "stream",
     "text": [
      "Cost (USD): $0.000183\n"
     ]
    },
    {
     "name": "stderr",
     "output_type": "stream",
     "text": [
      " 94%|█████████▍| 254/269 [1:04:51<03:44, 14.97s/it]"
     ]
    },
    {
     "name": "stdout",
     "output_type": "stream",
     "text": [
      "Cost (USD): $0.000183\n"
     ]
    },
    {
     "name": "stderr",
     "output_type": "stream",
     "text": [
      " 95%|█████████▍| 255/269 [1:05:03<03:17, 14.14s/it]"
     ]
    },
    {
     "name": "stdout",
     "output_type": "stream",
     "text": [
      "Cost (USD): $0.000246\n"
     ]
    },
    {
     "name": "stderr",
     "output_type": "stream",
     "text": [
      " 95%|█████████▌| 256/269 [1:05:17<03:00, 13.92s/it]"
     ]
    },
    {
     "name": "stdout",
     "output_type": "stream",
     "text": [
      "Cost (USD): $0.000243\n"
     ]
    },
    {
     "name": "stderr",
     "output_type": "stream",
     "text": [
      " 96%|█████████▌| 257/269 [1:05:29<02:40, 13.40s/it]"
     ]
    },
    {
     "name": "stdout",
     "output_type": "stream",
     "text": [
      "Cost (USD): $0.000237\n"
     ]
    },
    {
     "name": "stderr",
     "output_type": "stream",
     "text": [
      " 96%|█████████▌| 258/269 [1:05:41<02:24, 13.13s/it]"
     ]
    },
    {
     "name": "stdout",
     "output_type": "stream",
     "text": [
      "Cost (USD): $0.000198\n"
     ]
    },
    {
     "name": "stderr",
     "output_type": "stream",
     "text": [
      " 96%|█████████▋| 259/269 [1:05:54<02:10, 13.06s/it]"
     ]
    },
    {
     "name": "stdout",
     "output_type": "stream",
     "text": [
      "Cost (USD): $0.000199\n"
     ]
    },
    {
     "name": "stderr",
     "output_type": "stream",
     "text": [
      " 97%|█████████▋| 260/269 [1:06:08<01:58, 13.14s/it]"
     ]
    },
    {
     "name": "stdout",
     "output_type": "stream",
     "text": [
      "Cost (USD): $0.000195\n"
     ]
    },
    {
     "name": "stderr",
     "output_type": "stream",
     "text": [
      " 97%|█████████▋| 261/269 [1:06:22<01:48, 13.56s/it]"
     ]
    },
    {
     "name": "stdout",
     "output_type": "stream",
     "text": [
      "Cost (USD): $0.000196\n"
     ]
    },
    {
     "name": "stderr",
     "output_type": "stream",
     "text": [
      " 97%|█████████▋| 262/269 [1:06:37<01:36, 13.82s/it]"
     ]
    },
    {
     "name": "stdout",
     "output_type": "stream",
     "text": [
      "Cost (USD): $0.000196\n"
     ]
    },
    {
     "name": "stderr",
     "output_type": "stream",
     "text": [
      " 98%|█████████▊| 263/269 [1:06:49<01:20, 13.42s/it]"
     ]
    },
    {
     "name": "stdout",
     "output_type": "stream",
     "text": [
      "Cost (USD): $0.000198\n"
     ]
    },
    {
     "name": "stderr",
     "output_type": "stream",
     "text": [
      " 98%|█████████▊| 264/269 [1:07:01<01:05, 13.02s/it]"
     ]
    },
    {
     "name": "stdout",
     "output_type": "stream",
     "text": [
      "Cost (USD): $0.000198\n"
     ]
    },
    {
     "name": "stderr",
     "output_type": "stream",
     "text": [
      " 99%|█████████▊| 265/269 [1:07:16<00:53, 13.48s/it]"
     ]
    },
    {
     "name": "stdout",
     "output_type": "stream",
     "text": [
      "Cost (USD): $0.000195\n"
     ]
    },
    {
     "name": "stderr",
     "output_type": "stream",
     "text": [
      " 99%|█████████▉| 266/269 [1:07:30<00:41, 13.77s/it]"
     ]
    },
    {
     "name": "stdout",
     "output_type": "stream",
     "text": [
      "Cost (USD): $0.000195\n"
     ]
    },
    {
     "name": "stderr",
     "output_type": "stream",
     "text": [
      " 99%|█████████▉| 267/269 [1:07:45<00:28, 14.11s/it]"
     ]
    },
    {
     "name": "stdout",
     "output_type": "stream",
     "text": [
      "Cost (USD): $0.000195\n"
     ]
    },
    {
     "name": "stderr",
     "output_type": "stream",
     "text": [
      "100%|█████████▉| 268/269 [1:07:59<00:14, 14.19s/it]"
     ]
    },
    {
     "name": "stdout",
     "output_type": "stream",
     "text": [
      "Cost (USD): $0.000196\n"
     ]
    },
    {
     "name": "stderr",
     "output_type": "stream",
     "text": [
      "100%|██████████| 269/269 [1:08:14<00:00, 15.22s/it]"
     ]
    },
    {
     "name": "stdout",
     "output_type": "stream",
     "text": [
      "Cost (USD): $0.000195\n"
     ]
    },
    {
     "name": "stderr",
     "output_type": "stream",
     "text": [
      "\n"
     ]
    }
   ],
   "source": [
    "results = run_validated_pipeline(\n",
    "        data\n",
    ")\n",
    "results_df = pd.DataFrame(results)\n",
    "results_df.to_csv(\"pipeline_results.csv\", index=False)"
   ]
  },
  {
   "cell_type": "markdown",
   "id": "59f758e5",
   "metadata": {},
   "source": [
    "### Quick evaluation to get an idea"
   ]
  },
  {
   "cell_type": "code",
   "execution_count": 4,
   "id": "a8d0793e",
   "metadata": {},
   "outputs": [
    {
     "data": {
      "text/html": [
       "<div>\n",
       "<style scoped>\n",
       "    .dataframe tbody tr th:only-of-type {\n",
       "        vertical-align: middle;\n",
       "    }\n",
       "\n",
       "    .dataframe tbody tr th {\n",
       "        vertical-align: top;\n",
       "    }\n",
       "\n",
       "    .dataframe thead th {\n",
       "        text-align: right;\n",
       "    }\n",
       "</style>\n",
       "<table border=\"1\" class=\"dataframe\">\n",
       "  <thead>\n",
       "    <tr style=\"text-align: right;\">\n",
       "      <th></th>\n",
       "      <th>natural_language_question</th>\n",
       "      <th>prompt_templates</th>\n",
       "      <th>prompt_examples</th>\n",
       "      <th>all_prompts_ranked</th>\n",
       "      <th>most_similar_template</th>\n",
       "      <th>validation_time</th>\n",
       "      <th>valid_query</th>\n",
       "      <th>query</th>\n",
       "      <th>attempts</th>\n",
       "      <th>initial_query_time</th>\n",
       "      <th>result</th>\n",
       "      <th>final_query_execution_time</th>\n",
       "      <th>total_time</th>\n",
       "    </tr>\n",
       "  </thead>\n",
       "  <tbody>\n",
       "    <tr>\n",
       "      <th>0</th>\n",
       "      <td>Which patients have received a diagnosis of I10?</td>\n",
       "      <td>Template 0:\\nTemplate Question: Which patients...</td>\n",
       "      <td>Example 0:\\nQuestion: Which patients have been...</td>\n",
       "      <td>['PREFIX sphn: &lt;https://www.biomedit.ch/rdf/sp...</td>\n",
       "      <td>{'query_example': 'PREFIX sphn: &lt;https://www.b...</td>\n",
       "      <td>[]</td>\n",
       "      <td>True</td>\n",
       "      <td>PREFIX sphn: &lt;https://www.biomedit.ch/rdf/sphn...</td>\n",
       "      <td>0</td>\n",
       "      <td>2.243114</td>\n",
       "      <td>[{'patient': IRI&lt;https://www.biomedit.ch/rdf/s...</td>\n",
       "      <td>0.009645</td>\n",
       "      <td>14.450203</td>\n",
       "    </tr>\n",
       "    <tr>\n",
       "      <th>1</th>\n",
       "      <td>Which patients have received a diagnosis of I708?</td>\n",
       "      <td>Template 0:\\nTemplate Question: Which patients...</td>\n",
       "      <td>Example 0:\\nQuestion: Which patients have been...</td>\n",
       "      <td>['PREFIX sphn: &lt;https://www.biomedit.ch/rdf/sp...</td>\n",
       "      <td>{'query_example': 'PREFIX sphn: &lt;https://www.b...</td>\n",
       "      <td>[]</td>\n",
       "      <td>True</td>\n",
       "      <td>PREFIX sphn: &lt;https://www.biomedit.ch/rdf/sphn...</td>\n",
       "      <td>0</td>\n",
       "      <td>3.480346</td>\n",
       "      <td>[{'patient': IRI&lt;https://www.biomedit.ch/rdf/s...</td>\n",
       "      <td>0.002541</td>\n",
       "      <td>14.939621</td>\n",
       "    </tr>\n",
       "    <tr>\n",
       "      <th>2</th>\n",
       "      <td>Which patients have received a diagnosis of I2...</td>\n",
       "      <td>Template 0:\\nTemplate Question: Which patients...</td>\n",
       "      <td>Example 0:\\nQuestion: Which patients have been...</td>\n",
       "      <td>['PREFIX sphn: &lt;https://www.biomedit.ch/rdf/sp...</td>\n",
       "      <td>{'query_example': 'PREFIX sphn: &lt;https://www.b...</td>\n",
       "      <td>[]</td>\n",
       "      <td>True</td>\n",
       "      <td>PREFIX sphn: &lt;https://www.biomedit.ch/rdf/sphn...</td>\n",
       "      <td>0</td>\n",
       "      <td>3.626523</td>\n",
       "      <td>[{'patient': IRI&lt;https://www.biomedit.ch/rdf/s...</td>\n",
       "      <td>0.005151</td>\n",
       "      <td>14.337237</td>\n",
       "    </tr>\n",
       "    <tr>\n",
       "      <th>3</th>\n",
       "      <td>Which patients have been given a diagnosis of ...</td>\n",
       "      <td>Template 0:\\nTemplate Question: Which patients...</td>\n",
       "      <td>Example 0:\\nQuestion: Which patients have been...</td>\n",
       "      <td>['PREFIX sphn: &lt;https://www.biomedit.ch/rdf/sp...</td>\n",
       "      <td>{'query_example': 'PREFIX sphn: &lt;https://www.b...</td>\n",
       "      <td>[]</td>\n",
       "      <td>True</td>\n",
       "      <td>PREFIX sphn: &lt;https://www.biomedit.ch/rdf/sphn...</td>\n",
       "      <td>0</td>\n",
       "      <td>2.037182</td>\n",
       "      <td>[{'patient': IRI&lt;https://www.biomedit.ch/rdf/s...</td>\n",
       "      <td>0.003937</td>\n",
       "      <td>13.107477</td>\n",
       "    </tr>\n",
       "    <tr>\n",
       "      <th>4</th>\n",
       "      <td>Which patients have been given a diagnosis of ...</td>\n",
       "      <td>Template 0:\\nTemplate Question: Which patients...</td>\n",
       "      <td>Example 0:\\nQuestion: Which patients have been...</td>\n",
       "      <td>['PREFIX sphn: &lt;https://www.biomedit.ch/rdf/sp...</td>\n",
       "      <td>{'query_example': 'PREFIX sphn: &lt;https://www.b...</td>\n",
       "      <td>[]</td>\n",
       "      <td>True</td>\n",
       "      <td>PREFIX sphn: &lt;https://www.biomedit.ch/rdf/sphn...</td>\n",
       "      <td>0</td>\n",
       "      <td>3.202002</td>\n",
       "      <td>[{'patient': IRI&lt;https://www.biomedit.ch/rdf/s...</td>\n",
       "      <td>0.002005</td>\n",
       "      <td>14.538806</td>\n",
       "    </tr>\n",
       "    <tr>\n",
       "      <th>...</th>\n",
       "      <td>...</td>\n",
       "      <td>...</td>\n",
       "      <td>...</td>\n",
       "      <td>...</td>\n",
       "      <td>...</td>\n",
       "      <td>...</td>\n",
       "      <td>...</td>\n",
       "      <td>...</td>\n",
       "      <td>...</td>\n",
       "      <td>...</td>\n",
       "      <td>...</td>\n",
       "      <td>...</td>\n",
       "      <td>...</td>\n",
       "    </tr>\n",
       "    <tr>\n",
       "      <th>264</th>\n",
       "      <td>Which patients have encountered an adverse eve...</td>\n",
       "      <td>Template 0:\\nTemplate Question: Which patients...</td>\n",
       "      <td>Example 0:\\nQuestion: Which patients have had ...</td>\n",
       "      <td>['PREFIX sphn: &lt;https://www.biomedit.ch/rdf/sp...</td>\n",
       "      <td>{'query_example': 'PREFIX sphn: &lt;https://www.b...</td>\n",
       "      <td>[]</td>\n",
       "      <td>True</td>\n",
       "      <td>PREFIX sphn: &lt;https://www.biomedit.ch/rdf/sphn...</td>\n",
       "      <td>0</td>\n",
       "      <td>2.283446</td>\n",
       "      <td>[{'patient': IRI&lt;http://kg-representation-ehr....</td>\n",
       "      <td>0.002249</td>\n",
       "      <td>14.540234</td>\n",
       "    </tr>\n",
       "    <tr>\n",
       "      <th>265</th>\n",
       "      <td>Which patients have experienced an adverse eve...</td>\n",
       "      <td>Template 0:\\nTemplate Question: Which patients...</td>\n",
       "      <td>Example 0:\\nQuestion: Which patients have had ...</td>\n",
       "      <td>['PREFIX sphn: &lt;https://www.biomedit.ch/rdf/sp...</td>\n",
       "      <td>{'query_example': 'PREFIX sphn: &lt;https://www.b...</td>\n",
       "      <td>[]</td>\n",
       "      <td>True</td>\n",
       "      <td>PREFIX sphn: &lt;https://www.biomedit.ch/rdf/sphn...</td>\n",
       "      <td>0</td>\n",
       "      <td>2.274662</td>\n",
       "      <td>[{'patient': IRI&lt;http://kg-representation-ehr....</td>\n",
       "      <td>0.002035</td>\n",
       "      <td>14.439656</td>\n",
       "    </tr>\n",
       "    <tr>\n",
       "      <th>266</th>\n",
       "      <td>Which patients have undergone an adverse event...</td>\n",
       "      <td>Template 0:\\nTemplate Question: Which patients...</td>\n",
       "      <td>Example 0:\\nQuestion: Which patients have had ...</td>\n",
       "      <td>['PREFIX sphn: &lt;https://www.biomedit.ch/rdf/sp...</td>\n",
       "      <td>{'query_example': 'PREFIX sphn: &lt;https://www.b...</td>\n",
       "      <td>[]</td>\n",
       "      <td>True</td>\n",
       "      <td>PREFIX sphn: &lt;https://www.biomedit.ch/rdf/sphn...</td>\n",
       "      <td>0</td>\n",
       "      <td>2.187654</td>\n",
       "      <td>[{'patient': IRI&lt;http://kg-representation-ehr....</td>\n",
       "      <td>0.002199</td>\n",
       "      <td>14.913631</td>\n",
       "    </tr>\n",
       "    <tr>\n",
       "      <th>267</th>\n",
       "      <td>Which patients have undergone an adverse event...</td>\n",
       "      <td>Template 0:\\nTemplate Question: Which patients...</td>\n",
       "      <td>Example 0:\\nQuestion: Which patients have had ...</td>\n",
       "      <td>['PREFIX sphn: &lt;https://www.biomedit.ch/rdf/sp...</td>\n",
       "      <td>{'query_example': 'PREFIX sphn: &lt;https://www.b...</td>\n",
       "      <td>[]</td>\n",
       "      <td>True</td>\n",
       "      <td>PREFIX sphn: &lt;https://www.biomedit.ch/rdf/sphn...</td>\n",
       "      <td>0</td>\n",
       "      <td>2.062255</td>\n",
       "      <td>[{'patient': IRI&lt;http://kg-representation-ehr....</td>\n",
       "      <td>0.002832</td>\n",
       "      <td>14.365439</td>\n",
       "    </tr>\n",
       "    <tr>\n",
       "      <th>268</th>\n",
       "      <td>Which patients have faced an adverse event tha...</td>\n",
       "      <td>Template 0:\\nTemplate Question: Which patients...</td>\n",
       "      <td>Example 0:\\nQuestion: Which patients have had ...</td>\n",
       "      <td>['PREFIX sphn: &lt;https://www.biomedit.ch/rdf/sp...</td>\n",
       "      <td>{'query_example': 'PREFIX sphn: &lt;https://www.b...</td>\n",
       "      <td>[]</td>\n",
       "      <td>True</td>\n",
       "      <td>PREFIX sphn: &lt;https://www.biomedit.ch/rdf/sphn...</td>\n",
       "      <td>0</td>\n",
       "      <td>2.510436</td>\n",
       "      <td>[{'patient': IRI&lt;http://kg-representation-ehr....</td>\n",
       "      <td>0.002121</td>\n",
       "      <td>14.846453</td>\n",
       "    </tr>\n",
       "  </tbody>\n",
       "</table>\n",
       "<p>269 rows × 13 columns</p>\n",
       "</div>"
      ],
      "text/plain": [
       "                             natural_language_question  \\\n",
       "0     Which patients have received a diagnosis of I10?   \n",
       "1    Which patients have received a diagnosis of I708?   \n",
       "2    Which patients have received a diagnosis of I2...   \n",
       "3    Which patients have been given a diagnosis of ...   \n",
       "4    Which patients have been given a diagnosis of ...   \n",
       "..                                                 ...   \n",
       "264  Which patients have encountered an adverse eve...   \n",
       "265  Which patients have experienced an adverse eve...   \n",
       "266  Which patients have undergone an adverse event...   \n",
       "267  Which patients have undergone an adverse event...   \n",
       "268  Which patients have faced an adverse event tha...   \n",
       "\n",
       "                                      prompt_templates  \\\n",
       "0    Template 0:\\nTemplate Question: Which patients...   \n",
       "1    Template 0:\\nTemplate Question: Which patients...   \n",
       "2    Template 0:\\nTemplate Question: Which patients...   \n",
       "3    Template 0:\\nTemplate Question: Which patients...   \n",
       "4    Template 0:\\nTemplate Question: Which patients...   \n",
       "..                                                 ...   \n",
       "264  Template 0:\\nTemplate Question: Which patients...   \n",
       "265  Template 0:\\nTemplate Question: Which patients...   \n",
       "266  Template 0:\\nTemplate Question: Which patients...   \n",
       "267  Template 0:\\nTemplate Question: Which patients...   \n",
       "268  Template 0:\\nTemplate Question: Which patients...   \n",
       "\n",
       "                                       prompt_examples  \\\n",
       "0    Example 0:\\nQuestion: Which patients have been...   \n",
       "1    Example 0:\\nQuestion: Which patients have been...   \n",
       "2    Example 0:\\nQuestion: Which patients have been...   \n",
       "3    Example 0:\\nQuestion: Which patients have been...   \n",
       "4    Example 0:\\nQuestion: Which patients have been...   \n",
       "..                                                 ...   \n",
       "264  Example 0:\\nQuestion: Which patients have had ...   \n",
       "265  Example 0:\\nQuestion: Which patients have had ...   \n",
       "266  Example 0:\\nQuestion: Which patients have had ...   \n",
       "267  Example 0:\\nQuestion: Which patients have had ...   \n",
       "268  Example 0:\\nQuestion: Which patients have had ...   \n",
       "\n",
       "                                    all_prompts_ranked  \\\n",
       "0    ['PREFIX sphn: <https://www.biomedit.ch/rdf/sp...   \n",
       "1    ['PREFIX sphn: <https://www.biomedit.ch/rdf/sp...   \n",
       "2    ['PREFIX sphn: <https://www.biomedit.ch/rdf/sp...   \n",
       "3    ['PREFIX sphn: <https://www.biomedit.ch/rdf/sp...   \n",
       "4    ['PREFIX sphn: <https://www.biomedit.ch/rdf/sp...   \n",
       "..                                                 ...   \n",
       "264  ['PREFIX sphn: <https://www.biomedit.ch/rdf/sp...   \n",
       "265  ['PREFIX sphn: <https://www.biomedit.ch/rdf/sp...   \n",
       "266  ['PREFIX sphn: <https://www.biomedit.ch/rdf/sp...   \n",
       "267  ['PREFIX sphn: <https://www.biomedit.ch/rdf/sp...   \n",
       "268  ['PREFIX sphn: <https://www.biomedit.ch/rdf/sp...   \n",
       "\n",
       "                                 most_similar_template validation_time  \\\n",
       "0    {'query_example': 'PREFIX sphn: <https://www.b...              []   \n",
       "1    {'query_example': 'PREFIX sphn: <https://www.b...              []   \n",
       "2    {'query_example': 'PREFIX sphn: <https://www.b...              []   \n",
       "3    {'query_example': 'PREFIX sphn: <https://www.b...              []   \n",
       "4    {'query_example': 'PREFIX sphn: <https://www.b...              []   \n",
       "..                                                 ...             ...   \n",
       "264  {'query_example': 'PREFIX sphn: <https://www.b...              []   \n",
       "265  {'query_example': 'PREFIX sphn: <https://www.b...              []   \n",
       "266  {'query_example': 'PREFIX sphn: <https://www.b...              []   \n",
       "267  {'query_example': 'PREFIX sphn: <https://www.b...              []   \n",
       "268  {'query_example': 'PREFIX sphn: <https://www.b...              []   \n",
       "\n",
       "     valid_query                                              query  attempts  \\\n",
       "0           True  PREFIX sphn: <https://www.biomedit.ch/rdf/sphn...         0   \n",
       "1           True  PREFIX sphn: <https://www.biomedit.ch/rdf/sphn...         0   \n",
       "2           True  PREFIX sphn: <https://www.biomedit.ch/rdf/sphn...         0   \n",
       "3           True  PREFIX sphn: <https://www.biomedit.ch/rdf/sphn...         0   \n",
       "4           True  PREFIX sphn: <https://www.biomedit.ch/rdf/sphn...         0   \n",
       "..           ...                                                ...       ...   \n",
       "264         True  PREFIX sphn: <https://www.biomedit.ch/rdf/sphn...         0   \n",
       "265         True  PREFIX sphn: <https://www.biomedit.ch/rdf/sphn...         0   \n",
       "266         True  PREFIX sphn: <https://www.biomedit.ch/rdf/sphn...         0   \n",
       "267         True  PREFIX sphn: <https://www.biomedit.ch/rdf/sphn...         0   \n",
       "268         True  PREFIX sphn: <https://www.biomedit.ch/rdf/sphn...         0   \n",
       "\n",
       "     initial_query_time                                             result  \\\n",
       "0              2.243114  [{'patient': IRI<https://www.biomedit.ch/rdf/s...   \n",
       "1              3.480346  [{'patient': IRI<https://www.biomedit.ch/rdf/s...   \n",
       "2              3.626523  [{'patient': IRI<https://www.biomedit.ch/rdf/s...   \n",
       "3              2.037182  [{'patient': IRI<https://www.biomedit.ch/rdf/s...   \n",
       "4              3.202002  [{'patient': IRI<https://www.biomedit.ch/rdf/s...   \n",
       "..                  ...                                                ...   \n",
       "264            2.283446  [{'patient': IRI<http://kg-representation-ehr....   \n",
       "265            2.274662  [{'patient': IRI<http://kg-representation-ehr....   \n",
       "266            2.187654  [{'patient': IRI<http://kg-representation-ehr....   \n",
       "267            2.062255  [{'patient': IRI<http://kg-representation-ehr....   \n",
       "268            2.510436  [{'patient': IRI<http://kg-representation-ehr....   \n",
       "\n",
       "     final_query_execution_time  total_time  \n",
       "0                      0.009645   14.450203  \n",
       "1                      0.002541   14.939621  \n",
       "2                      0.005151   14.337237  \n",
       "3                      0.003937   13.107477  \n",
       "4                      0.002005   14.538806  \n",
       "..                          ...         ...  \n",
       "264                    0.002249   14.540234  \n",
       "265                    0.002035   14.439656  \n",
       "266                    0.002199   14.913631  \n",
       "267                    0.002832   14.365439  \n",
       "268                    0.002121   14.846453  \n",
       "\n",
       "[269 rows x 13 columns]"
      ]
     },
     "execution_count": 4,
     "metadata": {},
     "output_type": "execute_result"
    }
   ],
   "source": [
    "get_df_back =pd.read_csv(\"/home/mathiasyap/Code/university/phkg/MAI_Project_PHKG/src/pipeline_results.csv\")\n",
    "get_df_back"
   ]
  },
  {
   "cell_type": "code",
   "execution_count": 6,
   "id": "5ff595fc",
   "metadata": {},
   "outputs": [
    {
     "data": {
      "text/plain": [
       "(269, 13)"
      ]
     },
     "execution_count": 6,
     "metadata": {},
     "output_type": "execute_result"
    }
   ],
   "source": [
    "get_df_back.shape"
   ]
  },
  {
   "cell_type": "code",
   "execution_count": null,
   "id": "ce4c28f9",
   "metadata": {},
   "outputs": [
    {
     "ename": "TypeError",
     "evalue": "expected string or bytes-like object, got 'float'",
     "output_type": "error",
     "traceback": [
      "\u001b[31m---------------------------------------------------------------------------\u001b[39m",
      "\u001b[31mTypeError\u001b[39m                                 Traceback (most recent call last)",
      "\u001b[36mCell\u001b[39m\u001b[36m \u001b[39m\u001b[32mIn[5]\u001b[39m\u001b[32m, line 20\u001b[39m\n\u001b[32m     17\u001b[39m             count += \u001b[32m1\u001b[39m\n\u001b[32m     18\u001b[39m     \u001b[38;5;28;01mreturn\u001b[39;00m count\n\u001b[32m---> \u001b[39m\u001b[32m20\u001b[39m matching_count = \u001b[43mcount_matching_results\u001b[49m\u001b[43m(\u001b[49m\u001b[43mtest_set_df\u001b[49m\u001b[43m,\u001b[49m\u001b[43m \u001b[49m\u001b[43mget_df_back\u001b[49m\u001b[43m)\u001b[49m\n\u001b[32m     21\u001b[39m \u001b[38;5;28mprint\u001b[39m(\u001b[33mf\u001b[39m\u001b[33m\"\u001b[39m\u001b[33mmatched \u001b[39m\u001b[38;5;132;01m{\u001b[39;00mmatching_count\u001b[38;5;132;01m}\u001b[39;00m\u001b[33m out of \u001b[39m\u001b[38;5;132;01m{\u001b[39;00mget_df_back.shape[\u001b[32m0\u001b[39m]\u001b[38;5;132;01m}\u001b[39;00m\u001b[33m queries exactly by their result\u001b[39m\u001b[33m\"\u001b[39m)\n",
      "\u001b[36mCell\u001b[39m\u001b[36m \u001b[39m\u001b[32mIn[5]\u001b[39m\u001b[32m, line 13\u001b[39m, in \u001b[36mcount_matching_results\u001b[39m\u001b[34m(test_set_df, get_df_back)\u001b[39m\n\u001b[32m     10\u001b[39m expected_result_obj = ast.literal_eval(expected_result_str_fixed)\n\u001b[32m     12\u001b[39m result_str = get_df_back[\u001b[33m'\u001b[39m\u001b[33mresult\u001b[39m\u001b[33m'\u001b[39m][idx]\n\u001b[32m---> \u001b[39m\u001b[32m13\u001b[39m result_str_fixed = \u001b[43mre\u001b[49m\u001b[43m.\u001b[49m\u001b[43msub\u001b[49m\u001b[43m(\u001b[49m\u001b[33;43mr\u001b[39;49m\u001b[33;43m'\u001b[39;49m\u001b[33;43mIRI<([^>]*)>\u001b[39;49m\u001b[33;43m'\u001b[39;49m\u001b[43m,\u001b[49m\u001b[43m \u001b[49m\u001b[33;43mr\u001b[39;49m\u001b[33;43m'\u001b[39;49m\u001b[33;43m\"\u001b[39;49m\u001b[33;43m\\\u001b[39;49m\u001b[33;43m1\u001b[39;49m\u001b[33;43m\"\u001b[39;49m\u001b[33;43m'\u001b[39;49m\u001b[43m,\u001b[49m\u001b[43m \u001b[49m\u001b[43mresult_str\u001b[49m\u001b[43m)\u001b[49m\n\u001b[32m     14\u001b[39m result_obj = ast.literal_eval(result_str_fixed)\n\u001b[32m     16\u001b[39m \u001b[38;5;28;01mif\u001b[39;00m expected_result_obj == result_obj:\n",
      "\u001b[36mFile \u001b[39m\u001b[32m/usr/lib64/python3.13/re/__init__.py:208\u001b[39m, in \u001b[36msub\u001b[39m\u001b[34m(pattern, repl, string, count, flags, *args)\u001b[39m\n\u001b[32m    202\u001b[39m     \u001b[38;5;28;01mimport\u001b[39;00m\u001b[38;5;250m \u001b[39m\u001b[34;01mwarnings\u001b[39;00m\n\u001b[32m    203\u001b[39m     warnings.warn(\n\u001b[32m    204\u001b[39m         \u001b[33m\"\u001b[39m\u001b[33m'\u001b[39m\u001b[33mcount\u001b[39m\u001b[33m'\u001b[39m\u001b[33m is passed as positional argument\u001b[39m\u001b[33m\"\u001b[39m,\n\u001b[32m    205\u001b[39m         \u001b[38;5;167;01mDeprecationWarning\u001b[39;00m, stacklevel=\u001b[32m2\u001b[39m\n\u001b[32m    206\u001b[39m     )\n\u001b[32m--> \u001b[39m\u001b[32m208\u001b[39m \u001b[38;5;28;01mreturn\u001b[39;00m \u001b[43m_compile\u001b[49m\u001b[43m(\u001b[49m\u001b[43mpattern\u001b[49m\u001b[43m,\u001b[49m\u001b[43m \u001b[49m\u001b[43mflags\u001b[49m\u001b[43m)\u001b[49m\u001b[43m.\u001b[49m\u001b[43msub\u001b[49m\u001b[43m(\u001b[49m\u001b[43mrepl\u001b[49m\u001b[43m,\u001b[49m\u001b[43m \u001b[49m\u001b[43mstring\u001b[49m\u001b[43m,\u001b[49m\u001b[43m \u001b[49m\u001b[43mcount\u001b[49m\u001b[43m)\u001b[49m\n",
      "\u001b[31mTypeError\u001b[39m: expected string or bytes-like object, got 'float'"
     ]
    }
   ],
   "source": [
    "import ast\n",
    "import re\n",
    "\n",
    "def count_matching_results(test_set_df, get_df_back):\n",
    "    count = 0\n",
    "    for idx in range(len(test_set_df)):\n",
    "        try:\n",
    "            expected_result_str = test_set_df['expected_result'][idx]\n",
    "            # Replace IRI<...> with \"...\"\n",
    "            expected_result_str_fixed = re.sub(r'IRI<([^>]*)>', r'\"\\1\"', expected_result_str)\n",
    "            expected_result_obj = ast.literal_eval(expected_result_str_fixed)\n",
    "\n",
    "            result_str = get_df_back['result'][idx]\n",
    "            result_str_fixed = re.sub(r'IRI<([^>]*)>', r'\"\\1\"', result_str)\n",
    "            result_obj = ast.literal_eval(result_str_fixed)\n",
    "\n",
    "            if expected_result_obj == result_obj:\n",
    "                count += 1\n",
    "        except:\n",
    "            \n",
    "    return count\n",
    "\n",
    "matching_count = count_matching_results(test_set_df, get_df_back)\n",
    "print(f\"matched {matching_count} out of {get_df_back.shape[0]} queries exactly by their result\")"
   ]
  },
  {
   "cell_type": "code",
   "execution_count": null,
   "id": "bbf551a2",
   "metadata": {},
   "outputs": [],
   "source": [
    "# import ast\n",
    "# import re\n",
    "\n",
    "# # The error occurs because the string contains \"IRI<...>\" which is not valid Python syntax for ast.literal_eval.\n",
    "# # To safely parse this, you can use a regular expression to replace IRI<...> with a quoted string.\n",
    "\n",
    "\n",
    "# expected_result_str = test_set_df.loc[0, \"expected_result\"]\n",
    "# # Replace IRI<...> with \"IRI<...>\"\n",
    "# expected_result_str_fixed = re.sub(r'IRI<([^>]*)>', r'\"\\1\"', expected_result_str)\n",
    "# expected_result_obj = ast.literal_eval(expected_result_str_fixed)\n",
    "# print(expected_result_obj)"
   ]
  }
 ],
 "metadata": {
  "kernelspec": {
   "display_name": "Python 3",
   "language": "python",
   "name": "python3"
  },
  "language_info": {
   "codemirror_mode": {
    "name": "ipython",
    "version": 3
   },
   "file_extension": ".py",
   "mimetype": "text/x-python",
   "name": "python",
   "nbconvert_exporter": "python",
   "pygments_lexer": "ipython3",
   "version": "3.13.3"
  }
 },
 "nbformat": 4,
 "nbformat_minor": 5
}
