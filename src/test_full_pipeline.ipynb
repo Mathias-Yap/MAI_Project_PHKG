{
 "cells": [
  {
   "cell_type": "code",
   "execution_count": null,
   "id": "83bc11fd",
   "metadata": {},
   "outputs": [
    {
     "name": "stderr",
     "output_type": "stream",
     "text": [
      "/home/mathiasyap/.local/lib/python3.13/site-packages/tqdm/auto.py:21: TqdmWarning: IProgress not found. Please update jupyter and ipywidgets. See https://ipywidgets.readthedocs.io/en/stable/user_install.html\n",
      "  from .autonotebook import tqdm as notebook_tqdm\n"
     ]
    },
    {
     "name": "stdout",
     "output_type": "stream",
     "text": [
      "4.52.4\n"
     ]
    }
   ],
   "source": [
    "from pipeline import pipelines\n",
    "from pipeline import mdb_validated_generation\n",
    "from pipeline.context.context_constructor import context_constructor\n",
    "from tqdm.autonotebook import tqdm as notebook_tqdm\n",
    "import traceback\n",
    "def run_validated_pipeline(data: list[dict]):\n",
    "\n",
    "    context_component = context_constructor(construct_vector_store=True, example_queries_file=\"/home/mathiasyap/Code/university/phkg/MAI_Project_PHKG/src/data/question_queries.yaml\")\n",
    "    generate_execute_component = mdb_validated_generation.MDBValidatedGeneration(model_name = \"gpt-4o-mini\")\n",
    "    val_pipeline  = pipelines.InitialPipeline([context_component,generate_execute_component])\n",
    "    val_pipeline.initialize()\n",
    "    results = []\n",
    "    for entry in notebook_tqdm(data):\n",
    "        try: \n",
    "\n",
    "            result = val_pipeline.run(entry, natural_language_question=entry[\"natural_language_question\"],\n",
    "                                                              sparql_is_path=False)\n",
    "            # print(\"LLM Result with context:\", result_llm_with_context['query'])\n",
    "\n",
    "            results.append(result)\n",
    "        except Exception as ex:\n",
    "            traceback.print_exc()\n",
    "\n",
    "        finally:\n",
    "            try:\n",
    "                val_pipeline.close()\n",
    "            except Exception as e:\n",
    "                print(f\"Error while closing pipeline: {e}\")\n",
    "    return results"
   ]
  },
  {
   "cell_type": "markdown",
   "id": "9d9b3b57",
   "metadata": {},
   "source": [
    "Data prep:"
   ]
  },
  {
   "cell_type": "code",
   "execution_count": null,
   "id": "cac78549",
   "metadata": {},
   "outputs": [],
   "source": []
  },
  {
   "cell_type": "markdown",
   "id": "d26a3ea5",
   "metadata": {},
   "source": [
    "Running and saving test set:"
   ]
  },
  {
   "cell_type": "code",
   "execution_count": 3,
   "id": "acfda009",
   "metadata": {},
   "outputs": [
    {
     "name": "stdout",
     "output_type": "stream",
     "text": [
      "['mdb:latest']\n",
      "['docker-aseprite:latest']\n",
      "['ghcr.io/avantlab/avantgraph:openaire-transport']\n",
      "['ghcr.io/avantlab/avantgraph:openaire-energy']\n",
      "['ghcr.io/avantlab/avantgraph:openaire-neuro']\n",
      "['ghcr.io/avantlab/avantgraph:openaire-cancer']\n",
      "['hello-world:latest']\n",
      "['ghcr.io/avantlab/avantgraph:ckg']\n",
      "['ghcr.io/avantlab/avantgraph:release-2024-01-31']\n"
     ]
    },
    {
     "name": "stderr",
     "output_type": "stream",
     "text": [
      "  0%|          | 1/269 [00:19<1:27:57, 19.69s/it]"
     ]
    },
    {
     "name": "stdout",
     "output_type": "stream",
     "text": [
      "Cost (USD): $0.000465\n"
     ]
    },
    {
     "name": "stderr",
     "output_type": "stream",
     "text": [
      "  1%|          | 2/269 [00:39<1:29:01, 20.01s/it]"
     ]
    },
    {
     "name": "stdout",
     "output_type": "stream",
     "text": [
      "Cost (USD): $0.000460\n"
     ]
    },
    {
     "name": "stderr",
     "output_type": "stream",
     "text": [
      "  1%|          | 3/269 [00:56<1:22:41, 18.65s/it]"
     ]
    },
    {
     "name": "stdout",
     "output_type": "stream",
     "text": [
      "Cost (USD): $0.000269\n"
     ]
    },
    {
     "name": "stderr",
     "output_type": "stream",
     "text": [
      "  1%|▏         | 4/269 [01:14<1:19:48, 18.07s/it]"
     ]
    },
    {
     "name": "stdout",
     "output_type": "stream",
     "text": [
      "Cost (USD): $0.000268\n"
     ]
    },
    {
     "name": "stderr",
     "output_type": "stream",
     "text": [
      "  2%|▏         | 5/269 [01:30<1:16:59, 17.50s/it]"
     ]
    },
    {
     "name": "stdout",
     "output_type": "stream",
     "text": [
      "Cost (USD): $0.000268\n"
     ]
    },
    {
     "name": "stderr",
     "output_type": "stream",
     "text": [
      "  2%|▏         | 6/269 [01:44<1:12:01, 16.43s/it]"
     ]
    },
    {
     "name": "stdout",
     "output_type": "stream",
     "text": [
      "Cost (USD): $0.000269\n"
     ]
    },
    {
     "name": "stderr",
     "output_type": "stream",
     "text": [
      "  3%|▎         | 7/269 [01:59<1:09:44, 15.97s/it]"
     ]
    },
    {
     "name": "stdout",
     "output_type": "stream",
     "text": [
      "Cost (USD): $0.000268\n"
     ]
    },
    {
     "name": "stderr",
     "output_type": "stream",
     "text": [
      "  3%|▎         | 8/269 [02:13<1:05:46, 15.12s/it]"
     ]
    },
    {
     "name": "stdout",
     "output_type": "stream",
     "text": [
      "Cost (USD): $0.000268\n"
     ]
    },
    {
     "name": "stderr",
     "output_type": "stream",
     "text": [
      "  3%|▎         | 9/269 [02:27<1:04:22, 14.86s/it]"
     ]
    },
    {
     "name": "stdout",
     "output_type": "stream",
     "text": [
      "Cost (USD): $0.000269\n"
     ]
    },
    {
     "name": "stderr",
     "output_type": "stream",
     "text": [
      "  4%|▎         | 10/269 [02:42<1:03:34, 14.73s/it]"
     ]
    },
    {
     "name": "stdout",
     "output_type": "stream",
     "text": [
      "Cost (USD): $0.000269\n"
     ]
    },
    {
     "name": "stderr",
     "output_type": "stream",
     "text": [
      "  4%|▍         | 11/269 [02:56<1:03:06, 14.68s/it]"
     ]
    },
    {
     "name": "stdout",
     "output_type": "stream",
     "text": [
      "Cost (USD): $0.000269\n"
     ]
    },
    {
     "name": "stderr",
     "output_type": "stream",
     "text": [
      "  4%|▍         | 12/269 [03:11<1:03:18, 14.78s/it]"
     ]
    },
    {
     "name": "stdout",
     "output_type": "stream",
     "text": [
      "Cost (USD): $0.000461\n"
     ]
    },
    {
     "name": "stderr",
     "output_type": "stream",
     "text": [
      "  5%|▍         | 13/269 [03:26<1:03:43, 14.94s/it]"
     ]
    },
    {
     "name": "stdout",
     "output_type": "stream",
     "text": [
      "Cost (USD): $0.000268\n"
     ]
    },
    {
     "name": "stderr",
     "output_type": "stream",
     "text": [
      "  5%|▌         | 14/269 [03:44<1:06:50, 15.73s/it]"
     ]
    },
    {
     "name": "stdout",
     "output_type": "stream",
     "text": [
      "Cost (USD): $0.000268\n"
     ]
    },
    {
     "name": "stderr",
     "output_type": "stream",
     "text": [
      "  6%|▌         | 15/269 [03:57<1:03:47, 15.07s/it]"
     ]
    },
    {
     "name": "stdout",
     "output_type": "stream",
     "text": [
      "Cost (USD): $0.000269\n"
     ]
    },
    {
     "name": "stderr",
     "output_type": "stream",
     "text": [
      "  6%|▌         | 16/269 [04:11<1:01:33, 14.60s/it]"
     ]
    },
    {
     "name": "stdout",
     "output_type": "stream",
     "text": [
      "Cost (USD): $0.000253\n"
     ]
    },
    {
     "name": "stderr",
     "output_type": "stream",
     "text": [
      "  6%|▋         | 17/269 [04:23<58:09, 13.85s/it]  "
     ]
    },
    {
     "name": "stdout",
     "output_type": "stream",
     "text": [
      "Cost (USD): $0.000270\n"
     ]
    },
    {
     "name": "stderr",
     "output_type": "stream",
     "text": [
      "  7%|▋         | 18/269 [04:37<58:25, 13.96s/it]"
     ]
    },
    {
     "name": "stdout",
     "output_type": "stream",
     "text": [
      "Cost (USD): $0.000254\n"
     ]
    },
    {
     "name": "stderr",
     "output_type": "stream",
     "text": [
      "  7%|▋         | 19/269 [04:53<59:51, 14.36s/it]"
     ]
    },
    {
     "name": "stdout",
     "output_type": "stream",
     "text": [
      "Cost (USD): $0.000268\n"
     ]
    },
    {
     "name": "stderr",
     "output_type": "stream",
     "text": [
      "  7%|▋         | 20/269 [05:05<57:40, 13.90s/it]"
     ]
    },
    {
     "name": "stdout",
     "output_type": "stream",
     "text": [
      "Cost (USD): $0.000268\n"
     ]
    },
    {
     "name": "stderr",
     "output_type": "stream",
     "text": [
      "  8%|▊         | 21/269 [05:21<59:23, 14.37s/it]"
     ]
    },
    {
     "name": "stdout",
     "output_type": "stream",
     "text": [
      "Cost (USD): $0.000269\n"
     ]
    },
    {
     "name": "stderr",
     "output_type": "stream",
     "text": [
      "  8%|▊         | 22/269 [05:35<58:19, 14.17s/it]"
     ]
    },
    {
     "name": "stdout",
     "output_type": "stream",
     "text": [
      "Cost (USD): $0.000268\n"
     ]
    },
    {
     "name": "stderr",
     "output_type": "stream",
     "text": [
      "  9%|▊         | 23/269 [05:49<58:12, 14.20s/it]"
     ]
    },
    {
     "name": "stdout",
     "output_type": "stream",
     "text": [
      "Cost (USD): $0.000268\n"
     ]
    },
    {
     "name": "stderr",
     "output_type": "stream",
     "text": [
      "  9%|▉         | 24/269 [06:11<1:07:08, 16.44s/it]"
     ]
    },
    {
     "name": "stdout",
     "output_type": "stream",
     "text": [
      "Cost (USD): $0.000269\n"
     ]
    },
    {
     "name": "stderr",
     "output_type": "stream",
     "text": [
      "  9%|▉         | 25/269 [06:26<1:05:52, 16.20s/it]"
     ]
    },
    {
     "name": "stdout",
     "output_type": "stream",
     "text": [
      "Cost (USD): $0.000253\n"
     ]
    },
    {
     "name": "stderr",
     "output_type": "stream",
     "text": [
      " 10%|▉         | 26/269 [06:41<1:04:27, 15.92s/it]"
     ]
    },
    {
     "name": "stdout",
     "output_type": "stream",
     "text": [
      "Cost (USD): $0.000268\n"
     ]
    },
    {
     "name": "stderr",
     "output_type": "stream",
     "text": [
      " 10%|█         | 27/269 [06:59<1:06:04, 16.38s/it]"
     ]
    },
    {
     "name": "stdout",
     "output_type": "stream",
     "text": [
      "Cost (USD): $0.000269\n"
     ]
    },
    {
     "name": "stderr",
     "output_type": "stream",
     "text": [
      " 10%|█         | 28/269 [07:17<1:08:19, 17.01s/it]"
     ]
    },
    {
     "name": "stdout",
     "output_type": "stream",
     "text": [
      "Cost (USD): $0.000268\n"
     ]
    },
    {
     "name": "stderr",
     "output_type": "stream",
     "text": [
      " 11%|█         | 29/269 [07:32<1:04:44, 16.18s/it]"
     ]
    },
    {
     "name": "stdout",
     "output_type": "stream",
     "text": [
      "Cost (USD): $0.000268\n"
     ]
    },
    {
     "name": "stderr",
     "output_type": "stream",
     "text": [
      " 11%|█         | 30/269 [07:48<1:04:29, 16.19s/it]"
     ]
    },
    {
     "name": "stdout",
     "output_type": "stream",
     "text": [
      "Cost (USD): $0.000269\n"
     ]
    },
    {
     "name": "stderr",
     "output_type": "stream",
     "text": [
      " 12%|█▏        | 31/269 [08:02<1:01:55, 15.61s/it]"
     ]
    },
    {
     "name": "stdout",
     "output_type": "stream",
     "text": [
      "Cost (USD): $0.000268\n"
     ]
    },
    {
     "name": "stderr",
     "output_type": "stream",
     "text": [
      " 12%|█▏        | 32/269 [08:17<1:00:18, 15.27s/it]"
     ]
    },
    {
     "name": "stdout",
     "output_type": "stream",
     "text": [
      "Cost (USD): $0.000269\n"
     ]
    },
    {
     "name": "stderr",
     "output_type": "stream",
     "text": [
      " 12%|█▏        | 33/269 [08:31<59:14, 15.06s/it]  "
     ]
    },
    {
     "name": "stdout",
     "output_type": "stream",
     "text": [
      "Cost (USD): $0.000461\n"
     ]
    },
    {
     "name": "stderr",
     "output_type": "stream",
     "text": [
      " 13%|█▎        | 34/269 [08:47<59:23, 15.16s/it]"
     ]
    },
    {
     "name": "stdout",
     "output_type": "stream",
     "text": [
      "Cost (USD): $0.000465\n"
     ]
    },
    {
     "name": "stderr",
     "output_type": "stream",
     "text": [
      " 13%|█▎        | 35/269 [09:00<57:01, 14.62s/it]"
     ]
    },
    {
     "name": "stdout",
     "output_type": "stream",
     "text": [
      "Cost (USD): $0.000268\n"
     ]
    },
    {
     "name": "stderr",
     "output_type": "stream",
     "text": [
      " 13%|█▎        | 36/269 [09:16<58:05, 14.96s/it]"
     ]
    },
    {
     "name": "stdout",
     "output_type": "stream",
     "text": [
      "Cost (USD): $0.000460\n"
     ]
    },
    {
     "name": "stderr",
     "output_type": "stream",
     "text": [
      " 14%|█▍        | 37/269 [09:31<58:13, 15.06s/it]"
     ]
    },
    {
     "name": "stdout",
     "output_type": "stream",
     "text": [
      "Cost (USD): $0.000264\n"
     ]
    },
    {
     "name": "stderr",
     "output_type": "stream",
     "text": [
      " 14%|█▍        | 38/269 [09:45<56:14, 14.61s/it]"
     ]
    },
    {
     "name": "stdout",
     "output_type": "stream",
     "text": [
      "Cost (USD): $0.000269\n"
     ]
    },
    {
     "name": "stderr",
     "output_type": "stream",
     "text": [
      " 14%|█▍        | 39/269 [09:59<55:20, 14.44s/it]"
     ]
    },
    {
     "name": "stdout",
     "output_type": "stream",
     "text": [
      "Cost (USD): $0.000269\n"
     ]
    },
    {
     "name": "stderr",
     "output_type": "stream",
     "text": [
      " 15%|█▍        | 40/269 [10:12<53:51, 14.11s/it]"
     ]
    },
    {
     "name": "stdout",
     "output_type": "stream",
     "text": [
      "Cost (USD): $0.000268\n"
     ]
    },
    {
     "name": "stderr",
     "output_type": "stream",
     "text": [
      " 15%|█▌        | 41/269 [10:25<52:55, 13.93s/it]"
     ]
    },
    {
     "name": "stdout",
     "output_type": "stream",
     "text": [
      "Cost (USD): $0.000253\n"
     ]
    },
    {
     "name": "stderr",
     "output_type": "stream",
     "text": [
      " 16%|█▌        | 42/269 [10:39<52:03, 13.76s/it]"
     ]
    },
    {
     "name": "stdout",
     "output_type": "stream",
     "text": [
      "Cost (USD): $0.000269\n"
     ]
    },
    {
     "name": "stderr",
     "output_type": "stream",
     "text": [
      " 16%|█▌        | 43/269 [10:54<53:15, 14.14s/it]"
     ]
    },
    {
     "name": "stdout",
     "output_type": "stream",
     "text": [
      "Cost (USD): $0.000264\n"
     ]
    },
    {
     "name": "stderr",
     "output_type": "stream",
     "text": [
      " 16%|█▋        | 44/269 [11:07<52:18, 13.95s/it]"
     ]
    },
    {
     "name": "stdout",
     "output_type": "stream",
     "text": [
      "Cost (USD): $0.000268\n"
     ]
    },
    {
     "name": "stderr",
     "output_type": "stream",
     "text": [
      " 17%|█▋        | 45/269 [11:21<51:54, 13.90s/it]"
     ]
    },
    {
     "name": "stdout",
     "output_type": "stream",
     "text": [
      "Cost (USD): $0.000269\n",
      "Cost (USD): $0.000451\n"
     ]
    },
    {
     "name": "stderr",
     "output_type": "stream",
     "text": [
      " 17%|█▋        | 46/269 [11:39<55:43, 15.00s/it]"
     ]
    },
    {
     "name": "stdout",
     "output_type": "stream",
     "text": [
      "Cost (USD): $0.000101\n"
     ]
    },
    {
     "name": "stderr",
     "output_type": "stream",
     "text": [
      " 17%|█▋        | 47/269 [11:55<56:36, 15.30s/it]"
     ]
    },
    {
     "name": "stdout",
     "output_type": "stream",
     "text": [
      "Cost (USD): $0.000259\n"
     ]
    },
    {
     "name": "stderr",
     "output_type": "stream",
     "text": [
      " 18%|█▊        | 48/269 [12:14<1:01:07, 16.60s/it]"
     ]
    },
    {
     "name": "stdout",
     "output_type": "stream",
     "text": [
      "Cost (USD): $0.000451\n",
      "Cost (USD): $0.000260\n"
     ]
    },
    {
     "name": "stderr",
     "output_type": "stream",
     "text": [
      " 18%|█▊        | 49/269 [12:32<1:02:26, 17.03s/it]"
     ]
    },
    {
     "name": "stdout",
     "output_type": "stream",
     "text": [
      "Cost (USD): $0.000107\n",
      "Cost (USD): $0.000260\n"
     ]
    },
    {
     "name": "stderr",
     "output_type": "stream",
     "text": [
      " 19%|█▊        | 50/269 [12:50<1:02:32, 17.13s/it]"
     ]
    },
    {
     "name": "stdout",
     "output_type": "stream",
     "text": [
      "Cost (USD): $0.000103\n"
     ]
    },
    {
     "name": "stderr",
     "output_type": "stream",
     "text": [
      " 19%|█▉        | 51/269 [13:06<1:01:39, 16.97s/it]"
     ]
    },
    {
     "name": "stdout",
     "output_type": "stream",
     "text": [
      "Cost (USD): $0.000260\n",
      "Cost (USD): $0.000262\n",
      "Cost (USD): $0.000145\n"
     ]
    },
    {
     "name": "stderr",
     "output_type": "stream",
     "text": [
      " 19%|█▉        | 52/269 [13:26<1:04:33, 17.85s/it]"
     ]
    },
    {
     "name": "stdout",
     "output_type": "stream",
     "text": [
      "Cost (USD): $0.000147\n"
     ]
    },
    {
     "name": "stderr",
     "output_type": "stream",
     "text": [
      " 20%|█▉        | 53/269 [13:42<1:02:12, 17.28s/it]"
     ]
    },
    {
     "name": "stdout",
     "output_type": "stream",
     "text": [
      "Cost (USD): $0.000260\n"
     ]
    },
    {
     "name": "stderr",
     "output_type": "stream",
     "text": [
      " 20%|██        | 54/269 [13:58<1:00:16, 16.82s/it]"
     ]
    },
    {
     "name": "stdout",
     "output_type": "stream",
     "text": [
      "Cost (USD): $0.000260\n"
     ]
    },
    {
     "name": "stderr",
     "output_type": "stream",
     "text": [
      " 20%|██        | 55/269 [14:14<59:01, 16.55s/it]  "
     ]
    },
    {
     "name": "stdout",
     "output_type": "stream",
     "text": [
      "Cost (USD): $0.000259\n",
      "Cost (USD): $0.000259\n"
     ]
    },
    {
     "name": "stderr",
     "output_type": "stream",
     "text": [
      " 21%|██        | 56/269 [14:32<1:00:35, 17.07s/it]"
     ]
    },
    {
     "name": "stdout",
     "output_type": "stream",
     "text": [
      "Cost (USD): $0.000102\n",
      "Cost (USD): $0.000262\n"
     ]
    },
    {
     "name": "stderr",
     "output_type": "stream",
     "text": [
      " 21%|██        | 57/269 [14:49<1:00:31, 17.13s/it]"
     ]
    },
    {
     "name": "stdout",
     "output_type": "stream",
     "text": [
      "Cost (USD): $0.000145\n",
      "Cost (USD): $0.000262\n"
     ]
    },
    {
     "name": "stderr",
     "output_type": "stream",
     "text": [
      " 22%|██▏       | 58/269 [15:07<1:01:05, 17.37s/it]"
     ]
    },
    {
     "name": "stdout",
     "output_type": "stream",
     "text": [
      "Cost (USD): $0.000145\n"
     ]
    },
    {
     "name": "stderr",
     "output_type": "stream",
     "text": [
      " 22%|██▏       | 59/269 [15:23<59:08, 16.90s/it]  "
     ]
    },
    {
     "name": "stdout",
     "output_type": "stream",
     "text": [
      "Cost (USD): $0.000267\n",
      "Cost (USD): $0.000259\n"
     ]
    },
    {
     "name": "stderr",
     "output_type": "stream",
     "text": [
      " 22%|██▏       | 60/269 [15:40<59:15, 17.01s/it]"
     ]
    },
    {
     "name": "stdout",
     "output_type": "stream",
     "text": [
      "Cost (USD): $0.000102\n",
      "Cost (USD): $0.000261\n",
      "Cost (USD): $0.000132\n"
     ]
    },
    {
     "name": "stderr",
     "output_type": "stream",
     "text": [
      " 23%|██▎       | 61/269 [16:01<1:03:08, 18.21s/it]"
     ]
    },
    {
     "name": "stdout",
     "output_type": "stream",
     "text": [
      "Cost (USD): $0.000102\n",
      "Cost (USD): $0.000252\n",
      "Cost (USD): $0.000132\n",
      "Cost (USD): $0.000133\n"
     ]
    },
    {
     "name": "stderr",
     "output_type": "stream",
     "text": [
      " 23%|██▎       | 62/269 [16:26<1:09:57, 20.28s/it]"
     ]
    },
    {
     "name": "stdout",
     "output_type": "stream",
     "text": [
      "Cost (USD): $0.000133\n",
      "Cost (USD): $0.000252\n",
      "Cost (USD): $0.000132\n"
     ]
    },
    {
     "name": "stderr",
     "output_type": "stream",
     "text": [
      " 23%|██▎       | 63/269 [16:48<1:10:46, 20.61s/it]"
     ]
    },
    {
     "name": "stdout",
     "output_type": "stream",
     "text": [
      "Cost (USD): $0.000141\n",
      "Cost (USD): $0.000260\n"
     ]
    },
    {
     "name": "stderr",
     "output_type": "stream",
     "text": [
      " 24%|██▍       | 64/269 [17:11<1:12:39, 21.27s/it]"
     ]
    },
    {
     "name": "stdout",
     "output_type": "stream",
     "text": [
      "Cost (USD): $0.000102\n"
     ]
    },
    {
     "name": "stderr",
     "output_type": "stream",
     "text": [
      " 24%|██▍       | 65/269 [17:31<1:11:21, 20.99s/it]"
     ]
    },
    {
     "name": "stdout",
     "output_type": "stream",
     "text": [
      "Cost (USD): $0.000265\n"
     ]
    },
    {
     "name": "stderr",
     "output_type": "stream",
     "text": [
      " 25%|██▍       | 66/269 [17:53<1:11:37, 21.17s/it]"
     ]
    },
    {
     "name": "stdout",
     "output_type": "stream",
     "text": [
      "Cost (USD): $0.000268\n",
      "Cost (USD): $0.000260\n"
     ]
    },
    {
     "name": "stderr",
     "output_type": "stream",
     "text": [
      " 25%|██▍       | 67/269 [18:13<1:10:57, 21.08s/it]"
     ]
    },
    {
     "name": "stdout",
     "output_type": "stream",
     "text": [
      "Cost (USD): $0.000105\n",
      "Cost (USD): $0.000260\n"
     ]
    },
    {
     "name": "stderr",
     "output_type": "stream",
     "text": [
      " 25%|██▌       | 68/269 [18:34<1:10:11, 20.95s/it]"
     ]
    },
    {
     "name": "stdout",
     "output_type": "stream",
     "text": [
      "Cost (USD): $0.000102\n"
     ]
    },
    {
     "name": "stderr",
     "output_type": "stream",
     "text": [
      " 26%|██▌       | 69/269 [18:52<1:06:56, 20.08s/it]"
     ]
    },
    {
     "name": "stdout",
     "output_type": "stream",
     "text": [
      "Cost (USD): $0.000260\n",
      "Cost (USD): $0.000260\n"
     ]
    },
    {
     "name": "stderr",
     "output_type": "stream",
     "text": [
      " 26%|██▌       | 70/269 [19:14<1:08:45, 20.73s/it]"
     ]
    },
    {
     "name": "stdout",
     "output_type": "stream",
     "text": [
      "Cost (USD): $0.000095\n",
      "Cost (USD): $0.000260\n"
     ]
    },
    {
     "name": "stderr",
     "output_type": "stream",
     "text": [
      " 26%|██▋       | 71/269 [19:36<1:09:04, 20.93s/it]"
     ]
    },
    {
     "name": "stdout",
     "output_type": "stream",
     "text": [
      "Cost (USD): $0.000095\n"
     ]
    },
    {
     "name": "stderr",
     "output_type": "stream",
     "text": [
      " 27%|██▋       | 72/269 [19:56<1:08:15, 20.79s/it]"
     ]
    },
    {
     "name": "stdout",
     "output_type": "stream",
     "text": [
      "Cost (USD): $0.000260\n",
      "Cost (USD): $0.000262\n",
      "Cost (USD): $0.000145\n"
     ]
    },
    {
     "name": "stderr",
     "output_type": "stream",
     "text": [
      " 27%|██▋       | 73/269 [20:22<1:12:22, 22.16s/it]"
     ]
    },
    {
     "name": "stdout",
     "output_type": "stream",
     "text": [
      "Cost (USD): $0.000147\n",
      "Cost (USD): $0.000260\n"
     ]
    },
    {
     "name": "stderr",
     "output_type": "stream",
     "text": [
      " 28%|██▊       | 74/269 [20:44<1:12:12, 22.22s/it]"
     ]
    },
    {
     "name": "stdout",
     "output_type": "stream",
     "text": [
      "Cost (USD): $0.000106\n",
      "Cost (USD): $0.000260\n"
     ]
    },
    {
     "name": "stderr",
     "output_type": "stream",
     "text": [
      " 28%|██▊       | 75/269 [21:11<1:16:18, 23.60s/it]"
     ]
    },
    {
     "name": "stdout",
     "output_type": "stream",
     "text": [
      "Cost (USD): $0.000105\n"
     ]
    },
    {
     "name": "stderr",
     "output_type": "stream",
     "text": [
      " 28%|██▊       | 76/269 [21:29<1:11:05, 22.10s/it]"
     ]
    },
    {
     "name": "stdout",
     "output_type": "stream",
     "text": [
      "Cost (USD): $0.000261\n"
     ]
    },
    {
     "name": "stderr",
     "output_type": "stream",
     "text": [
      " 29%|██▊       | 77/269 [21:49<1:08:25, 21.38s/it]"
     ]
    },
    {
     "name": "stdout",
     "output_type": "stream",
     "text": [
      "Cost (USD): $0.000261\n",
      "Cost (USD): $0.000262\n"
     ]
    },
    {
     "name": "stderr",
     "output_type": "stream",
     "text": [
      " 29%|██▉       | 78/269 [22:12<1:09:17, 21.77s/it]"
     ]
    },
    {
     "name": "stdout",
     "output_type": "stream",
     "text": [
      "Cost (USD): $0.000145\n",
      "Cost (USD): $0.000260\n",
      "Cost (USD): $0.000095\n",
      "Cost (USD): $0.000131\n"
     ]
    },
    {
     "name": "stderr",
     "output_type": "stream",
     "text": [
      " 29%|██▉       | 79/269 [22:40<1:14:56, 23.66s/it]"
     ]
    },
    {
     "name": "stdout",
     "output_type": "stream",
     "text": [
      "Cost (USD): $0.000141\n",
      "Cost (USD): $0.000260\n",
      "Cost (USD): $0.000095\n"
     ]
    },
    {
     "name": "stderr",
     "output_type": "stream",
     "text": [
      " 30%|██▉       | 80/269 [23:01<1:12:12, 22.92s/it]"
     ]
    },
    {
     "name": "stdout",
     "output_type": "stream",
     "text": [
      "Cost (USD): $0.000131\n",
      "Cost (USD): $0.000250\n"
     ]
    },
    {
     "name": "stderr",
     "output_type": "stream",
     "text": [
      " 30%|███       | 81/269 [23:21<1:09:19, 22.12s/it]"
     ]
    },
    {
     "name": "stdout",
     "output_type": "stream",
     "text": [
      "Cost (USD): $0.000095\n"
     ]
    },
    {
     "name": "stderr",
     "output_type": "stream",
     "text": [
      " 30%|███       | 82/269 [23:43<1:08:50, 22.09s/it]"
     ]
    },
    {
     "name": "stdout",
     "output_type": "stream",
     "text": [
      "Cost (USD): $0.000260\n",
      "Cost (USD): $0.000260\n"
     ]
    },
    {
     "name": "stderr",
     "output_type": "stream",
     "text": [
      " 31%|███       | 83/269 [24:06<1:08:45, 22.18s/it]"
     ]
    },
    {
     "name": "stdout",
     "output_type": "stream",
     "text": [
      "Cost (USD): $0.000102\n",
      "Cost (USD): $0.000251\n"
     ]
    },
    {
     "name": "stderr",
     "output_type": "stream",
     "text": [
      " 31%|███       | 84/269 [24:27<1:07:41, 21.95s/it]"
     ]
    },
    {
     "name": "stdout",
     "output_type": "stream",
     "text": [
      "Cost (USD): $0.000102\n",
      "Cost (USD): $0.000262\n"
     ]
    },
    {
     "name": "stderr",
     "output_type": "stream",
     "text": [
      " 32%|███▏      | 85/269 [24:47<1:05:38, 21.40s/it]"
     ]
    },
    {
     "name": "stdout",
     "output_type": "stream",
     "text": [
      "Cost (USD): $0.000145\n",
      "Cost (USD): $0.000456\n",
      "Cost (USD): $0.000135\n",
      "Cost (USD): $0.000145\n"
     ]
    },
    {
     "name": "stderr",
     "output_type": "stream",
     "text": [
      " 32%|███▏      | 86/269 [25:12<1:07:55, 22.27s/it]"
     ]
    },
    {
     "name": "stdout",
     "output_type": "stream",
     "text": [
      "Cost (USD): $0.000147\n",
      "Cost (USD): $0.000260\n"
     ]
    },
    {
     "name": "stderr",
     "output_type": "stream",
     "text": [
      " 32%|███▏      | 87/269 [25:32<1:05:32, 21.61s/it]"
     ]
    },
    {
     "name": "stdout",
     "output_type": "stream",
     "text": [
      "Cost (USD): $0.000102\n"
     ]
    },
    {
     "name": "stderr",
     "output_type": "stream",
     "text": [
      " 33%|███▎      | 88/269 [25:50<1:02:19, 20.66s/it]"
     ]
    },
    {
     "name": "stdout",
     "output_type": "stream",
     "text": [
      "Cost (USD): $0.000260\n",
      "Cost (USD): $0.000267\n"
     ]
    },
    {
     "name": "stderr",
     "output_type": "stream",
     "text": [
      " 33%|███▎      | 89/269 [26:11<1:02:14, 20.75s/it]"
     ]
    },
    {
     "name": "stdout",
     "output_type": "stream",
     "text": [
      "Cost (USD): $0.000140\n"
     ]
    },
    {
     "name": "stderr",
     "output_type": "stream",
     "text": [
      " 33%|███▎      | 90/269 [26:32<1:01:39, 20.67s/it]"
     ]
    },
    {
     "name": "stdout",
     "output_type": "stream",
     "text": [
      "Cost (USD): $0.000252\n"
     ]
    },
    {
     "name": "stderr",
     "output_type": "stream",
     "text": [
      " 34%|███▍      | 91/269 [26:47<56:32, 19.06s/it]  "
     ]
    },
    {
     "name": "stdout",
     "output_type": "stream",
     "text": [
      "Cost (USD): $0.000453\n"
     ]
    },
    {
     "name": "stderr",
     "output_type": "stream",
     "text": [
      " 34%|███▍      | 92/269 [27:02<52:43, 17.87s/it]"
     ]
    },
    {
     "name": "stdout",
     "output_type": "stream",
     "text": [
      "Cost (USD): $0.000261\n"
     ]
    },
    {
     "name": "stderr",
     "output_type": "stream",
     "text": [
      " 35%|███▍      | 93/269 [27:19<51:35, 17.59s/it]"
     ]
    },
    {
     "name": "stdout",
     "output_type": "stream",
     "text": [
      "Cost (USD): $0.000261\n"
     ]
    },
    {
     "name": "stderr",
     "output_type": "stream",
     "text": [
      " 35%|███▍      | 94/269 [27:35<49:59, 17.14s/it]"
     ]
    },
    {
     "name": "stdout",
     "output_type": "stream",
     "text": [
      "Cost (USD): $0.000261\n"
     ]
    },
    {
     "name": "stderr",
     "output_type": "stream",
     "text": [
      " 35%|███▌      | 95/269 [27:50<48:11, 16.62s/it]"
     ]
    },
    {
     "name": "stdout",
     "output_type": "stream",
     "text": [
      "Cost (USD): $0.000262\n"
     ]
    },
    {
     "name": "stderr",
     "output_type": "stream",
     "text": [
      " 36%|███▌      | 96/269 [28:08<48:55, 16.97s/it]"
     ]
    },
    {
     "name": "stdout",
     "output_type": "stream",
     "text": [
      "Cost (USD): $0.000261\n"
     ]
    },
    {
     "name": "stderr",
     "output_type": "stream",
     "text": [
      " 36%|███▌      | 97/269 [28:23<47:08, 16.45s/it]"
     ]
    },
    {
     "name": "stdout",
     "output_type": "stream",
     "text": [
      "Cost (USD): $0.000262\n"
     ]
    },
    {
     "name": "stderr",
     "output_type": "stream",
     "text": [
      " 36%|███▋      | 98/269 [28:42<48:55, 17.16s/it]"
     ]
    },
    {
     "name": "stdout",
     "output_type": "stream",
     "text": [
      "Cost (USD): $0.000262\n"
     ]
    },
    {
     "name": "stderr",
     "output_type": "stream",
     "text": [
      " 37%|███▋      | 99/269 [29:04<52:16, 18.45s/it]"
     ]
    },
    {
     "name": "stdout",
     "output_type": "stream",
     "text": [
      "Cost (USD): $0.000261\n"
     ]
    },
    {
     "name": "stderr",
     "output_type": "stream",
     "text": [
      " 37%|███▋      | 100/269 [29:19<49:03, 17.42s/it]"
     ]
    },
    {
     "name": "stdout",
     "output_type": "stream",
     "text": [
      "Cost (USD): $0.000261\n"
     ]
    },
    {
     "name": "stderr",
     "output_type": "stream",
     "text": [
      " 38%|███▊      | 101/269 [29:34<46:57, 16.77s/it]"
     ]
    },
    {
     "name": "stdout",
     "output_type": "stream",
     "text": [
      "Cost (USD): $0.000454\n"
     ]
    },
    {
     "name": "stderr",
     "output_type": "stream",
     "text": [
      " 38%|███▊      | 102/269 [29:49<44:56, 16.15s/it]"
     ]
    },
    {
     "name": "stdout",
     "output_type": "stream",
     "text": [
      "Cost (USD): $0.000261\n"
     ]
    },
    {
     "name": "stderr",
     "output_type": "stream",
     "text": [
      " 38%|███▊      | 103/269 [30:05<44:45, 16.18s/it]"
     ]
    },
    {
     "name": "stdout",
     "output_type": "stream",
     "text": [
      "Cost (USD): $0.000454\n"
     ]
    },
    {
     "name": "stderr",
     "output_type": "stream",
     "text": [
      " 39%|███▊      | 104/269 [30:25<47:39, 17.33s/it]"
     ]
    },
    {
     "name": "stdout",
     "output_type": "stream",
     "text": [
      "Cost (USD): $0.000262\n"
     ]
    },
    {
     "name": "stderr",
     "output_type": "stream",
     "text": [
      " 39%|███▉      | 105/269 [30:45<49:22, 18.06s/it]"
     ]
    },
    {
     "name": "stdout",
     "output_type": "stream",
     "text": [
      "Cost (USD): $0.000477\n"
     ]
    },
    {
     "name": "stderr",
     "output_type": "stream",
     "text": [
      " 39%|███▉      | 106/269 [31:03<48:57, 18.02s/it]"
     ]
    },
    {
     "name": "stdout",
     "output_type": "stream",
     "text": [
      "Cost (USD): $0.000275\n"
     ]
    },
    {
     "name": "stderr",
     "output_type": "stream",
     "text": [
      " 40%|███▉      | 107/269 [31:20<48:19, 17.90s/it]"
     ]
    },
    {
     "name": "stdout",
     "output_type": "stream",
     "text": [
      "Cost (USD): $0.000473\n"
     ]
    },
    {
     "name": "stderr",
     "output_type": "stream",
     "text": [
      " 40%|████      | 108/269 [31:43<51:37, 19.24s/it]"
     ]
    },
    {
     "name": "stdout",
     "output_type": "stream",
     "text": [
      "Cost (USD): $0.000472\n"
     ]
    },
    {
     "name": "stderr",
     "output_type": "stream",
     "text": [
      " 41%|████      | 109/269 [32:05<53:55, 20.22s/it]"
     ]
    },
    {
     "name": "stdout",
     "output_type": "stream",
     "text": [
      "Cost (USD): $0.000472\n"
     ]
    },
    {
     "name": "stderr",
     "output_type": "stream",
     "text": [
      " 41%|████      | 110/269 [32:31<58:29, 22.07s/it]"
     ]
    },
    {
     "name": "stdout",
     "output_type": "stream",
     "text": [
      "Cost (USD): $0.000473\n"
     ]
    },
    {
     "name": "stderr",
     "output_type": "stream",
     "text": [
      " 41%|████▏     | 111/269 [32:59<1:02:17, 23.66s/it]"
     ]
    },
    {
     "name": "stdout",
     "output_type": "stream",
     "text": [
      "Cost (USD): $0.000271\n"
     ]
    },
    {
     "name": "stderr",
     "output_type": "stream",
     "text": [
      " 42%|████▏     | 112/269 [33:23<1:02:10, 23.76s/it]"
     ]
    },
    {
     "name": "stdout",
     "output_type": "stream",
     "text": [
      "Cost (USD): $0.000271\n"
     ]
    },
    {
     "name": "stderr",
     "output_type": "stream",
     "text": [
      " 42%|████▏     | 113/269 [33:49<1:03:29, 24.42s/it]"
     ]
    },
    {
     "name": "stdout",
     "output_type": "stream",
     "text": [
      "Cost (USD): $0.000272\n"
     ]
    },
    {
     "name": "stderr",
     "output_type": "stream",
     "text": [
      " 42%|████▏     | 114/269 [34:13<1:02:38, 24.25s/it]"
     ]
    },
    {
     "name": "stdout",
     "output_type": "stream",
     "text": [
      "Cost (USD): $0.000472\n"
     ]
    },
    {
     "name": "stderr",
     "output_type": "stream",
     "text": [
      " 43%|████▎     | 115/269 [34:39<1:04:03, 24.96s/it]"
     ]
    },
    {
     "name": "stdout",
     "output_type": "stream",
     "text": [
      "Cost (USD): $0.000271\n"
     ]
    },
    {
     "name": "stderr",
     "output_type": "stream",
     "text": [
      " 43%|████▎     | 116/269 [35:01<1:01:24, 24.08s/it]"
     ]
    },
    {
     "name": "stdout",
     "output_type": "stream",
     "text": [
      "Cost (USD): $0.000272\n"
     ]
    },
    {
     "name": "stderr",
     "output_type": "stream",
     "text": [
      " 43%|████▎     | 117/269 [35:21<57:45, 22.80s/it]  "
     ]
    },
    {
     "name": "stdout",
     "output_type": "stream",
     "text": [
      "Cost (USD): $0.000275\n"
     ]
    },
    {
     "name": "stderr",
     "output_type": "stream",
     "text": [
      " 44%|████▍     | 118/269 [35:42<55:40, 22.13s/it]"
     ]
    },
    {
     "name": "stdout",
     "output_type": "stream",
     "text": [
      "Cost (USD): $0.000477\n"
     ]
    },
    {
     "name": "stderr",
     "output_type": "stream",
     "text": [
      " 44%|████▍     | 119/269 [36:03<54:54, 21.97s/it]"
     ]
    },
    {
     "name": "stdout",
     "output_type": "stream",
     "text": [
      "Cost (USD): $0.000276\n"
     ]
    },
    {
     "name": "stderr",
     "output_type": "stream",
     "text": [
      " 45%|████▍     | 120/269 [36:26<54:59, 22.14s/it]"
     ]
    },
    {
     "name": "stdout",
     "output_type": "stream",
     "text": [
      "Cost (USD): $0.000271\n"
     ]
    },
    {
     "name": "stderr",
     "output_type": "stream",
     "text": [
      " 45%|████▍     | 121/269 [36:51<57:10, 23.18s/it]"
     ]
    },
    {
     "name": "stdout",
     "output_type": "stream",
     "text": [
      "Cost (USD): $0.000271\n"
     ]
    },
    {
     "name": "stderr",
     "output_type": "stream",
     "text": [
      " 45%|████▌     | 122/269 [37:14<56:30, 23.06s/it]"
     ]
    },
    {
     "name": "stdout",
     "output_type": "stream",
     "text": [
      "Cost (USD): $0.000276\n"
     ]
    },
    {
     "name": "stderr",
     "output_type": "stream",
     "text": [
      " 46%|████▌     | 123/269 [37:40<58:06, 23.88s/it]"
     ]
    },
    {
     "name": "stdout",
     "output_type": "stream",
     "text": [
      "Cost (USD): $0.000271\n"
     ]
    },
    {
     "name": "stderr",
     "output_type": "stream",
     "text": [
      " 46%|████▌     | 124/269 [38:06<59:08, 24.47s/it]"
     ]
    },
    {
     "name": "stdout",
     "output_type": "stream",
     "text": [
      "Cost (USD): $0.000472\n"
     ]
    },
    {
     "name": "stderr",
     "output_type": "stream",
     "text": [
      " 46%|████▋     | 125/269 [38:38<1:04:14, 26.77s/it]"
     ]
    },
    {
     "name": "stdout",
     "output_type": "stream",
     "text": [
      "Cost (USD): $0.000271\n"
     ]
    },
    {
     "name": "stderr",
     "output_type": "stream",
     "text": [
      " 47%|████▋     | 126/269 [39:04<1:03:08, 26.49s/it]"
     ]
    },
    {
     "name": "stdout",
     "output_type": "stream",
     "text": [
      "Cost (USD): $0.000271\n"
     ]
    },
    {
     "name": "stderr",
     "output_type": "stream",
     "text": [
      " 47%|████▋     | 127/269 [39:30<1:02:20, 26.34s/it]"
     ]
    },
    {
     "name": "stdout",
     "output_type": "stream",
     "text": [
      "Cost (USD): $0.000271\n"
     ]
    },
    {
     "name": "stderr",
     "output_type": "stream",
     "text": [
      " 48%|████▊     | 128/269 [39:56<1:01:55, 26.35s/it]"
     ]
    },
    {
     "name": "stdout",
     "output_type": "stream",
     "text": [
      "Cost (USD): $0.000272\n"
     ]
    },
    {
     "name": "stderr",
     "output_type": "stream",
     "text": [
      " 48%|████▊     | 129/269 [40:19<59:23, 25.45s/it]  "
     ]
    },
    {
     "name": "stdout",
     "output_type": "stream",
     "text": [
      "Cost (USD): $0.000271\n"
     ]
    },
    {
     "name": "stderr",
     "output_type": "stream",
     "text": [
      " 48%|████▊     | 130/269 [40:47<1:00:05, 25.94s/it]"
     ]
    },
    {
     "name": "stdout",
     "output_type": "stream",
     "text": [
      "Cost (USD): $0.000276\n"
     ]
    },
    {
     "name": "stderr",
     "output_type": "stream",
     "text": [
      " 49%|████▊     | 131/269 [41:09<57:29, 25.00s/it]  "
     ]
    },
    {
     "name": "stdout",
     "output_type": "stream",
     "text": [
      "Cost (USD): $0.000271\n"
     ]
    },
    {
     "name": "stderr",
     "output_type": "stream",
     "text": [
      " 49%|████▉     | 132/269 [41:31<54:36, 23.92s/it]"
     ]
    },
    {
     "name": "stdout",
     "output_type": "stream",
     "text": [
      "Cost (USD): $0.000271\n"
     ]
    },
    {
     "name": "stderr",
     "output_type": "stream",
     "text": [
      " 49%|████▉     | 133/269 [41:54<53:25, 23.57s/it]"
     ]
    },
    {
     "name": "stdout",
     "output_type": "stream",
     "text": [
      "Cost (USD): $0.000473\n"
     ]
    },
    {
     "name": "stderr",
     "output_type": "stream",
     "text": [
      " 50%|████▉     | 134/269 [42:17<53:11, 23.64s/it]"
     ]
    },
    {
     "name": "stdout",
     "output_type": "stream",
     "text": [
      "Cost (USD): $0.000277\n"
     ]
    },
    {
     "name": "stderr",
     "output_type": "stream",
     "text": [
      " 50%|█████     | 135/269 [42:41<52:58, 23.72s/it]"
     ]
    },
    {
     "name": "stdout",
     "output_type": "stream",
     "text": [
      "Cost (USD): $0.000271\n"
     ]
    },
    {
     "name": "stderr",
     "output_type": "stream",
     "text": [
      " 51%|█████     | 136/269 [43:04<51:56, 23.43s/it]"
     ]
    },
    {
     "name": "stdout",
     "output_type": "stream",
     "text": [
      "Cost (USD): $0.000473\n"
     ]
    },
    {
     "name": "stderr",
     "output_type": "stream",
     "text": [
      " 51%|█████     | 137/269 [43:26<50:40, 23.03s/it]"
     ]
    },
    {
     "name": "stdout",
     "output_type": "stream",
     "text": [
      "Cost (USD): $0.000272\n"
     ]
    },
    {
     "name": "stderr",
     "output_type": "stream",
     "text": [
      " 51%|█████▏    | 138/269 [43:54<53:21, 24.44s/it]"
     ]
    },
    {
     "name": "stdout",
     "output_type": "stream",
     "text": [
      "Cost (USD): $0.000271\n"
     ]
    },
    {
     "name": "stderr",
     "output_type": "stream",
     "text": [
      " 52%|█████▏    | 139/269 [44:15<50:51, 23.47s/it]"
     ]
    },
    {
     "name": "stdout",
     "output_type": "stream",
     "text": [
      "Cost (USD): $0.000473\n"
     ]
    },
    {
     "name": "stderr",
     "output_type": "stream",
     "text": [
      " 52%|█████▏    | 140/269 [44:36<49:08, 22.86s/it]"
     ]
    },
    {
     "name": "stdout",
     "output_type": "stream",
     "text": [
      "Cost (USD): $0.000272\n"
     ]
    },
    {
     "name": "stderr",
     "output_type": "stream",
     "text": [
      " 52%|█████▏    | 141/269 [45:00<49:04, 23.01s/it]"
     ]
    },
    {
     "name": "stdout",
     "output_type": "stream",
     "text": [
      "Cost (USD): $0.000271\n"
     ]
    },
    {
     "name": "stderr",
     "output_type": "stream",
     "text": [
      " 53%|█████▎    | 142/269 [45:23<49:05, 23.19s/it]"
     ]
    },
    {
     "name": "stdout",
     "output_type": "stream",
     "text": [
      "Cost (USD): $0.000271\n"
     ]
    },
    {
     "name": "stderr",
     "output_type": "stream",
     "text": [
      " 53%|█████▎    | 143/269 [45:43<46:35, 22.18s/it]"
     ]
    },
    {
     "name": "stdout",
     "output_type": "stream",
     "text": [
      "Cost (USD): $0.000276\n"
     ]
    },
    {
     "name": "stderr",
     "output_type": "stream",
     "text": [
      " 54%|█████▎    | 144/269 [46:04<45:19, 21.76s/it]"
     ]
    },
    {
     "name": "stdout",
     "output_type": "stream",
     "text": [
      "Cost (USD): $0.000472\n"
     ]
    },
    {
     "name": "stderr",
     "output_type": "stream",
     "text": [
      " 54%|█████▍    | 145/269 [46:23<43:32, 21.07s/it]"
     ]
    },
    {
     "name": "stdout",
     "output_type": "stream",
     "text": [
      "Cost (USD): $0.000271\n"
     ]
    },
    {
     "name": "stderr",
     "output_type": "stream",
     "text": [
      " 54%|█████▍    | 146/269 [46:49<45:48, 22.35s/it]"
     ]
    },
    {
     "name": "stdout",
     "output_type": "stream",
     "text": [
      "Cost (USD): $0.000272\n"
     ]
    },
    {
     "name": "stderr",
     "output_type": "stream",
     "text": [
      " 55%|█████▍    | 147/269 [47:12<45:40, 22.46s/it]"
     ]
    },
    {
     "name": "stdout",
     "output_type": "stream",
     "text": [
      "Cost (USD): $0.000271\n"
     ]
    },
    {
     "name": "stderr",
     "output_type": "stream",
     "text": [
      " 55%|█████▌    | 148/269 [47:32<44:20, 21.99s/it]"
     ]
    },
    {
     "name": "stdout",
     "output_type": "stream",
     "text": [
      "Cost (USD): $0.000271\n"
     ]
    },
    {
     "name": "stderr",
     "output_type": "stream",
     "text": [
      " 55%|█████▌    | 149/269 [47:51<42:11, 21.09s/it]"
     ]
    },
    {
     "name": "stdout",
     "output_type": "stream",
     "text": [
      "Cost (USD): $0.000272\n"
     ]
    },
    {
     "name": "stderr",
     "output_type": "stream",
     "text": [
      " 56%|█████▌    | 150/269 [48:09<39:57, 20.14s/it]"
     ]
    },
    {
     "name": "stdout",
     "output_type": "stream",
     "text": [
      "Cost (USD): $0.000443\n"
     ]
    },
    {
     "name": "stderr",
     "output_type": "stream",
     "text": [
      " 56%|█████▌    | 151/269 [48:25<36:58, 18.80s/it]"
     ]
    },
    {
     "name": "stdout",
     "output_type": "stream",
     "text": [
      "Cost (USD): $0.000251\n"
     ]
    },
    {
     "name": "stderr",
     "output_type": "stream",
     "text": [
      " 57%|█████▋    | 152/269 [48:39<33:55, 17.40s/it]"
     ]
    },
    {
     "name": "stdout",
     "output_type": "stream",
     "text": [
      "Cost (USD): $0.000251\n"
     ]
    },
    {
     "name": "stderr",
     "output_type": "stream",
     "text": [
      " 57%|█████▋    | 153/269 [48:55<32:50, 16.99s/it]"
     ]
    },
    {
     "name": "stdout",
     "output_type": "stream",
     "text": [
      "Cost (USD): $0.000443\n"
     ]
    },
    {
     "name": "stderr",
     "output_type": "stream",
     "text": [
      " 57%|█████▋    | 154/269 [49:18<35:46, 18.67s/it]"
     ]
    },
    {
     "name": "stdout",
     "output_type": "stream",
     "text": [
      "Cost (USD): $0.000251\n"
     ]
    },
    {
     "name": "stderr",
     "output_type": "stream",
     "text": [
      " 58%|█████▊    | 155/269 [49:35<34:51, 18.34s/it]"
     ]
    },
    {
     "name": "stdout",
     "output_type": "stream",
     "text": [
      "Cost (USD): $0.000251\n"
     ]
    },
    {
     "name": "stderr",
     "output_type": "stream",
     "text": [
      " 58%|█████▊    | 156/269 [49:53<33:54, 18.00s/it]"
     ]
    },
    {
     "name": "stdout",
     "output_type": "stream",
     "text": [
      "Cost (USD): $0.000251\n"
     ]
    },
    {
     "name": "stderr",
     "output_type": "stream",
     "text": [
      " 58%|█████▊    | 157/269 [50:10<33:33, 17.98s/it]"
     ]
    },
    {
     "name": "stdout",
     "output_type": "stream",
     "text": [
      "Cost (USD): $0.000251\n"
     ]
    },
    {
     "name": "stderr",
     "output_type": "stream",
     "text": [
      " 59%|█████▊    | 158/269 [50:29<33:48, 18.28s/it]"
     ]
    },
    {
     "name": "stdout",
     "output_type": "stream",
     "text": [
      "Cost (USD): $0.000251\n"
     ]
    },
    {
     "name": "stderr",
     "output_type": "stream",
     "text": [
      " 59%|█████▉    | 159/269 [50:45<31:48, 17.35s/it]"
     ]
    },
    {
     "name": "stdout",
     "output_type": "stream",
     "text": [
      "Cost (USD): $0.000251\n"
     ]
    },
    {
     "name": "stderr",
     "output_type": "stream",
     "text": [
      " 59%|█████▉    | 160/269 [50:59<30:05, 16.56s/it]"
     ]
    },
    {
     "name": "stdout",
     "output_type": "stream",
     "text": [
      "Cost (USD): $0.000251\n"
     ]
    },
    {
     "name": "stderr",
     "output_type": "stream",
     "text": [
      " 60%|█████▉    | 161/269 [51:18<30:43, 17.07s/it]"
     ]
    },
    {
     "name": "stdout",
     "output_type": "stream",
     "text": [
      "Cost (USD): $0.000251\n"
     ]
    },
    {
     "name": "stderr",
     "output_type": "stream",
     "text": [
      " 60%|██████    | 162/269 [51:34<30:18, 17.00s/it]"
     ]
    },
    {
     "name": "stdout",
     "output_type": "stream",
     "text": [
      "Cost (USD): $0.000251\n"
     ]
    },
    {
     "name": "stderr",
     "output_type": "stream",
     "text": [
      " 61%|██████    | 163/269 [51:50<29:11, 16.52s/it]"
     ]
    },
    {
     "name": "stdout",
     "output_type": "stream",
     "text": [
      "Cost (USD): $0.000251\n"
     ]
    },
    {
     "name": "stderr",
     "output_type": "stream",
     "text": [
      " 61%|██████    | 164/269 [52:06<28:50, 16.48s/it]"
     ]
    },
    {
     "name": "stdout",
     "output_type": "stream",
     "text": [
      "Cost (USD): $0.000251\n"
     ]
    },
    {
     "name": "stderr",
     "output_type": "stream",
     "text": [
      " 61%|██████▏   | 165/269 [52:24<29:04, 16.78s/it]"
     ]
    },
    {
     "name": "stdout",
     "output_type": "stream",
     "text": [
      "Cost (USD): $0.000444\n"
     ]
    },
    {
     "name": "stderr",
     "output_type": "stream",
     "text": [
      " 62%|██████▏   | 166/269 [52:40<28:25, 16.56s/it]"
     ]
    },
    {
     "name": "stdout",
     "output_type": "stream",
     "text": [
      "Cost (USD): $0.000443\n"
     ]
    },
    {
     "name": "stderr",
     "output_type": "stream",
     "text": [
      " 62%|██████▏   | 167/269 [52:57<28:38, 16.85s/it]"
     ]
    },
    {
     "name": "stdout",
     "output_type": "stream",
     "text": [
      "Cost (USD): $0.000251\n"
     ]
    },
    {
     "name": "stderr",
     "output_type": "stream",
     "text": [
      " 62%|██████▏   | 168/269 [53:13<27:39, 16.43s/it]"
     ]
    },
    {
     "name": "stdout",
     "output_type": "stream",
     "text": [
      "Cost (USD): $0.000251\n"
     ]
    },
    {
     "name": "stderr",
     "output_type": "stream",
     "text": [
      " 63%|██████▎   | 169/269 [53:28<26:44, 16.04s/it]"
     ]
    },
    {
     "name": "stdout",
     "output_type": "stream",
     "text": [
      "Cost (USD): $0.000251\n"
     ]
    },
    {
     "name": "stderr",
     "output_type": "stream",
     "text": [
      " 63%|██████▎   | 170/269 [53:42<25:29, 15.45s/it]"
     ]
    },
    {
     "name": "stdout",
     "output_type": "stream",
     "text": [
      "Cost (USD): $0.000251\n"
     ]
    },
    {
     "name": "stderr",
     "output_type": "stream",
     "text": [
      " 64%|██████▎   | 171/269 [53:58<25:40, 15.72s/it]"
     ]
    },
    {
     "name": "stdout",
     "output_type": "stream",
     "text": [
      "Cost (USD): $0.000251\n"
     ]
    },
    {
     "name": "stderr",
     "output_type": "stream",
     "text": [
      " 64%|██████▍   | 172/269 [54:15<25:44, 15.93s/it]"
     ]
    },
    {
     "name": "stdout",
     "output_type": "stream",
     "text": [
      "Cost (USD): $0.000251\n"
     ]
    },
    {
     "name": "stderr",
     "output_type": "stream",
     "text": [
      " 64%|██████▍   | 173/269 [54:30<25:15, 15.79s/it]"
     ]
    },
    {
     "name": "stdout",
     "output_type": "stream",
     "text": [
      "Cost (USD): $0.000251\n"
     ]
    },
    {
     "name": "stderr",
     "output_type": "stream",
     "text": [
      " 65%|██████▍   | 174/269 [54:46<25:07, 15.87s/it]"
     ]
    },
    {
     "name": "stdout",
     "output_type": "stream",
     "text": [
      "Cost (USD): $0.000252\n"
     ]
    },
    {
     "name": "stderr",
     "output_type": "stream",
     "text": [
      " 65%|██████▌   | 175/269 [55:04<25:52, 16.52s/it]"
     ]
    },
    {
     "name": "stdout",
     "output_type": "stream",
     "text": [
      "Cost (USD): $0.000252\n"
     ]
    },
    {
     "name": "stderr",
     "output_type": "stream",
     "text": [
      " 65%|██████▌   | 176/269 [55:19<24:48, 16.01s/it]"
     ]
    },
    {
     "name": "stdout",
     "output_type": "stream",
     "text": [
      "Cost (USD): $0.000443\n"
     ]
    },
    {
     "name": "stderr",
     "output_type": "stream",
     "text": [
      " 66%|██████▌   | 177/269 [55:33<23:38, 15.42s/it]"
     ]
    },
    {
     "name": "stdout",
     "output_type": "stream",
     "text": [
      "Cost (USD): $0.000251\n"
     ]
    },
    {
     "name": "stderr",
     "output_type": "stream",
     "text": [
      " 66%|██████▌   | 178/269 [55:52<24:46, 16.33s/it]"
     ]
    },
    {
     "name": "stdout",
     "output_type": "stream",
     "text": [
      "Cost (USD): $0.000252\n"
     ]
    },
    {
     "name": "stderr",
     "output_type": "stream",
     "text": [
      " 67%|██████▋   | 179/269 [56:07<24:12, 16.14s/it]"
     ]
    },
    {
     "name": "stdout",
     "output_type": "stream",
     "text": [
      "Cost (USD): $0.000251\n"
     ]
    },
    {
     "name": "stderr",
     "output_type": "stream",
     "text": [
      " 67%|██████▋   | 180/269 [56:22<23:05, 15.56s/it]"
     ]
    },
    {
     "name": "stdout",
     "output_type": "stream",
     "text": [
      "Cost (USD): $0.000251\n"
     ]
    },
    {
     "name": "stderr",
     "output_type": "stream",
     "text": [
      " 67%|██████▋   | 181/269 [56:37<22:45, 15.52s/it]"
     ]
    },
    {
     "name": "stdout",
     "output_type": "stream",
     "text": [
      "Cost (USD): $0.000252\n"
     ]
    },
    {
     "name": "stderr",
     "output_type": "stream",
     "text": [
      " 68%|██████▊   | 182/269 [56:51<21:51, 15.07s/it]"
     ]
    },
    {
     "name": "stdout",
     "output_type": "stream",
     "text": [
      "Cost (USD): $0.000251\n"
     ]
    },
    {
     "name": "stderr",
     "output_type": "stream",
     "text": [
      " 68%|██████▊   | 183/269 [57:06<21:43, 15.16s/it]"
     ]
    },
    {
     "name": "stdout",
     "output_type": "stream",
     "text": [
      "Cost (USD): $0.000252\n"
     ]
    },
    {
     "name": "stderr",
     "output_type": "stream",
     "text": [
      " 68%|██████▊   | 184/269 [57:27<23:40, 16.71s/it]"
     ]
    },
    {
     "name": "stdout",
     "output_type": "stream",
     "text": [
      "Cost (USD): $0.000444\n"
     ]
    },
    {
     "name": "stderr",
     "output_type": "stream",
     "text": [
      " 69%|██████▉   | 185/269 [57:45<24:13, 17.30s/it]"
     ]
    },
    {
     "name": "stdout",
     "output_type": "stream",
     "text": [
      "Cost (USD): $0.000252\n"
     ]
    },
    {
     "name": "stderr",
     "output_type": "stream",
     "text": [
      " 69%|██████▉   | 186/269 [58:02<23:45, 17.18s/it]"
     ]
    },
    {
     "name": "stdout",
     "output_type": "stream",
     "text": [
      "Cost (USD): $0.000448\n"
     ]
    },
    {
     "name": "stderr",
     "output_type": "stream",
     "text": [
      " 70%|██████▉   | 187/269 [58:19<23:08, 16.93s/it]"
     ]
    },
    {
     "name": "stdout",
     "output_type": "stream",
     "text": [
      "Cost (USD): $0.000247\n"
     ]
    },
    {
     "name": "stderr",
     "output_type": "stream",
     "text": [
      " 70%|██████▉   | 188/269 [58:33<21:58, 16.28s/it]"
     ]
    },
    {
     "name": "stdout",
     "output_type": "stream",
     "text": [
      "Cost (USD): $0.000247\n"
     ]
    },
    {
     "name": "stderr",
     "output_type": "stream",
     "text": [
      " 70%|███████   | 189/269 [58:48<21:13, 15.92s/it]"
     ]
    },
    {
     "name": "stdout",
     "output_type": "stream",
     "text": [
      "Cost (USD): $0.000251\n"
     ]
    },
    {
     "name": "stderr",
     "output_type": "stream",
     "text": [
      " 71%|███████   | 190/269 [59:05<21:10, 16.09s/it]"
     ]
    },
    {
     "name": "stdout",
     "output_type": "stream",
     "text": [
      "Cost (USD): $0.000247\n"
     ]
    },
    {
     "name": "stderr",
     "output_type": "stream",
     "text": [
      " 71%|███████   | 191/269 [59:20<20:21, 15.66s/it]"
     ]
    },
    {
     "name": "stdout",
     "output_type": "stream",
     "text": [
      "Cost (USD): $0.000251\n"
     ]
    },
    {
     "name": "stderr",
     "output_type": "stream",
     "text": [
      " 71%|███████▏  | 192/269 [59:35<20:02, 15.62s/it]"
     ]
    },
    {
     "name": "stdout",
     "output_type": "stream",
     "text": [
      "Cost (USD): $0.000251\n"
     ]
    },
    {
     "name": "stderr",
     "output_type": "stream",
     "text": [
      " 72%|███████▏  | 193/269 [59:51<19:50, 15.67s/it]"
     ]
    },
    {
     "name": "stdout",
     "output_type": "stream",
     "text": [
      "Cost (USD): $0.000251\n"
     ]
    },
    {
     "name": "stderr",
     "output_type": "stream",
     "text": [
      " 72%|███████▏  | 194/269 [1:00:07<19:50, 15.88s/it]"
     ]
    },
    {
     "name": "stdout",
     "output_type": "stream",
     "text": [
      "Cost (USD): $0.000251\n"
     ]
    },
    {
     "name": "stderr",
     "output_type": "stream",
     "text": [
      " 72%|███████▏  | 195/269 [1:00:26<20:29, 16.62s/it]"
     ]
    },
    {
     "name": "stdout",
     "output_type": "stream",
     "text": [
      "Cost (USD): $0.000455\n"
     ]
    },
    {
     "name": "stderr",
     "output_type": "stream",
     "text": [
      " 73%|███████▎  | 196/269 [1:00:49<22:51, 18.78s/it]"
     ]
    },
    {
     "name": "stdout",
     "output_type": "stream",
     "text": [
      "Cost (USD): $0.000456\n"
     ]
    },
    {
     "name": "stderr",
     "output_type": "stream",
     "text": [
      " 73%|███████▎  | 197/269 [1:01:09<22:53, 19.08s/it]"
     ]
    },
    {
     "name": "stdout",
     "output_type": "stream",
     "text": [
      "Cost (USD): $0.000455\n"
     ]
    },
    {
     "name": "stderr",
     "output_type": "stream",
     "text": [
      " 74%|███████▎  | 198/269 [1:01:27<22:01, 18.61s/it]"
     ]
    },
    {
     "name": "stdout",
     "output_type": "stream",
     "text": [
      "Cost (USD): $0.000456\n"
     ]
    },
    {
     "name": "stderr",
     "output_type": "stream",
     "text": [
      " 74%|███████▍  | 199/269 [1:01:51<23:42, 20.32s/it]"
     ]
    },
    {
     "name": "stdout",
     "output_type": "stream",
     "text": [
      "Cost (USD): $0.000455\n"
     ]
    },
    {
     "name": "stderr",
     "output_type": "stream",
     "text": [
      " 74%|███████▍  | 200/269 [1:02:11<23:17, 20.26s/it]"
     ]
    },
    {
     "name": "stdout",
     "output_type": "stream",
     "text": [
      "Cost (USD): $0.000263\n"
     ]
    },
    {
     "name": "stderr",
     "output_type": "stream",
     "text": [
      " 75%|███████▍  | 201/269 [1:02:37<24:52, 21.94s/it]"
     ]
    },
    {
     "name": "stdout",
     "output_type": "stream",
     "text": [
      "Cost (USD): $0.000264\n"
     ]
    },
    {
     "name": "stderr",
     "output_type": "stream",
     "text": [
      " 75%|███████▌  | 202/269 [1:03:02<25:25, 22.77s/it]"
     ]
    },
    {
     "name": "stdout",
     "output_type": "stream",
     "text": [
      "Cost (USD): $0.000456\n"
     ]
    },
    {
     "name": "stderr",
     "output_type": "stream",
     "text": [
      " 75%|███████▌  | 203/269 [1:03:22<24:14, 22.04s/it]"
     ]
    },
    {
     "name": "stdout",
     "output_type": "stream",
     "text": [
      "Cost (USD): $0.000264\n"
     ]
    },
    {
     "name": "stderr",
     "output_type": "stream",
     "text": [
      " 76%|███████▌  | 204/269 [1:03:45<24:10, 22.32s/it]"
     ]
    },
    {
     "name": "stdout",
     "output_type": "stream",
     "text": [
      "Cost (USD): $0.000281\n"
     ]
    },
    {
     "name": "stderr",
     "output_type": "stream",
     "text": [
      " 76%|███████▌  | 205/269 [1:04:06<23:17, 21.83s/it]"
     ]
    },
    {
     "name": "stdout",
     "output_type": "stream",
     "text": [
      "Cost (USD): $0.000263\n"
     ]
    },
    {
     "name": "stderr",
     "output_type": "stream",
     "text": [
      " 77%|███████▋  | 206/269 [1:04:26<22:31, 21.45s/it]"
     ]
    },
    {
     "name": "stdout",
     "output_type": "stream",
     "text": [
      "Cost (USD): $0.000264\n"
     ]
    },
    {
     "name": "stderr",
     "output_type": "stream",
     "text": [
      " 77%|███████▋  | 207/269 [1:04:46<21:33, 20.86s/it]"
     ]
    },
    {
     "name": "stdout",
     "output_type": "stream",
     "text": [
      "Cost (USD): $0.000264\n"
     ]
    },
    {
     "name": "stderr",
     "output_type": "stream",
     "text": [
      " 77%|███████▋  | 208/269 [1:05:09<21:59, 21.63s/it]"
     ]
    },
    {
     "name": "stdout",
     "output_type": "stream",
     "text": [
      "Cost (USD): $0.000456\n"
     ]
    },
    {
     "name": "stderr",
     "output_type": "stream",
     "text": [
      " 78%|███████▊  | 209/269 [1:05:30<21:19, 21.33s/it]"
     ]
    },
    {
     "name": "stdout",
     "output_type": "stream",
     "text": [
      "Cost (USD): $0.000456\n"
     ]
    },
    {
     "name": "stderr",
     "output_type": "stream",
     "text": [
      " 78%|███████▊  | 210/269 [1:05:52<21:18, 21.66s/it]"
     ]
    },
    {
     "name": "stdout",
     "output_type": "stream",
     "text": [
      "Cost (USD): $0.000453\n"
     ]
    },
    {
     "name": "stderr",
     "output_type": "stream",
     "text": [
      " 78%|███████▊  | 211/269 [1:06:11<20:01, 20.72s/it]"
     ]
    },
    {
     "name": "stdout",
     "output_type": "stream",
     "text": [
      "Cost (USD): $0.000261\n"
     ]
    },
    {
     "name": "stderr",
     "output_type": "stream",
     "text": [
      " 79%|███████▉  | 212/269 [1:06:31<19:32, 20.57s/it]"
     ]
    },
    {
     "name": "stdout",
     "output_type": "stream",
     "text": [
      "Cost (USD): $0.000261\n"
     ]
    },
    {
     "name": "stderr",
     "output_type": "stream",
     "text": [
      " 79%|███████▉  | 213/269 [1:06:53<19:32, 20.93s/it]"
     ]
    },
    {
     "name": "stdout",
     "output_type": "stream",
     "text": [
      "Cost (USD): $0.000261\n"
     ]
    },
    {
     "name": "stderr",
     "output_type": "stream",
     "text": [
      " 80%|███████▉  | 214/269 [1:07:11<18:21, 20.03s/it]"
     ]
    },
    {
     "name": "stdout",
     "output_type": "stream",
     "text": [
      "Cost (USD): $0.000261\n"
     ]
    },
    {
     "name": "stderr",
     "output_type": "stream",
     "text": [
      " 80%|███████▉  | 215/269 [1:07:27<17:03, 18.95s/it]"
     ]
    },
    {
     "name": "stdout",
     "output_type": "stream",
     "text": [
      "Cost (USD): $0.000261\n"
     ]
    },
    {
     "name": "stderr",
     "output_type": "stream",
     "text": [
      " 80%|████████  | 216/269 [1:07:48<17:11, 19.46s/it]"
     ]
    },
    {
     "name": "stdout",
     "output_type": "stream",
     "text": [
      "Cost (USD): $0.000261\n"
     ]
    },
    {
     "name": "stderr",
     "output_type": "stream",
     "text": [
      " 81%|████████  | 217/269 [1:08:08<17:04, 19.70s/it]"
     ]
    },
    {
     "name": "stdout",
     "output_type": "stream",
     "text": [
      "Cost (USD): $0.000261\n"
     ]
    },
    {
     "name": "stderr",
     "output_type": "stream",
     "text": [
      " 81%|████████  | 218/269 [1:08:27<16:31, 19.44s/it]"
     ]
    },
    {
     "name": "stdout",
     "output_type": "stream",
     "text": [
      "Cost (USD): $0.000261\n"
     ]
    },
    {
     "name": "stderr",
     "output_type": "stream",
     "text": [
      " 81%|████████▏ | 219/269 [1:08:48<16:37, 19.94s/it]"
     ]
    },
    {
     "name": "stdout",
     "output_type": "stream",
     "text": [
      "Cost (USD): $0.000453\n"
     ]
    },
    {
     "name": "stderr",
     "output_type": "stream",
     "text": [
      " 82%|████████▏ | 220/269 [1:09:06<15:48, 19.36s/it]"
     ]
    },
    {
     "name": "stdout",
     "output_type": "stream",
     "text": [
      "Cost (USD): $0.000261\n"
     ]
    },
    {
     "name": "stderr",
     "output_type": "stream",
     "text": [
      " 82%|████████▏ | 221/269 [1:09:24<15:10, 18.98s/it]"
     ]
    },
    {
     "name": "stdout",
     "output_type": "stream",
     "text": [
      "Cost (USD): $0.000261\n"
     ]
    },
    {
     "name": "stderr",
     "output_type": "stream",
     "text": [
      " 83%|████████▎ | 222/269 [1:09:42<14:37, 18.68s/it]"
     ]
    },
    {
     "name": "stdout",
     "output_type": "stream",
     "text": [
      "Cost (USD): $0.000261\n"
     ]
    },
    {
     "name": "stderr",
     "output_type": "stream",
     "text": [
      " 83%|████████▎ | 223/269 [1:10:02<14:35, 19.04s/it]"
     ]
    },
    {
     "name": "stdout",
     "output_type": "stream",
     "text": [
      "Cost (USD): $0.000261\n"
     ]
    },
    {
     "name": "stderr",
     "output_type": "stream",
     "text": [
      " 83%|████████▎ | 224/269 [1:10:20<14:09, 18.88s/it]"
     ]
    },
    {
     "name": "stdout",
     "output_type": "stream",
     "text": [
      "Cost (USD): $0.000261\n"
     ]
    },
    {
     "name": "stderr",
     "output_type": "stream",
     "text": [
      " 84%|████████▎ | 225/269 [1:10:38<13:36, 18.57s/it]"
     ]
    },
    {
     "name": "stdout",
     "output_type": "stream",
     "text": [
      "Cost (USD): $0.000261\n"
     ]
    },
    {
     "name": "stderr",
     "output_type": "stream",
     "text": [
      " 84%|████████▍ | 226/269 [1:10:59<13:52, 19.36s/it]"
     ]
    },
    {
     "name": "stdout",
     "output_type": "stream",
     "text": [
      "Cost (USD): $0.000261\n"
     ]
    },
    {
     "name": "stderr",
     "output_type": "stream",
     "text": [
      " 84%|████████▍ | 227/269 [1:11:18<13:23, 19.14s/it]"
     ]
    },
    {
     "name": "stdout",
     "output_type": "stream",
     "text": [
      "Cost (USD): $0.000261\n"
     ]
    },
    {
     "name": "stderr",
     "output_type": "stream",
     "text": [
      " 85%|████████▍ | 228/269 [1:11:39<13:25, 19.66s/it]"
     ]
    },
    {
     "name": "stdout",
     "output_type": "stream",
     "text": [
      "Cost (USD): $0.000261\n"
     ]
    },
    {
     "name": "stderr",
     "output_type": "stream",
     "text": [
      " 85%|████████▌ | 229/269 [1:12:04<14:08, 21.21s/it]"
     ]
    },
    {
     "name": "stdout",
     "output_type": "stream",
     "text": [
      "Cost (USD): $0.000261\n"
     ]
    },
    {
     "name": "stderr",
     "output_type": "stream",
     "text": [
      " 86%|████████▌ | 230/269 [1:12:25<13:48, 21.24s/it]"
     ]
    },
    {
     "name": "stdout",
     "output_type": "stream",
     "text": [
      "Cost (USD): $0.000261\n"
     ]
    },
    {
     "name": "stderr",
     "output_type": "stream",
     "text": [
      " 86%|████████▌ | 231/269 [1:12:43<12:50, 20.26s/it]"
     ]
    },
    {
     "name": "stdout",
     "output_type": "stream",
     "text": [
      "Cost (USD): $0.000261\n"
     ]
    },
    {
     "name": "stderr",
     "output_type": "stream",
     "text": [
      " 86%|████████▌ | 232/269 [1:13:02<12:12, 19.80s/it]"
     ]
    },
    {
     "name": "stdout",
     "output_type": "stream",
     "text": [
      "Cost (USD): $0.000261\n"
     ]
    },
    {
     "name": "stderr",
     "output_type": "stream",
     "text": [
      " 87%|████████▋ | 233/269 [1:13:19<11:20, 18.91s/it]"
     ]
    },
    {
     "name": "stdout",
     "output_type": "stream",
     "text": [
      "Cost (USD): $0.000453\n"
     ]
    },
    {
     "name": "stderr",
     "output_type": "stream",
     "text": [
      " 87%|████████▋ | 234/269 [1:13:36<10:42, 18.35s/it]"
     ]
    },
    {
     "name": "stdout",
     "output_type": "stream",
     "text": [
      "Cost (USD): $0.000261\n"
     ]
    },
    {
     "name": "stderr",
     "output_type": "stream",
     "text": [
      " 87%|████████▋ | 235/269 [1:13:53<10:15, 18.12s/it]"
     ]
    },
    {
     "name": "stdout",
     "output_type": "stream",
     "text": [
      "Cost (USD): $0.000261\n"
     ]
    },
    {
     "name": "stderr",
     "output_type": "stream",
     "text": [
      " 88%|████████▊ | 236/269 [1:14:11<09:57, 18.11s/it]"
     ]
    },
    {
     "name": "stdout",
     "output_type": "stream",
     "text": [
      "Cost (USD): $0.000261\n"
     ]
    },
    {
     "name": "stderr",
     "output_type": "stream",
     "text": [
      " 88%|████████▊ | 237/269 [1:14:31<09:51, 18.49s/it]"
     ]
    },
    {
     "name": "stdout",
     "output_type": "stream",
     "text": [
      "Cost (USD): $0.000261\n"
     ]
    },
    {
     "name": "stderr",
     "output_type": "stream",
     "text": [
      " 88%|████████▊ | 238/269 [1:14:49<09:30, 18.40s/it]"
     ]
    },
    {
     "name": "stdout",
     "output_type": "stream",
     "text": [
      "Cost (USD): $0.000453\n"
     ]
    },
    {
     "name": "stderr",
     "output_type": "stream",
     "text": [
      " 89%|████████▉ | 239/269 [1:15:07<09:10, 18.36s/it]"
     ]
    },
    {
     "name": "stdout",
     "output_type": "stream",
     "text": [
      "Cost (USD): $0.000263\n"
     ]
    },
    {
     "name": "stderr",
     "output_type": "stream",
     "text": [
      " 89%|████████▉ | 240/269 [1:15:26<08:52, 18.36s/it]"
     ]
    },
    {
     "name": "stdout",
     "output_type": "stream",
     "text": [
      "Cost (USD): $0.000261\n"
     ]
    },
    {
     "name": "stderr",
     "output_type": "stream",
     "text": [
      " 90%|████████▉ | 241/269 [1:15:45<08:41, 18.61s/it]"
     ]
    },
    {
     "name": "stdout",
     "output_type": "stream",
     "text": [
      "Cost (USD): $0.000261\n"
     ]
    },
    {
     "name": "stderr",
     "output_type": "stream",
     "text": [
      " 90%|████████▉ | 242/269 [1:16:03<08:17, 18.43s/it]"
     ]
    },
    {
     "name": "stdout",
     "output_type": "stream",
     "text": [
      "Cost (USD): $0.000261\n"
     ]
    },
    {
     "name": "stderr",
     "output_type": "stream",
     "text": [
      " 90%|█████████ | 243/269 [1:16:20<07:48, 18.02s/it]"
     ]
    },
    {
     "name": "stdout",
     "output_type": "stream",
     "text": [
      "Cost (USD): $0.000261\n"
     ]
    },
    {
     "name": "stderr",
     "output_type": "stream",
     "text": [
      " 91%|█████████ | 244/269 [1:16:42<07:59, 19.17s/it]"
     ]
    },
    {
     "name": "stdout",
     "output_type": "stream",
     "text": [
      "Cost (USD): $0.000261\n"
     ]
    },
    {
     "name": "stderr",
     "output_type": "stream",
     "text": [
      " 91%|█████████ | 245/269 [1:17:01<07:43, 19.32s/it]"
     ]
    },
    {
     "name": "stdout",
     "output_type": "stream",
     "text": [
      "Cost (USD): $0.000261\n"
     ]
    },
    {
     "name": "stderr",
     "output_type": "stream",
     "text": [
      " 91%|█████████▏| 246/269 [1:17:19<07:11, 18.77s/it]"
     ]
    },
    {
     "name": "stdout",
     "output_type": "stream",
     "text": [
      "Cost (USD): $0.000261\n"
     ]
    },
    {
     "name": "stderr",
     "output_type": "stream",
     "text": [
      " 92%|█████████▏| 247/269 [1:17:37<06:48, 18.56s/it]"
     ]
    },
    {
     "name": "stdout",
     "output_type": "stream",
     "text": [
      "Cost (USD): $0.000261\n"
     ]
    },
    {
     "name": "stderr",
     "output_type": "stream",
     "text": [
      " 92%|█████████▏| 248/269 [1:17:57<06:37, 18.92s/it]"
     ]
    },
    {
     "name": "stdout",
     "output_type": "stream",
     "text": [
      "Cost (USD): $0.000261\n"
     ]
    },
    {
     "name": "stderr",
     "output_type": "stream",
     "text": [
      " 93%|█████████▎| 249/269 [1:18:14<06:09, 18.46s/it]"
     ]
    },
    {
     "name": "stdout",
     "output_type": "stream",
     "text": [
      "Cost (USD): $0.000261\n"
     ]
    },
    {
     "name": "stderr",
     "output_type": "stream",
     "text": [
      " 93%|█████████▎| 250/269 [1:18:33<05:52, 18.55s/it]"
     ]
    },
    {
     "name": "stdout",
     "output_type": "stream",
     "text": [
      "Cost (USD): $0.000261\n"
     ]
    },
    {
     "name": "stderr",
     "output_type": "stream",
     "text": [
      " 93%|█████████▎| 251/269 [1:18:50<05:28, 18.27s/it]"
     ]
    },
    {
     "name": "stdout",
     "output_type": "stream",
     "text": [
      "Cost (USD): $0.000261\n"
     ]
    },
    {
     "name": "stderr",
     "output_type": "stream",
     "text": [
      " 94%|█████████▎| 252/269 [1:19:07<05:04, 17.91s/it]"
     ]
    },
    {
     "name": "stdout",
     "output_type": "stream",
     "text": [
      "Cost (USD): $0.000261\n"
     ]
    },
    {
     "name": "stderr",
     "output_type": "stream",
     "text": [
      " 94%|█████████▍| 253/269 [1:19:24<04:41, 17.61s/it]"
     ]
    },
    {
     "name": "stdout",
     "output_type": "stream",
     "text": [
      "Cost (USD): $0.000261\n"
     ]
    },
    {
     "name": "stderr",
     "output_type": "stream",
     "text": [
      " 94%|█████████▍| 254/269 [1:19:41<04:21, 17.44s/it]"
     ]
    },
    {
     "name": "stdout",
     "output_type": "stream",
     "text": [
      "Cost (USD): $0.000261\n"
     ]
    },
    {
     "name": "stderr",
     "output_type": "stream",
     "text": [
      " 95%|█████████▍| 255/269 [1:19:56<03:53, 16.67s/it]"
     ]
    },
    {
     "name": "stdout",
     "output_type": "stream",
     "text": [
      "Cost (USD): $0.000448\n"
     ]
    },
    {
     "name": "stderr",
     "output_type": "stream",
     "text": [
      " 95%|█████████▌| 256/269 [1:20:12<03:34, 16.47s/it]"
     ]
    },
    {
     "name": "stdout",
     "output_type": "stream",
     "text": [
      "Cost (USD): $0.000447\n"
     ]
    },
    {
     "name": "stderr",
     "output_type": "stream",
     "text": [
      " 96%|█████████▌| 257/269 [1:20:27<03:10, 15.89s/it]"
     ]
    },
    {
     "name": "stdout",
     "output_type": "stream",
     "text": [
      "Cost (USD): $0.000256\n"
     ]
    },
    {
     "name": "stderr",
     "output_type": "stream",
     "text": [
      " 96%|█████████▌| 258/269 [1:20:42<02:52, 15.66s/it]"
     ]
    },
    {
     "name": "stdout",
     "output_type": "stream",
     "text": [
      "Cost (USD): $0.000256\n"
     ]
    },
    {
     "name": "stderr",
     "output_type": "stream",
     "text": [
      " 96%|█████████▋| 259/269 [1:20:58<02:38, 15.82s/it]"
     ]
    },
    {
     "name": "stdout",
     "output_type": "stream",
     "text": [
      "Cost (USD): $0.000256\n"
     ]
    },
    {
     "name": "stderr",
     "output_type": "stream",
     "text": [
      " 97%|█████████▋| 260/269 [1:21:14<02:23, 15.91s/it]"
     ]
    },
    {
     "name": "stdout",
     "output_type": "stream",
     "text": [
      "Cost (USD): $0.000255\n"
     ]
    },
    {
     "name": "stderr",
     "output_type": "stream",
     "text": [
      " 97%|█████████▋| 261/269 [1:21:31<02:08, 16.02s/it]"
     ]
    },
    {
     "name": "stdout",
     "output_type": "stream",
     "text": [
      "Cost (USD): $0.000255\n"
     ]
    },
    {
     "name": "stderr",
     "output_type": "stream",
     "text": [
      " 97%|█████████▋| 262/269 [1:21:47<01:53, 16.25s/it]"
     ]
    },
    {
     "name": "stdout",
     "output_type": "stream",
     "text": [
      "Cost (USD): $0.000255\n"
     ]
    },
    {
     "name": "stderr",
     "output_type": "stream",
     "text": [
      " 98%|█████████▊| 263/269 [1:22:03<01:36, 16.01s/it]"
     ]
    },
    {
     "name": "stdout",
     "output_type": "stream",
     "text": [
      "Cost (USD): $0.000257\n"
     ]
    },
    {
     "name": "stderr",
     "output_type": "stream",
     "text": [
      " 98%|█████████▊| 264/269 [1:22:17<01:16, 15.39s/it]"
     ]
    },
    {
     "name": "stdout",
     "output_type": "stream",
     "text": [
      "Cost (USD): $0.000247\n"
     ]
    },
    {
     "name": "stderr",
     "output_type": "stream",
     "text": [
      " 99%|█████████▊| 265/269 [1:22:36<01:05, 16.47s/it]"
     ]
    },
    {
     "name": "stdout",
     "output_type": "stream",
     "text": [
      "Cost (USD): $0.000255\n"
     ]
    },
    {
     "name": "stderr",
     "output_type": "stream",
     "text": [
      " 99%|█████████▉| 266/269 [1:22:53<00:49, 16.62s/it]"
     ]
    },
    {
     "name": "stdout",
     "output_type": "stream",
     "text": [
      "Cost (USD): $0.000255\n"
     ]
    },
    {
     "name": "stderr",
     "output_type": "stream",
     "text": [
      " 99%|█████████▉| 267/269 [1:23:10<00:33, 16.69s/it]"
     ]
    },
    {
     "name": "stdout",
     "output_type": "stream",
     "text": [
      "Cost (USD): $0.000255\n"
     ]
    },
    {
     "name": "stderr",
     "output_type": "stream",
     "text": [
      "100%|█████████▉| 268/269 [1:23:26<00:16, 16.62s/it]"
     ]
    },
    {
     "name": "stdout",
     "output_type": "stream",
     "text": [
      "Cost (USD): $0.000255\n"
     ]
    },
    {
     "name": "stderr",
     "output_type": "stream",
     "text": [
      "100%|██████████| 269/269 [1:23:44<00:00, 18.68s/it]"
     ]
    },
    {
     "name": "stdout",
     "output_type": "stream",
     "text": [
      "Cost (USD): $0.000255\n"
     ]
    },
    {
     "name": "stderr",
     "output_type": "stream",
     "text": [
      "\n"
     ]
    }
   ],
   "source": [
    "results = run_validated_pipeline(\n",
    "        data\n",
    ")\n",
    "results_df = pd.DataFrame(results)\n",
    "results_df.to_csv(\"sparql_llm_results.csv\", index=False)"
   ]
  },
  {
   "cell_type": "code",
   "execution_count": 4,
   "id": "4b777c59",
   "metadata": {},
   "outputs": [
    {
     "data": {
      "text/html": [
       "<div>\n",
       "<style scoped>\n",
       "    .dataframe tbody tr th:only-of-type {\n",
       "        vertical-align: middle;\n",
       "    }\n",
       "\n",
       "    .dataframe tbody tr th {\n",
       "        vertical-align: top;\n",
       "    }\n",
       "\n",
       "    .dataframe thead th {\n",
       "        text-align: right;\n",
       "    }\n",
       "</style>\n",
       "<table border=\"1\" class=\"dataframe\">\n",
       "  <thead>\n",
       "    <tr style=\"text-align: right;\">\n",
       "      <th></th>\n",
       "      <th>natural_language_question</th>\n",
       "      <th>prompt_templates</th>\n",
       "      <th>prompt_examples</th>\n",
       "      <th>all_prompts_ranked</th>\n",
       "      <th>most_similar_template</th>\n",
       "      <th>validation_time</th>\n",
       "      <th>valid_query</th>\n",
       "      <th>query</th>\n",
       "      <th>attempts</th>\n",
       "      <th>initial_query_time</th>\n",
       "      <th>result</th>\n",
       "      <th>final_query_execution_time</th>\n",
       "      <th>total_time</th>\n",
       "    </tr>\n",
       "  </thead>\n",
       "  <tbody>\n",
       "    <tr>\n",
       "      <th>0</th>\n",
       "      <td>Which patients have received a diagnosis of I10?</td>\n",
       "      <td>Template 0:\\nTemplate Question: Which patients...</td>\n",
       "      <td>Example 0:\\nQuestion: Which patients have been...</td>\n",
       "      <td>[PREFIX sphn: &lt;https://www.biomedit.ch/rdf/sph...</td>\n",
       "      <td>{'query_example': 'PREFIX sphn: &lt;https://www.b...</td>\n",
       "      <td>[]</td>\n",
       "      <td>True</td>\n",
       "      <td>PREFIX sphn: &lt;https://www.biomedit.ch/rdf/sphn...</td>\n",
       "      <td>0</td>\n",
       "      <td>2.006505</td>\n",
       "      <td>[{'patient': https://www.biomedit.ch/rdf/sphn-...</td>\n",
       "      <td>0.010400</td>\n",
       "      <td>19.692733</td>\n",
       "    </tr>\n",
       "    <tr>\n",
       "      <th>1</th>\n",
       "      <td>Which patients have received a diagnosis of I708?</td>\n",
       "      <td>Template 0:\\nTemplate Question: Which patients...</td>\n",
       "      <td>Example 0:\\nQuestion: Which patients have been...</td>\n",
       "      <td>[PREFIX sphn: &lt;https://www.biomedit.ch/rdf/sph...</td>\n",
       "      <td>{'query_example': 'PREFIX sphn: &lt;https://www.b...</td>\n",
       "      <td>[]</td>\n",
       "      <td>True</td>\n",
       "      <td>PREFIX sphn: &lt;https://www.biomedit.ch/rdf/sphn...</td>\n",
       "      <td>0</td>\n",
       "      <td>3.649870</td>\n",
       "      <td>[{'patient': https://www.biomedit.ch/rdf/sphn-...</td>\n",
       "      <td>0.002822</td>\n",
       "      <td>20.226847</td>\n",
       "    </tr>\n",
       "    <tr>\n",
       "      <th>2</th>\n",
       "      <td>Which patients have received a diagnosis of I2...</td>\n",
       "      <td>Template 0:\\nTemplate Question: Which patients...</td>\n",
       "      <td>Example 0:\\nQuestion: Which patients have been...</td>\n",
       "      <td>[PREFIX sphn: &lt;https://www.biomedit.ch/rdf/sph...</td>\n",
       "      <td>{'query_example': 'PREFIX sphn: &lt;https://www.b...</td>\n",
       "      <td>[]</td>\n",
       "      <td>True</td>\n",
       "      <td>PREFIX sphn: &lt;https://www.biomedit.ch/rdf/sphn...</td>\n",
       "      <td>0</td>\n",
       "      <td>2.409011</td>\n",
       "      <td>[{'patient': https://www.biomedit.ch/rdf/sphn-...</td>\n",
       "      <td>0.005414</td>\n",
       "      <td>17.039988</td>\n",
       "    </tr>\n",
       "    <tr>\n",
       "      <th>3</th>\n",
       "      <td>Which patients have been given a diagnosis of ...</td>\n",
       "      <td>Template 0:\\nTemplate Question: Which patients...</td>\n",
       "      <td>Example 0:\\nQuestion: Which patients have been...</td>\n",
       "      <td>[PREFIX sphn: &lt;https://www.biomedit.ch/rdf/sph...</td>\n",
       "      <td>{'query_example': 'PREFIX sphn: &lt;https://www.b...</td>\n",
       "      <td>[]</td>\n",
       "      <td>True</td>\n",
       "      <td>PREFIX sphn: &lt;https://www.biomedit.ch/rdf/sphn...</td>\n",
       "      <td>0</td>\n",
       "      <td>1.827411</td>\n",
       "      <td>[{'patient': https://www.biomedit.ch/rdf/sphn-...</td>\n",
       "      <td>0.006340</td>\n",
       "      <td>17.171861</td>\n",
       "    </tr>\n",
       "    <tr>\n",
       "      <th>4</th>\n",
       "      <td>Which patients have been given a diagnosis of ...</td>\n",
       "      <td>Template 0:\\nTemplate Question: Which patients...</td>\n",
       "      <td>Example 0:\\nQuestion: Which patients have been...</td>\n",
       "      <td>[PREFIX sphn: &lt;https://www.biomedit.ch/rdf/sph...</td>\n",
       "      <td>{'query_example': 'PREFIX sphn: &lt;https://www.b...</td>\n",
       "      <td>[]</td>\n",
       "      <td>True</td>\n",
       "      <td>PREFIX sphn: &lt;https://www.biomedit.ch/rdf/sphn...</td>\n",
       "      <td>0</td>\n",
       "      <td>1.835176</td>\n",
       "      <td>[{'patient': https://www.biomedit.ch/rdf/sphn-...</td>\n",
       "      <td>0.002373</td>\n",
       "      <td>16.482230</td>\n",
       "    </tr>\n",
       "    <tr>\n",
       "      <th>...</th>\n",
       "      <td>...</td>\n",
       "      <td>...</td>\n",
       "      <td>...</td>\n",
       "      <td>...</td>\n",
       "      <td>...</td>\n",
       "      <td>...</td>\n",
       "      <td>...</td>\n",
       "      <td>...</td>\n",
       "      <td>...</td>\n",
       "      <td>...</td>\n",
       "      <td>...</td>\n",
       "      <td>...</td>\n",
       "      <td>...</td>\n",
       "    </tr>\n",
       "    <tr>\n",
       "      <th>264</th>\n",
       "      <td>Which patients have encountered an adverse eve...</td>\n",
       "      <td>Template 0:\\nTemplate Question: Which patients...</td>\n",
       "      <td>Example 0:\\nQuestion: Which patients have had ...</td>\n",
       "      <td>[PREFIX sphn: &lt;https://www.biomedit.ch/rdf/sph...</td>\n",
       "      <td>{'query_example': 'PREFIX sphn: &lt;https://www.b...</td>\n",
       "      <td>[]</td>\n",
       "      <td>True</td>\n",
       "      <td>PREFIX sphn: &lt;https://www.biomedit.ch/rdf/sphn...</td>\n",
       "      <td>0</td>\n",
       "      <td>2.992134</td>\n",
       "      <td>[{'patient': http://kg-representation-ehr.org/...</td>\n",
       "      <td>0.002565</td>\n",
       "      <td>18.978661</td>\n",
       "    </tr>\n",
       "    <tr>\n",
       "      <th>265</th>\n",
       "      <td>Which patients have experienced an adverse eve...</td>\n",
       "      <td>Template 0:\\nTemplate Question: Which patients...</td>\n",
       "      <td>Example 0:\\nQuestion: Which patients have had ...</td>\n",
       "      <td>[PREFIX sphn: &lt;https://www.biomedit.ch/rdf/sph...</td>\n",
       "      <td>{'query_example': 'PREFIX sphn: &lt;https://www.b...</td>\n",
       "      <td>[]</td>\n",
       "      <td>True</td>\n",
       "      <td>PREFIX sphn: &lt;https://www.biomedit.ch/rdf/sphn...</td>\n",
       "      <td>0</td>\n",
       "      <td>1.447556</td>\n",
       "      <td>[{'patient': http://kg-representation-ehr.org/...</td>\n",
       "      <td>0.002555</td>\n",
       "      <td>16.979393</td>\n",
       "    </tr>\n",
       "    <tr>\n",
       "      <th>266</th>\n",
       "      <td>Which patients have undergone an adverse event...</td>\n",
       "      <td>Template 0:\\nTemplate Question: Which patients...</td>\n",
       "      <td>Example 0:\\nQuestion: Which patients have had ...</td>\n",
       "      <td>[PREFIX sphn: &lt;https://www.biomedit.ch/rdf/sph...</td>\n",
       "      <td>{'query_example': 'PREFIX sphn: &lt;https://www.b...</td>\n",
       "      <td>[]</td>\n",
       "      <td>True</td>\n",
       "      <td>PREFIX sphn: &lt;https://www.biomedit.ch/rdf/sphn...</td>\n",
       "      <td>0</td>\n",
       "      <td>1.318609</td>\n",
       "      <td>[{'patient': http://kg-representation-ehr.org/...</td>\n",
       "      <td>0.002142</td>\n",
       "      <td>16.858926</td>\n",
       "    </tr>\n",
       "    <tr>\n",
       "      <th>267</th>\n",
       "      <td>Which patients have undergone an adverse event...</td>\n",
       "      <td>Template 0:\\nTemplate Question: Which patients...</td>\n",
       "      <td>Example 0:\\nQuestion: Which patients have had ...</td>\n",
       "      <td>[PREFIX sphn: &lt;https://www.biomedit.ch/rdf/sph...</td>\n",
       "      <td>{'query_example': 'PREFIX sphn: &lt;https://www.b...</td>\n",
       "      <td>[]</td>\n",
       "      <td>True</td>\n",
       "      <td>PREFIX sphn: &lt;https://www.biomedit.ch/rdf/sphn...</td>\n",
       "      <td>0</td>\n",
       "      <td>1.622820</td>\n",
       "      <td>[{'patient': http://kg-representation-ehr.org/...</td>\n",
       "      <td>0.002207</td>\n",
       "      <td>16.459976</td>\n",
       "    </tr>\n",
       "    <tr>\n",
       "      <th>268</th>\n",
       "      <td>Which patients have faced an adverse event tha...</td>\n",
       "      <td>Template 0:\\nTemplate Question: Which patients...</td>\n",
       "      <td>Example 0:\\nQuestion: Which patients have had ...</td>\n",
       "      <td>[PREFIX sphn: &lt;https://www.biomedit.ch/rdf/sph...</td>\n",
       "      <td>{'query_example': 'PREFIX sphn: &lt;https://www.b...</td>\n",
       "      <td>[]</td>\n",
       "      <td>True</td>\n",
       "      <td>PREFIX sphn: &lt;https://www.biomedit.ch/rdf/sphn...</td>\n",
       "      <td>0</td>\n",
       "      <td>2.615333</td>\n",
       "      <td>[{'patient': http://kg-representation-ehr.org/...</td>\n",
       "      <td>0.002013</td>\n",
       "      <td>17.789167</td>\n",
       "    </tr>\n",
       "  </tbody>\n",
       "</table>\n",
       "<p>269 rows × 13 columns</p>\n",
       "</div>"
      ],
      "text/plain": [
       "                             natural_language_question  \\\n",
       "0     Which patients have received a diagnosis of I10?   \n",
       "1    Which patients have received a diagnosis of I708?   \n",
       "2    Which patients have received a diagnosis of I2...   \n",
       "3    Which patients have been given a diagnosis of ...   \n",
       "4    Which patients have been given a diagnosis of ...   \n",
       "..                                                 ...   \n",
       "264  Which patients have encountered an adverse eve...   \n",
       "265  Which patients have experienced an adverse eve...   \n",
       "266  Which patients have undergone an adverse event...   \n",
       "267  Which patients have undergone an adverse event...   \n",
       "268  Which patients have faced an adverse event tha...   \n",
       "\n",
       "                                      prompt_templates  \\\n",
       "0    Template 0:\\nTemplate Question: Which patients...   \n",
       "1    Template 0:\\nTemplate Question: Which patients...   \n",
       "2    Template 0:\\nTemplate Question: Which patients...   \n",
       "3    Template 0:\\nTemplate Question: Which patients...   \n",
       "4    Template 0:\\nTemplate Question: Which patients...   \n",
       "..                                                 ...   \n",
       "264  Template 0:\\nTemplate Question: Which patients...   \n",
       "265  Template 0:\\nTemplate Question: Which patients...   \n",
       "266  Template 0:\\nTemplate Question: Which patients...   \n",
       "267  Template 0:\\nTemplate Question: Which patients...   \n",
       "268  Template 0:\\nTemplate Question: Which patients...   \n",
       "\n",
       "                                       prompt_examples  \\\n",
       "0    Example 0:\\nQuestion: Which patients have been...   \n",
       "1    Example 0:\\nQuestion: Which patients have been...   \n",
       "2    Example 0:\\nQuestion: Which patients have been...   \n",
       "3    Example 0:\\nQuestion: Which patients have been...   \n",
       "4    Example 0:\\nQuestion: Which patients have been...   \n",
       "..                                                 ...   \n",
       "264  Example 0:\\nQuestion: Which patients have had ...   \n",
       "265  Example 0:\\nQuestion: Which patients have had ...   \n",
       "266  Example 0:\\nQuestion: Which patients have had ...   \n",
       "267  Example 0:\\nQuestion: Which patients have had ...   \n",
       "268  Example 0:\\nQuestion: Which patients have had ...   \n",
       "\n",
       "                                    all_prompts_ranked  \\\n",
       "0    [PREFIX sphn: <https://www.biomedit.ch/rdf/sph...   \n",
       "1    [PREFIX sphn: <https://www.biomedit.ch/rdf/sph...   \n",
       "2    [PREFIX sphn: <https://www.biomedit.ch/rdf/sph...   \n",
       "3    [PREFIX sphn: <https://www.biomedit.ch/rdf/sph...   \n",
       "4    [PREFIX sphn: <https://www.biomedit.ch/rdf/sph...   \n",
       "..                                                 ...   \n",
       "264  [PREFIX sphn: <https://www.biomedit.ch/rdf/sph...   \n",
       "265  [PREFIX sphn: <https://www.biomedit.ch/rdf/sph...   \n",
       "266  [PREFIX sphn: <https://www.biomedit.ch/rdf/sph...   \n",
       "267  [PREFIX sphn: <https://www.biomedit.ch/rdf/sph...   \n",
       "268  [PREFIX sphn: <https://www.biomedit.ch/rdf/sph...   \n",
       "\n",
       "                                 most_similar_template validation_time  \\\n",
       "0    {'query_example': 'PREFIX sphn: <https://www.b...              []   \n",
       "1    {'query_example': 'PREFIX sphn: <https://www.b...              []   \n",
       "2    {'query_example': 'PREFIX sphn: <https://www.b...              []   \n",
       "3    {'query_example': 'PREFIX sphn: <https://www.b...              []   \n",
       "4    {'query_example': 'PREFIX sphn: <https://www.b...              []   \n",
       "..                                                 ...             ...   \n",
       "264  {'query_example': 'PREFIX sphn: <https://www.b...              []   \n",
       "265  {'query_example': 'PREFIX sphn: <https://www.b...              []   \n",
       "266  {'query_example': 'PREFIX sphn: <https://www.b...              []   \n",
       "267  {'query_example': 'PREFIX sphn: <https://www.b...              []   \n",
       "268  {'query_example': 'PREFIX sphn: <https://www.b...              []   \n",
       "\n",
       "     valid_query                                              query  attempts  \\\n",
       "0           True  PREFIX sphn: <https://www.biomedit.ch/rdf/sphn...         0   \n",
       "1           True  PREFIX sphn: <https://www.biomedit.ch/rdf/sphn...         0   \n",
       "2           True  PREFIX sphn: <https://www.biomedit.ch/rdf/sphn...         0   \n",
       "3           True  PREFIX sphn: <https://www.biomedit.ch/rdf/sphn...         0   \n",
       "4           True  PREFIX sphn: <https://www.biomedit.ch/rdf/sphn...         0   \n",
       "..           ...                                                ...       ...   \n",
       "264         True  PREFIX sphn: <https://www.biomedit.ch/rdf/sphn...         0   \n",
       "265         True  PREFIX sphn: <https://www.biomedit.ch/rdf/sphn...         0   \n",
       "266         True  PREFIX sphn: <https://www.biomedit.ch/rdf/sphn...         0   \n",
       "267         True  PREFIX sphn: <https://www.biomedit.ch/rdf/sphn...         0   \n",
       "268         True  PREFIX sphn: <https://www.biomedit.ch/rdf/sphn...         0   \n",
       "\n",
       "     initial_query_time                                             result  \\\n",
       "0              2.006505  [{'patient': https://www.biomedit.ch/rdf/sphn-...   \n",
       "1              3.649870  [{'patient': https://www.biomedit.ch/rdf/sphn-...   \n",
       "2              2.409011  [{'patient': https://www.biomedit.ch/rdf/sphn-...   \n",
       "3              1.827411  [{'patient': https://www.biomedit.ch/rdf/sphn-...   \n",
       "4              1.835176  [{'patient': https://www.biomedit.ch/rdf/sphn-...   \n",
       "..                  ...                                                ...   \n",
       "264            2.992134  [{'patient': http://kg-representation-ehr.org/...   \n",
       "265            1.447556  [{'patient': http://kg-representation-ehr.org/...   \n",
       "266            1.318609  [{'patient': http://kg-representation-ehr.org/...   \n",
       "267            1.622820  [{'patient': http://kg-representation-ehr.org/...   \n",
       "268            2.615333  [{'patient': http://kg-representation-ehr.org/...   \n",
       "\n",
       "     final_query_execution_time  total_time  \n",
       "0                      0.010400   19.692733  \n",
       "1                      0.002822   20.226847  \n",
       "2                      0.005414   17.039988  \n",
       "3                      0.006340   17.171861  \n",
       "4                      0.002373   16.482230  \n",
       "..                          ...         ...  \n",
       "264                    0.002565   18.978661  \n",
       "265                    0.002555   16.979393  \n",
       "266                    0.002142   16.858926  \n",
       "267                    0.002207   16.459976  \n",
       "268                    0.002013   17.789167  \n",
       "\n",
       "[269 rows x 13 columns]"
      ]
     },
     "execution_count": 4,
     "metadata": {},
     "output_type": "execute_result"
    }
   ],
   "source": [
    "results_df"
   ]
  },
  {
   "cell_type": "markdown",
   "id": "59f758e5",
   "metadata": {},
   "source": [
    "### Quick evaluation to get an idea"
   ]
  },
  {
   "cell_type": "code",
   "execution_count": 5,
   "id": "a8d0793e",
   "metadata": {},
   "outputs": [],
   "source": [
    "get_df_back =pd.read_csv(\"/home/mathiasyap/Code/university/phkg/MAI_Project_PHKG/src/baseline_results.csv\")"
   ]
  },
  {
   "cell_type": "code",
   "execution_count": 6,
   "id": "5ff595fc",
   "metadata": {},
   "outputs": [
    {
     "data": {
      "text/plain": [
       "(269, 13)"
      ]
     },
     "execution_count": 6,
     "metadata": {},
     "output_type": "execute_result"
    }
   ],
   "source": [
    "get_df_back.shape"
   ]
  },
  {
   "cell_type": "code",
   "execution_count": 7,
   "id": "f84a1ddb",
   "metadata": {},
   "outputs": [
    {
     "data": {
      "text/plain": [
       "\"[{'patientCount': 0}]\""
      ]
     },
     "execution_count": 7,
     "metadata": {},
     "output_type": "execute_result"
    }
   ],
   "source": [
    "get_df_back[get_df_back['query'].str.contains('COUNT', case=False, na=False)]['result'][104]"
   ]
  },
  {
   "cell_type": "code",
   "execution_count": 8,
   "id": "71149883",
   "metadata": {},
   "outputs": [
    {
     "data": {
      "text/html": [
       "<div>\n",
       "<style scoped>\n",
       "    .dataframe tbody tr th:only-of-type {\n",
       "        vertical-align: middle;\n",
       "    }\n",
       "\n",
       "    .dataframe tbody tr th {\n",
       "        vertical-align: top;\n",
       "    }\n",
       "\n",
       "    .dataframe thead th {\n",
       "        text-align: right;\n",
       "    }\n",
       "</style>\n",
       "<table border=\"1\" class=\"dataframe\">\n",
       "  <thead>\n",
       "    <tr style=\"text-align: right;\">\n",
       "      <th></th>\n",
       "      <th>natural_language_question</th>\n",
       "      <th>prompt_templates</th>\n",
       "      <th>prompt_examples</th>\n",
       "      <th>all_prompts_ranked</th>\n",
       "      <th>most_similar_template</th>\n",
       "      <th>validation_time</th>\n",
       "      <th>valid_query</th>\n",
       "      <th>query</th>\n",
       "      <th>attempts</th>\n",
       "      <th>initial_query_time</th>\n",
       "      <th>result</th>\n",
       "      <th>final_query_execution_time</th>\n",
       "      <th>total_time</th>\n",
       "    </tr>\n",
       "  </thead>\n",
       "  <tbody>\n",
       "    <tr>\n",
       "      <th>40</th>\n",
       "      <td>Which patients have been evaluated and diagnos...</td>\n",
       "      <td>Template 0:\\nTemplate Question: Which patients...</td>\n",
       "      <td>Example 0:\\nQuestion: Which patients have been...</td>\n",
       "      <td>['PREFIX sphn: &lt;https://www.biomedit.ch/rdf/sp...</td>\n",
       "      <td>{'query_example': 'PREFIX sphn: &lt;https://www.b...</td>\n",
       "      <td>[1.7179057598114014]</td>\n",
       "      <td>True</td>\n",
       "      <td>PREFIX sphn: &lt;http://example.org/sphn#&gt;\\nPREFI...</td>\n",
       "      <td>1</td>\n",
       "      <td>1.152049</td>\n",
       "      <td>[]</td>\n",
       "      <td>0.002085</td>\n",
       "      <td>18.869706</td>\n",
       "    </tr>\n",
       "    <tr>\n",
       "      <th>45</th>\n",
       "      <td>Which patient's laboratory results have exceed...</td>\n",
       "      <td>Template 0:\\nTemplate Question: Which patient'...</td>\n",
       "      <td>Example 0:\\nQuestion: Which patient's lab resu...</td>\n",
       "      <td>['PREFIX sphn:  &lt;https://www.biomedit.ch/rdf/s...</td>\n",
       "      <td>{'query_example': 'PREFIX sphn: &lt;https://www.b...</td>\n",
       "      <td>[4.054025411605835]</td>\n",
       "      <td>True</td>\n",
       "      <td>PREFIX sphn: &lt;https://www.biomedit.ch/rdf/sphn...</td>\n",
       "      <td>1</td>\n",
       "      <td>2.319809</td>\n",
       "      <td>[]</td>\n",
       "      <td>0.003057</td>\n",
       "      <td>24.051467</td>\n",
       "    </tr>\n",
       "    <tr>\n",
       "      <th>46</th>\n",
       "      <td>Which patient's laboratory results have exceed...</td>\n",
       "      <td>Template 0:\\nTemplate Question: Which patient'...</td>\n",
       "      <td>Example 0:\\nQuestion: Which patient's lab resu...</td>\n",
       "      <td>['PREFIX sphn:  &lt;https://www.biomedit.ch/rdf/s...</td>\n",
       "      <td>{'query_example': 'PREFIX sphn: &lt;https://www.b...</td>\n",
       "      <td>[1.5623538494110107, 2.2447683811187744]</td>\n",
       "      <td>True</td>\n",
       "      <td>PREFIX sphn: &lt;https://www.biomedit.ch/rdf/sphn...</td>\n",
       "      <td>2</td>\n",
       "      <td>2.075906</td>\n",
       "      <td>[]</td>\n",
       "      <td>0.001822</td>\n",
       "      <td>24.260479</td>\n",
       "    </tr>\n",
       "    <tr>\n",
       "      <th>47</th>\n",
       "      <td>Which patient's laboratory results have exceed...</td>\n",
       "      <td>Template 0:\\nTemplate Question: Which patient'...</td>\n",
       "      <td>Example 0:\\nQuestion: Which patient's lab resu...</td>\n",
       "      <td>['PREFIX sphn:  &lt;https://www.biomedit.ch/rdf/s...</td>\n",
       "      <td>{'query_example': 'PREFIX sphn: &lt;https://www.b...</td>\n",
       "      <td>[4.574059724807739]</td>\n",
       "      <td>True</td>\n",
       "      <td>PREFIX sphn: &lt;https://www.biomedit.ch/rdf/sphn...</td>\n",
       "      <td>1</td>\n",
       "      <td>2.119919</td>\n",
       "      <td>[]</td>\n",
       "      <td>0.001573</td>\n",
       "      <td>25.688660</td>\n",
       "    </tr>\n",
       "    <tr>\n",
       "      <th>48</th>\n",
       "      <td>Which patient's lab results have gone beyond t...</td>\n",
       "      <td>Template 0:\\nTemplate Question: Which patient'...</td>\n",
       "      <td>Example 0:\\nQuestion: Which patient's lab resu...</td>\n",
       "      <td>['PREFIX sphn:  &lt;https://www.biomedit.ch/rdf/s...</td>\n",
       "      <td>{'query_example': 'PREFIX sphn: &lt;https://www.b...</td>\n",
       "      <td>[1.626936435699463]</td>\n",
       "      <td>True</td>\n",
       "      <td>PREFIX sphn: &lt;https://www.biomedit.ch/rdf/sphn...</td>\n",
       "      <td>1</td>\n",
       "      <td>3.270502</td>\n",
       "      <td>[]</td>\n",
       "      <td>0.001101</td>\n",
       "      <td>24.140600</td>\n",
       "    </tr>\n",
       "    <tr>\n",
       "      <th>...</th>\n",
       "      <td>...</td>\n",
       "      <td>...</td>\n",
       "      <td>...</td>\n",
       "      <td>...</td>\n",
       "      <td>...</td>\n",
       "      <td>...</td>\n",
       "      <td>...</td>\n",
       "      <td>...</td>\n",
       "      <td>...</td>\n",
       "      <td>...</td>\n",
       "      <td>...</td>\n",
       "      <td>...</td>\n",
       "      <td>...</td>\n",
       "    </tr>\n",
       "    <tr>\n",
       "      <th>264</th>\n",
       "      <td>Which patients have encountered an adverse eve...</td>\n",
       "      <td>Template 0:\\nTemplate Question: Which patients...</td>\n",
       "      <td>Example 0:\\nQuestion: Which patients have had ...</td>\n",
       "      <td>['PREFIX sphn: &lt;https://www.biomedit.ch/rdf/sp...</td>\n",
       "      <td>{'query_example': 'PREFIX sphn: &lt;https://www.b...</td>\n",
       "      <td>[]</td>\n",
       "      <td>True</td>\n",
       "      <td>PREFIX sphn: &lt;https://www.biomedit.ch/rdf/sphn...</td>\n",
       "      <td>0</td>\n",
       "      <td>1.736507</td>\n",
       "      <td>[]</td>\n",
       "      <td>0.001653</td>\n",
       "      <td>18.832792</td>\n",
       "    </tr>\n",
       "    <tr>\n",
       "      <th>265</th>\n",
       "      <td>Which patients have experienced an adverse eve...</td>\n",
       "      <td>Template 0:\\nTemplate Question: Which patients...</td>\n",
       "      <td>Example 0:\\nQuestion: Which patients have had ...</td>\n",
       "      <td>['PREFIX sphn: &lt;https://www.biomedit.ch/rdf/sp...</td>\n",
       "      <td>{'query_example': 'PREFIX sphn: &lt;https://www.b...</td>\n",
       "      <td>[]</td>\n",
       "      <td>True</td>\n",
       "      <td>PREFIX sphn: &lt;https://www.biomedit.ch/rdf/sphn...</td>\n",
       "      <td>0</td>\n",
       "      <td>1.153789</td>\n",
       "      <td>[]</td>\n",
       "      <td>0.001461</td>\n",
       "      <td>18.310863</td>\n",
       "    </tr>\n",
       "    <tr>\n",
       "      <th>266</th>\n",
       "      <td>Which patients have undergone an adverse event...</td>\n",
       "      <td>Template 0:\\nTemplate Question: Which patients...</td>\n",
       "      <td>Example 0:\\nQuestion: Which patients have had ...</td>\n",
       "      <td>['PREFIX sphn: &lt;https://www.biomedit.ch/rdf/sp...</td>\n",
       "      <td>{'query_example': 'PREFIX sphn: &lt;https://www.b...</td>\n",
       "      <td>[]</td>\n",
       "      <td>True</td>\n",
       "      <td>PREFIX sphn: &lt;https://www.biomedit.ch/rdf/sphn...</td>\n",
       "      <td>0</td>\n",
       "      <td>1.576669</td>\n",
       "      <td>[]</td>\n",
       "      <td>0.002034</td>\n",
       "      <td>16.522094</td>\n",
       "    </tr>\n",
       "    <tr>\n",
       "      <th>267</th>\n",
       "      <td>Which patients have undergone an adverse event...</td>\n",
       "      <td>Template 0:\\nTemplate Question: Which patients...</td>\n",
       "      <td>Example 0:\\nQuestion: Which patients have had ...</td>\n",
       "      <td>['PREFIX sphn: &lt;https://www.biomedit.ch/rdf/sp...</td>\n",
       "      <td>{'query_example': 'PREFIX sphn: &lt;https://www.b...</td>\n",
       "      <td>[]</td>\n",
       "      <td>True</td>\n",
       "      <td>PREFIX sphn: &lt;https://www.biomedit.ch/rdf/sphn...</td>\n",
       "      <td>0</td>\n",
       "      <td>1.162968</td>\n",
       "      <td>[]</td>\n",
       "      <td>0.002342</td>\n",
       "      <td>17.043838</td>\n",
       "    </tr>\n",
       "    <tr>\n",
       "      <th>268</th>\n",
       "      <td>Which patients have faced an adverse event tha...</td>\n",
       "      <td>Template 0:\\nTemplate Question: Which patients...</td>\n",
       "      <td>Example 0:\\nQuestion: Which patients have had ...</td>\n",
       "      <td>['PREFIX sphn: &lt;https://www.biomedit.ch/rdf/sp...</td>\n",
       "      <td>{'query_example': 'PREFIX sphn: &lt;https://www.b...</td>\n",
       "      <td>[]</td>\n",
       "      <td>True</td>\n",
       "      <td>PREFIX sphn: &lt;https://www.biomedit.ch/rdf/sphn...</td>\n",
       "      <td>0</td>\n",
       "      <td>1.375186</td>\n",
       "      <td>[]</td>\n",
       "      <td>0.002055</td>\n",
       "      <td>17.189662</td>\n",
       "    </tr>\n",
       "  </tbody>\n",
       "</table>\n",
       "<p>166 rows × 13 columns</p>\n",
       "</div>"
      ],
      "text/plain": [
       "                             natural_language_question  \\\n",
       "40   Which patients have been evaluated and diagnos...   \n",
       "45   Which patient's laboratory results have exceed...   \n",
       "46   Which patient's laboratory results have exceed...   \n",
       "47   Which patient's laboratory results have exceed...   \n",
       "48   Which patient's lab results have gone beyond t...   \n",
       "..                                                 ...   \n",
       "264  Which patients have encountered an adverse eve...   \n",
       "265  Which patients have experienced an adverse eve...   \n",
       "266  Which patients have undergone an adverse event...   \n",
       "267  Which patients have undergone an adverse event...   \n",
       "268  Which patients have faced an adverse event tha...   \n",
       "\n",
       "                                      prompt_templates  \\\n",
       "40   Template 0:\\nTemplate Question: Which patients...   \n",
       "45   Template 0:\\nTemplate Question: Which patient'...   \n",
       "46   Template 0:\\nTemplate Question: Which patient'...   \n",
       "47   Template 0:\\nTemplate Question: Which patient'...   \n",
       "48   Template 0:\\nTemplate Question: Which patient'...   \n",
       "..                                                 ...   \n",
       "264  Template 0:\\nTemplate Question: Which patients...   \n",
       "265  Template 0:\\nTemplate Question: Which patients...   \n",
       "266  Template 0:\\nTemplate Question: Which patients...   \n",
       "267  Template 0:\\nTemplate Question: Which patients...   \n",
       "268  Template 0:\\nTemplate Question: Which patients...   \n",
       "\n",
       "                                       prompt_examples  \\\n",
       "40   Example 0:\\nQuestion: Which patients have been...   \n",
       "45   Example 0:\\nQuestion: Which patient's lab resu...   \n",
       "46   Example 0:\\nQuestion: Which patient's lab resu...   \n",
       "47   Example 0:\\nQuestion: Which patient's lab resu...   \n",
       "48   Example 0:\\nQuestion: Which patient's lab resu...   \n",
       "..                                                 ...   \n",
       "264  Example 0:\\nQuestion: Which patients have had ...   \n",
       "265  Example 0:\\nQuestion: Which patients have had ...   \n",
       "266  Example 0:\\nQuestion: Which patients have had ...   \n",
       "267  Example 0:\\nQuestion: Which patients have had ...   \n",
       "268  Example 0:\\nQuestion: Which patients have had ...   \n",
       "\n",
       "                                    all_prompts_ranked  \\\n",
       "40   ['PREFIX sphn: <https://www.biomedit.ch/rdf/sp...   \n",
       "45   ['PREFIX sphn:  <https://www.biomedit.ch/rdf/s...   \n",
       "46   ['PREFIX sphn:  <https://www.biomedit.ch/rdf/s...   \n",
       "47   ['PREFIX sphn:  <https://www.biomedit.ch/rdf/s...   \n",
       "48   ['PREFIX sphn:  <https://www.biomedit.ch/rdf/s...   \n",
       "..                                                 ...   \n",
       "264  ['PREFIX sphn: <https://www.biomedit.ch/rdf/sp...   \n",
       "265  ['PREFIX sphn: <https://www.biomedit.ch/rdf/sp...   \n",
       "266  ['PREFIX sphn: <https://www.biomedit.ch/rdf/sp...   \n",
       "267  ['PREFIX sphn: <https://www.biomedit.ch/rdf/sp...   \n",
       "268  ['PREFIX sphn: <https://www.biomedit.ch/rdf/sp...   \n",
       "\n",
       "                                 most_similar_template  \\\n",
       "40   {'query_example': 'PREFIX sphn: <https://www.b...   \n",
       "45   {'query_example': 'PREFIX sphn: <https://www.b...   \n",
       "46   {'query_example': 'PREFIX sphn: <https://www.b...   \n",
       "47   {'query_example': 'PREFIX sphn: <https://www.b...   \n",
       "48   {'query_example': 'PREFIX sphn: <https://www.b...   \n",
       "..                                                 ...   \n",
       "264  {'query_example': 'PREFIX sphn: <https://www.b...   \n",
       "265  {'query_example': 'PREFIX sphn: <https://www.b...   \n",
       "266  {'query_example': 'PREFIX sphn: <https://www.b...   \n",
       "267  {'query_example': 'PREFIX sphn: <https://www.b...   \n",
       "268  {'query_example': 'PREFIX sphn: <https://www.b...   \n",
       "\n",
       "                              validation_time  valid_query  \\\n",
       "40                       [1.7179057598114014]         True   \n",
       "45                        [4.054025411605835]         True   \n",
       "46   [1.5623538494110107, 2.2447683811187744]         True   \n",
       "47                        [4.574059724807739]         True   \n",
       "48                        [1.626936435699463]         True   \n",
       "..                                        ...          ...   \n",
       "264                                        []         True   \n",
       "265                                        []         True   \n",
       "266                                        []         True   \n",
       "267                                        []         True   \n",
       "268                                        []         True   \n",
       "\n",
       "                                                 query  attempts  \\\n",
       "40   PREFIX sphn: <http://example.org/sphn#>\\nPREFI...         1   \n",
       "45   PREFIX sphn: <https://www.biomedit.ch/rdf/sphn...         1   \n",
       "46   PREFIX sphn: <https://www.biomedit.ch/rdf/sphn...         2   \n",
       "47   PREFIX sphn: <https://www.biomedit.ch/rdf/sphn...         1   \n",
       "48   PREFIX sphn: <https://www.biomedit.ch/rdf/sphn...         1   \n",
       "..                                                 ...       ...   \n",
       "264  PREFIX sphn: <https://www.biomedit.ch/rdf/sphn...         0   \n",
       "265  PREFIX sphn: <https://www.biomedit.ch/rdf/sphn...         0   \n",
       "266  PREFIX sphn: <https://www.biomedit.ch/rdf/sphn...         0   \n",
       "267  PREFIX sphn: <https://www.biomedit.ch/rdf/sphn...         0   \n",
       "268  PREFIX sphn: <https://www.biomedit.ch/rdf/sphn...         0   \n",
       "\n",
       "     initial_query_time result  final_query_execution_time  total_time  \n",
       "40             1.152049     []                    0.002085   18.869706  \n",
       "45             2.319809     []                    0.003057   24.051467  \n",
       "46             2.075906     []                    0.001822   24.260479  \n",
       "47             2.119919     []                    0.001573   25.688660  \n",
       "48             3.270502     []                    0.001101   24.140600  \n",
       "..                  ...    ...                         ...         ...  \n",
       "264            1.736507     []                    0.001653   18.832792  \n",
       "265            1.153789     []                    0.001461   18.310863  \n",
       "266            1.576669     []                    0.002034   16.522094  \n",
       "267            1.162968     []                    0.002342   17.043838  \n",
       "268            1.375186     []                    0.002055   17.189662  \n",
       "\n",
       "[166 rows x 13 columns]"
      ]
     },
     "execution_count": 8,
     "metadata": {},
     "output_type": "execute_result"
    }
   ],
   "source": [
    "get_df_back[get_df_back['result'].apply(lambda x: x == '[]')]"
   ]
  },
  {
   "cell_type": "code",
   "execution_count": 9,
   "id": "ce4c28f9",
   "metadata": {},
   "outputs": [
    {
     "ename": "TypeError",
     "evalue": "expected string or bytes-like object, got 'float'",
     "output_type": "error",
     "traceback": [
      "\u001b[31m---------------------------------------------------------------------------\u001b[39m",
      "\u001b[31mTypeError\u001b[39m                                 Traceback (most recent call last)",
      "\u001b[36mCell\u001b[39m\u001b[36m \u001b[39m\u001b[32mIn[9]\u001b[39m\u001b[32m, line 21\u001b[39m\n\u001b[32m     17\u001b[39m                 count += \u001b[32m1\u001b[39m\n\u001b[32m     19\u001b[39m     \u001b[38;5;28;01mreturn\u001b[39;00m count\n\u001b[32m---> \u001b[39m\u001b[32m21\u001b[39m matching_count = \u001b[43mcount_matching_results\u001b[49m\u001b[43m(\u001b[49m\u001b[43mtest_set_df\u001b[49m\u001b[43m,\u001b[49m\u001b[43m \u001b[49m\u001b[43mget_df_back\u001b[49m\u001b[43m)\u001b[49m\n\u001b[32m     22\u001b[39m \u001b[38;5;28mprint\u001b[39m(\u001b[33mf\u001b[39m\u001b[33m\"\u001b[39m\u001b[33mmatched \u001b[39m\u001b[38;5;132;01m{\u001b[39;00mmatching_count\u001b[38;5;132;01m}\u001b[39;00m\u001b[33m out of \u001b[39m\u001b[38;5;132;01m{\u001b[39;00mget_df_back.shape[\u001b[32m0\u001b[39m]\u001b[38;5;132;01m}\u001b[39;00m\u001b[33m queries exactly by their result\u001b[39m\u001b[33m\"\u001b[39m)\n",
      "\u001b[36mCell\u001b[39m\u001b[36m \u001b[39m\u001b[32mIn[9]\u001b[39m\u001b[32m, line 13\u001b[39m, in \u001b[36mcount_matching_results\u001b[39m\u001b[34m(test_set_df, get_df_back)\u001b[39m\n\u001b[32m     10\u001b[39m expected_result_obj = ast.literal_eval(expected_result_str_fixed)\n\u001b[32m     12\u001b[39m result_str = get_df_back[\u001b[33m'\u001b[39m\u001b[33mresult\u001b[39m\u001b[33m'\u001b[39m][idx]\n\u001b[32m---> \u001b[39m\u001b[32m13\u001b[39m result_str_fixed = \u001b[43mre\u001b[49m\u001b[43m.\u001b[49m\u001b[43msub\u001b[49m\u001b[43m(\u001b[49m\u001b[33;43mr\u001b[39;49m\u001b[33;43m'\u001b[39;49m\u001b[33;43mIRI<([^>]*)>\u001b[39;49m\u001b[33;43m'\u001b[39;49m\u001b[43m,\u001b[49m\u001b[43m \u001b[49m\u001b[33;43mr\u001b[39;49m\u001b[33;43m'\u001b[39;49m\u001b[33;43m\"\u001b[39;49m\u001b[33;43m\\\u001b[39;49m\u001b[33;43m1\u001b[39;49m\u001b[33;43m\"\u001b[39;49m\u001b[33;43m'\u001b[39;49m\u001b[43m,\u001b[49m\u001b[43m \u001b[49m\u001b[43mresult_str\u001b[49m\u001b[43m)\u001b[49m\n\u001b[32m     14\u001b[39m result_obj = ast.literal_eval(result_str_fixed)\n\u001b[32m     16\u001b[39m \u001b[38;5;28;01mif\u001b[39;00m expected_result_obj == result_obj:\n",
      "\u001b[36mFile \u001b[39m\u001b[32m/usr/lib64/python3.13/re/__init__.py:208\u001b[39m, in \u001b[36msub\u001b[39m\u001b[34m(pattern, repl, string, count, flags, *args)\u001b[39m\n\u001b[32m    202\u001b[39m     \u001b[38;5;28;01mimport\u001b[39;00m\u001b[38;5;250m \u001b[39m\u001b[34;01mwarnings\u001b[39;00m\n\u001b[32m    203\u001b[39m     warnings.warn(\n\u001b[32m    204\u001b[39m         \u001b[33m\"\u001b[39m\u001b[33m'\u001b[39m\u001b[33mcount\u001b[39m\u001b[33m'\u001b[39m\u001b[33m is passed as positional argument\u001b[39m\u001b[33m\"\u001b[39m,\n\u001b[32m    205\u001b[39m         \u001b[38;5;167;01mDeprecationWarning\u001b[39;00m, stacklevel=\u001b[32m2\u001b[39m\n\u001b[32m    206\u001b[39m     )\n\u001b[32m--> \u001b[39m\u001b[32m208\u001b[39m \u001b[38;5;28;01mreturn\u001b[39;00m \u001b[43m_compile\u001b[49m\u001b[43m(\u001b[49m\u001b[43mpattern\u001b[49m\u001b[43m,\u001b[49m\u001b[43m \u001b[49m\u001b[43mflags\u001b[49m\u001b[43m)\u001b[49m\u001b[43m.\u001b[49m\u001b[43msub\u001b[49m\u001b[43m(\u001b[49m\u001b[43mrepl\u001b[49m\u001b[43m,\u001b[49m\u001b[43m \u001b[49m\u001b[43mstring\u001b[49m\u001b[43m,\u001b[49m\u001b[43m \u001b[49m\u001b[43mcount\u001b[49m\u001b[43m)\u001b[49m\n",
      "\u001b[31mTypeError\u001b[39m: expected string or bytes-like object, got 'float'"
     ]
    }
   ],
   "source": [
    "import ast\n",
    "import re\n",
    "\n",
    "def count_matching_results(test_set_df, get_df_back):\n",
    "    count = 0\n",
    "    for idx in range(len(test_set_df)):\n",
    "            expected_result_str = test_set_df['expected_result'][idx]\n",
    "            # Replace IRI<...> with \"...\"\n",
    "            expected_result_str_fixed = re.sub(r'IRI<([^>]*)>', r'\"\\1\"', expected_result_str)\n",
    "            expected_result_obj = ast.literal_eval(expected_result_str_fixed)\n",
    "\n",
    "            result_str = get_df_back['result'][idx]\n",
    "            result_str_fixed = re.sub(r'IRI<([^>]*)>', r'\"\\1\"', result_str)\n",
    "            result_obj = ast.literal_eval(result_str_fixed)\n",
    "\n",
    "            if expected_result_obj == result_obj:\n",
    "                count += 1\n",
    "            \n",
    "    return count\n",
    "\n",
    "matching_count = count_matching_results(test_set_df, get_df_back)\n",
    "print(f\"matched {matching_count} out of {get_df_back.shape[0]} queries exactly by their result\")"
   ]
  },
  {
   "cell_type": "code",
   "execution_count": null,
   "id": "bbf551a2",
   "metadata": {},
   "outputs": [],
   "source": [
    "import ast\n",
    "import re\n",
    "\n",
    "# The error occurs because the string contains \"IRI<...>\" which is not valid Python syntax for ast.literal_eval.\n",
    "# To safely parse this, you can use a regular expression to replace IRI<...> with a quoted string.\n",
    "\n",
    "\n",
    "expected_result_str = test_set_df.loc[0, \"expected_result\"]\n",
    "# Replace IRI<...> with \"IRI<...>\"\n",
    "expected_result_str_fixed = re.sub(r'IRI<([^>]*)>', r'\"\\1\"', expected_result_str)\n",
    "expected_result_obj = ast.literal_eval(expected_result_str_fixed)\n",
    "print(expected_result_obj)"
   ]
  }
 ],
 "metadata": {
  "kernelspec": {
   "display_name": "Python 3",
   "language": "python",
   "name": "python3"
  },
  "language_info": {
   "codemirror_mode": {
    "name": "ipython",
    "version": 3
   },
   "file_extension": ".py",
   "mimetype": "text/x-python",
   "name": "python",
   "nbconvert_exporter": "python",
   "pygments_lexer": "ipython3",
   "version": "3.13.3"
  }
 },
 "nbformat": 4,
 "nbformat_minor": 5
}
