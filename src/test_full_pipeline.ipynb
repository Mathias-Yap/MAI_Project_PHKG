{
 "cells": [
  {
   "cell_type": "code",
   "execution_count": 1,
   "id": "83bc11fd",
   "metadata": {},
   "outputs": [
    {
     "name": "stderr",
     "output_type": "stream",
     "text": [
      "/home/mathiasyap/.local/lib/python3.13/site-packages/tqdm/auto.py:21: TqdmWarning: IProgress not found. Please update jupyter and ipywidgets. See https://ipywidgets.readthedocs.io/en/stable/user_install.html\n",
      "  from .autonotebook import tqdm as notebook_tqdm\n"
     ]
    },
    {
     "name": "stdout",
     "output_type": "stream",
     "text": [
      "4.52.4\n"
     ]
    }
   ],
   "source": [
    "from pipeline import pipelines\n",
    "from pipeline import mdb_validated_generation\n",
    "from pipeline.context.context_constructor import context_constructor\n",
    "from tqdm.autonotebook import tqdm as notebook_tqdm\n",
    "import traceback\n",
    "def run_validated_pipeline(data: list[dict]):\n",
    "\n",
    "    context_component = context_constructor(construct_vector_store=True, example_queries_file=\"/home/mathiasyap/Code/university/phkg/MAI_Project_PHKG/src/pipeline/context/qq_pairs.yaml\")\n",
    "    generate_execute_component = mdb_validated_generation.MDBValidatedGeneration(model_name = \"meta-llama/Llama-3.2-1B-Instruct\")\n",
    "    val_pipeline  = pipelines.InitialPipeline([context_component,generate_execute_component])\n",
    "    val_pipeline.initialize()\n",
    "    results = []\n",
    "    for entry in notebook_tqdm(data):\n",
    "        try: \n",
    "\n",
    "            result = val_pipeline.run(entry, natural_language_question=entry[\"natural_language_question\"],\n",
    "                                                              sparql_is_path=False)\n",
    "            # print(\"LLM Result with context:\", result_llm_with_context['query'])\n",
    "\n",
    "            results.append(result)\n",
    "        except Exception as ex:\n",
    "            traceback.print_exc()\n",
    "\n",
    "        finally:\n",
    "            try:\n",
    "                val_pipeline.close()\n",
    "            except Exception as e:\n",
    "                print(f\"Error while closing pipeline: {e}\")\n",
    "        return results"
   ]
  },
  {
   "cell_type": "code",
   "execution_count": 2,
   "id": "acfda009",
   "metadata": {},
   "outputs": [
    {
     "name": "stdout",
     "output_type": "stream",
     "text": [
      "['mdb:latest']\n",
      "['docker-aseprite:latest']\n",
      "['ghcr.io/avantlab/avantgraph:openaire-transport']\n",
      "['ghcr.io/avantlab/avantgraph:openaire-energy']\n",
      "['ghcr.io/avantlab/avantgraph:openaire-neuro']\n",
      "['ghcr.io/avantlab/avantgraph:openaire-cancer']\n",
      "['hello-world:latest']\n",
      "['ghcr.io/avantlab/avantgraph:ckg']\n",
      "['ghcr.io/avantlab/avantgraph:release-2024-01-31']\n",
      "Using device: cpu\n"
     ]
    },
    {
     "name": "stderr",
     "output_type": "stream",
     "text": [
      "  0%|          | 0/1 [00:00<?, ?it/s]Device set to use cpu\n",
      "Setting `pad_token_id` to `eos_token_id`:128001 for open-end generation.\n"
     ]
    },
    {
     "name": "stdout",
     "output_type": "stream",
     "text": [
      "\n",
      "🧠 Attempt 0: Executing query...\n",
      "```\n",
      "SELECT?substance?count WHERE {\n",
      "   ?drug a sphn:Drug ;\n",
      "   ?drug sk:hasActiveIngredient?activeIngredient.\n",
      "   ?drug sk:hasDrug?drug.\n",
      "   ?activeIngredient sk:hasCodingSystemAndVersion?codingSystemAndVersion.\n",
      "   ?drug sk:hasLabTest?labTest.\n",
      "   ?labTest sk:hasSubjectPseudoIdentifier?subjectPseudoIdentifier.\n",
      "   ?subjectPseudoIdentifier sk:hasSubjectPseudoIdentifier?patientIdentifier.\n",
      "   ?patientIdentifier sk:hasSubject?patient.\n",
      "   ?patientIdentifier sk:hasDrug?drug.\n",
      "   ?substance sk:hasCodingSystemAndVersion?codingSystemAndVersion.\n",
      "   ?substance sk:hasLabTest?labTest.\n",
      "   ?labTest sk:hasSubjectPseudoIdentifier?subjectPseudoIdentifier.\n",
      "   ?subjectPseudoIdentifier sk:hasPatient?patientIdentifier.\n",
      "   ?substance sk:hasDrug?drug.\n",
      "   ?substance sk:hasCode?code.\n",
      "   ?code sk:hasCodingSystemAndVersion?codingSystemAndVersion.\n",
      "   ?substance sk:hasLabResult?labResult.\n",
      "   ?labResult sk:hasSubjectPseudoIdentifier?subjectPseudoIdentifier.\n",
      "   ?subjectPseudoIdentifier sk:hasMedicalProcedure?medicalProcedure.\n",
      "   ?medicalProcedure sk:hasLabTest?labTest.\n",
      "   ?medicalProcedure sk:hasDrug?drug.\n",
      "   ?substance sk:hasSubjectPseudoIdentifier?subjectPseudoIdentifier.\n",
      "   ?subjectPseudoIdentifier sk:hasCode?code.\n",
      "   ?code sk:hasLabResult?labResult.\n",
      "   ?labResult sk:hasMedicalProcedure?medicalProcedure.\n",
      "   ?medicalProcedure sk:hasDrug?drug.\n",
      "   ?substance sk:hasLabTest?labTest.\n",
      "   ?labTest sk:hasSubjectPseudoIdentifier?subjectPseudoIdentifier.\n",
      "   ?subjectPseudoIdentifier sk:hasDiagnosis?diagnosis.\n",
      "   ?diagnosis sk:hasDrug?drug.\n",
      "   ?diagnosis sk:hasLabResult?labResult.\n",
      "   ?diagnosis sk:hasMedicalProcedure?medicalProcedure.\n",
      "   ?medicalProcedure sk:hasDrug?drug.\n",
      "   ?substance sk:hasLabTest?labTest.\n",
      "   ?labTest sk:hasSubjectPseudoIdentifier?subjectPseudoIdentifier.\n",
      "   ?subjectPseudoIdentifier sk:hasCode?code.\n",
      "   ?code sk\n",
      "\n"
     ]
    },
    {
     "name": "stderr",
     "output_type": "stream",
     "text": [
      "Device set to use cpu\n",
      "Setting `pad_token_id` to `eos_token_id`:128001 for open-end generation.\n",
      "Traceback (most recent call last):\n",
      "  File \"/tmp/ipykernel_254744/3270946099.py\", line 16, in run_validated_pipeline\n",
      "    result = val_pipeline.run(entry, natural_language_question=entry[\"natural_language_question\"],\n",
      "                                                      sparql_is_path=False)\n",
      "  File \"/home/mathiasyap/Code/university/phkg/MAI_Project_PHKG/src/pipeline/pipelines.py\", line 25, in run\n",
      "    data = step.run(data, **kwargs)\n",
      "  File \"/home/mathiasyap/Code/university/phkg/MAI_Project_PHKG/src/pipeline/mdb_validated_generation.py\", line 36, in run\n",
      "    data = self.query_executor.run(query, **kwargs)\n",
      "  File \"/home/mathiasyap/Code/university/phkg/MAI_Project_PHKG/src/pipeline/query_engine_component.py\", line 48, in run\n",
      "    data[\"result\"]=self.query(query, path=sparql_is_path)\n",
      "                   ~~~~~~~~~~^^^^^^^^^^^^^^^^^^^^^^^^^^^^\n",
      "  File \"/home/mathiasyap/Code/university/phkg/MAI_Project_PHKG/src/pipeline/query_engine_component.py\", line 99, in query\n",
      "    return self.mdb_server_query(query)\n",
      "           ~~~~~~~~~~~~~~~~~~~~~^^^^^^^\n",
      "  File \"/home/mathiasyap/Code/university/phkg/MAI_Project_PHKG/src/pipeline/query_engine_component.py\", line 119, in mdb_server_query\n",
      "    result = session.run(query)\n",
      "  File \"/home/mathiasyap/.local/lib/python3.13/site-packages/millenniumdb_driver/session.py\", line 21, in wrapper\n",
      "    return func(self, *args, **kwargs)\n",
      "  File \"/home/mathiasyap/.local/lib/python3.13/site-packages/millenniumdb_driver/session.py\", line 44, in run\n",
      "    return Result(\n",
      "        self._driver,\n",
      "    ...<4 lines>...\n",
      "        timeout,\n",
      "    )\n",
      "  File \"/home/mathiasyap/.local/lib/python3.13/site-packages/millenniumdb_driver/result.py\", line 38, in __init__\n",
      "    self._run(query, timeout)\n",
      "    ~~~~~~~~~^^^^^^^^^^^^^^^^\n",
      "  File \"/home/mathiasyap/.local/lib/python3.13/site-packages/millenniumdb_driver/result.py\", line 114, in _run\n",
      "    self._connection.sendall(RequestBuilder.run(query))\n",
      "                             ~~~~~~~~~~~~~~~~~~^^^^^^^\n",
      "  File \"/home/mathiasyap/.local/lib/python3.13/site-packages/millenniumdb_driver/request_builder.py\", line 29, in run\n",
      "    query_bytes = RequestBuilder.encode_string(query)\n",
      "  File \"/home/mathiasyap/.local/lib/python3.13/site-packages/millenniumdb_driver/request_builder.py\", line 18, in encode_string\n",
      "    return string.encode(\"utf-8\")\n",
      "           ^^^^^^^^^^^^^\n",
      "AttributeError: 'dict' object has no attribute 'encode'\n",
      "  0%|          | 0/1 [01:44<?, ?it/s]"
     ]
    },
    {
     "name": "stdout",
     "output_type": "stream",
     "text": [
      "\n",
      "🧠 Attempt 1: Executing query...\n",
      "{'natural_language_question': 'How many substances does drug 12305 contain?', 'context': \"Next follow template questions and queries related to the natural language question:\\nQuestion: How many substances does {DRUG} contain?\\nQuery: SELECT COUNT(DISTINCT substance) FROM substance WHERE drug = Drug/13\\n\\nThe following class IRIs can be placed in place of the classes enclosed by brackets \\\\{\\\\} in the templates:\\nClass IRI: ['https://www.biomedit.ch/rdf/sphn-schema/sphn/Substance', 'https://www.biomedit.ch/rdf/sphn-schema/sphn/Drug']\\nClass IRI: []\\n\", 'validation_time': [39.6183922290802], 'valid_query': False, 'query': '```\\nSELECT?substance?count WHERE {\\n   ?drug a sphn:Drug ;\\n   ?drug sk:hasActiveIngredient?activeIngredient.\\n   ?drug sk:hasDrug?drug.\\n   ?activeIngredient sk:hasCodingSystemAndVersion?codingSystemAndVersion.\\n   ?drug sk:hasLabTest?labTest.\\n   ?labTest sk:hasSubjectPseudoIdentifier?subjectPseudoIdentifier.\\n   ?subjectPseudoIdentifier sk:hasSubjectPseudoIdentifier?patientIdentifier.\\n   ?patientIdentifier sk:hasSubject?patient.\\n   ?patientIdentifier sk:hasDrug?drug.\\n   ?substance sk:hasCodingSystemAndVersion?codingSystemAndVersion.\\n   ?substance sk:hasLabTest?labTest.\\n   ?labTest sk:hasSubjectPseudoIdentifier?subjectPseudoIdentifier.\\n   ?subjectPseudoIdentifier sk:hasPatient?patientIdentifier.\\n   ?substance sk:hasDrug?drug.\\n   ?substance sk:hasCode?code.\\n   ?code sk:hasCodingSystemAndVersion?codingSystemAndVersion.\\n   ?substance sk:hasLabResult?labResult.\\n   ?labResult sk:hasSubjectPseudoIdentifier?subjectPseudoIdentifier.\\n   ?subjectPseudoIdentifier sk:hasMedicalProcedure?medicalProcedure.\\n   ?medicalProcedure sk:hasLabTest?labTest.\\n   ?medicalProcedure sk:hasDrug?drug.\\n   ?substance sk:hasSubjectPseudoIdentifier?subjectPseudoIdentifier.\\n   ?subjectPseudoIdentifier sk:hasCode?code.\\n   ?code sk:hasLabResult?labResult.\\n   ?labResult sk:hasMedicalProcedure?medicalProcedure.\\n   ?medicalProcedure sk:hasDrug?drug.\\n   ?substance sk:hasLabTest?labTest.\\n   ?labTest sk:hasSubjectPseudoIdentifier?subjectPseudoIdentifier.\\n   ?subjectPseudoIdentifier sk:hasDiagnosis?diagnosis.\\n   ?diagnosis sk:hasDrug?drug.\\n   ?diagnosis sk:hasLabResult?labResult.\\n   ?diagnosis sk:hasMedicalProcedure?medicalProcedure.\\n   ?medicalProcedure sk:hasDrug?drug.\\n   ?substance sk:hasLabTest?labTest.\\n   ?labTest sk:hasSubjectPseudoIdentifier?subjectPseudoIdentifier.\\n   ?subjectPseudoIdentifier sk:hasCode?code.\\n   ?code sk', 'attempts': 0, 'initial_query_time': 61.46152877807617}\n",
      "\n"
     ]
    },
    {
     "name": "stderr",
     "output_type": "stream",
     "text": [
      "\n"
     ]
    }
   ],
   "source": [
    "data =[]\n",
    "entry = {}\n",
    "entry[\"natural_language_question\"] = \"How many substances does drug 12305 contain?\"\n",
    "data.append(entry)\n",
    "data_try = run_validated_pipeline(\n",
    "        data\n",
    ")"
   ]
  },
  {
   "cell_type": "code",
   "execution_count": 5,
   "id": "3098caa9",
   "metadata": {},
   "outputs": [
    {
     "data": {
      "text/plain": [
       "[]"
      ]
     },
     "execution_count": 5,
     "metadata": {},
     "output_type": "execute_result"
    }
   ],
   "source": [
    "data_try"
   ]
  },
  {
   "cell_type": "code",
   "execution_count": 4,
   "id": "b21faa1e",
   "metadata": {},
   "outputs": [
    {
     "name": "stdout",
     "output_type": "stream",
     "text": [
      "[]\n"
     ]
    }
   ],
   "source": [
    "print(data_try)"
   ]
  }
 ],
 "metadata": {
  "kernelspec": {
   "display_name": "Python 3",
   "language": "python",
   "name": "python3"
  },
  "language_info": {
   "codemirror_mode": {
    "name": "ipython",
    "version": 3
   },
   "file_extension": ".py",
   "mimetype": "text/x-python",
   "name": "python",
   "nbconvert_exporter": "python",
   "pygments_lexer": "ipython3",
   "version": "3.13.3"
  }
 },
 "nbformat": 4,
 "nbformat_minor": 5
}
