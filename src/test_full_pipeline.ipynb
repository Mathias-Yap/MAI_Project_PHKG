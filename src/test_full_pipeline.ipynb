{
 "cells": [
  {
   "cell_type": "code",
   "execution_count": 1,
   "id": "83bc11fd",
   "metadata": {},
   "outputs": [
    {
     "name": "stderr",
     "output_type": "stream",
     "text": [
      "/home/mathiasyap/.local/lib/python3.13/site-packages/tqdm/auto.py:21: TqdmWarning: IProgress not found. Please update jupyter and ipywidgets. See https://ipywidgets.readthedocs.io/en/stable/user_install.html\n",
      "  from .autonotebook import tqdm as notebook_tqdm\n"
     ]
    },
    {
     "name": "stdout",
     "output_type": "stream",
     "text": [
      "4.52.4\n"
     ]
    },
    {
     "name": "stderr",
     "output_type": "stream",
     "text": [
      "/home/mathiasyap/Code/university/phkg/MAI_Project_PHKG/src/pipeline/context/context_constructor.py:72: SyntaxWarning: invalid escape sequence '\\{'\n",
      "  \"The following class IRIs can be placed in place of the classes enclosed by brackets \\{\\} in the templates:\\n\"\n"
     ]
    }
   ],
   "source": [
    "from pipeline import pipelines\n",
    "from pipeline import mdb_validated_generation\n",
    "from pipeline.context.context_constructor import context_constructor\n",
    "from tqdm.autonotebook import tqdm as notebook_tqdm\n",
    "import traceback\n",
    "def run_validated_pipeline(data: list[dict]):\n",
    "\n",
    "    context_component = context_constructor(construct_vector_store=True, example_queries_file=\"/home/mathiasyap/Code/university/phkg/MAI_Project_PHKG/src/data/question_query_pairs_examples.yaml\")\n",
    "    generate_execute_component = mdb_validated_generation.MDBValidatedGeneration(model_name = \"meta-llama/Llama-3.2-1B-Instruct\")\n",
    "    val_pipeline  = pipelines.InitialPipeline([context_component,generate_execute_component])\n",
    "    val_pipeline.initialize()\n",
    "    results = []\n",
    "    for entry in notebook_tqdm(data):\n",
    "        try: \n",
    "\n",
    "            result = val_pipeline.run(entry, natural_language_question=entry[\"natural_language_question\"],\n",
    "                                                              sparql_is_path=False)\n",
    "            # print(\"LLM Result with context:\", result_llm_with_context['query'])\n",
    "\n",
    "            results.append(result)\n",
    "        except Exception as ex:\n",
    "            traceback.print_exc()\n",
    "\n",
    "        finally:\n",
    "            try:\n",
    "                val_pipeline.close()\n",
    "            except Exception as e:\n",
    "                print(f\"Error while closing pipeline: {e}\")\n",
    "        return results"
   ]
  },
  {
   "cell_type": "code",
   "execution_count": 2,
   "id": "acfda009",
   "metadata": {},
   "outputs": [
    {
     "name": "stdout",
     "output_type": "stream",
     "text": [
      "['mdb:latest']\n",
      "['docker-aseprite:latest']\n",
      "['ghcr.io/avantlab/avantgraph:openaire-transport']\n",
      "['ghcr.io/avantlab/avantgraph:openaire-energy']\n",
      "['ghcr.io/avantlab/avantgraph:openaire-neuro']\n",
      "['ghcr.io/avantlab/avantgraph:openaire-cancer']\n",
      "['hello-world:latest']\n",
      "['ghcr.io/avantlab/avantgraph:ckg']\n",
      "['ghcr.io/avantlab/avantgraph:release-2024-01-31']\n",
      "Using device: cpu\n"
     ]
    },
    {
     "name": "stderr",
     "output_type": "stream",
     "text": [
      "  0%|          | 0/1 [00:00<?, ?it/s]"
     ]
    },
    {
     "name": "stdout",
     "output_type": "stream",
     "text": [
      "example {i} {'query_example': 'SELECT ?patient WHERE { ?patient <https://www.biomedit.ch/rdf/sphn-schema/sphn/hasDiagnosis> ?diag . ?diag <https://www.biomedit.ch/rdf/sphn-schema/sphn/hasCode> ?code . ?code <https://www.biomedit.ch/rdf/sphn-schema/sphn/hasCodeValue> \"I428\" . }', 'query_template': 'SELECT ?patient WHERE { ?patient <https://www.biomedit.ch/rdf/sphn-schema/sphn/hasDiagnosis> ?diag . ?diag <https://www.biomedit.ch/rdf/sphn-schema/sphn/hasCode> ?code . ?code <https://www.biomedit.ch/rdf/sphn-schema/sphn/hasCodeValue> §Diagnosis§ . }', 'question_example': 'Which patients have been diagnosed with I428?', 'question_template': 'Which patients have been diagnosed with §Diagnosis§?', 'question_placeholders': [], 'query_placeholders': [], 'score': np.float32(182.40573)}\n",
      "example {i} {'query_example': 'SELECT ?patient WHERE { { ?patient <https://www.biomedit.ch/rdf/sphn-schema/sphn/hasDiagnosis> ?diag . ?diag <https://www.biomedit.ch/rdf/sphn-schema/sphn/hasCode> ?code . ?code <https://www.biomedit.ch/rdf/sphn-schema/sphn/hasCodeValue> \"I739\" .} UNION { ?patient <https://www.biomedit.ch/rdf/sphn-schema/sphn/hasDiagnosis> ?diag . ?diag <https://www.biomedit.ch/rdf/sphn-schema/sphn/hasCode> ?code . ?code <https://www.biomedit.ch/rdf/sphn-schema/sphn/hasCodeValue> \"I452\" . } }', 'query_template': 'SELECT ?patient WHERE { { ?patient <https://www.biomedit.ch/rdf/sphn-schema/sphn/hasDiagnosis> ?diag . ?diag <https://www.biomedit.ch/rdf/sphn-schema/sphn/hasCode> ?code . ?code <https://www.biomedit.ch/rdf/sphn-schema/sphn/hasCodeValue> §Diagnosis1§ .} UNION { ?patient <https://www.biomedit.ch/rdf/sphn-schema/sphn/hasDiagnosis> ?diag . ?diag <https://www.biomedit.ch/rdf/sphn-schema/sphn/hasCode> ?code . ?code <https://www.biomedit.ch/rdf/sphn-schema/sphn/hasCodeValue> §Diagnosis2§ . } }', 'question_example': 'Which patients have been diagnosed with I739 or I452', 'question_template': 'Which patients have been diagnosed with §Diagnosis1§ or §Diagnosis2§', 'question_placeholders': [], 'query_placeholders': [], 'score': np.float32(213.10872)}\n",
      "example {i} {'query_example': '?patient WHERE { ?presc <https://www.biomedit.ch/rdf/sphn-schema/sphn/hasSubjectPseudoIdentifier> ?patient . ?presc <https://www.biomedit.ch/rdf/sphn-schema/sphn/hasDrug> ?drug . ?drug <https://www.biomedit.ch/rdf/sphn-schema/sphn/hasCode> ?code . ?code <https://www.biomedit.ch/rdf/sphn-schema/sphn/hasCodeValue> \"M01AE01\" }', 'query_template': '?patient WHERE { ?presc <https://www.biomedit.ch/rdf/sphn-schema/sphn/hasSubjectPseudoIdentifier> ?patient . ?presc <https://www.biomedit.ch/rdf/sphn-schema/sphn/hasDrug> ?drug . ?drug <https://www.biomedit.ch/rdf/sphn-schema/sphn/hasCode> ?code . ?code <https://www.biomedit.ch/rdf/sphn-schema/sphn/hasCodeValue> §Drug§ }', 'question_example': 'Which patients have taken M01AE01?', 'question_template': 'Which patients have taken §Drug§?', 'question_placeholders': [], 'query_placeholders': [], 'score': np.float32(233.51437)}\n",
      "examples in get_template: Example0:\n",
      "Question: Which patients have been diagnosed with I428?\n",
      "Answer Example 0: SELECT ?patient WHERE { ?patient <https://www.biomedit.ch/rdf/sphn-schema/sphn/hasDiagnosis> ?diag . ?diag <https://www.biomedit.ch/rdf/sphn-schema/sphn/hasCode> ?code . ?code <https://www.biomedit.ch/rdf/sphn-schema/sphn/hasCodeValue> \"I428\" . }\n",
      "\n",
      "Example1:\n",
      "Question: Which patients have been diagnosed with I739 or I452\n",
      "Answer Example 1: SELECT ?patient WHERE { { ?patient <https://www.biomedit.ch/rdf/sphn-schema/sphn/hasDiagnosis> ?diag . ?diag <https://www.biomedit.ch/rdf/sphn-schema/sphn/hasCode> ?code . ?code <https://www.biomedit.ch/rdf/sphn-schema/sphn/hasCodeValue> \"I739\" .} UNION { ?patient <https://www.biomedit.ch/rdf/sphn-schema/sphn/hasDiagnosis> ?diag . ?diag <https://www.biomedit.ch/rdf/sphn-schema/sphn/hasCode> ?code . ?code <https://www.biomedit.ch/rdf/sphn-schema/sphn/hasCodeValue> \"I452\" . } }\n",
      "\n",
      "Example2:\n",
      "Question: Which patients have taken M01AE01?\n",
      "Answer Example 2: ?patient WHERE { ?presc <https://www.biomedit.ch/rdf/sphn-schema/sphn/hasSubjectPseudoIdentifier> ?patient . ?presc <https://www.biomedit.ch/rdf/sphn-schema/sphn/hasDrug> ?drug . ?drug <https://www.biomedit.ch/rdf/sphn-schema/sphn/hasCode> ?code . ?code <https://www.biomedit.ch/rdf/sphn-schema/sphn/hasCodeValue> \"M01AE01\" }\n",
      "\n",
      "\n",
      "examples in LLM: Example0:\n",
      "Question: Which patients have been diagnosed with I428?\n",
      "Answer Example 0: SELECT ?patient WHERE { ?patient <https://www.biomedit.ch/rdf/sphn-schema/sphn/hasDiagnosis> ?diag . ?diag <https://www.biomedit.ch/rdf/sphn-schema/sphn/hasCode> ?code . ?code <https://www.biomedit.ch/rdf/sphn-schema/sphn/hasCodeValue> \"I428\" . }\n",
      "\n",
      "Example1:\n",
      "Question: Which patients have been diagnosed with I739 or I452\n",
      "Answer Example 1: SELECT ?patient WHERE { { ?patient <https://www.biomedit.ch/rdf/sphn-schema/sphn/hasDiagnosis> ?diag . ?diag <https://www.biomedit.ch/rdf/sphn-schema/sphn/hasCode> ?code . ?code <https://www.biomedit.ch/rdf/sphn-schema/sphn/hasCodeValue> \"I739\" .} UNION { ?patient <https://www.biomedit.ch/rdf/sphn-schema/sphn/hasDiagnosis> ?diag . ?diag <https://www.biomedit.ch/rdf/sphn-schema/sphn/hasCode> ?code . ?code <https://www.biomedit.ch/rdf/sphn-schema/sphn/hasCodeValue> \"I452\" . } }\n",
      "\n",
      "Example2:\n",
      "Question: Which patients have taken M01AE01?\n",
      "Answer Example 2: ?patient WHERE { ?presc <https://www.biomedit.ch/rdf/sphn-schema/sphn/hasSubjectPseudoIdentifier> ?patient . ?presc <https://www.biomedit.ch/rdf/sphn-schema/sphn/hasDrug> ?drug . ?drug <https://www.biomedit.ch/rdf/sphn-schema/sphn/hasCode> ?code . ?code <https://www.biomedit.ch/rdf/sphn-schema/sphn/hasCodeValue> \"M01AE01\" }\n",
      "\n",
      "\n",
      "prompt filled in: \n",
      "Task: Generate a SPARQL SELECT statement for querying a graph database.\n",
      "\n",
      "Instructions:\n",
      "The SPARQL SELECT statement should answer the user question by filling in the provided query templates.\n",
      "Use the ontology terminology to ensure the query is executable on the graph database.\n",
      "Use the question mentioned ontology classes to guide the selection of the appropriate query template.\n",
      "\n",
      "--- Ontology ---\n",
      "@prefix owl: <http://www.w3.org/2002/07/owl#> .\n",
      "@prefix rdfs: <http://www.w3.org/2000/01/rdf-schema#> .\n",
      "@prefix sphn: <https://www.biomedit.ch/rdf/sphn-schema/sphn/> .\n",
      "@prefix xsd: <http://www.w3.org/2001/XMLSchema#> .\n",
      "\n",
      "sphn:hasActiveIngredient a owl:ObjectProperty ;\n",
      "    rdfs:label \"has Active Ingredient\" ;\n",
      "    rdfs:comment \"Active component of the concept.\" ;\n",
      "    rdfs:domain sphn:Drug ;\n",
      "    rdfs:range sphn:Substance .\n",
      "\n",
      "sphn:hasCode a owl:ObjectProperty ;\n",
      "    rdfs:label \"has Code\" ;\n",
      "    rdfs:comment \"Coded information specifying the concept.\" ;\n",
      "    rdfs:domain sphn:Diagnosis,\n",
      "        sphn:LabResult,\n",
      "        sphn:MedicalProcedure,\n",
      "        sphn:Substance ;\n",
      "    rdfs:range sphn:Code .\n",
      "\n",
      "sphn:hasCodingSystemAndVersion a owl:DatatypeProperty ;\n",
      "    rdfs:label \"has Coding System and Version\" ;\n",
      "    rdfs:comment \"Name and version of the coding system.\" ;\n",
      "    rdfs:domain sphn:Code ;\n",
      "    rdfs:range xsd:string .\n",
      "\n",
      "sphn:hasDrug a owl:ObjectProperty ;\n",
      "    rdfs:label \"has Drug\" ;\n",
      "    rdfs:comment \"Medication associated to the concept.\" ;\n",
      "    rdfs:domain sphn:DrugPrescription ;\n",
      "    rdfs:range sphn:Drug .\n",
      "\n",
      "sphn:hasLabTest a owl:ObjectProperty ;\n",
      "    rdfs:label \"has Lab Test\" ;\n",
      "    rdfs:comment \"Lab test associated to the concept.\" ;\n",
      "    rdfs:domain sphn:LabTestEvent ;\n",
      "    rdfs:range sphn:LabResult .\n",
      "\n",
      "sphn:hasSubjectPseudoIdentifier a owl:ObjectProperty ;\n",
      "    rdfs:label \"has Subject Pseudo Identifier\" ;\n",
      "    rdfs:domain sphn:Diagnosis,\n",
      "        sphn:DrugPrescription,\n",
      "        sphn:LabTestEvent,\n",
      "        sphn:MedicalProcedure ;\n",
      "    rdfs:range sphn:SubjectPseudoIdentifier .\n",
      "\n",
      "sphn:SubjectPseudoIdentifier a owl:Class ;\n",
      "    rdfs:label \"Patient Identifier\" ;\n",
      "    rdfs:comment \"A coded unique identifier assigned by a data provider for a specific project to conceal the identity of an individual.\" .\n",
      "\n",
      "sphn:Code a owl:Class ;\n",
      "    rdfs:label \"Code\" ;\n",
      "    rdfs:comment \"Symbols and/or expressions defined in a coding system.\" .\n",
      "\n",
      "sphn:Diagnosis a owl:Class ;\n",
      "    rdfs:label \"Diagnosis\" ;\n",
      "    rdfs:comment \"Determination of the presence of a disease, condition, or injury from expressed signs and symptoms and assessments such as physical examination, laboratory test, or the like.\" .\n",
      "\n",
      "sphn:Drug a owl:Class ;\n",
      "    rdfs:label \"Drug\" ;\n",
      "    rdfs:comment \"Any substance with the intent to prevent, diagnose, treat, or relieve symptoms of a disease or abnormal condition.\" .\n",
      "\n",
      "sphn:DrugPrescription a owl:Class ;\n",
      "    rdfs:label \"Drug Prescription\" ;\n",
      "    rdfs:comment \"Plan that defines at which frequency a drug should be administered to a patient with a given quantity; at every frequency time point a drug administration event should occur.\" .\n",
      "\n",
      "sphn:LabResult a owl:Class ;\n",
      "    rdfs:label \"Lab Result\" ;\n",
      "    rdfs:comment \"Outcome, value, or information which gives insight about a laboratory test.\" .\n",
      "\n",
      "sphn:LabTestEvent a owl:Class ;\n",
      "    rdfs:label \"Lab Test Event\" ;\n",
      "    rdfs:comment \"Occurrence in which one or multiple laboratory tests are performed on a biological specimen at a given time.\" .\n",
      "\n",
      "sphn:MedicalProcedure a owl:Class ;\n",
      "    rdfs:label \"Medical Procedure\" ;\n",
      "    rdfs:comment \"Invasive or non-invasive intervention performed for, with or on behalf of an individual whose purpose is to assess, improve, maintain, promote or modify health, functioning or health conditions.\" .\n",
      "\n",
      "sphn:Substance a owl:Class ;\n",
      "    rdfs:label \"Substance\" ;\n",
      "    rdfs:comment \"Any matter of defined composition that has discrete existence, whose origin may be biological, mineral or chemical.\" .\n",
      "\n",
      "\n",
      "\n",
      "--- Templates ---\n",
      "Template 0:\n",
      "Template Question: Which patients have been diagnosed with §Diagnosis§?\n",
      "Template Query: SELECT ?patient WHERE { ?patient <https://www.biomedit.ch/rdf/sphn-schema/sphn/hasDiagnosis> ?diag . ?diag <https://www.biomedit.ch/rdf/sphn-schema/sphn/hasCode> ?code . ?code <https://www.biomedit.ch/rdf/sphn-schema/sphn/hasCodeValue> §Diagnosis§ . }\n",
      "\n",
      "Template 1:\n",
      "Template Question: Which patients have been diagnosed with §Diagnosis1§ or §Diagnosis2§\n",
      "Template Query: SELECT ?patient WHERE { { ?patient <https://www.biomedit.ch/rdf/sphn-schema/sphn/hasDiagnosis> ?diag . ?diag <https://www.biomedit.ch/rdf/sphn-schema/sphn/hasCode> ?code . ?code <https://www.biomedit.ch/rdf/sphn-schema/sphn/hasCodeValue> §Diagnosis1§ .} UNION { ?patient <https://www.biomedit.ch/rdf/sphn-schema/sphn/hasDiagnosis> ?diag . ?diag <https://www.biomedit.ch/rdf/sphn-schema/sphn/hasCode> ?code . ?code <https://www.biomedit.ch/rdf/sphn-schema/sphn/hasCodeValue> §Diagnosis2§ . } }\n",
      "\n",
      "Template 2:\n",
      "Template Question: Which patients have taken §Drug§?\n",
      "Template Query: ?patient WHERE { ?presc <https://www.biomedit.ch/rdf/sphn-schema/sphn/hasSubjectPseudoIdentifier> ?patient . ?presc <https://www.biomedit.ch/rdf/sphn-schema/sphn/hasDrug> ?drug . ?drug <https://www.biomedit.ch/rdf/sphn-schema/sphn/hasCode> ?code . ?code <https://www.biomedit.ch/rdf/sphn-schema/sphn/hasCodeValue> §Drug§ }\n",
      "\n",
      "\n",
      "\n",
      "--- Examples ---\n",
      "Example0:\n",
      "Question: Which patients have been diagnosed with I428?\n",
      "Answer Example 0: SELECT ?patient WHERE { ?patient <https://www.biomedit.ch/rdf/sphn-schema/sphn/hasDiagnosis> ?diag . ?diag <https://www.biomedit.ch/rdf/sphn-schema/sphn/hasCode> ?code . ?code <https://www.biomedit.ch/rdf/sphn-schema/sphn/hasCodeValue> \"I428\" . }\n",
      "\n",
      "Example1:\n",
      "Question: Which patients have been diagnosed with I739 or I452\n",
      "Answer Example 1: SELECT ?patient WHERE { { ?patient <https://www.biomedit.ch/rdf/sphn-schema/sphn/hasDiagnosis> ?diag . ?diag <https://www.biomedit.ch/rdf/sphn-schema/sphn/hasCode> ?code . ?code <https://www.biomedit.ch/rdf/sphn-schema/sphn/hasCodeValue> \"I739\" .} UNION { ?patient <https://www.biomedit.ch/rdf/sphn-schema/sphn/hasDiagnosis> ?diag . ?diag <https://www.biomedit.ch/rdf/sphn-schema/sphn/hasCode> ?code . ?code <https://www.biomedit.ch/rdf/sphn-schema/sphn/hasCodeValue> \"I452\" . } }\n",
      "\n",
      "Example2:\n",
      "Question: Which patients have taken M01AE01?\n",
      "Answer Example 2: ?patient WHERE { ?presc <https://www.biomedit.ch/rdf/sphn-schema/sphn/hasSubjectPseudoIdentifier> ?patient . ?presc <https://www.biomedit.ch/rdf/sphn-schema/sphn/hasDrug> ?drug . ?drug <https://www.biomedit.ch/rdf/sphn-schema/sphn/hasCode> ?code . ?code <https://www.biomedit.ch/rdf/sphn-schema/sphn/hasCodeValue> \"M01AE01\" }\n",
      "\n",
      "\n",
      "\n",
      "--- Notes ---\n",
      "Be as concise as possible.\n",
      "Do not include any explanations or apologies in your responses.\n",
      "Do not include any text except for the SPARQL query generated.\n",
      "\n",
      "--- User Question ---\n",
      "The user question is:\n",
      "Which patients have been diagnosed with I521?\n",
      "\n",
      "The question mentioned ontology classes are:\n",
      "['https://www.biomedit.ch/rdf/sphn-schema/sphn/SubjectPseudoIdentifier']\n",
      "\n",
      "The answered SPARQL query is:\n",
      "\n"
     ]
    },
    {
     "name": "stderr",
     "output_type": "stream",
     "text": [
      "Device set to use cpu\n",
      "Setting `pad_token_id` to `eos_token_id`:128001 for open-end generation.\n",
      "  0%|          | 0/1 [00:27<?, ?it/s]"
     ]
    },
    {
     "name": "stdout",
     "output_type": "stream",
     "text": [
      "\n",
      "🧠 Attempt 0: Executing query...\n",
      "SELECT?patient WHERE {?patient <https://www.biomedit.ch/rdf/sphn-schema/sphn/hasDiagnosis>?diag.?diag <https://www.biomedit.ch/rdf/sphn-schema/sphn/hasCode>?code.?code <https://www.biomedit.ch/rdf/sphn-schema/sphn/hasCodeValue>?diag. }\n",
      "\n"
     ]
    },
    {
     "name": "stderr",
     "output_type": "stream",
     "text": [
      "\n"
     ]
    }
   ],
   "source": [
    "data =[]\n",
    "entry = {}\n",
    "entry[\"natural_language_question\"] = \"Which patients have been diagnosed with I521?\"\n",
    "data.append(entry)\n",
    "data_try = run_validated_pipeline(\n",
    "        data\n",
    ")"
   ]
  },
  {
   "cell_type": "code",
   "execution_count": 3,
   "id": "3098caa9",
   "metadata": {},
   "outputs": [
    {
     "data": {
      "text/plain": [
       "{'natural_language_question': 'Which patients have been diagnosed with I521?',\n",
       " 'prompt_templates': 'Template 0:\\nTemplate Question: Which patients have been diagnosed with §Diagnosis§?\\nTemplate Query: SELECT ?patient WHERE { ?patient <https://www.biomedit.ch/rdf/sphn-schema/sphn/hasDiagnosis> ?diag . ?diag <https://www.biomedit.ch/rdf/sphn-schema/sphn/hasCode> ?code . ?code <https://www.biomedit.ch/rdf/sphn-schema/sphn/hasCodeValue> §Diagnosis§ . }\\n\\nTemplate 1:\\nTemplate Question: Which patients have been diagnosed with §Diagnosis1§ or §Diagnosis2§\\nTemplate Query: SELECT ?patient WHERE { { ?patient <https://www.biomedit.ch/rdf/sphn-schema/sphn/hasDiagnosis> ?diag . ?diag <https://www.biomedit.ch/rdf/sphn-schema/sphn/hasCode> ?code . ?code <https://www.biomedit.ch/rdf/sphn-schema/sphn/hasCodeValue> §Diagnosis1§ .} UNION { ?patient <https://www.biomedit.ch/rdf/sphn-schema/sphn/hasDiagnosis> ?diag . ?diag <https://www.biomedit.ch/rdf/sphn-schema/sphn/hasCode> ?code . ?code <https://www.biomedit.ch/rdf/sphn-schema/sphn/hasCodeValue> §Diagnosis2§ . } }\\n\\nTemplate 2:\\nTemplate Question: Which patients have taken §Drug§?\\nTemplate Query: ?patient WHERE { ?presc <https://www.biomedit.ch/rdf/sphn-schema/sphn/hasSubjectPseudoIdentifier> ?patient . ?presc <https://www.biomedit.ch/rdf/sphn-schema/sphn/hasDrug> ?drug . ?drug <https://www.biomedit.ch/rdf/sphn-schema/sphn/hasCode> ?code . ?code <https://www.biomedit.ch/rdf/sphn-schema/sphn/hasCodeValue> §Drug§ }\\n\\n',\n",
       " 'prompt_examples': 'Example0:\\nQuestion: Which patients have been diagnosed with I428?\\nAnswer Example 0: SELECT ?patient WHERE { ?patient <https://www.biomedit.ch/rdf/sphn-schema/sphn/hasDiagnosis> ?diag . ?diag <https://www.biomedit.ch/rdf/sphn-schema/sphn/hasCode> ?code . ?code <https://www.biomedit.ch/rdf/sphn-schema/sphn/hasCodeValue> \"I428\" . }\\n\\nExample1:\\nQuestion: Which patients have been diagnosed with I739 or I452\\nAnswer Example 1: SELECT ?patient WHERE { { ?patient <https://www.biomedit.ch/rdf/sphn-schema/sphn/hasDiagnosis> ?diag . ?diag <https://www.biomedit.ch/rdf/sphn-schema/sphn/hasCode> ?code . ?code <https://www.biomedit.ch/rdf/sphn-schema/sphn/hasCodeValue> \"I739\" .} UNION { ?patient <https://www.biomedit.ch/rdf/sphn-schema/sphn/hasDiagnosis> ?diag . ?diag <https://www.biomedit.ch/rdf/sphn-schema/sphn/hasCode> ?code . ?code <https://www.biomedit.ch/rdf/sphn-schema/sphn/hasCodeValue> \"I452\" . } }\\n\\nExample2:\\nQuestion: Which patients have taken M01AE01?\\nAnswer Example 2: ?patient WHERE { ?presc <https://www.biomedit.ch/rdf/sphn-schema/sphn/hasSubjectPseudoIdentifier> ?patient . ?presc <https://www.biomedit.ch/rdf/sphn-schema/sphn/hasDrug> ?drug . ?drug <https://www.biomedit.ch/rdf/sphn-schema/sphn/hasCode> ?code . ?code <https://www.biomedit.ch/rdf/sphn-schema/sphn/hasCodeValue> \"M01AE01\" }\\n\\n',\n",
       " 'relevant_classes': ['https://www.biomedit.ch/rdf/sphn-schema/sphn/SubjectPseudoIdentifier'],\n",
       " 'validation_time': [],\n",
       " 'valid_query': True,\n",
       " 'query': 'SELECT?patient WHERE {?patient <https://www.biomedit.ch/rdf/sphn-schema/sphn/hasDiagnosis>?diag.?diag <https://www.biomedit.ch/rdf/sphn-schema/sphn/hasCode>?code.?code <https://www.biomedit.ch/rdf/sphn-schema/sphn/hasCodeValue>?diag. }',\n",
       " 'attempts': 0,\n",
       " 'initial_query_time': 22.193639755249023,\n",
       " 'result': [],\n",
       " 'final_query_execution_time': 0.005574464797973633,\n",
       " 'total_time': 27.834004878997803}"
      ]
     },
     "execution_count": 3,
     "metadata": {},
     "output_type": "execute_result"
    }
   ],
   "source": [
    "data_try[0]"
   ]
  },
  {
   "cell_type": "code",
   "execution_count": null,
   "id": "968c016f",
   "metadata": {},
   "outputs": [],
   "source": [
    "data_try[0]['natural_language_questions']"
   ]
  },
  {
   "cell_type": "code",
   "execution_count": 8,
   "id": "a9845493",
   "metadata": {},
   "outputs": [
    {
     "name": "stdout",
     "output_type": "stream",
     "text": [
      "('SELECT?patient WHERE {?patient '\n",
      " '<https://www.biomedit.ch/rdf/sphn-schema/sphn/hasDiagnosis>?diag.?diag '\n",
      " '<https://www.biomedit.ch/rdf/sphn-schema/sphn/hasCode>?code.?code '\n",
      " '<https://www.biomedit.ch/rdf/sphn-schema/sphn/hasCodeValue>?diag. }')\n"
     ]
    }
   ],
   "source": [
    "from pprint import pprint\n",
    "\n",
    "pprint(data_try[0]['query'])"
   ]
  },
  {
   "cell_type": "code",
   "execution_count": 5,
   "id": "b21faa1e",
   "metadata": {},
   "outputs": [
    {
     "name": "stdout",
     "output_type": "stream",
     "text": [
      "[{'natural_language_question': 'Which patients have been diagnosed with I521?', 'prompt_templates': 'Template 0:\\nTemplate Question: Which patients have been diagnosed with §Diagnosis§?\\nTemplate Query: SELECT ?patient WHERE { ?patient <https://www.biomedit.ch/rdf/sphn-schema/sphn/hasDiagnosis> ?diag . ?diag <https://www.biomedit.ch/rdf/sphn-schema/sphn/hasCode> ?code . ?code <https://www.biomedit.ch/rdf/sphn-schema/sphn/hasCodeValue> §Diagnosis§ . }\\n\\nTemplate 1:\\nTemplate Question: Which patients have been diagnosed with §Diagnosis1§ or §Diagnosis2§\\nTemplate Query: SELECT ?patient WHERE { { ?patient <https://www.biomedit.ch/rdf/sphn-schema/sphn/hasDiagnosis> ?diag . ?diag <https://www.biomedit.ch/rdf/sphn-schema/sphn/hasCode> ?code . ?code <https://www.biomedit.ch/rdf/sphn-schema/sphn/hasCodeValue> §Diagnosis1§ .} UNION { ?patient <https://www.biomedit.ch/rdf/sphn-schema/sphn/hasDiagnosis> ?diag . ?diag <https://www.biomedit.ch/rdf/sphn-schema/sphn/hasCode> ?code . ?code <https://www.biomedit.ch/rdf/sphn-schema/sphn/hasCodeValue> §Diagnosis2§ . } }\\n\\nTemplate 2:\\nTemplate Question: Which patients have taken §Drug§?\\nTemplate Query: ?patient WHERE { ?presc <https://www.biomedit.ch/rdf/sphn-schema/sphn/hasSubjectPseudoIdentifier> ?patient . ?presc <https://www.biomedit.ch/rdf/sphn-schema/sphn/hasDrug> ?drug . ?drug <https://www.biomedit.ch/rdf/sphn-schema/sphn/hasCode> ?code . ?code <https://www.biomedit.ch/rdf/sphn-schema/sphn/hasCodeValue> §Drug§ }\\n\\n', 'prompt_examples': 'Example0:\\nQuestion: Which patients have been diagnosed with I428?\\nAnswer Example 0: SELECT ?patient WHERE { ?patient <https://www.biomedit.ch/rdf/sphn-schema/sphn/hasDiagnosis> ?diag . ?diag <https://www.biomedit.ch/rdf/sphn-schema/sphn/hasCode> ?code . ?code <https://www.biomedit.ch/rdf/sphn-schema/sphn/hasCodeValue> \"I428\" . }\\n\\nExample1:\\nQuestion: Which patients have been diagnosed with I739 or I452\\nAnswer Example 1: SELECT ?patient WHERE { { ?patient <https://www.biomedit.ch/rdf/sphn-schema/sphn/hasDiagnosis> ?diag . ?diag <https://www.biomedit.ch/rdf/sphn-schema/sphn/hasCode> ?code . ?code <https://www.biomedit.ch/rdf/sphn-schema/sphn/hasCodeValue> \"I739\" .} UNION { ?patient <https://www.biomedit.ch/rdf/sphn-schema/sphn/hasDiagnosis> ?diag . ?diag <https://www.biomedit.ch/rdf/sphn-schema/sphn/hasCode> ?code . ?code <https://www.biomedit.ch/rdf/sphn-schema/sphn/hasCodeValue> \"I452\" . } }\\n\\nExample2:\\nQuestion: Which patients have taken M01AE01?\\nAnswer Example 2: ?patient WHERE { ?presc <https://www.biomedit.ch/rdf/sphn-schema/sphn/hasSubjectPseudoIdentifier> ?patient . ?presc <https://www.biomedit.ch/rdf/sphn-schema/sphn/hasDrug> ?drug . ?drug <https://www.biomedit.ch/rdf/sphn-schema/sphn/hasCode> ?code . ?code <https://www.biomedit.ch/rdf/sphn-schema/sphn/hasCodeValue> \"M01AE01\" }\\n\\n', 'relevant_classes': ['https://www.biomedit.ch/rdf/sphn-schema/sphn/SubjectPseudoIdentifier'], 'validation_time': [], 'valid_query': True, 'query': 'SELECT?patient WHERE {?patient <https://www.biomedit.ch/rdf/sphn-schema/sphn/hasDiagnosis>?diag.?diag <https://www.biomedit.ch/rdf/sphn-schema/sphn/hasCode>?code.?code <https://www.biomedit.ch/rdf/sphn-schema/sphn/hasCodeValue>?diag. }', 'attempts': 0, 'initial_query_time': 22.193639755249023, 'result': [], 'final_query_execution_time': 0.005574464797973633, 'total_time': 27.834004878997803}]\n"
     ]
    }
   ],
   "source": [
    "print(data_try)"
   ]
  }
 ],
 "metadata": {
  "kernelspec": {
   "display_name": "Python 3",
   "language": "python",
   "name": "python3"
  },
  "language_info": {
   "codemirror_mode": {
    "name": "ipython",
    "version": 3
   },
   "file_extension": ".py",
   "mimetype": "text/x-python",
   "name": "python",
   "nbconvert_exporter": "python",
   "pygments_lexer": "ipython3",
   "version": "3.13.3"
  }
 },
 "nbformat": 4,
 "nbformat_minor": 5
}
