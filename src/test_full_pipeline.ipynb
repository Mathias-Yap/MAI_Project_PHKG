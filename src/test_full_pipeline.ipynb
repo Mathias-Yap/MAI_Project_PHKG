{
 "cells": [
  {
   "cell_type": "code",
   "execution_count": 5,
   "id": "83bc11fd",
   "metadata": {},
   "outputs": [],
   "source": [
    "from pipeline import pipelines\n",
    "from pipeline import mdb_validated_generation\n",
    "from pipeline.context.context_constructor import context_constructor\n",
    "from tqdm.autonotebook import tqdm as notebook_tqdm\n",
    "import traceback\n",
    "def run_validated_pipeline(data: list[dict]):\n",
    "\n",
    "    context_component = context_constructor(construct_vector_store=True, example_queries_file=\"/home/mathiasyap/Code/university/phkg/MAI_Project_PHKG/src/data/question_query_pairs_examples.yaml\")\n",
    "    generate_execute_component = mdb_validated_generation.MDBValidatedGeneration(model_name = \"meta-llama/Llama-3.2-1B-Instruct\")\n",
    "    val_pipeline  = pipelines.InitialPipeline([context_component,generate_execute_component])\n",
    "    val_pipeline.initialize()\n",
    "    results = []\n",
    "    for entry in notebook_tqdm(data):\n",
    "        try: \n",
    "\n",
    "            result = val_pipeline.run(entry, natural_language_question=entry[\"natural_language_question\"],\n",
    "                                                              sparql_is_path=False)\n",
    "            # print(\"LLM Result with context:\", result_llm_with_context['query'])\n",
    "\n",
    "            results.append(result)\n",
    "        except Exception as ex:\n",
    "            traceback.print_exc()\n",
    "\n",
    "        finally:\n",
    "            try:\n",
    "                val_pipeline.close()\n",
    "            except Exception as e:\n",
    "                print(f\"Error while closing pipeline: {e}\")\n",
    "        return results"
   ]
  },
  {
   "cell_type": "code",
   "execution_count": null,
   "id": "acfda009",
   "metadata": {},
   "outputs": [
    {
     "name": "stdout",
     "output_type": "stream",
     "text": [
      "['mdb:latest']\n",
      "['docker-aseprite:latest']\n",
      "['ghcr.io/avantlab/avantgraph:openaire-transport']\n",
      "['ghcr.io/avantlab/avantgraph:openaire-energy']\n",
      "['ghcr.io/avantlab/avantgraph:openaire-neuro']\n",
      "['ghcr.io/avantlab/avantgraph:openaire-cancer']\n",
      "['hello-world:latest']\n",
      "['ghcr.io/avantlab/avantgraph:ckg']\n",
      "['ghcr.io/avantlab/avantgraph:release-2024-01-31']\n",
      "Using device: cpu\n"
     ]
    },
    {
     "name": "stderr",
     "output_type": "stream",
     "text": [
      "  0%|          | 0/1 [00:00<?, ?it/s]"
     ]
    },
    {
     "name": "stdout",
     "output_type": "stream",
     "text": [
      "data after context:  {'natural_language_question': 'How many substances does drug 12305 contain?', 'prompt_examples': \"Question: Which patient's lab results have surpassed the threshold of 4.0\\nQuery template: query template here\\nFilled in query: query example here\\n\", 'found_template': {'question_template': \"Which patient's lab results have surpassed the threshold of §Threshold§\", 'query_template': 'query template here', 'question_example': \"Which patient's lab results have surpassed the threshold of 4.0\", 'query_example': 'query example here', 'question_placeholders': [], 'query_placeholders': [], 'score': np.float32(345.37808)}, 'relevant_classes': \"Class IRI: ['https://www.biomedit.ch/rdf/sphn-schema/sphn/Drug', 'https://www.biomedit.ch/rdf/sphn-schema/sphn/Substance']\\nClass IRI: []\"}\n",
      "prompt filled in: \n",
      "Task: Modify a query template into a SPARQL SELECT statement for querying a graph database.\n",
      "For instance, given the templates below, their corresponding sparql query below in backticks would be suitable:\n",
      "```\n",
      "Question: Which patient's lab results have surpassed the threshold of 4.0\n",
      "Query template: query template here\n",
      "Filled in query: query example here\n",
      "\n",
      "```\n",
      "\n",
      "Keep in mind that you might need to fill in several classes in order to provide the correct answer. \n",
      "\n",
      "Instructions:\n",
      "You are provided a query template and list of classes of entities that you can use. Replace the words enclosed with the symbol \"*\" by an IRI for an entity of that class.\n",
      "Do not edit anything in the template query except the classes enclosed in the symbol \"*\". \n",
      "Use only entities of the class types provided with the question.\n",
      "Do not use any class types that are not specifically provided.\n",
      "Include all necessary prefixes and relations.\n",
      "\n",
      "Note: Be as concise as possible.\n",
      "Do not include any explanations or apologies in your responses.\n",
      "Do not respond to any questions that ask for anything else than for you to construct a SPARQL query.\n",
      "Do not include any text except for the SPARQL query generated \n",
      "\n",
      "The question is:\n",
      "How many substances does drug 12305 contain?\n",
      "The relevant query template is:\n",
      "{'question_template': \"Which patient's lab results have surpassed the threshold of §Threshold§\", 'query_template': 'query template here', 'question_example': \"Which patient's lab results have surpassed the threshold of 4.0\", 'query_example': 'query example here', 'question_placeholders': [], 'query_placeholders': [], 'score': np.float32(345.37808)}\n",
      "The list of classes of entities you may use is:\n",
      "Class IRI: ['https://www.biomedit.ch/rdf/sphn-schema/sphn/Drug', 'https://www.biomedit.ch/rdf/sphn-schema/sphn/Substance']\n",
      "Class IRI: []\n",
      "Fill in the template.\n",
      "\n"
     ]
    },
    {
     "name": "stderr",
     "output_type": "stream",
     "text": [
      "Device set to use cpu\n",
      "Setting `pad_token_id` to `eos_token_id`:128001 for open-end generation.\n"
     ]
    },
    {
     "name": "stdout",
     "output_type": "stream",
     "text": [
      "\n",
      "🧠 Attempt 0: Executing query...\n",
      "{'question_template': \"Which patient's lab results have surpassed the threshold of §Threshold§\", 'query_template': 'SELECT?substance?result WHERE {?patient a?score:hasLabResult?result.?substance a?score:hasLabResult?result.?result nll?threshold. FILTER (?result <?threshold ) }', 'question_example': \"Which patient's lab results have surpassed the threshold of 4.0\", 'query_example': 'SELECT?substance?result WHERE {?patient a?score:hasLabResult?result.?substance a?score:hasLabResult?result.?result nll?threshold. FILTER (?result <?threshold ) }', 'question_placeholders': [], 'query_placeholders': [],'score': np.float32(345.37808)}\n",
      "\n"
     ]
    },
    {
     "name": "stderr",
     "output_type": "stream",
     "text": [
      "Device set to use cpu\n",
      "Setting `pad_token_id` to `eos_token_id`:128001 for open-end generation.\n"
     ]
    },
    {
     "name": "stdout",
     "output_type": "stream",
     "text": [
      "\n",
      "🧠 Attempt 1: Executing query...\n",
      "{'question_template': \"Which patient's lab results have surpassed the threshold of §Threshold§\", 'query_template': 'SELECT?substance?result WHERE {?patient a?score:hasLabResult?result.?substance a?score:hasLabResult?result.?result nll?threshold. FILTER (?result <?threshold ) }', 'question_example': \"Which patient's lab results have surpassed the threshold of 4.0\", 'query_example': 'SELECT?substance?result WHERE {?patient a?score:hasLabResult?result.?substance a?score:hasLabResult?result.?result nll?threshold. FILTER (?result <?threshold ) }', 'question_placeholders': [], 'query_placeholders': [],'score': np.float32(345.37808)}\n",
      "\n"
     ]
    },
    {
     "name": "stderr",
     "output_type": "stream",
     "text": [
      "Device set to use cpu\n",
      "Setting `pad_token_id` to `eos_token_id`:128001 for open-end generation.\n"
     ]
    },
    {
     "name": "stdout",
     "output_type": "stream",
     "text": [
      "\n",
      "🧠 Attempt 2: Executing query...\n",
      "{'question_template': \"Which patient's lab results have surpassed the threshold of §Threshold§\", 'query_template': 'SELECT?substance?result WHERE {?patient a?score:hasLabResult?result.?substance a?score:hasLabResult?result.?result nll?threshold. FILTER (?result <?threshold ) }', 'question_example': \"Which patient's lab results have surpassed the threshold of 4.0\", 'query_example': 'SELECT?substance?result WHERE {?patient a?score:hasLabResult?result.?substance a?score:hasLabResult?result.?result nll?threshold. FILTER (?result <?threshold ) }', 'question_placeholders': [], 'query_placeholders': [],'score': np.float32(345.37808)}\n",
      "\n"
     ]
    },
    {
     "name": "stderr",
     "output_type": "stream",
     "text": [
      "Device set to use cpu\n",
      "Setting `pad_token_id` to `eos_token_id`:128001 for open-end generation.\n",
      "  0%|          | 0/1 [01:01<?, ?it/s]"
     ]
    },
    {
     "name": "stdout",
     "output_type": "stream",
     "text": [
      "\n",
      "🧠 Attempt 3: Executing query...\n",
      "{'question_template': \"Which patient's lab results have surpassed the threshold of §Threshold§\", 'query_template': 'SELECT?substance?result WHERE {?patient a?score:hasLabResult?result.?substance a?score:hasLabResult?result.?result nll?threshold. FILTER (?result <?threshold ) }', 'question_example': \"Which patient's lab results have surpassed the threshold of 4.0\", 'query_example': 'SELECT?substance?result WHERE {?patient a?score:hasLabResult?result.?substance a?score:hasLabResult?result.?result nll?threshold. FILTER (?result <?threshold ) }', 'question_placeholders': [], 'query_placeholders': [],'score': np.float32(345.37808)}\n",
      "\n",
      "❌ Maximum attempts reached. Unable to generate a valid query.\n"
     ]
    },
    {
     "name": "stderr",
     "output_type": "stream",
     "text": [
      "\n"
     ]
    }
   ],
   "source": [
    "data =[]\n",
    "entry = {}\n",
    "entry[\"natural_language_question\"] = \"Which patients have been diagnosed with I521?\"\n",
    "data.append(entry)\n",
    "data_try = run_validated_pipeline(\n",
    "        data\n",
    ")"
   ]
  },
  {
   "cell_type": "code",
   "execution_count": 3,
   "id": "3098caa9",
   "metadata": {},
   "outputs": [
    {
     "data": {
      "text/plain": [
       "[{'natural_language_question': 'How many substances does drug 12305 contain?',\n",
       "  'prompt_examples': \"Question: Which patient's lab results have surpassed the threshold of 4.0\\nQuery template: query template here\\nFilled in query: query example here\\n\",\n",
       "  'found_template': {'question_template': \"Which patient's lab results have surpassed the threshold of §Threshold§\",\n",
       "   'query_template': 'query template here',\n",
       "   'question_example': \"Which patient's lab results have surpassed the threshold of 4.0\",\n",
       "   'query_example': 'query example here',\n",
       "   'question_placeholders': [],\n",
       "   'query_placeholders': [],\n",
       "   'score': np.float32(345.37808)},\n",
       "  'relevant_classes': \"Class IRI: ['https://www.biomedit.ch/rdf/sphn-schema/sphn/Drug', 'https://www.biomedit.ch/rdf/sphn-schema/sphn/Substance']\\nClass IRI: []\",\n",
       "  'validation_time': [5.887825965881348,\n",
       "   23.020970106124878,\n",
       "   6.384398698806763],\n",
       "  'valid_query': False,\n",
       "  'query': '{\\'question_template\\': \"Which patient\\'s lab results have surpassed the threshold of §Threshold§\", \\'query_template\\': \\'SELECT?substance?result WHERE {?patient a?score:hasLabResult?result.?substance a?score:hasLabResult?result.?result nll?threshold. FILTER (?result <?threshold ) }\\', \\'question_example\\': \"Which patient\\'s lab results have surpassed the threshold of 4.0\", \\'query_example\\': \\'SELECT?substance?result WHERE {?patient a?score:hasLabResult?result.?substance a?score:hasLabResult?result.?result nll?threshold. FILTER (?result <?threshold ) }\\', \\'question_placeholders\\': [], \\'query_placeholders\\': [],\\'score\\': np.float32(345.37808)}',\n",
       "  'attempts': 0,\n",
       "  'initial_query_time': 21.538023710250854,\n",
       "  'total_time': 61.44619965553284}]"
      ]
     },
     "execution_count": 3,
     "metadata": {},
     "output_type": "execute_result"
    }
   ],
   "source": [
    "data_try"
   ]
  },
  {
   "cell_type": "code",
   "execution_count": 4,
   "id": "b21faa1e",
   "metadata": {},
   "outputs": [
    {
     "name": "stdout",
     "output_type": "stream",
     "text": [
      "[{'natural_language_question': 'How many substances does drug 12305 contain?', 'prompt_examples': \"Question: Which patient's lab results have surpassed the threshold of 4.0\\nQuery template: query template here\\nFilled in query: query example here\\n\", 'found_template': {'question_template': \"Which patient's lab results have surpassed the threshold of §Threshold§\", 'query_template': 'query template here', 'question_example': \"Which patient's lab results have surpassed the threshold of 4.0\", 'query_example': 'query example here', 'question_placeholders': [], 'query_placeholders': [], 'score': np.float32(345.37808)}, 'relevant_classes': \"Class IRI: ['https://www.biomedit.ch/rdf/sphn-schema/sphn/Drug', 'https://www.biomedit.ch/rdf/sphn-schema/sphn/Substance']\\nClass IRI: []\", 'validation_time': [5.887825965881348, 23.020970106124878, 6.384398698806763], 'valid_query': False, 'query': '{\\'question_template\\': \"Which patient\\'s lab results have surpassed the threshold of §Threshold§\", \\'query_template\\': \\'SELECT?substance?result WHERE {?patient a?score:hasLabResult?result.?substance a?score:hasLabResult?result.?result nll?threshold. FILTER (?result <?threshold ) }\\', \\'question_example\\': \"Which patient\\'s lab results have surpassed the threshold of 4.0\", \\'query_example\\': \\'SELECT?substance?result WHERE {?patient a?score:hasLabResult?result.?substance a?score:hasLabResult?result.?result nll?threshold. FILTER (?result <?threshold ) }\\', \\'question_placeholders\\': [], \\'query_placeholders\\': [],\\'score\\': np.float32(345.37808)}', 'attempts': 0, 'initial_query_time': 21.538023710250854, 'total_time': 61.44619965553284}]\n"
     ]
    }
   ],
   "source": [
    "print(data_try)"
   ]
  }
 ],
 "metadata": {
  "kernelspec": {
   "display_name": "Python 3",
   "language": "python",
   "name": "python3"
  },
  "language_info": {
   "codemirror_mode": {
    "name": "ipython",
    "version": 3
   },
   "file_extension": ".py",
   "mimetype": "text/x-python",
   "name": "python",
   "nbconvert_exporter": "python",
   "pygments_lexer": "ipython3",
   "version": "3.13.3"
  }
 },
 "nbformat": 4,
 "nbformat_minor": 5
}
