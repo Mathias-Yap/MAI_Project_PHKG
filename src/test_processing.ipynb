{
 "cells": [
  {
   "cell_type": "code",
   "execution_count": 26,
   "id": "e814fa30",
   "metadata": {},
   "outputs": [],
   "source": [
    "placeholder_to_entity_dict = {\n",
    "    'DIAGNOSIS': [\"I10\",\"I708\",\"I25110\"],\n",
    "    'THRESHOLD': [\"1.0\",\"2.0\",\"7.0\"],\n",
    "    'DRUG': \"M01AE01\",\n",
    "    'AGE': [\"16\",\"42\",\"66\"],\n",
    "    'SEVERITY': \"Serious\"\n",
    "}"
   ]
  },
  {
   "cell_type": "code",
   "execution_count": null,
   "id": "00a9aedb",
   "metadata": {},
   "outputs": [],
   "source": [
    "from itertools import product\n",
    "import re\n",
    "from typing import Dict, List, Tuple\n",
    "\n",
    "\n",
    "def replace_placeholders(\n",
    "    question_template: str,\n",
    "    query_template: str,\n",
    "    placeholder_to_entity_dict: Dict[str, List[str] | str],\n",
    ") -> List[Tuple[str, str]]:\n",
    "\n",
    "    # Define the regex pattern for the chosen delimiter\n",
    "    question_pattern = r'\\{(.*?)\\}'\n",
    "    query_pattern = r'§(.*?)§'\n",
    "\n",
    "    # Extract placeholders used in question and query\n",
    "    placeholders_query = set(re.findall(query_pattern, query_template))\n",
    "    placeholders_question = set(re.findall(question_pattern,question_template))\n",
    "\n",
    "\n",
    "    placeholders = placeholders_query  # or placeholders_question, since they are equal\n",
    "    # Build replacement lists for each placeholder\n",
    "    replacements = []\n",
    "    keys = []\n",
    "    for key in placeholders:\n",
    "        value = placeholder_to_entity_dict.get(key.upper())\n",
    "        if value is None:\n",
    "            continue  # Skip unknown placeholders\n",
    "        if isinstance(value, list):\n",
    "            replacements.append(value)\n",
    "        else:\n",
    "            replacements.append([value])\n",
    "        keys.append(key)\n",
    "\n",
    "    # Generate all combinations\n",
    "    all_combinations = list(product(*replacements))\n",
    "\n",
    "    results = []\n",
    "    for combo in all_combinations:\n",
    "        question = question_template\n",
    "        query = query_template\n",
    "        for key, val in zip(keys, combo):\n",
    "                question = re.sub(f'{{{key}}}', val,question)\n",
    "                query = re.sub(f'§{key}§', val, query)\n",
    "        results.append((question, query))\n",
    "\n",
    "    return results"
   ]
  },
  {
   "cell_type": "code",
   "execution_count": 23,
   "id": "a1ec25df",
   "metadata": {},
   "outputs": [],
   "source": [
    "import pandas as pd\n",
    "\n",
    "expanded_templates_df = pd.read_csv('/home/mathiasyap/Code/university/phkg/MAI_Project_PHKG/tests/expanded_templates.csv')"
   ]
  },
  {
   "cell_type": "code",
   "execution_count": 24,
   "id": "d1ad3b1c",
   "metadata": {},
   "outputs": [
    {
     "data": {
      "text/plain": [
       "240"
      ]
     },
     "execution_count": 24,
     "metadata": {},
     "output_type": "execute_result"
    }
   ],
   "source": [
    "expanded_templates_df.size"
   ]
  },
  {
   "cell_type": "code",
   "execution_count": 27,
   "id": "99859082",
   "metadata": {},
   "outputs": [
    {
     "data": {
      "text/html": [
       "<div>\n",
       "<style scoped>\n",
       "    .dataframe tbody tr th:only-of-type {\n",
       "        vertical-align: middle;\n",
       "    }\n",
       "\n",
       "    .dataframe tbody tr th {\n",
       "        vertical-align: top;\n",
       "    }\n",
       "\n",
       "    .dataframe thead th {\n",
       "        text-align: right;\n",
       "    }\n",
       "</style>\n",
       "<table border=\"1\" class=\"dataframe\">\n",
       "  <thead>\n",
       "    <tr style=\"text-align: right;\">\n",
       "      <th></th>\n",
       "      <th>question</th>\n",
       "      <th>sparql</th>\n",
       "      <th>question_template</th>\n",
       "      <th>sparql_template</th>\n",
       "    </tr>\n",
       "  </thead>\n",
       "  <tbody>\n",
       "    <tr>\n",
       "      <th>0</th>\n",
       "      <td>What patients have received a diagnosis of I10?</td>\n",
       "      <td>SELECT ?patient WHERE {\\n  ?patient sphn:hasDi...</td>\n",
       "      <td>What patients have received a diagnosis of {Di...</td>\n",
       "      <td>SELECT ?patient WHERE {\\n  ?patient sphn:hasDi...</td>\n",
       "    </tr>\n",
       "    <tr>\n",
       "      <th>1</th>\n",
       "      <td>What patients have received a diagnosis of I708?</td>\n",
       "      <td>SELECT ?patient WHERE {\\n  ?patient sphn:hasDi...</td>\n",
       "      <td>What patients have received a diagnosis of {Di...</td>\n",
       "      <td>SELECT ?patient WHERE {\\n  ?patient sphn:hasDi...</td>\n",
       "    </tr>\n",
       "    <tr>\n",
       "      <th>2</th>\n",
       "      <td>What patients have received a diagnosis of I25...</td>\n",
       "      <td>SELECT ?patient WHERE {\\n  ?patient sphn:hasDi...</td>\n",
       "      <td>What patients have received a diagnosis of {Di...</td>\n",
       "      <td>SELECT ?patient WHERE {\\n  ?patient sphn:hasDi...</td>\n",
       "    </tr>\n",
       "    <tr>\n",
       "      <th>3</th>\n",
       "      <td>Which patients have been identified with I10?</td>\n",
       "      <td>SELECT ?patient WHERE {\\n  ?patient sphn:hasDi...</td>\n",
       "      <td>Which patients have been identified with {Diag...</td>\n",
       "      <td>SELECT ?patient WHERE {\\n  ?patient sphn:hasDi...</td>\n",
       "    </tr>\n",
       "    <tr>\n",
       "      <th>4</th>\n",
       "      <td>Which patients have been identified with I708?</td>\n",
       "      <td>SELECT ?patient WHERE {\\n  ?patient sphn:hasDi...</td>\n",
       "      <td>Which patients have been identified with {Diag...</td>\n",
       "      <td>SELECT ?patient WHERE {\\n  ?patient sphn:hasDi...</td>\n",
       "    </tr>\n",
       "    <tr>\n",
       "      <th>...</th>\n",
       "      <td>...</td>\n",
       "      <td>...</td>\n",
       "      <td>...</td>\n",
       "      <td>...</td>\n",
       "    </tr>\n",
       "    <tr>\n",
       "      <th>265</th>\n",
       "      <td>Which patients have dealt with an adverse even...</td>\n",
       "      <td>SELECT ?patient WHERE {\\n  ?ae &lt;http://www.w3....</td>\n",
       "      <td>Which patients have dealt with an adverse even...</td>\n",
       "      <td>SELECT ?patient WHERE {\\n  ?ae &lt;http://www.w3....</td>\n",
       "    </tr>\n",
       "    <tr>\n",
       "      <th>266</th>\n",
       "      <td>Which patients have experienced an adverse eve...</td>\n",
       "      <td>SELECT ?patient WHERE {\\n  ?ae &lt;http://www.w3....</td>\n",
       "      <td>Which patients have experienced an adverse eve...</td>\n",
       "      <td>SELECT ?patient WHERE {\\n  ?ae &lt;http://www.w3....</td>\n",
       "    </tr>\n",
       "    <tr>\n",
       "      <th>267</th>\n",
       "      <td>Which patients have faced an adverse event tha...</td>\n",
       "      <td>SELECT ?patient WHERE {\\n  ?ae &lt;http://www.w3....</td>\n",
       "      <td>Which patients have faced an adverse event tha...</td>\n",
       "      <td>SELECT ?patient WHERE {\\n  ?ae &lt;http://www.w3....</td>\n",
       "    </tr>\n",
       "    <tr>\n",
       "      <th>268</th>\n",
       "      <td>Which patients have had an adverse event that ...</td>\n",
       "      <td>SELECT ?patient WHERE {\\n  ?ae &lt;http://www.w3....</td>\n",
       "      <td>Which patients have had an adverse event that ...</td>\n",
       "      <td>SELECT ?patient WHERE {\\n  ?ae &lt;http://www.w3....</td>\n",
       "    </tr>\n",
       "    <tr>\n",
       "      <th>269</th>\n",
       "      <td>Which patients have had an adverse event that ...</td>\n",
       "      <td>SELECT ?patient WHERE {\\n  ?ae &lt;http://www.w3....</td>\n",
       "      <td>Which patients have had an adverse event that ...</td>\n",
       "      <td>SELECT ?patient WHERE {\\n  ?ae &lt;http://www.w3....</td>\n",
       "    </tr>\n",
       "  </tbody>\n",
       "</table>\n",
       "<p>270 rows × 4 columns</p>\n",
       "</div>"
      ],
      "text/plain": [
       "                                              question  \\\n",
       "0      What patients have received a diagnosis of I10?   \n",
       "1     What patients have received a diagnosis of I708?   \n",
       "2    What patients have received a diagnosis of I25...   \n",
       "3        Which patients have been identified with I10?   \n",
       "4       Which patients have been identified with I708?   \n",
       "..                                                 ...   \n",
       "265  Which patients have dealt with an adverse even...   \n",
       "266  Which patients have experienced an adverse eve...   \n",
       "267  Which patients have faced an adverse event tha...   \n",
       "268  Which patients have had an adverse event that ...   \n",
       "269  Which patients have had an adverse event that ...   \n",
       "\n",
       "                                                sparql  \\\n",
       "0    SELECT ?patient WHERE {\\n  ?patient sphn:hasDi...   \n",
       "1    SELECT ?patient WHERE {\\n  ?patient sphn:hasDi...   \n",
       "2    SELECT ?patient WHERE {\\n  ?patient sphn:hasDi...   \n",
       "3    SELECT ?patient WHERE {\\n  ?patient sphn:hasDi...   \n",
       "4    SELECT ?patient WHERE {\\n  ?patient sphn:hasDi...   \n",
       "..                                                 ...   \n",
       "265  SELECT ?patient WHERE {\\n  ?ae <http://www.w3....   \n",
       "266  SELECT ?patient WHERE {\\n  ?ae <http://www.w3....   \n",
       "267  SELECT ?patient WHERE {\\n  ?ae <http://www.w3....   \n",
       "268  SELECT ?patient WHERE {\\n  ?ae <http://www.w3....   \n",
       "269  SELECT ?patient WHERE {\\n  ?ae <http://www.w3....   \n",
       "\n",
       "                                     question_template  \\\n",
       "0    What patients have received a diagnosis of {Di...   \n",
       "1    What patients have received a diagnosis of {Di...   \n",
       "2    What patients have received a diagnosis of {Di...   \n",
       "3    Which patients have been identified with {Diag...   \n",
       "4    Which patients have been identified with {Diag...   \n",
       "..                                                 ...   \n",
       "265  Which patients have dealt with an adverse even...   \n",
       "266  Which patients have experienced an adverse eve...   \n",
       "267  Which patients have faced an adverse event tha...   \n",
       "268  Which patients have had an adverse event that ...   \n",
       "269  Which patients have had an adverse event that ...   \n",
       "\n",
       "                                       sparql_template  \n",
       "0    SELECT ?patient WHERE {\\n  ?patient sphn:hasDi...  \n",
       "1    SELECT ?patient WHERE {\\n  ?patient sphn:hasDi...  \n",
       "2    SELECT ?patient WHERE {\\n  ?patient sphn:hasDi...  \n",
       "3    SELECT ?patient WHERE {\\n  ?patient sphn:hasDi...  \n",
       "4    SELECT ?patient WHERE {\\n  ?patient sphn:hasDi...  \n",
       "..                                                 ...  \n",
       "265  SELECT ?patient WHERE {\\n  ?ae <http://www.w3....  \n",
       "266  SELECT ?patient WHERE {\\n  ?ae <http://www.w3....  \n",
       "267  SELECT ?patient WHERE {\\n  ?ae <http://www.w3....  \n",
       "268  SELECT ?patient WHERE {\\n  ?ae <http://www.w3....  \n",
       "269  SELECT ?patient WHERE {\\n  ?ae <http://www.w3....  \n",
       "\n",
       "[270 rows x 4 columns]"
      ]
     },
     "execution_count": 27,
     "metadata": {},
     "output_type": "execute_result"
    }
   ],
   "source": [
    "further_df = expanded_templates_df\n",
    "# Expand each row into multiple rows for each combination of placeholders\n",
    "expanded_rows = []\n",
    "for idx, row in further_df.iterrows():\n",
    "    outcomes = replace_placeholders(row['question_template'], row['sparql_template'], placeholder_to_entity_dict)\n",
    "    for question, sparql in outcomes:\n",
    "        expanded_rows.append({'question': question, 'sparql': sparql})\n",
    "        expanded_rows[-1]['question_template'] = row['question_template']\n",
    "        expanded_rows[-1]['sparql_template'] = row['sparql_template']\n",
    "    \n",
    "# Create a new DataFrame with the expanded results\n",
    "results_df = pd.DataFrame(expanded_rows)\n",
    "results_df"
   ]
  },
  {
   "cell_type": "code",
   "execution_count": 14,
   "id": "a60af7eb",
   "metadata": {},
   "outputs": [
    {
     "data": {
      "text/plain": [
       "1080"
      ]
     },
     "execution_count": 14,
     "metadata": {},
     "output_type": "execute_result"
    }
   ],
   "source": [
    "results_df.size"
   ]
  },
  {
   "cell_type": "code",
   "execution_count": 33,
   "id": "9b31739a",
   "metadata": {},
   "outputs": [
    {
     "data": {
      "text/plain": [
       "'SELECT ?patient WHERE {\\n  ?patient sphn:hasDiagnosis ?diag .\\n  ?diag sphn:hasCode ?code .\\n  ?code sphn:hasValue I10 .\\n}\\n'"
      ]
     },
     "execution_count": 33,
     "metadata": {},
     "output_type": "execute_result"
    }
   ],
   "source": [
    "results_df['sparql'][0]"
   ]
  },
  {
   "cell_type": "code",
   "execution_count": 18,
   "id": "b2ffe614",
   "metadata": {},
   "outputs": [
    {
     "name": "stdout",
     "output_type": "stream",
     "text": [
      "['mdb:latest']\n",
      "['docker-aseprite:latest']\n",
      "['ghcr.io/avantlab/avantgraph:openaire-transport']\n",
      "['ghcr.io/avantlab/avantgraph:openaire-energy']\n",
      "['ghcr.io/avantlab/avantgraph:openaire-neuro']\n",
      "['ghcr.io/avantlab/avantgraph:openaire-cancer']\n",
      "['hello-world:latest']\n",
      "['ghcr.io/avantlab/avantgraph:ckg']\n",
      "['ghcr.io/avantlab/avantgraph:release-2024-01-31']\n"
     ]
    }
   ],
   "source": [
    "from pipeline.query_engine_component import QueryExecutorStep\n",
    "query_executor = QueryExecutorStep(engine_name = \"milleniumDB\", graph_path=\"rdf_400_sphn_augmented_hybrid.nt\"\n",
    ", construct_graph=False)"
   ]
  },
  {
   "cell_type": "code",
   "execution_count": 28,
   "id": "094eeb98",
   "metadata": {},
   "outputs": [
    {
     "name": "stdout",
     "output_type": "stream",
     "text": [
      "Succeeded: 105, Failed: 165\n"
     ]
    }
   ],
   "source": [
    "success_count = 0\n",
    "fail_count = 0\n",
    "\n",
    "def safe_query(q):\n",
    "    global success_count, fail_count\n",
    "    try:\n",
    "        result = query_executor.query(q, path=False)\n",
    "        success_count += 1\n",
    "        return result\n",
    "    except Exception:\n",
    "        fail_count += 1\n",
    "        return None\n",
    "\n",
    "results_df['expected_result'] = results_df['sparql'].apply(safe_query)\n",
    "print(f\"Succeeded: {success_count}, Failed: {fail_count}\")"
   ]
  },
  {
   "cell_type": "code",
   "execution_count": 29,
   "id": "ee7ba208",
   "metadata": {},
   "outputs": [
    {
     "data": {
      "text/plain": [
       "array(['SELECT ?patient WHERE {\\n  ?patient sphn:hasDiagnosis ?diag .\\n  ?diag sphn:hasCode ?code .\\n  ?code sphn:hasValue §Diagnosis§ .\\n}\\n',\n",
       "       'SELECT ?patient WHERE {\\n  ?event sphn:hasSubjectPseudoIdentifier ?patient .\\n  ?event sphn:hasLabResult ?res .\\n  ?res sphn:hasQuantityValue ?val .\\n  FILTER(?val > §Threshold§)\\n}\\n',\n",
       "       'SELECT ?patient WHERE {\\n  ?presc sphn:hasSubjectPseudoIdentifier ?patient .\\n  ?presc sphn:hasDrug ?drug .\\n  ?drug sphn:hasCode ?code .\\n  ?code sphn:hasValue §Drug§\\n}\\n',\n",
       "       'SELECT (COUNT(DISTINCT ?patient) AS ?numPatients) WHERE {\\n  ?patient <https://www.biomedit.ch/rdf/sphn-schema/sphn/hasDiagnosis> ?diag .\\n  ?diag <https://www.biomedit.ch/rdf/sphn-schema/sphn/hasCode> ?code .\\n  ?code <https://www.biomedit.ch/rdf/sphn-schema/sphn/hasCodeValue> §Diagnosis§ .\\n}\\n',\n",
       "       'SELECT ?patient WHERE {\\n  ?presc <https://www.biomedit.ch/rdf/sphn-schema/sphn/hasSubjectPseudoIdentifier> ?patient .\\n  ?presc <https://www.biomedit.ch/rdf/sphn-schema/sphn/hasDrug> ?drug .\\n  ?drug <https://www.biomedit.ch/rdf/sphn-schema/sphn/hasCode> ?code .\\n  ?code <https://www.biomedit.ch/rdf/sphn-schema/sphn/hasCodeValue> §Drug§\\n}\\n'],\n",
       "      dtype=object)"
      ]
     },
     "execution_count": 29,
     "metadata": {},
     "output_type": "execute_result"
    }
   ],
   "source": [
    "unique_templates_with_no_result = results_df[results_df['expected_result'].isna()]['sparql_template'].unique()\n",
    "unique_templates_with_no_result"
   ]
  },
  {
   "cell_type": "code",
   "execution_count": 31,
   "id": "761ddabf",
   "metadata": {},
   "outputs": [
    {
     "data": {
      "text/plain": [
       "array(['SELECT ?patient WHERE {\\n  ?patient <https://www.biomedit.ch/rdf/sphn-schema/sphn/hasBirthDate> ?dob .\\n  BIND(year(NOW()) - year(?dob) AS ?age)\\n  FILTER(?age >= §Age§)\\n}\\n',\n",
       "       'SELECT ?patient WHERE {\\n  ?event <https://www.biomedit.ch/rdf/sphn-schema/sphn/hasSubjectPseudoIdentifier> ?patient .\\n  ?event <https://www.biomedit.ch/rdf/sphn-schema/sphn/hasLabResult> ?res .\\n  ?res <https://www.biomedit.ch/rdf/sphn-schema/sphn/hasQuantityValue> ?val .\\n  FILTER(?val < §Threshold§)\\n}\\n',\n",
       "       'SELECT ?patient WHERE {\\n  ?ae <http://www.w3.org/1999/02/22-rdf-syntax-ns#type>\\n       <https://www.biomedit.ch/rdf/sphn-schema/sphn/AdverseEvent> .\\n  ?ae <https://www.biomedit.ch/rdf/sphn-schema/sphn/hasSubjectPseudoIdentifier> ?patient .\\n  ?ae <https://www.biomedit.ch/rdf/sphn-schema/sphn/hasSeverity> ?sev .\\n  FILTER(?sev IN (\"§Severity§\"))\\n}\\n'],\n",
       "      dtype=object)"
      ]
     },
     "execution_count": 31,
     "metadata": {},
     "output_type": "execute_result"
    }
   ],
   "source": [
    "\n",
    "unique_templates_with_result = results_df[results_df['expected_result'].notna()]['sparql_template'].unique()\n",
    "unique_templates_with_result"
   ]
  },
  {
   "cell_type": "code",
   "execution_count": 20,
   "id": "d8de5d15",
   "metadata": {},
   "outputs": [
    {
     "data": {
      "text/html": [
       "<div>\n",
       "<style scoped>\n",
       "    .dataframe tbody tr th:only-of-type {\n",
       "        vertical-align: middle;\n",
       "    }\n",
       "\n",
       "    .dataframe tbody tr th {\n",
       "        vertical-align: top;\n",
       "    }\n",
       "\n",
       "    .dataframe thead th {\n",
       "        text-align: right;\n",
       "    }\n",
       "</style>\n",
       "<table border=\"1\" class=\"dataframe\">\n",
       "  <thead>\n",
       "    <tr style=\"text-align: right;\">\n",
       "      <th></th>\n",
       "      <th>question</th>\n",
       "      <th>sparql</th>\n",
       "      <th>question_template</th>\n",
       "      <th>sparql_template</th>\n",
       "      <th>expected_result</th>\n",
       "    </tr>\n",
       "  </thead>\n",
       "  <tbody>\n",
       "    <tr>\n",
       "      <th>0</th>\n",
       "      <td>What patients have received a diagnosis of I10?</td>\n",
       "      <td>SELECT ?patient WHERE {\\n  ?patient sphn:hasDi...</td>\n",
       "      <td>What patients have received a diagnosis of {Di...</td>\n",
       "      <td>SELECT ?patient WHERE {\\n  ?patient sphn:hasDi...</td>\n",
       "      <td>None</td>\n",
       "    </tr>\n",
       "    <tr>\n",
       "      <th>1</th>\n",
       "      <td>What patients have received a diagnosis of I708?</td>\n",
       "      <td>SELECT ?patient WHERE {\\n  ?patient sphn:hasDi...</td>\n",
       "      <td>What patients have received a diagnosis of {Di...</td>\n",
       "      <td>SELECT ?patient WHERE {\\n  ?patient sphn:hasDi...</td>\n",
       "      <td>None</td>\n",
       "    </tr>\n",
       "    <tr>\n",
       "      <th>2</th>\n",
       "      <td>What patients have received a diagnosis of I25...</td>\n",
       "      <td>SELECT ?patient WHERE {\\n  ?patient sphn:hasDi...</td>\n",
       "      <td>What patients have received a diagnosis of {Di...</td>\n",
       "      <td>SELECT ?patient WHERE {\\n  ?patient sphn:hasDi...</td>\n",
       "      <td>None</td>\n",
       "    </tr>\n",
       "    <tr>\n",
       "      <th>3</th>\n",
       "      <td>Which patients have been identified with I10?</td>\n",
       "      <td>SELECT ?patient WHERE {\\n  ?patient sphn:hasDi...</td>\n",
       "      <td>Which patients have been identified with {Diag...</td>\n",
       "      <td>SELECT ?patient WHERE {\\n  ?patient sphn:hasDi...</td>\n",
       "      <td>None</td>\n",
       "    </tr>\n",
       "    <tr>\n",
       "      <th>4</th>\n",
       "      <td>Which patients have been identified with I708?</td>\n",
       "      <td>SELECT ?patient WHERE {\\n  ?patient sphn:hasDi...</td>\n",
       "      <td>Which patients have been identified with {Diag...</td>\n",
       "      <td>SELECT ?patient WHERE {\\n  ?patient sphn:hasDi...</td>\n",
       "      <td>None</td>\n",
       "    </tr>\n",
       "    <tr>\n",
       "      <th>...</th>\n",
       "      <td>...</td>\n",
       "      <td>...</td>\n",
       "      <td>...</td>\n",
       "      <td>...</td>\n",
       "      <td>...</td>\n",
       "    </tr>\n",
       "    <tr>\n",
       "      <th>265</th>\n",
       "      <td>Which patients have dealt with an adverse even...</td>\n",
       "      <td>SELECT ?patient WHERE {\\n  ?ae &lt;http://www.w3....</td>\n",
       "      <td>Which patients have dealt with an adverse even...</td>\n",
       "      <td>SELECT ?patient WHERE {\\n  ?ae &lt;http://www.w3....</td>\n",
       "      <td>[{'patient': http://kg-representation-ehr.org/...</td>\n",
       "    </tr>\n",
       "    <tr>\n",
       "      <th>266</th>\n",
       "      <td>Which patients have experienced an adverse eve...</td>\n",
       "      <td>SELECT ?patient WHERE {\\n  ?ae &lt;http://www.w3....</td>\n",
       "      <td>Which patients have experienced an adverse eve...</td>\n",
       "      <td>SELECT ?patient WHERE {\\n  ?ae &lt;http://www.w3....</td>\n",
       "      <td>[{'patient': http://kg-representation-ehr.org/...</td>\n",
       "    </tr>\n",
       "    <tr>\n",
       "      <th>267</th>\n",
       "      <td>Which patients have faced an adverse event tha...</td>\n",
       "      <td>SELECT ?patient WHERE {\\n  ?ae &lt;http://www.w3....</td>\n",
       "      <td>Which patients have faced an adverse event tha...</td>\n",
       "      <td>SELECT ?patient WHERE {\\n  ?ae &lt;http://www.w3....</td>\n",
       "      <td>[{'patient': http://kg-representation-ehr.org/...</td>\n",
       "    </tr>\n",
       "    <tr>\n",
       "      <th>268</th>\n",
       "      <td>Which patients have had an adverse event that ...</td>\n",
       "      <td>SELECT ?patient WHERE {\\n  ?ae &lt;http://www.w3....</td>\n",
       "      <td>Which patients have had an adverse event that ...</td>\n",
       "      <td>SELECT ?patient WHERE {\\n  ?ae &lt;http://www.w3....</td>\n",
       "      <td>[{'patient': http://kg-representation-ehr.org/...</td>\n",
       "    </tr>\n",
       "    <tr>\n",
       "      <th>269</th>\n",
       "      <td>Which patients have had an adverse event that ...</td>\n",
       "      <td>SELECT ?patient WHERE {\\n  ?ae &lt;http://www.w3....</td>\n",
       "      <td>Which patients have had an adverse event that ...</td>\n",
       "      <td>SELECT ?patient WHERE {\\n  ?ae &lt;http://www.w3....</td>\n",
       "      <td>[{'patient': http://kg-representation-ehr.org/...</td>\n",
       "    </tr>\n",
       "  </tbody>\n",
       "</table>\n",
       "<p>270 rows × 5 columns</p>\n",
       "</div>"
      ],
      "text/plain": [
       "                                              question  \\\n",
       "0      What patients have received a diagnosis of I10?   \n",
       "1     What patients have received a diagnosis of I708?   \n",
       "2    What patients have received a diagnosis of I25...   \n",
       "3        Which patients have been identified with I10?   \n",
       "4       Which patients have been identified with I708?   \n",
       "..                                                 ...   \n",
       "265  Which patients have dealt with an adverse even...   \n",
       "266  Which patients have experienced an adverse eve...   \n",
       "267  Which patients have faced an adverse event tha...   \n",
       "268  Which patients have had an adverse event that ...   \n",
       "269  Which patients have had an adverse event that ...   \n",
       "\n",
       "                                                sparql  \\\n",
       "0    SELECT ?patient WHERE {\\n  ?patient sphn:hasDi...   \n",
       "1    SELECT ?patient WHERE {\\n  ?patient sphn:hasDi...   \n",
       "2    SELECT ?patient WHERE {\\n  ?patient sphn:hasDi...   \n",
       "3    SELECT ?patient WHERE {\\n  ?patient sphn:hasDi...   \n",
       "4    SELECT ?patient WHERE {\\n  ?patient sphn:hasDi...   \n",
       "..                                                 ...   \n",
       "265  SELECT ?patient WHERE {\\n  ?ae <http://www.w3....   \n",
       "266  SELECT ?patient WHERE {\\n  ?ae <http://www.w3....   \n",
       "267  SELECT ?patient WHERE {\\n  ?ae <http://www.w3....   \n",
       "268  SELECT ?patient WHERE {\\n  ?ae <http://www.w3....   \n",
       "269  SELECT ?patient WHERE {\\n  ?ae <http://www.w3....   \n",
       "\n",
       "                                     question_template  \\\n",
       "0    What patients have received a diagnosis of {Di...   \n",
       "1    What patients have received a diagnosis of {Di...   \n",
       "2    What patients have received a diagnosis of {Di...   \n",
       "3    Which patients have been identified with {Diag...   \n",
       "4    Which patients have been identified with {Diag...   \n",
       "..                                                 ...   \n",
       "265  Which patients have dealt with an adverse even...   \n",
       "266  Which patients have experienced an adverse eve...   \n",
       "267  Which patients have faced an adverse event tha...   \n",
       "268  Which patients have had an adverse event that ...   \n",
       "269  Which patients have had an adverse event that ...   \n",
       "\n",
       "                                       sparql_template  \\\n",
       "0    SELECT ?patient WHERE {\\n  ?patient sphn:hasDi...   \n",
       "1    SELECT ?patient WHERE {\\n  ?patient sphn:hasDi...   \n",
       "2    SELECT ?patient WHERE {\\n  ?patient sphn:hasDi...   \n",
       "3    SELECT ?patient WHERE {\\n  ?patient sphn:hasDi...   \n",
       "4    SELECT ?patient WHERE {\\n  ?patient sphn:hasDi...   \n",
       "..                                                 ...   \n",
       "265  SELECT ?patient WHERE {\\n  ?ae <http://www.w3....   \n",
       "266  SELECT ?patient WHERE {\\n  ?ae <http://www.w3....   \n",
       "267  SELECT ?patient WHERE {\\n  ?ae <http://www.w3....   \n",
       "268  SELECT ?patient WHERE {\\n  ?ae <http://www.w3....   \n",
       "269  SELECT ?patient WHERE {\\n  ?ae <http://www.w3....   \n",
       "\n",
       "                                       expected_result  \n",
       "0                                                 None  \n",
       "1                                                 None  \n",
       "2                                                 None  \n",
       "3                                                 None  \n",
       "4                                                 None  \n",
       "..                                                 ...  \n",
       "265  [{'patient': http://kg-representation-ehr.org/...  \n",
       "266  [{'patient': http://kg-representation-ehr.org/...  \n",
       "267  [{'patient': http://kg-representation-ehr.org/...  \n",
       "268  [{'patient': http://kg-representation-ehr.org/...  \n",
       "269  [{'patient': http://kg-representation-ehr.org/...  \n",
       "\n",
       "[270 rows x 5 columns]"
      ]
     },
     "execution_count": 20,
     "metadata": {},
     "output_type": "execute_result"
    }
   ],
   "source": [
    "results_df"
   ]
  },
  {
   "cell_type": "code",
   "execution_count": null,
   "id": "efce9729",
   "metadata": {},
   "outputs": [
    {
     "ename": "NameError",
     "evalue": "name 'results' is not defined",
     "output_type": "error",
     "traceback": [
      "\u001b[31m---------------------------------------------------------------------------\u001b[39m",
      "\u001b[31mNameError\u001b[39m                                 Traceback (most recent call last)",
      "\u001b[36mCell\u001b[39m\u001b[36m \u001b[39m\u001b[32mIn[17]\u001b[39m\u001b[32m, line 1\u001b[39m\n\u001b[32m----> \u001b[39m\u001b[32m1\u001b[39m \u001b[38;5;28mtype\u001b[39m(\u001b[43mresults\u001b[49m)\n",
      "\u001b[31mNameError\u001b[39m: name 'results' is not defined"
     ]
    }
   ],
   "source": [
    "type(results)"
   ]
  }
 ],
 "metadata": {
  "kernelspec": {
   "display_name": "Python 3",
   "language": "python",
   "name": "python3"
  },
  "language_info": {
   "codemirror_mode": {
    "name": "ipython",
    "version": 3
   },
   "file_extension": ".py",
   "mimetype": "text/x-python",
   "name": "python",
   "nbconvert_exporter": "python",
   "pygments_lexer": "ipython3",
   "version": "3.13.3"
  }
 },
 "nbformat": 4,
 "nbformat_minor": 5
}
