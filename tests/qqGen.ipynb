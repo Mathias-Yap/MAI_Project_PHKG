{
 "cells": [
  {
   "cell_type": "markdown",
   "id": "5e2595fe",
   "metadata": {},
   "source": [
    "# Set up"
   ]
  },
  {
   "cell_type": "code",
   "execution_count": 331,
   "id": "c6667743",
   "metadata": {},
   "outputs": [
    {
     "name": "stdout",
     "output_type": "stream",
     "text": [
      "Requirement already satisfied: rdflib in c:\\users\\chand\\appdata\\local\\programs\\python\\python311\\lib\\site-packages (7.1.4)\n",
      "Requirement already satisfied: pyparsing<4,>=2.1.0 in c:\\users\\chand\\appdata\\local\\programs\\python\\python311\\lib\\site-packages (from rdflib) (3.2.3)\n",
      "Note: you may need to restart the kernel to use updated packages.\n"
     ]
    },
    {
     "name": "stderr",
     "output_type": "stream",
     "text": [
      "\n",
      "[notice] A new release of pip available: 22.3 -> 25.1.1\n",
      "[notice] To update, run: python.exe -m pip install --upgrade pip\n"
     ]
    },
    {
     "name": "stdout",
     "output_type": "stream",
     "text": [
      "Requirement already satisfied: pyyaml in c:\\users\\chand\\appdata\\local\\programs\\python\\python311\\lib\\site-packages (6.0.2)\n",
      "Note: you may need to restart the kernel to use updated packages.\n"
     ]
    },
    {
     "name": "stderr",
     "output_type": "stream",
     "text": [
      "\n",
      "[notice] A new release of pip available: 22.3 -> 25.1.1\n",
      "[notice] To update, run: python.exe -m pip install --upgrade pip\n"
     ]
    }
   ],
   "source": [
    "%pip install rdflib\n",
    "%pip install pyyaml"
   ]
  },
  {
   "cell_type": "code",
   "execution_count": 372,
   "id": "0e3f08ba",
   "metadata": {},
   "outputs": [
    {
     "name": "stdout",
     "output_type": "stream",
     "text": [
      "Loaded 145196 triples.\n"
     ]
    }
   ],
   "source": [
    "from rdflib import Graph, URIRef\n",
    "import os\n",
    "\n",
    "data_folder = \"Data\"\n",
    "g = Graph()\n",
    "g.parse(\"Data/rdf_400_sphn_augmented_hybrid.ttl\", format=\"turtle\")\n",
    "#g.parse(\"Data/rdf_300_sphn.txt\", format=\"turtle\")\n",
    "#g.parse(\"Data/rdf_400_sphn.txt\", format=\"turtle\")\n",
    "print(f\"Loaded {len(g)} triples.\")"
   ]
  },
  {
   "cell_type": "markdown",
   "id": "2d331ae6",
   "metadata": {},
   "source": [
    "# Chat GPT Generation"
   ]
  },
  {
   "cell_type": "code",
   "execution_count": 60,
   "id": "0b8094ac",
   "metadata": {},
   "outputs": [
    {
     "name": "stdout",
     "output_type": "stream",
     "text": [
      "Requirement already satisfied: openai in c:\\users\\chand\\appdata\\local\\programs\\python\\python311\\lib\\site-packages (1.84.0)\n",
      "Requirement already satisfied: anyio<5,>=3.5.0 in c:\\users\\chand\\appdata\\local\\programs\\python\\python311\\lib\\site-packages (from openai) (4.9.0)\n",
      "Requirement already satisfied: distro<2,>=1.7.0 in c:\\users\\chand\\appdata\\local\\programs\\python\\python311\\lib\\site-packages (from openai) (1.9.0)\n",
      "Requirement already satisfied: httpx<1,>=0.23.0 in c:\\users\\chand\\appdata\\local\\programs\\python\\python311\\lib\\site-packages (from openai) (0.28.1)\n",
      "Requirement already satisfied: jiter<1,>=0.4.0 in c:\\users\\chand\\appdata\\local\\programs\\python\\python311\\lib\\site-packages (from openai) (0.10.0)\n",
      "Requirement already satisfied: pydantic<3,>=1.9.0 in c:\\users\\chand\\appdata\\local\\programs\\python\\python311\\lib\\site-packages (from openai) (2.11.5)\n",
      "Requirement already satisfied: sniffio in c:\\users\\chand\\appdata\\local\\programs\\python\\python311\\lib\\site-packages (from openai) (1.3.1)\n",
      "Requirement already satisfied: tqdm>4 in c:\\users\\chand\\appdata\\local\\programs\\python\\python311\\lib\\site-packages (from openai) (4.67.1)\n",
      "Requirement already satisfied: typing-extensions<5,>=4.11 in c:\\users\\chand\\appdata\\roaming\\python\\python311\\site-packages (from openai) (4.13.2)\n",
      "Requirement already satisfied: idna>=2.8 in c:\\users\\chand\\appdata\\local\\programs\\python\\python311\\lib\\site-packages (from anyio<5,>=3.5.0->openai) (3.10)\n",
      "Requirement already satisfied: certifi in c:\\users\\chand\\appdata\\local\\programs\\python\\python311\\lib\\site-packages (from httpx<1,>=0.23.0->openai) (2025.4.26)\n",
      "Requirement already satisfied: httpcore==1.* in c:\\users\\chand\\appdata\\local\\programs\\python\\python311\\lib\\site-packages (from httpx<1,>=0.23.0->openai) (1.0.9)\n",
      "Requirement already satisfied: h11>=0.16 in c:\\users\\chand\\appdata\\local\\programs\\python\\python311\\lib\\site-packages (from httpcore==1.*->httpx<1,>=0.23.0->openai) (0.16.0)\n",
      "Requirement already satisfied: annotated-types>=0.6.0 in c:\\users\\chand\\appdata\\local\\programs\\python\\python311\\lib\\site-packages (from pydantic<3,>=1.9.0->openai) (0.7.0)\n",
      "Requirement already satisfied: pydantic-core==2.33.2 in c:\\users\\chand\\appdata\\local\\programs\\python\\python311\\lib\\site-packages (from pydantic<3,>=1.9.0->openai) (2.33.2)\n",
      "Requirement already satisfied: typing-inspection>=0.4.0 in c:\\users\\chand\\appdata\\local\\programs\\python\\python311\\lib\\site-packages (from pydantic<3,>=1.9.0->openai) (0.4.1)\n",
      "Requirement already satisfied: colorama in c:\\users\\chand\\appdata\\roaming\\python\\python311\\site-packages (from tqdm>4->openai) (0.4.6)\n",
      "Note: you may need to restart the kernel to use updated packages.\n"
     ]
    },
    {
     "name": "stderr",
     "output_type": "stream",
     "text": [
      "\n",
      "[notice] A new release of pip available: 22.3 -> 25.1.1\n",
      "[notice] To update, run: python.exe -m pip install --upgrade pip\n"
     ]
    },
    {
     "name": "stdout",
     "output_type": "stream",
     "text": [
      "Collecting python-dotenv\n",
      "  Downloading python_dotenv-1.1.0-py3-none-any.whl (20 kB)\n",
      "Installing collected packages: python-dotenv\n",
      "Successfully installed python-dotenv-1.1.0\n",
      "Note: you may need to restart the kernel to use updated packages.\n"
     ]
    },
    {
     "name": "stderr",
     "output_type": "stream",
     "text": [
      "  WARNING: The script dotenv.exe is installed in 'c:\\Users\\chand\\AppData\\Local\\Programs\\Python\\Python311\\Scripts' which is not on PATH.\n",
      "  Consider adding this directory to PATH or, if you prefer to suppress this warning, use --no-warn-script-location.\n",
      "\n",
      "[notice] A new release of pip available: 22.3 -> 25.1.1\n",
      "[notice] To update, run: python.exe -m pip install --upgrade pip\n"
     ]
    }
   ],
   "source": [
    "%pip install openai\n",
    "%pip install python-dotenv"
   ]
  },
  {
   "cell_type": "code",
   "execution_count": 95,
   "id": "0c74922a",
   "metadata": {},
   "outputs": [
    {
     "name": "stdout",
     "output_type": "stream",
     "text": [
      "\n",
      "✅ Response saved to output.txt\n"
     ]
    }
   ],
   "source": [
    "from openai import OpenAI\n",
    "from dotenv import load_dotenv\n",
    "\n",
    "# Load API key from .env file\n",
    "load_dotenv(dotenv_path=\"Data/.env\")\n",
    "client = OpenAI()\n",
    "\n",
    "# Read prompt from file\n",
    "with open(\"Data/prompt.txt\", \"r\") as file:\n",
    "    prompt_text = file.read()\n",
    "\n",
    "# Read graph text data\n",
    "with open(\"Data/ontology.ttl\", \"r\") as f:\n",
    "    graph_data = f.read()\n",
    "\n",
    "# Combine both into a full prompt\n",
    "full_prompt = f\"{prompt_text}\\n\\n{graph_data}\"\n",
    "\n",
    "\n",
    "# Query OpenAI\n",
    "response = client.chat.completions.create(\n",
    "    model=\"gpt-4\",\n",
    "    messages=[\n",
    "        {\"role\": \"user\", \"content\": full_prompt}\n",
    "    ]\n",
    ")\n",
    "\n",
    "generated_response = response.choices[0].message.content\n",
    "\n",
    "# Save to file\n",
    "with open(\"Data/output.txt\", \"w\", encoding=\"utf-8\") as out_file:\n",
    "    out_file.write(generated_response)\n",
    "\n",
    "print(\"\\n✅ Response saved to output.txt\")"
   ]
  },
  {
   "cell_type": "code",
   "execution_count": null,
   "id": "62c4ce5c",
   "metadata": {},
   "outputs": [],
   "source": [
    "from openai import OpenAI\n",
    "from dotenv import load_dotenv\n",
    "import os\n",
    "\n",
    "load_dotenv(dotenv_path=\"Data/.env\")\n",
    "client = OpenAI()\n",
    "\n",
    "try:\n",
    "    models = client.models.list()\n",
    "    print(\"✅ API key is valid. Available models:\")\n",
    "    for m in models.data:\n",
    "        print(m.id)\n",
    "except Exception as e:\n",
    "    print(\"❌ Error:\", e)"
   ]
  },
  {
   "cell_type": "code",
   "execution_count": 373,
   "id": "17fe3186",
   "metadata": {},
   "outputs": [
    {
     "name": "stdout",
     "output_type": "stream",
     "text": [
      "✅ Updated content saved to output.txt\n"
     ]
    }
   ],
   "source": [
    "output_file = \"Data/output.txt\"\n",
    "\n",
    "if os.path.exists(output_file):\n",
    "    with open(output_file, \"r\", encoding=\"utf-8\") as file:\n",
    "        content = file.read()\n",
    "\n",
    "    # Replace all instances of X or Y with {X} and {Y}\n",
    "    updated_content = content.replace(\"{X}\", \"X\").replace(\"{Y}\", \"Y\")\n",
    "\n",
    "    # Save the updated content back to the file\n",
    "    with open(output_file, \"w\", encoding=\"utf-8\") as file:\n",
    "        file.write(updated_content)\n",
    "\n",
    "    print(\"✅ Updated content saved to output.txt\")\n",
    "else:\n",
    "    print(\"❌ File not found.\")"
   ]
  },
  {
   "cell_type": "markdown",
   "id": "d7b0e81e",
   "metadata": {},
   "source": [
    "# Moving from txt to yaml"
   ]
  },
  {
   "cell_type": "code",
   "execution_count": 414,
   "id": "0210c323",
   "metadata": {},
   "outputs": [
    {
     "name": "stdout",
     "output_type": "stream",
     "text": [
      "Loaded 17 question-query pairs.\n"
     ]
    }
   ],
   "source": [
    "import os\n",
    "\n",
    "output_file = \"Data/queries.txt\"\n",
    "\n",
    "question_query_pairs = []\n",
    "\n",
    "if os.path.exists(output_file):\n",
    "    with open(output_file, \"r\", encoding=\"utf-8\") as file:\n",
    "        lines = file.readlines()\n",
    "        for line in lines:\n",
    "            if line.strip():  # Skip empty lines\n",
    "                updated_line = \" \".join(line.split()[1:])\n",
    "                question_query_pairs.append(updated_line)\n",
    "list1 = question_query_pairs[::2]  # Elements at even indices\n",
    "list2 = question_query_pairs[1::2]  # Elements at odd indices\n",
    "\n",
    "# Combine the two lists into one list of tuples\n",
    "combined_list = list(zip(list1, list2))\n",
    "\n",
    "print(f\"Loaded {len(combined_list)} question-query pairs.\")"
   ]
  },
  {
   "cell_type": "code",
   "execution_count": 415,
   "id": "77838e76",
   "metadata": {},
   "outputs": [],
   "source": [
    "updated_question_query_pairs = []\n",
    "\n",
    "for question, query in combined_list:\n",
    "    # Remove the first token from the question\n",
    "    updated_question = \" \".join(question.split()[1:])\n",
    "    updated_question_query_pairs.append((updated_question, query))\n",
    "\n",
    "# Print the updated pairs\n",
    "# for q, a in updated_question_query_pairs[:20]:  # Display the first 10 updated pairs\n",
    "#     print(\"Updated Question:\", q)\n",
    "#     print(\"SPARQL Query:\", a)"
   ]
  },
  {
   "cell_type": "code",
   "execution_count": 416,
   "id": "c067f301",
   "metadata": {},
   "outputs": [
    {
     "name": "stdout",
     "output_type": "stream",
     "text": [
      "YAML file 'question_query_templates.yaml' created successfully.\n"
     ]
    }
   ],
   "source": [
    "import yaml\n",
    "\n",
    "output_yaml = \"question_query_templates.yaml\"\n",
    "\n",
    "# Consolidating data\n",
    "data_to_write = [{\"Question\": q, \"Query\": a} for q, a in combined_list]\n",
    "\n",
    "with open(output_yaml, mode=\"w\", encoding=\"utf-8\") as file:\n",
    "    yaml.dump(data_to_write, file, default_flow_style=False, allow_unicode=True)\n",
    "\n",
    "print(f\"YAML file '{output_yaml}' created successfully.\")"
   ]
  },
  {
   "cell_type": "markdown",
   "id": "59c67516",
   "metadata": {},
   "source": [
    "# Generating qqpairs from the templates"
   ]
  },
  {
   "cell_type": "code",
   "execution_count": 423,
   "id": "b4a58dfb",
   "metadata": {},
   "outputs": [],
   "source": [
    "#Loading instances of specific classes based on the questions asked.\n",
    "diagnosis_code_instances = set()\n",
    "for s, p, o in g.triples((None, URIRef('http://www.w3.org/1999/02/22-rdf-syntax-ns#type'), URIRef('https://www.biomedit.ch/rdf/sphn-schema/sphn/Diagnosis'))):\n",
    "    for _, code_predicate, code in g.triples((s, URIRef('https://www.biomedit.ch/rdf/sphn-schema/sphn/hasCode'), None)):\n",
    "        for _, code_predicate, code in g.triples((code, URIRef('https://www.biomedit.ch/rdf/sphn-schema/sphn/hasCodeValue'), None)):                        \n",
    "            diagnosis_code_instances.add(str(code))\n",
    "            # print(diagnosis_code_instances)"
   ]
  },
  {
   "cell_type": "code",
   "execution_count": null,
   "id": "4e6d2ef1",
   "metadata": {},
   "outputs": [
    {
     "name": "stdout",
     "output_type": "stream",
     "text": [
      "Found 1 drug code instances.\n",
      "{'M01AE01'}\n"
     ]
    }
   ],
   "source": [
    "drug_code_instances = set()\n",
    "for s, p, o in g.triples((None, URIRef('http://www.w3.org/1999/02/22-rdf-syntax-ns#type'), URIRef('https://www.biomedit.ch/rdf/sphn-schema/sphn/DrugPrescription'))):\n",
    "    # For each DrugPrescription, find the associated drug codes\n",
    "    for _, code_predicate, code in g.triples((s, URIRef('https://www.biomedit.ch/rdf/sphn-schema/sphn/hasDrug'), None)):\n",
    "        for _, code_predicate, code in g.triples((code, URIRef('https://www.biomedit.ch/rdf/sphn-schema/sphn/hasCode'), None)):\n",
    "            for _, code_predicate, code in g.triples((code, URIRef('https://www.biomedit.ch/rdf/sphn-schema/sphn/hasCodeValue'), None)):\n",
    "                drug_code_instances.add(str(code))\n",
    "\n",
    "print(f\"Found {len(drug_code_instances)} drug code instances.\")\n",
    "print(drug_code_instances)"
   ]
  },
  {
   "cell_type": "code",
   "execution_count": 380,
   "id": "8ab1f96e",
   "metadata": {},
   "outputs": [
    {
     "name": "stdout",
     "output_type": "stream",
     "text": [
      "Found 1652 substance code instances.\n",
      "{'https://www.biomedit.ch/rdf/sphn-schema/sphn/ndc#17478081725', 'https://www.biomedit.ch/rdf/sphn-schema/sphn/ndc#703398601', 'https://www.biomedit.ch/rdf/sphn-schema/sphn/ndc#68084076201', 'https://www.biomedit.ch/rdf/sphn-schema/sphn/ndc#904658304', 'https://www.biomedit.ch/rdf/sphn-schema/sphn/ndc#93414664', 'https://www.biomedit.ch/rdf/sphn-schema/sphn/ndc#58914017110', 'https://www.biomedit.ch/rdf/sphn-schema/sphn/ndc#70860045110', 'https://www.biomedit.ch/rdf/sphn-schema/sphn/ndc#43547040610', 'https://www.biomedit.ch/rdf/sphn-schema/sphn/ndc#43598044674', 'https://www.biomedit.ch/rdf/sphn-schema/sphn/ndc#42023017204', 'https://www.biomedit.ch/rdf/sphn-schema/sphn/ndc#42023014625', 'https://www.biomedit.ch/rdf/sphn-schema/sphn/ndc#378580793', 'https://www.biomedit.ch/rdf/sphn-schema/sphn/ndc#168005546', 'https://www.biomedit.ch/rdf/sphn-schema/sphn/ndc#3089331', 'https://www.biomedit.ch/rdf/sphn-schema/sphn/ndc#904679761', 'https://www.biomedit.ch/rdf/sphn-schema/sphn/ndc#641613525', 'https://www.biomedit.ch/rdf/sphn-schema/sphn/ndc#703115303', 'https://www.biomedit.ch/rdf/sphn-schema/sphn/ndc#641614225', 'https://www.biomedit.ch/rdf/sphn-schema/sphn/ndc#70860077602', 'https://www.biomedit.ch/rdf/sphn-schema/sphn/ndc#409665106', 'https://www.biomedit.ch/rdf/sphn-schema/sphn/ndc#904640506', 'https://www.biomedit.ch/rdf/sphn-schema/sphn/ndc#25021020110', 'https://www.biomedit.ch/rdf/sphn-schema/sphn/ndc#60687038194', 'https://www.biomedit.ch/rdf/sphn-schema/sphn/ndc#51079020520', 'https://www.biomedit.ch/rdf/sphn-schema/sphn/ndc#409427501', 'https://www.biomedit.ch/rdf/sphn-schema/sphn/ndc#50383072017', 'https://www.biomedit.ch/rdf/sphn-schema/sphn/ndc#574709012', 'https://www.biomedit.ch/rdf/sphn-schema/sphn/ndc#43825010201', 'https://www.biomedit.ch/rdf/sphn-schema/sphn/ndc#51079007520', 'https://www.biomedit.ch/rdf/sphn-schema/sphn/ndc#904635261', 'https://www.biomedit.ch/rdf/sphn-schema/sphn/ndc#338001731', 'https://www.biomedit.ch/rdf/sphn-schema/sphn/ndc#61553019648', 'https://www.biomedit.ch/rdf/sphn-schema/sphn/ndc#43598044874', 'https://www.biomedit.ch/rdf/sphn-schema/sphn/ndc#904516561', 'https://www.biomedit.ch/rdf/sphn-schema/sphn/ndc#50268085415', 'https://www.biomedit.ch/rdf/sphn-schema/sphn/ndc#68084006901', 'https://www.biomedit.ch/rdf/sphn-schema/sphn/ndc#17478006235', 'https://www.biomedit.ch/rdf/sphn-schema/sphn/ndc#69452024120', 'https://www.biomedit.ch/rdf/sphn-schema/sphn/ndc#51079045020', 'https://www.biomedit.ch/rdf/sphn-schema/sphn/ndc#68084003101', 'https://www.biomedit.ch/rdf/sphn-schema/sphn/ndc#63323096520', 'https://www.biomedit.ch/rdf/sphn-schema/sphn/ndc#904693961', 'https://www.biomedit.ch/rdf/sphn-schema/sphn/ndc#904629261', 'https://www.biomedit.ch/rdf/sphn-schema/sphn/ndc#904677861', 'https://www.biomedit.ch/rdf/sphn-schema/sphn/ndc#591014987', 'https://www.biomedit.ch/rdf/sphn-schema/sphn/ndc#338002304', 'https://www.biomedit.ch/rdf/sphn-schema/sphn/ndc#591257920', 'https://www.biomedit.ch/rdf/sphn-schema/sphn/ndc#50268059415', 'https://www.biomedit.ch/rdf/sphn-schema/sphn/ndc#904647461', 'https://www.biomedit.ch/rdf/sphn-schema/sphn/ndc#51079098520', 'https://www.biomedit.ch/rdf/sphn-schema/sphn/ndc#904605161', 'https://www.biomedit.ch/rdf/sphn-schema/sphn/ndc#51079078720', 'https://www.biomedit.ch/rdf/sphn-schema/sphn/ndc#69130710', 'https://www.biomedit.ch/rdf/sphn-schema/sphn/ndc#641037625', 'https://www.biomedit.ch/rdf/sphn-schema/sphn/ndc#59011041020', 'https://www.biomedit.ch/rdf/sphn-schema/sphn/ndc#51079010320', 'https://www.biomedit.ch/rdf/sphn-schema/sphn/ndc#51079096620', 'https://www.biomedit.ch/rdf/sphn-schema/sphn/ndc#19515081841', 'https://www.biomedit.ch/rdf/sphn-schema/sphn/ndc#44567023610', 'https://www.biomedit.ch/rdf/sphn-schema/sphn/ndc#74455211', 'https://www.biomedit.ch/rdf/sphn-schema/sphn/ndc#69238149101', 'https://www.biomedit.ch/rdf/sphn-schema/sphn/ndc#31722090301', 'https://www.biomedit.ch/rdf/sphn-schema/sphn/ndc#68084078301', 'https://www.biomedit.ch/rdf/sphn-schema/sphn/ndc#25021040030', 'https://www.biomedit.ch/rdf/sphn-schema/sphn/ndc#74662411', 'https://www.biomedit.ch/rdf/sphn-schema/sphn/ndc#8290306510', 'https://www.biomedit.ch/rdf/sphn-schema/sphn/ndc#904635861', 'https://www.biomedit.ch/rdf/sphn-schema/sphn/ndc#63323048527', 'https://www.biomedit.ch/rdf/sphn-schema/sphn/ndc#67457022102', 'https://www.biomedit.ch/rdf/sphn-schema/sphn/ndc#60687059501', 'https://www.biomedit.ch/rdf/sphn-schema/sphn/ndc#186077739', 'https://www.biomedit.ch/rdf/sphn-schema/sphn/ndc#76439034310', 'https://www.biomedit.ch/rdf/sphn-schema/sphn/ndc#51079098320', 'https://www.biomedit.ch/rdf/sphn-schema/sphn/ndc#88222033', 'https://www.biomedit.ch/rdf/sphn-schema/sphn/ndc#68084052401', 'https://www.biomedit.ch/rdf/sphn-schema/sphn/ndc#60687040677', 'https://www.biomedit.ch/rdf/sphn-schema/sphn/ndc#63323053190', 'https://www.biomedit.ch/rdf/sphn-schema/sphn/ndc#54001021', 'https://www.biomedit.ch/rdf/sphn-schema/sphn/ndc#409405101', 'https://www.biomedit.ch/rdf/sphn-schema/sphn/ndc#63323050830', 'https://www.biomedit.ch/rdf/sphn-schema/sphn/ndc#338001704', 'https://www.biomedit.ch/rdf/sphn-schema/sphn/ndc#338001711', 'https://www.biomedit.ch/rdf/sphn-schema/sphn/ndc#32909071103', 'https://www.biomedit.ch/rdf/sphn-schema/sphn/ndc#17478042020', 'https://www.biomedit.ch/rdf/sphn-schema/sphn/ndc#65862052790', 'https://www.biomedit.ch/rdf/sphn-schema/sphn/ndc#67877025930', 'https://www.biomedit.ch/rdf/sphn-schema/sphn/ndc#50268053115', 'https://www.biomedit.ch/rdf/sphn-schema/sphn/ndc#63323088330', 'https://www.biomedit.ch/rdf/sphn-schema/sphn/ndc#31722083260', 'https://www.biomedit.ch/rdf/sphn-schema/sphn/ndc#67457088910', 'https://www.biomedit.ch/rdf/sphn-schema/sphn/ndc#2821517', 'https://www.biomedit.ch/rdf/sphn-schema/sphn/ndc#24987024956', 'https://www.biomedit.ch/rdf/sphn-schema/sphn/ndc#63323031461', 'https://www.biomedit.ch/rdf/sphn-schema/sphn/ndc#121064610', 'https://www.biomedit.ch/rdf/sphn-schema/sphn/ndc#206886202', 'https://www.biomedit.ch/rdf/sphn-schema/sphn/ndc#904632361', 'https://www.biomedit.ch/rdf/sphn-schema/sphn/ndc#16729009001', 'https://www.biomedit.ch/rdf/sphn-schema/sphn/ndc#904652261', 'https://www.biomedit.ch/rdf/sphn-schema/sphn/ndc#63323066401', 'https://www.biomedit.ch/rdf/sphn-schema/sphn/ndc#51672200102', 'https://www.biomedit.ch/rdf/sphn-schema/sphn/ndc#13111421', 'https://www.biomedit.ch/rdf/sphn-schema/sphn/ndc#70710100802', 'https://www.biomedit.ch/rdf/sphn-schema/sphn/ndc#51672207501', 'https://www.biomedit.ch/rdf/sphn-schema/sphn/ndc#641623125', 'https://www.biomedit.ch/rdf/sphn-schema/sphn/ndc#74612290', 'https://www.biomedit.ch/rdf/sphn-schema/sphn/ndc#143314250', 'https://www.biomedit.ch/rdf/sphn-schema/sphn/ndc#338043103', 'https://www.biomedit.ch/rdf/sphn-schema/sphn/ndc#60687032865', 'https://www.biomedit.ch/rdf/sphn-schema/sphn/ndc#61958040101', 'https://www.biomedit.ch/rdf/sphn-schema/sphn/ndc#59762330403', 'https://www.biomedit.ch/rdf/sphn-schema/sphn/ndc#68462010430', 'https://www.biomedit.ch/rdf/sphn-schema/sphn/ndc#703856023', 'https://www.biomedit.ch/rdf/sphn-schema/sphn/ndc#45802004835', 'https://www.biomedit.ch/rdf/sphn-schema/sphn/ndc#517760425', 'https://www.biomedit.ch/rdf/sphn-schema/sphn/ndc#42858030101', 'https://www.biomedit.ch/rdf/sphn-schema/sphn/ndc#409792203', 'https://www.biomedit.ch/rdf/sphn-schema/sphn/ndc#60505708102', 'https://www.biomedit.ch/rdf/sphn-schema/sphn/ndc#63323054036', 'https://www.biomedit.ch/rdf/sphn-schema/sphn/ndc#51079007320', 'https://www.biomedit.ch/rdf/sphn-schema/sphn/ndc#65862029590', 'https://www.biomedit.ch/rdf/sphn-schema/sphn/ndc#51079016920', 'https://www.biomedit.ch/rdf/sphn-schema/sphn/ndc#409909332', 'https://www.biomedit.ch/rdf/sphn-schema/sphn/ndc#603533821', 'https://www.biomedit.ch/rdf/sphn-schema/sphn/ndc#24338013213', 'https://www.biomedit.ch/rdf/sphn-schema/sphn/ndc#17478093705', 'https://www.biomedit.ch/rdf/sphn-schema/sphn/ndc#378181177', 'https://www.biomedit.ch/rdf/sphn-schema/sphn/ndc#16500008806', 'https://www.biomedit.ch/rdf/sphn-schema/sphn/ndc#76045000410', 'https://www.biomedit.ch/rdf/sphn-schema/sphn/ndc#121043130', 'https://www.biomedit.ch/rdf/sphn-schema/sphn/ndc#51079099120', 'https://www.biomedit.ch/rdf/sphn-schema/sphn/ndc#131248060', 'https://www.biomedit.ch/rdf/sphn-schema/sphn/ndc#67877025180', 'https://www.biomedit.ch/rdf/sphn-schema/sphn/ndc#378087399', 'https://www.biomedit.ch/rdf/sphn-schema/sphn/ndc#68084087501', 'https://www.biomedit.ch/rdf/sphn-schema/sphn/ndc#143987510', 'https://www.biomedit.ch/rdf/sphn-schema/sphn/ndc#60687022901', 'https://www.biomedit.ch/rdf/sphn-schema/sphn/ndc#904629061', 'https://www.biomedit.ch/rdf/sphn-schema/sphn/ndc#264958720', 'https://www.biomedit.ch/rdf/sphn-schema/sphn/ndc#904642661', 'https://www.biomedit.ch/rdf/sphn-schema/sphn/ndc#487950101', 'https://www.biomedit.ch/rdf/sphn-schema/sphn/ndc#63323076350', 'https://www.biomedit.ch/rdf/sphn-schema/sphn/ndc#68084044901', 'https://www.biomedit.ch/rdf/sphn-schema/sphn/ndc#904704461', 'https://www.biomedit.ch/rdf/sphn-schema/sphn/ndc#641617510', 'https://www.biomedit.ch/rdf/sphn-schema/sphn/ndc#185001001', 'https://www.biomedit.ch/rdf/sphn-schema/sphn/ndc#904627861', 'https://www.biomedit.ch/rdf/sphn-schema/sphn/ndc#904646707', 'https://www.biomedit.ch/rdf/sphn-schema/sphn/ndc#338130148', 'https://www.biomedit.ch/rdf/sphn-schema/sphn/ndc#143125001', 'https://www.biomedit.ch/rdf/sphn-schema/sphn/ndc#59746030632', 'https://www.biomedit.ch/rdf/sphn-schema/sphn/ndc#338008504', 'https://www.biomedit.ch/rdf/sphn-schema/sphn/ndc#299382060', 'https://www.biomedit.ch/rdf/sphn-schema/sphn/ndc#64980015701', 'https://www.biomedit.ch/rdf/sphn-schema/sphn/ndc#25021018510', 'https://www.biomedit.ch/rdf/sphn-schema/sphn/ndc#67457058210', 'https://www.biomedit.ch/rdf/sphn-schema/sphn/ndc#55150020902', 'https://www.biomedit.ch/rdf/sphn-schema/sphn/ndc#904630477', 'https://www.biomedit.ch/rdf/sphn-schema/sphn/ndc#66553000401', 'https://www.biomedit.ch/rdf/sphn-schema/sphn/ndc#25021011504', 'https://www.biomedit.ch/rdf/sphn-schema/sphn/ndc#54482014701', 'https://www.biomedit.ch/rdf/sphn-schema/sphn/ndc#781540292', 'https://www.biomedit.ch/rdf/sphn-schema/sphn/ndc#76204020030', 'https://www.biomedit.ch/rdf/sphn-schema/sphn/ndc#62584089701', 'https://www.biomedit.ch/rdf/sphn-schema/sphn/ndc#76329330101', 'https://www.biomedit.ch/rdf/sphn-schema/sphn/ndc#904629461', 'https://www.biomedit.ch/rdf/sphn-schema/sphn/ndc#407141230', 'https://www.biomedit.ch/rdf/sphn-schema/sphn/ndc#597013560', 'https://www.biomedit.ch/rdf/sphn-schema/sphn/ndc#93046301', 'https://www.biomedit.ch/rdf/sphn-schema/sphn/ndc#409477723', 'https://www.biomedit.ch/rdf/sphn-schema/sphn/ndc#64980032430', 'https://www.biomedit.ch/rdf/sphn-schema/sphn/ndc#115703301', 'https://www.biomedit.ch/rdf/sphn-schema/sphn/ndc#781543920', 'https://www.biomedit.ch/rdf/sphn-schema/sphn/ndc#54817625', 'https://www.biomedit.ch/rdf/sphn-schema/sphn/ndc#49281042088', 'https://www.biomedit.ch/rdf/sphn-schema/sphn/ndc#51079093820', 'https://www.biomedit.ch/rdf/sphn-schema/sphn/ndc#51079055803', 'https://www.biomedit.ch/rdf/sphn-schema/sphn/ndc#58177009111', 'https://www.biomedit.ch/rdf/sphn-schema/sphn/ndc#409610204', 'https://www.biomedit.ch/rdf/sphn-schema/sphn/ndc#378647099', 'https://www.biomedit.ch/rdf/sphn-schema/sphn/ndc#43547040010', 'https://www.biomedit.ch/rdf/sphn-schema/sphn/ndc#61553011841', 'https://www.biomedit.ch/rdf/sphn-schema/sphn/ndc#143968125', 'https://www.biomedit.ch/rdf/sphn-schema/sphn/ndc#63739027510', 'https://www.biomedit.ch/rdf/sphn-schema/sphn/ndc#68084053901', 'https://www.biomedit.ch/rdf/sphn-schema/sphn/ndc#50268033415', 'https://www.biomedit.ch/rdf/sphn-schema/sphn/ndc#49281075221', 'https://www.biomedit.ch/rdf/sphn-schema/sphn/ndc#904700635', 'https://www.biomedit.ch/rdf/sphn-schema/sphn/ndc#85173302', 'https://www.biomedit.ch/rdf/sphn-schema/sphn/ndc#67457044022', 'https://www.biomedit.ch/rdf/sphn-schema/sphn/ndc#17478093401', 'https://www.biomedit.ch/rdf/sphn-schema/sphn/ndc#55513007330', 'https://www.biomedit.ch/rdf/sphn-schema/sphn/ndc#641612525', 'https://www.biomedit.ch/rdf/sphn-schema/sphn/ndc#121065721', 'https://www.biomedit.ch/rdf/sphn-schema/sphn/ndc#409131230', 'https://www.biomedit.ch/rdf/sphn-schema/sphn/ndc#338012504', 'https://www.biomedit.ch/rdf/sphn-schema/sphn/ndc#52268010001', 'https://www.biomedit.ch/rdf/sphn-schema/sphn/ndc#56051030', 'https://www.biomedit.ch/rdf/sphn-schema/sphn/ndc#51079072120', 'https://www.biomedit.ch/rdf/sphn-schema/sphn/ndc#60687042401', 'https://www.biomedit.ch/rdf/sphn-schema/sphn/ndc#51079007420', 'https://www.biomedit.ch/rdf/sphn-schema/sphn/ndc#904643761', 'https://www.biomedit.ch/rdf/sphn-schema/sphn/ndc#68084011901', 'https://www.biomedit.ch/rdf/sphn-schema/sphn/ndc#67457065810', 'https://www.biomedit.ch/rdf/sphn-schema/sphn/ndc#71041813', 'https://www.biomedit.ch/rdf/sphn-schema/sphn/ndc#24586201', 'https://www.biomedit.ch/rdf/sphn-schema/sphn/ndc#67434604', 'https://www.biomedit.ch/rdf/sphn-schema/sphn/ndc#78035934', 'https://www.biomedit.ch/rdf/sphn-schema/sphn/ndc#49502069724', 'https://www.biomedit.ch/rdf/sphn-schema/sphn/ndc#338630403', 'https://www.biomedit.ch/rdf/sphn-schema/sphn/ndc#406051262', 'https://www.biomedit.ch/rdf/sphn-schema/sphn/ndc#55150032425', 'https://www.biomedit.ch/rdf/sphn-schema/sphn/ndc#53813302', 'https://www.biomedit.ch/rdf/sphn-schema/sphn/ndc#54852625', 'https://www.biomedit.ch/rdf/sphn-schema/sphn/ndc#62584098801', 'https://www.biomedit.ch/rdf/sphn-schema/sphn/ndc#173047001', 'https://www.biomedit.ch/rdf/sphn-schema/sphn/ndc#597036082', 'https://www.biomedit.ch/rdf/sphn-schema/sphn/ndc#16252060102', 'https://www.biomedit.ch/rdf/sphn-schema/sphn/ndc#50111091801', 'https://www.biomedit.ch/rdf/sphn-schema/sphn/ndc#63739045410', 'https://www.biomedit.ch/rdf/sphn-schema/sphn/ndc#50383077933', 'https://www.biomedit.ch/rdf/sphn-schema/sphn/ndc#58468013001', 'https://www.biomedit.ch/rdf/sphn-schema/sphn/ndc#8092355', 'https://www.biomedit.ch/rdf/sphn-schema/sphn/ndc#93874001', 'https://www.biomedit.ch/rdf/sphn-schema/sphn/ndc#904608461', 'https://www.biomedit.ch/rdf/sphn-schema/sphn/ndc#904563261', 'https://www.biomedit.ch/rdf/sphn-schema/sphn/ndc#904592861', 'https://www.biomedit.ch/rdf/sphn-schema/sphn/ndc#10006070028', 'https://www.biomedit.ch/rdf/sphn-schema/sphn/ndc#574022301', 'https://www.biomedit.ch/rdf/sphn-schema/sphn/ndc#50268075915', 'https://www.biomedit.ch/rdf/sphn-schema/sphn/ndc#338001702', 'https://www.biomedit.ch/rdf/sphn-schema/sphn/ndc#55150020210', 'https://www.biomedit.ch/rdf/sphn-schema/sphn/ndc#54018913', 'https://www.biomedit.ch/rdf/sphn-schema/sphn/ndc#68084034601', 'https://www.biomedit.ch/rdf/sphn-schema/sphn/ndc#409433201', 'https://www.biomedit.ch/rdf/sphn-schema/sphn/ndc#49999002812', 'https://www.biomedit.ch/rdf/sphn-schema/sphn/ndc#283067902', 'https://www.biomedit.ch/rdf/sphn-schema/sphn/ndc#69238161708', 'https://www.biomedit.ch/rdf/sphn-schema/sphn/ndc#54829925', 'https://www.biomedit.ch/rdf/sphn-schema/sphn/ndc#16729018301', 'https://www.biomedit.ch/rdf/sphn-schema/sphn/ndc#143968025', 'https://www.biomedit.ch/rdf/sphn-schema/sphn/ndc#904655661', 'https://www.biomedit.ch/rdf/sphn-schema/sphn/ndc#173075400', 'https://www.biomedit.ch/rdf/sphn-schema/sphn/ndc#904679961', 'https://www.biomedit.ch/rdf/sphn-schema/sphn/ndc#54569452202', 'https://www.biomedit.ch/rdf/sphn-schema/sphn/ndc#63739036710', 'https://www.biomedit.ch/rdf/sphn-schema/sphn/ndc#10702003615', 'https://www.biomedit.ch/rdf/sphn-schema/sphn/ndc#574202001', 'https://www.biomedit.ch/rdf/sphn-schema/sphn/ndc#64720013010', 'https://www.biomedit.ch/rdf/sphn-schema/sphn/ndc#904600761', 'https://www.biomedit.ch/rdf/sphn-schema/sphn/ndc#409665305', 'https://www.biomedit.ch/rdf/sphn-schema/sphn/ndc#69543037910', 'https://www.biomedit.ch/rdf/sphn-schema/sphn/ndc#57664050289', 'https://www.biomedit.ch/rdf/sphn-schema/sphn/ndc#409915801', 'https://www.biomedit.ch/rdf/sphn-schema/sphn/ndc#904292461', 'https://www.biomedit.ch/rdf/sphn-schema/sphn/ndc#60258000601', 'https://www.biomedit.ch/rdf/sphn-schema/sphn/ndc#51079021020', 'https://www.biomedit.ch/rdf/sphn-schema/sphn/ndc#63323028004', 'https://www.biomedit.ch/rdf/sphn-schema/sphn/ndc#641049325', 'https://www.biomedit.ch/rdf/sphn-schema/sphn/ndc#409128331', 'https://www.biomedit.ch/rdf/sphn-schema/sphn/ndc#603155404', 'https://www.biomedit.ch/rdf/sphn-schema/sphn/ndc#76329330201', 'https://www.biomedit.ch/rdf/sphn-schema/sphn/ndc#904634061', 'https://www.biomedit.ch/rdf/sphn-schema/sphn/ndc#57237004701', 'https://www.biomedit.ch/rdf/sphn-schema/sphn/ndc#536252525', 'https://www.biomedit.ch/rdf/sphn-schema/sphn/ndc#44567062124', 'https://www.biomedit.ch/rdf/sphn-schema/sphn/ndc#59267100003', 'https://www.biomedit.ch/rdf/sphn-schema/sphn/ndc#597018590', 'https://www.biomedit.ch/rdf/sphn-schema/sphn/ndc#68084038101', 'https://www.biomedit.ch/rdf/sphn-schema/sphn/ndc#245014701', 'https://www.biomedit.ch/rdf/sphn-schema/sphn/ndc#68084071301', 'https://www.biomedit.ch/rdf/sphn-schema/sphn/ndc#69580043', 'https://www.biomedit.ch/rdf/sphn-schema/sphn/ndc#68084059025', 'https://www.biomedit.ch/rdf/sphn-schema/sphn/ndc#23608210', 'https://www.biomedit.ch/rdf/sphn-schema/sphn/ndc#264310311', 'https://www.biomedit.ch/rdf/sphn-schema/sphn/ndc#8290326730', 'https://www.biomedit.ch/rdf/sphn-schema/sphn/ndc#904641961', 'https://www.biomedit.ch/rdf/sphn-schema/sphn/ndc#70010075401', 'https://www.biomedit.ch/rdf/sphn-schema/sphn/ndc#143938401', 'https://www.biomedit.ch/rdf/sphn-schema/sphn/ndc#904646961', 'https://www.biomedit.ch/rdf/sphn-schema/sphn/ndc#42292000120', 'https://www.biomedit.ch/rdf/sphn-schema/sphn/ndc#49702020718', 'https://www.biomedit.ch/rdf/sphn-schema/sphn/ndc#55150011420', 'https://www.biomedit.ch/rdf/sphn-schema/sphn/ndc#281032608', 'https://www.biomedit.ch/rdf/sphn-schema/sphn/ndc#338355148', 'https://www.biomedit.ch/rdf/sphn-schema/sphn/ndc#904053061', 'https://www.biomedit.ch/rdf/sphn-schema/sphn/ndc#143972124', 'https://www.biomedit.ch/rdf/sphn-schema/sphn/ndc#904645204', 'https://www.biomedit.ch/rdf/sphn-schema/sphn/ndc#60687014501', 'https://www.biomedit.ch/rdf/sphn-schema/sphn/ndc#406114201', 'https://www.biomedit.ch/rdf/sphn-schema/sphn/ndc#68084060501', 'https://www.biomedit.ch/rdf/sphn-schema/sphn/ndc#904585461', 'https://www.biomedit.ch/rdf/sphn-schema/sphn/ndc#955105290', 'https://www.biomedit.ch/rdf/sphn-schema/sphn/ndc#904637661', 'https://www.biomedit.ch/rdf/sphn-schema/sphn/ndc#54312041', 'https://www.biomedit.ch/rdf/sphn-schema/sphn/ndc#63323016101', 'https://www.biomedit.ch/rdf/sphn-schema/sphn/ndc#4003822', 'https://www.biomedit.ch/rdf/sphn-schema/sphn/ndc#378715501', 'https://www.biomedit.ch/rdf/sphn-schema/sphn/ndc#63739054410', 'https://www.biomedit.ch/rdf/sphn-schema/sphn/ndc#536135501', 'https://www.biomedit.ch/rdf/sphn-schema/sphn/ndc#51079093120', 'https://www.biomedit.ch/rdf/sphn-schema/sphn/ndc#63323065820', 'https://www.biomedit.ch/rdf/sphn-schema/sphn/ndc#60687028201', 'https://www.biomedit.ch/rdf/sphn-schema/sphn/ndc#517271025', 'https://www.biomedit.ch/rdf/sphn-schema/sphn/ndc#61748001211', 'https://www.biomedit.ch/rdf/sphn-schema/sphn/ndc#54569523500', 'https://www.biomedit.ch/rdf/sphn-schema/sphn/ndc#47335090288', 'https://www.biomedit.ch/rdf/sphn-schema/sphn/ndc#338107302', 'https://www.biomedit.ch/rdf/sphn-schema/sphn/ndc#121082601', 'https://www.biomedit.ch/rdf/sphn-schema/sphn/ndc#63323036019', 'https://www.biomedit.ch/rdf/sphn-schema/sphn/ndc#517037405', 'https://www.biomedit.ch/rdf/sphn-schema/sphn/ndc#42806071401', 'https://www.biomedit.ch/rdf/sphn-schema/sphn/ndc#54162000708', 'https://www.biomedit.ch/rdf/sphn-schema/sphn/ndc#60687021001', 'https://www.biomedit.ch/rdf/sphn-schema/sphn/ndc#409379501', 'https://www.biomedit.ch/rdf/sphn-schema/sphn/ndc#78077735', 'https://www.biomedit.ch/rdf/sphn-schema/sphn/ndc#50383031147', 'https://www.biomedit.ch/rdf/sphn-schema/sphn/ndc#54855324', 'https://www.biomedit.ch/rdf/sphn-schema/sphn/ndc#904598061', 'https://www.biomedit.ch/rdf/sphn-schema/sphn/ndc#50383077931', 'https://www.biomedit.ch/rdf/sphn-schema/sphn/ndc#51079073420', 'https://www.biomedit.ch/rdf/sphn-schema/sphn/ndc#904640761', 'https://www.biomedit.ch/rdf/sphn-schema/sphn/ndc#63824000834', 'https://www.biomedit.ch/rdf/sphn-schema/sphn/ndc#517930525', 'https://www.biomedit.ch/rdf/sphn-schema/sphn/ndc#68084026901', 'https://www.biomedit.ch/rdf/sphn-schema/sphn/ndc#310110530', 'https://www.biomedit.ch/rdf/sphn-schema/sphn/ndc#51079081220', 'https://www.biomedit.ch/rdf/sphn-schema/sphn/ndc#60687048701', 'https://www.biomedit.ch/rdf/sphn-schema/sphn/ndc#338004938', 'https://www.biomedit.ch/rdf/sphn-schema/sphn/ndc#64764080530', 'https://www.biomedit.ch/rdf/sphn-schema/sphn/ndc#409672924', 'https://www.biomedit.ch/rdf/sphn-schema/sphn/ndc#228202710', 'https://www.biomedit.ch/rdf/sphn-schema/sphn/ndc#574704512', 'https://www.biomedit.ch/rdf/sphn-schema/sphn/ndc#60687042321', 'https://www.biomedit.ch/rdf/sphn-schema/sphn/ndc#63739001610', 'https://www.biomedit.ch/rdf/sphn-schema/sphn/ndc#904600861', 'https://www.biomedit.ch/rdf/sphn-schema/sphn/ndc#168007115', 'https://www.biomedit.ch/rdf/sphn-schema/sphn/ndc#50268027815', 'https://www.biomedit.ch/rdf/sphn-schema/sphn/ndc#68462033390', 'https://www.biomedit.ch/rdf/sphn-schema/sphn/ndc#63739052210', 'https://www.biomedit.ch/rdf/sphn-schema/sphn/ndc#51079054220', 'https://www.biomedit.ch/rdf/sphn-schema/sphn/ndc#904655861', 'https://www.biomedit.ch/rdf/sphn-schema/sphn/ndc#49999025130', 'https://www.biomedit.ch/rdf/sphn-schema/sphn/ndc#63323054011', 'https://www.biomedit.ch/rdf/sphn-schema/sphn/ndc#574027511', 'https://www.biomedit.ch/rdf/sphn-schema/sphn/ndc#406575562', 'https://www.biomedit.ch/rdf/sphn-schema/sphn/ndc#904567761', 'https://www.biomedit.ch/rdf/sphn-schema/sphn/ndc#71101268', 'https://www.biomedit.ch/rdf/sphn-schema/sphn/ndc#63323026201', 'https://www.biomedit.ch/rdf/sphn-schema/sphn/ndc#74333330', 'https://www.biomedit.ch/rdf/sphn-schema/sphn/ndc#338004904', 'https://www.biomedit.ch/rdf/sphn-schema/sphn/ndc#904404073', 'https://www.biomedit.ch/rdf/sphn-schema/sphn/ndc#75062300', 'https://www.biomedit.ch/rdf/sphn-schema/sphn/ndc#51991065116', 'https://www.biomedit.ch/rdf/sphn-schema/sphn/ndc#54643564901', 'https://www.biomedit.ch/rdf/sphn-schema/sphn/ndc#51079045420', 'https://www.biomedit.ch/rdf/sphn-schema/sphn/ndc#51079076708', 'https://www.biomedit.ch/rdf/sphn-schema/sphn/ndc#78035906', 'https://www.biomedit.ch/rdf/sphn-schema/sphn/ndc#228262011', 'https://www.biomedit.ch/rdf/sphn-schema/sphn/ndc#63323061401', 'https://www.biomedit.ch/rdf/sphn-schema/sphn/ndc#904683006', 'https://www.biomedit.ch/rdf/sphn-schema/sphn/ndc#68084053001', 'https://www.biomedit.ch/rdf/sphn-schema/sphn/ndc#49491041', 'https://www.biomedit.ch/rdf/sphn-schema/sphn/ndc#591336901', 'https://www.biomedit.ch/rdf/sphn-schema/sphn/ndc#49884079474', 'https://www.biomedit.ch/rdf/sphn-schema/sphn/ndc#68180035109', 'https://www.biomedit.ch/rdf/sphn-schema/sphn/ndc#60687013901', 'https://www.biomedit.ch/rdf/sphn-schema/sphn/ndc#37000074092', 'https://www.biomedit.ch/rdf/sphn-schema/sphn/ndc#409471302', 'https://www.biomedit.ch/rdf/sphn-schema/sphn/ndc#409779362', 'https://www.biomedit.ch/rdf/sphn-schema/sphn/ndc#25021031110', 'https://www.biomedit.ch/rdf/sphn-schema/sphn/ndc#51079045620', 'https://www.biomedit.ch/rdf/sphn-schema/sphn/ndc#65862084230', 'https://www.biomedit.ch/rdf/sphn-schema/sphn/ndc#50242005306', 'https://www.biomedit.ch/rdf/sphn-schema/sphn/ndc#61703030916', 'https://www.biomedit.ch/rdf/sphn-schema/sphn/ndc#16571030216', 'https://www.biomedit.ch/rdf/sphn-schema/sphn/ndc#641036725', 'https://www.biomedit.ch/rdf/sphn-schema/sphn/ndc#143176901', 'https://www.biomedit.ch/rdf/sphn-schema/sphn/ndc#55513053010', 'https://www.biomedit.ch/rdf/sphn-schema/sphn/ndc#781340895', 'https://www.biomedit.ch/rdf/sphn-schema/sphn/ndc#43598056178', 'https://www.biomedit.ch/rdf/sphn-schema/sphn/ndc#59762172001', 'https://www.biomedit.ch/rdf/sphn-schema/sphn/ndc#63323031119', 'https://www.biomedit.ch/rdf/sphn-schema/sphn/ndc#51079028420', 'https://www.biomedit.ch/rdf/sphn-schema/sphn/ndc#54872425', 'https://www.biomedit.ch/rdf/sphn-schema/sphn/ndc#206886102', 'https://www.biomedit.ch/rdf/sphn-schema/sphn/ndc#63323028002', 'https://www.biomedit.ch/rdf/sphn-schema/sphn/ndc#713016550', 'https://www.biomedit.ch/rdf/sphn-schema/sphn/ndc#51079021620', 'https://www.biomedit.ch/rdf/sphn-schema/sphn/ndc#904666404', 'https://www.biomedit.ch/rdf/sphn-schema/sphn/ndc#904578561', 'https://www.biomedit.ch/rdf/sphn-schema/sphn/ndc#338105548', 'https://www.biomedit.ch/rdf/sphn-schema/sphn/ndc#904671761', 'https://www.biomedit.ch/rdf/sphn-schema/sphn/ndc#78077720', 'https://www.biomedit.ch/rdf/sphn-schema/sphn/ndc#338012612', 'https://www.biomedit.ch/rdf/sphn-schema/sphn/ndc#904578461', 'https://www.biomedit.ch/rdf/sphn-schema/sphn/ndc#904678744', 'https://www.biomedit.ch/rdf/sphn-schema/sphn/ndc#66553000801', 'https://www.biomedit.ch/rdf/sphn-schema/sphn/ndc#24987024256', 'https://www.biomedit.ch/rdf/sphn-schema/sphn/ndc#74929690', 'https://www.biomedit.ch/rdf/sphn-schema/sphn/ndc#17478071131', 'https://www.biomedit.ch/rdf/sphn-schema/sphn/ndc#51079044320', 'https://www.biomedit.ch/rdf/sphn-schema/sphn/ndc#51672138603', 'https://www.biomedit.ch/rdf/sphn-schema/sphn/ndc#68084034701', 'https://www.biomedit.ch/rdf/sphn-schema/sphn/ndc#41100081123', 'https://www.biomedit.ch/rdf/sphn-schema/sphn/ndc#63739067110', 'https://www.biomedit.ch/rdf/sphn-schema/sphn/ndc#63323056884', 'https://www.biomedit.ch/rdf/sphn-schema/sphn/ndc#143928410', 'https://www.biomedit.ch/rdf/sphn-schema/sphn/ndc#68084065901', 'https://www.biomedit.ch/rdf/sphn-schema/sphn/ndc#9003928', 'https://www.biomedit.ch/rdf/sphn-schema/sphn/ndc#67512414', 'https://www.biomedit.ch/rdf/sphn-schema/sphn/ndc#703330104', 'https://www.biomedit.ch/rdf/sphn-schema/sphn/ndc#407141229', 'https://www.biomedit.ch/rdf/sphn-schema/sphn/ndc#904632661', 'https://www.biomedit.ch/rdf/sphn-schema/sphn/ndc#904644561', 'https://www.biomedit.ch/rdf/sphn-schema/sphn/ndc#904704161', 'https://www.biomedit.ch/rdf/sphn-schema/sphn/ndc#51079046020', 'https://www.biomedit.ch/rdf/sphn-schema/sphn/ndc#5434462', 'https://www.biomedit.ch/rdf/sphn-schema/sphn/ndc#703450204', 'https://www.biomedit.ch/rdf/sphn-schema/sphn/ndc#409798361', 'https://www.biomedit.ch/rdf/sphn-schema/sphn/ndc#55150020830', 'https://www.biomedit.ch/rdf/sphn-schema/sphn/ndc#68084059201', 'https://www.biomedit.ch/rdf/sphn-schema/sphn/ndc#63323030655', 'https://www.biomedit.ch/rdf/sphn-schema/sphn/ndc#63323064907', 'https://www.biomedit.ch/rdf/sphn-schema/sphn/ndc#63739035010', 'https://www.biomedit.ch/rdf/sphn-schema/sphn/ndc#781210401', 'https://www.biomedit.ch/rdf/sphn-schema/sphn/ndc#68084067301', 'https://www.biomedit.ch/rdf/sphn-schema/sphn/ndc#68084061701', 'https://www.biomedit.ch/rdf/sphn-schema/sphn/ndc#378699789', 'https://www.biomedit.ch/rdf/sphn-schema/sphn/ndc#68084051101', 'https://www.biomedit.ch/rdf/sphn-schema/sphn/ndc#70069001325', 'https://www.biomedit.ch/rdf/sphn-schema/sphn/ndc#49001483', 'https://www.biomedit.ch/rdf/sphn-schema/sphn/ndc#2850101', 'https://www.biomedit.ch/rdf/sphn-schema/sphn/ndc#60505260400', 'https://www.biomedit.ch/rdf/sphn-schema/sphn/ndc#49281012088', 'https://www.biomedit.ch/rdf/sphn-schema/sphn/ndc#409733503', 'https://www.biomedit.ch/rdf/sphn-schema/sphn/ndc#641611710', 'https://www.biomedit.ch/rdf/sphn-schema/sphn/ndc#54873925', 'https://www.biomedit.ch/rdf/sphn-schema/sphn/ndc#904780961', 'https://www.biomedit.ch/rdf/sphn-schema/sphn/ndc#66689003750', 'https://www.biomedit.ch/rdf/sphn-schema/sphn/ndc#68084003201', 'https://www.biomedit.ch/rdf/sphn-schema/sphn/ndc#51645090599', 'https://www.biomedit.ch/rdf/sphn-schema/sphn/ndc#121127600', 'https://www.biomedit.ch/rdf/sphn-schema/sphn/ndc#904627761', 'https://www.biomedit.ch/rdf/sphn-schema/sphn/ndc#338002302', 'https://www.biomedit.ch/rdf/sphn-schema/sphn/ndc#51079013120', 'https://www.biomedit.ch/rdf/sphn-schema/sphn/ndc#338500241', 'https://www.biomedit.ch/rdf/sphn-schema/sphn/ndc#24987037934', 'https://www.biomedit.ch/rdf/sphn-schema/sphn/ndc#66993059702', 'https://www.biomedit.ch/rdf/sphn-schema/sphn/ndc#338634603', 'https://www.biomedit.ch/rdf/sphn-schema/sphn/ndc#641614910', 'https://www.biomedit.ch/rdf/sphn-schema/sphn/ndc#641600710', 'https://www.biomedit.ch/rdf/sphn-schema/sphn/ndc#51079049820', 'https://www.biomedit.ch/rdf/sphn-schema/sphn/ndc#115166101', 'https://www.biomedit.ch/rdf/sphn-schema/sphn/ndc#338001738', 'https://www.biomedit.ch/rdf/sphn-schema/sphn/ndc#68180035309', 'https://www.biomedit.ch/rdf/sphn-schema/sphn/ndc#536242558', 'https://www.biomedit.ch/rdf/sphn-schema/sphn/ndc#68084051301', 'https://www.biomedit.ch/rdf/sphn-schema/sphn/ndc#60687045401', 'https://www.biomedit.ch/rdf/sphn-schema/sphn/ndc#409341401', 'https://www.biomedit.ch/rdf/sphn-schema/sphn/ndc#469065773', 'https://www.biomedit.ch/rdf/sphn-schema/sphn/ndc#338004903', 'https://www.biomedit.ch/rdf/sphn-schema/sphn/ndc#66993047860', 'https://www.biomedit.ch/rdf/sphn-schema/sphn/ndc#54001020', 'https://www.biomedit.ch/rdf/sphn-schema/sphn/ndc#93415573', 'https://www.biomedit.ch/rdf/sphn-schema/sphn/ndc#54162050001', 'https://www.biomedit.ch/rdf/sphn-schema/sphn/ndc#172541360', 'https://www.biomedit.ch/rdf/sphn-schema/sphn/ndc#832121301', 'https://www.biomedit.ch/rdf/sphn-schema/sphn/ndc#63323039810', 'https://www.biomedit.ch/rdf/sphn-schema/sphn/ndc#62175011937', 'https://www.biomedit.ch/rdf/sphn-schema/sphn/ndc#904647061', 'https://www.biomedit.ch/rdf/sphn-schema/sphn/ndc#65862009620', 'https://www.biomedit.ch/rdf/sphn-schema/sphn/ndc#904637861', 'https://www.biomedit.ch/rdf/sphn-schema/sphn/ndc#51079088620', 'https://www.biomedit.ch/rdf/sphn-schema/sphn/ndc#54023755', 'https://www.biomedit.ch/rdf/sphn-schema/sphn/ndc#49281041688', 'https://www.biomedit.ch/rdf/sphn-schema/sphn/ndc#50268061915', 'https://www.biomedit.ch/rdf/sphn-schema/sphn/ndc#42023015925', 'https://www.biomedit.ch/rdf/sphn-schema/sphn/ndc#57896045208', 'https://www.biomedit.ch/rdf/sphn-schema/sphn/ndc#60687015501', 'https://www.biomedit.ch/rdf/sphn-schema/sphn/ndc#50268072815', 'https://www.biomedit.ch/rdf/sphn-schema/sphn/ndc#143957010', 'https://www.biomedit.ch/rdf/sphn-schema/sphn/ndc#68084004401', 'https://www.biomedit.ch/rdf/sphn-schema/sphn/ndc#54817925', 'https://www.biomedit.ch/rdf/sphn-schema/sphn/ndc#574402235', 'https://www.biomedit.ch/rdf/sphn-schema/sphn/ndc#13811067930', 'https://www.biomedit.ch/rdf/sphn-schema/sphn/ndc#766150010', 'https://www.biomedit.ch/rdf/sphn-schema/sphn/ndc#42292003820', 'https://www.biomedit.ch/rdf/sphn-schema/sphn/ndc#74707090', 'https://www.biomedit.ch/rdf/sphn-schema/sphn/ndc#66993006272', 'https://www.biomedit.ch/rdf/sphn-schema/sphn/ndc#63739059110', 'https://www.biomedit.ch/rdf/sphn-schema/sphn/ndc#60505613005', 'https://www.biomedit.ch/rdf/sphn-schema/sphn/ndc#63739048910', 'https://www.biomedit.ch/rdf/sphn-schema/sphn/ndc#904421813', 'https://www.biomedit.ch/rdf/sphn-schema/sphn/ndc#14789010705', 'https://www.biomedit.ch/rdf/sphn-schema/sphn/ndc#53746027101', 'https://www.biomedit.ch/rdf/sphn-schema/sphn/ndc#121177510', 'https://www.biomedit.ch/rdf/sphn-schema/sphn/ndc#904679861', 'https://www.biomedit.ch/rdf/sphn-schema/sphn/ndc#51672402301', 'https://www.biomedit.ch/rdf/sphn-schema/sphn/ndc#54808425', 'https://www.biomedit.ch/rdf/sphn-schema/sphn/ndc#68084050101', 'https://www.biomedit.ch/rdf/sphn-schema/sphn/ndc#409475901', 'https://www.biomedit.ch/rdf/sphn-schema/sphn/ndc#16729027735', 'https://www.biomedit.ch/rdf/sphn-schema/sphn/ndc#51079086420', 'https://www.biomedit.ch/rdf/sphn-schema/sphn/ndc#55150016072', 'https://www.biomedit.ch/rdf/sphn-schema/sphn/ndc#13811068030', 'https://www.biomedit.ch/rdf/sphn-schema/sphn/ndc#47335018788', 'https://www.biomedit.ch/rdf/sphn-schema/sphn/ndc#51801001230', 'https://www.biomedit.ch/rdf/sphn-schema/sphn/ndc#66758016013', 'https://www.biomedit.ch/rdf/sphn-schema/sphn/ndc#68084076425', 'https://www.biomedit.ch/rdf/sphn-schema/sphn/ndc#944270006', 'https://www.biomedit.ch/rdf/sphn-schema/sphn/ndc#23155007101', 'https://www.biomedit.ch/rdf/sphn-schema/sphn/ndc#68084048211', 'https://www.biomedit.ch/rdf/sphn-schema/sphn/ndc#904589261', 'https://www.biomedit.ch/rdf/sphn-schema/sphn/ndc#944049301', 'https://www.biomedit.ch/rdf/sphn-schema/sphn/ndc#469032014', 'https://www.biomedit.ch/rdf/sphn-schema/sphn/ndc#51079041720', 'https://www.biomedit.ch/rdf/sphn-schema/sphn/ndc#44206031050', 'https://www.biomedit.ch/rdf/sphn-schema/sphn/ndc#51079043620', 'https://www.biomedit.ch/rdf/sphn-schema/sphn/ndc#54855424', 'https://www.biomedit.ch/rdf/sphn-schema/sphn/ndc#536108494', 'https://www.biomedit.ch/rdf/sphn-schema/sphn/ndc#2512377', 'https://www.biomedit.ch/rdf/sphn-schema/sphn/ndc#51079060820', 'https://www.biomedit.ch/rdf/sphn-schema/sphn/ndc#12496120403', 'https://www.biomedit.ch/rdf/sphn-schema/sphn/ndc#143966010', 'https://www.biomedit.ch/rdf/sphn-schema/sphn/ndc#51079093020', 'https://www.biomedit.ch/rdf/sphn-schema/sphn/ndc#25021081430', 'https://www.biomedit.ch/rdf/sphn-schema/sphn/ndc#54838013340', 'https://www.biomedit.ch/rdf/sphn-schema/sphn/ndc#904552987', 'https://www.biomedit.ch/rdf/sphn-schema/sphn/ndc#93894001', 'https://www.biomedit.ch/rdf/sphn-schema/sphn/ndc#409166010', 'https://www.biomedit.ch/rdf/sphn-schema/sphn/ndc#63739058810', 'https://www.biomedit.ch/rdf/sphn-schema/sphn/ndc#338008904', 'https://www.biomedit.ch/rdf/sphn-schema/sphn/ndc#66685100101', 'https://www.biomedit.ch/rdf/sphn-schema/sphn/ndc#59762024603', 'https://www.biomedit.ch/rdf/sphn-schema/sphn/ndc#63323051610', 'https://www.biomedit.ch/rdf/sphn-schema/sphn/ndc#60505700802', 'https://www.biomedit.ch/rdf/sphn-schema/sphn/ndc#49281012188', 'https://www.biomedit.ch/rdf/sphn-schema/sphn/ndc#904579061', 'https://www.biomedit.ch/rdf/sphn-schema/sphn/ndc#781155613', 'https://www.biomedit.ch/rdf/sphn-schema/sphn/ndc#51079008920', 'https://www.biomedit.ch/rdf/sphn-schema/sphn/ndc#51079054720', 'https://www.biomedit.ch/rdf/sphn-schema/sphn/ndc#68180051301', 'https://www.biomedit.ch/rdf/sphn-schema/sphn/ndc#60505083404', 'https://www.biomedit.ch/rdf/sphn-schema/sphn/ndc#11523726808', 'https://www.biomedit.ch/rdf/sphn-schema/sphn/ndc#17478093725', 'https://www.biomedit.ch/rdf/sphn-schema/sphn/ndc#338042418', 'https://www.biomedit.ch/rdf/sphn-schema/sphn/ndc#76045000905', 'https://www.biomedit.ch/rdf/sphn-schema/sphn/ndc#143129001', 'https://www.biomedit.ch/rdf/sphn-schema/sphn/ndc#10122061010', 'https://www.biomedit.ch/rdf/sphn-schema/sphn/ndc#182055789', 'https://www.biomedit.ch/rdf/sphn-schema/sphn/ndc#456140530', 'https://www.biomedit.ch/rdf/sphn-schema/sphn/ndc#904664161', 'https://www.biomedit.ch/rdf/sphn-schema/sphn/ndc#50111043401', 'https://www.biomedit.ch/rdf/sphn-schema/sphn/ndc#78069635', 'https://www.biomedit.ch/rdf/sphn-schema/sphn/ndc#42292003920', 'https://www.biomedit.ch/rdf/sphn-schema/sphn/ndc#173054700', 'https://www.biomedit.ch/rdf/sphn-schema/sphn/ndc#68084020601', 'https://www.biomedit.ch/rdf/sphn-schema/sphn/ndc#169183311', 'https://www.biomedit.ch/rdf/sphn-schema/sphn/ndc#68084019601', 'https://www.biomedit.ch/rdf/sphn-schema/sphn/ndc#42023018201', 'https://www.biomedit.ch/rdf/sphn-schema/sphn/ndc#51079038620', 'https://www.biomedit.ch/rdf/sphn-schema/sphn/ndc#51079081120', 'https://www.biomedit.ch/rdf/sphn-schema/sphn/ndc#65862047601', 'https://www.biomedit.ch/rdf/sphn-schema/sphn/ndc#17478020910', 'https://www.biomedit.ch/rdf/sphn-schema/sphn/ndc#904657261', 'https://www.biomedit.ch/rdf/sphn-schema/sphn/ndc#63323096510', 'https://www.biomedit.ch/rdf/sphn-schema/sphn/ndc#603533521', 'https://www.biomedit.ch/rdf/sphn-schema/sphn/ndc#904630161', 'https://www.biomedit.ch/rdf/sphn-schema/sphn/ndc#51079073320', 'https://www.biomedit.ch/rdf/sphn-schema/sphn/ndc#55513014810', 'https://www.biomedit.ch/rdf/sphn-schema/sphn/ndc#409751716', 'https://www.biomedit.ch/rdf/sphn-schema/sphn/ndc#904586761', 'https://www.biomedit.ch/rdf/sphn-schema/sphn/ndc#143978510', 'https://www.biomedit.ch/rdf/sphn-schema/sphn/ndc#310075239', 'https://www.biomedit.ch/rdf/sphn-schema/sphn/ndc#51672125802', 'https://www.biomedit.ch/rdf/sphn-schema/sphn/ndc#16729029805', 'https://www.biomedit.ch/rdf/sphn-schema/sphn/ndc#56016975', 'https://www.biomedit.ch/rdf/sphn-schema/sphn/ndc#63323047401', 'https://www.biomedit.ch/rdf/sphn-schema/sphn/ndc#713010109', 'https://www.biomedit.ch/rdf/sphn-schema/sphn/ndc#68084035401', 'https://www.biomedit.ch/rdf/sphn-schema/sphn/ndc#62584098401', 'https://www.biomedit.ch/rdf/sphn-schema/sphn/ndc#67512614', 'https://www.biomedit.ch/rdf/sphn-schema/sphn/ndc#409662514', 'https://www.biomedit.ch/rdf/sphn-schema/sphn/ndc#60505708002', 'https://www.biomedit.ch/rdf/sphn-schema/sphn/ndc#47781058629', 'https://www.biomedit.ch/rdf/sphn-schema/sphn/ndc#68094050361', 'https://www.biomedit.ch/rdf/sphn-schema/sphn/ndc#51079052720', 'https://www.biomedit.ch/rdf/sphn-schema/sphn/ndc#25021012850', 'https://www.biomedit.ch/rdf/sphn-schema/sphn/ndc#904634161', 'https://www.biomedit.ch/rdf/sphn-schema/sphn/ndc#63323038310', 'https://www.biomedit.ch/rdf/sphn-schema/sphn/ndc#62584073401', 'https://www.biomedit.ch/rdf/sphn-schema/sphn/ndc#703514001', 'https://www.biomedit.ch/rdf/sphn-schema/sphn/ndc#70594005301', 'https://www.biomedit.ch/rdf/sphn-schema/sphn/ndc#55513014410', 'https://www.biomedit.ch/rdf/sphn-schema/sphn/ndc#63323060584', 'https://www.biomedit.ch/rdf/sphn-schema/sphn/ndc#93414656', 'https://www.biomedit.ch/rdf/sphn-schema/sphn/ndc#49319028', 'https://www.biomedit.ch/rdf/sphn-schema/sphn/ndc#904655461', 'https://www.biomedit.ch/rdf/sphn-schema/sphn/ndc#51079044020', 'https://www.biomedit.ch/rdf/sphn-schema/sphn/ndc#10432017002', 'https://www.biomedit.ch/rdf/sphn-schema/sphn/ndc#42858030416', 'https://www.biomedit.ch/rdf/sphn-schema/sphn/ndc#74057611', 'https://www.biomedit.ch/rdf/sphn-schema/sphn/ndc#55390000401', 'https://www.biomedit.ch/rdf/sphn-schema/sphn/ndc#409180001', 'https://www.biomedit.ch/rdf/sphn-schema/sphn/ndc#781320895', 'https://www.biomedit.ch/rdf/sphn-schema/sphn/ndc#68084097601', 'https://www.biomedit.ch/rdf/sphn-schema/sphn/ndc#50383077111', 'https://www.biomedit.ch/rdf/sphn-schema/sphn/ndc#51079020620', 'https://www.biomedit.ch/rdf/sphn-schema/sphn/ndc#68084059101', 'https://www.biomedit.ch/rdf/sphn-schema/sphn/ndc#63323017015', 'https://www.biomedit.ch/rdf/sphn-schema/sphn/ndc#338001703', 'https://www.biomedit.ch/rdf/sphn-schema/sphn/ndc#25021013282', 'https://www.biomedit.ch/rdf/sphn-schema/sphn/ndc#63323008950', 'https://www.biomedit.ch/rdf/sphn-schema/sphn/ndc#23155057801', 'https://www.biomedit.ch/rdf/sphn-schema/sphn/ndc#904568461', 'https://www.biomedit.ch/rdf/sphn-schema/sphn/ndc#29300022701', 'https://www.biomedit.ch/rdf/sphn-schema/sphn/ndc#338519741', 'https://www.biomedit.ch/rdf/sphn-schema/sphn/ndc#409263450', 'https://www.biomedit.ch/rdf/sphn-schema/sphn/ndc#60505464303', 'https://www.biomedit.ch/rdf/sphn-schema/sphn/ndc#51672402504', 'https://www.biomedit.ch/rdf/sphn-schema/sphn/ndc#60687033301', 'https://www.biomedit.ch/rdf/sphn-schema/sphn/ndc#61314031810', 'https://www.biomedit.ch/rdf/sphn-schema/sphn/ndc#904650161', 'https://www.biomedit.ch/rdf/sphn-schema/sphn/ndc#6306100', 'https://www.biomedit.ch/rdf/sphn-schema/sphn/ndc#409477702', 'https://www.biomedit.ch/rdf/sphn-schema/sphn/ndc#44567023525', 'https://www.biomedit.ch/rdf/sphn-schema/sphn/ndc#409741803', 'https://www.biomedit.ch/rdf/sphn-schema/sphn/ndc#904655161', 'https://www.biomedit.ch/rdf/sphn-schema/sphn/ndc#904612861', 'https://www.biomedit.ch/rdf/sphn-schema/sphn/ndc#68084029521', 'https://www.biomedit.ch/rdf/sphn-schema/sphn/ndc#54449625', 'https://www.biomedit.ch/rdf/sphn-schema/sphn/ndc#168015431', 'https://www.biomedit.ch/rdf/sphn-schema/sphn/ndc#904399161', 'https://www.biomedit.ch/rdf/sphn-schema/sphn/ndc#228212710', 'https://www.biomedit.ch/rdf/sphn-schema/sphn/ndc#49281041550', 'https://www.biomedit.ch/rdf/sphn-schema/sphn/ndc#51079028620', 'https://www.biomedit.ch/rdf/sphn-schema/sphn/ndc#76329336901', 'https://www.biomedit.ch/rdf/sphn-schema/sphn/ndc#51079079420', 'https://www.biomedit.ch/rdf/sphn-schema/sphn/ndc#574703412', 'https://www.biomedit.ch/rdf/sphn-schema/sphn/ndc#56017075', 'https://www.biomedit.ch/rdf/sphn-schema/sphn/ndc#19515090941', 'https://www.biomedit.ch/rdf/sphn-schema/sphn/ndc#904664061', 'https://www.biomedit.ch/rdf/sphn-schema/sphn/ndc#10019092501', 'https://www.biomedit.ch/rdf/sphn-schema/sphn/ndc#44567070725', 'https://www.biomedit.ch/rdf/sphn-schema/sphn/ndc#245001201', 'https://www.biomedit.ch/rdf/sphn-schema/sphn/ndc#409729501', 'https://www.biomedit.ch/rdf/sphn-schema/sphn/ndc#51079080120', 'https://www.biomedit.ch/rdf/sphn-schema/sphn/ndc#63323049257', 'https://www.biomedit.ch/rdf/sphn-schema/sphn/ndc#49702022318', 'https://www.biomedit.ch/rdf/sphn-schema/sphn/ndc#378021601', 'https://www.biomedit.ch/rdf/sphn-schema/sphn/ndc#50383077517', 'https://www.biomedit.ch/rdf/sphn-schema/sphn/ndc#66685100202', 'https://www.biomedit.ch/rdf/sphn-schema/sphn/ndc#63739008010', 'https://www.biomedit.ch/rdf/sphn-schema/sphn/ndc#49884046565', 'https://www.biomedit.ch/rdf/sphn-schema/sphn/ndc#24338013402', 'https://www.biomedit.ch/rdf/sphn-schema/sphn/ndc#63323061603', 'https://www.biomedit.ch/rdf/sphn-schema/sphn/ndc#93032001', 'https://www.biomedit.ch/rdf/sphn-schema/sphn/ndc#76329335201', 'https://www.biomedit.ch/rdf/sphn-schema/sphn/ndc#61703031922', 'https://www.biomedit.ch/rdf/sphn-schema/sphn/ndc#42023018910', 'https://www.biomedit.ch/rdf/sphn-schema/sphn/ndc#44567042024', 'https://www.biomedit.ch/rdf/sphn-schema/sphn/ndc#51079030020', 'https://www.biomedit.ch/rdf/sphn-schema/sphn/ndc#409317801', 'https://www.biomedit.ch/rdf/sphn-schema/sphn/ndc#63323016201', 'https://www.biomedit.ch/rdf/sphn-schema/sphn/ndc#173069604', 'https://www.biomedit.ch/rdf/sphn-schema/sphn/ndc#641040012', 'https://www.biomedit.ch/rdf/sphn-schema/sphn/ndc#76014000410', 'https://www.biomedit.ch/rdf/sphn-schema/sphn/ndc#67457033950', 'https://www.biomedit.ch/rdf/sphn-schema/sphn/ndc#904650904', 'https://www.biomedit.ch/rdf/sphn-schema/sphn/ndc#487980125', 'https://www.biomedit.ch/rdf/sphn-schema/sphn/ndc#904695161', 'https://www.biomedit.ch/rdf/sphn-schema/sphn/ndc#9513503', 'https://www.biomedit.ch/rdf/sphn-schema/sphn/ndc#591321630', 'https://www.biomedit.ch/rdf/sphn-schema/sphn/ndc#904399061', 'https://www.biomedit.ch/rdf/sphn-schema/sphn/ndc#68546014256', 'https://www.biomedit.ch/rdf/sphn-schema/sphn/ndc#71101441', 'https://www.biomedit.ch/rdf/sphn-schema/sphn/ndc#36000000924', 'https://www.biomedit.ch/rdf/sphn-schema/sphn/ndc#9000302', 'https://www.biomedit.ch/rdf/sphn-schema/sphn/ndc#23155066301', 'https://www.biomedit.ch/rdf/sphn-schema/sphn/ndc#904630261', 'https://www.biomedit.ch/rdf/sphn-schema/sphn/ndc#63323037701', 'https://www.biomedit.ch/rdf/sphn-schema/sphn/ndc#143993801', 'https://www.biomedit.ch/rdf/sphn-schema/sphn/ndc#378581377', 'https://www.biomedit.ch/rdf/sphn-schema/sphn/ndc#68682017030', 'https://www.biomedit.ch/rdf/sphn-schema/sphn/ndc#11017025030', 'https://www.biomedit.ch/rdf/sphn-schema/sphn/ndc#378180077', 'https://www.biomedit.ch/rdf/sphn-schema/sphn/ndc#25021040010', 'https://www.biomedit.ch/rdf/sphn-schema/sphn/ndc#8290306414', 'https://www.biomedit.ch/rdf/sphn-schema/sphn/ndc#904386575', 'https://www.biomedit.ch/rdf/sphn-schema/sphn/ndc#43199001101', 'https://www.biomedit.ch/rdf/sphn-schema/sphn/ndc#60687045001', 'https://www.biomedit.ch/rdf/sphn-schema/sphn/ndc#536467801', 'https://www.biomedit.ch/rdf/sphn-schema/sphn/ndc#641601310', 'https://www.biomedit.ch/rdf/sphn-schema/sphn/ndc#51079021103', 'https://www.biomedit.ch/rdf/sphn-schema/sphn/ndc#68084009701', 'https://www.biomedit.ch/rdf/sphn-schema/sphn/ndc#409121501', 'https://www.biomedit.ch/rdf/sphn-schema/sphn/ndc#56017275', 'https://www.biomedit.ch/rdf/sphn-schema/sphn/ndc#131181067', 'https://www.biomedit.ch/rdf/sphn-schema/sphn/ndc#63323017260', 'https://www.biomedit.ch/rdf/sphn-schema/sphn/ndc#591219101', 'https://www.biomedit.ch/rdf/sphn-schema/sphn/ndc#942064104', 'https://www.biomedit.ch/rdf/sphn-schema/sphn/ndc#781315895', 'https://www.biomedit.ch/rdf/sphn-schema/sphn/ndc#23455430', 'https://www.biomedit.ch/rdf/sphn-schema/sphn/ndc#68084024301', 'https://www.biomedit.ch/rdf/sphn-schema/sphn/ndc#63739052201', 'https://www.biomedit.ch/rdf/sphn-schema/sphn/ndc#264310511', 'https://www.biomedit.ch/rdf/sphn-schema/sphn/ndc#904561061', 'https://www.biomedit.ch/rdf/sphn-schema/sphn/ndc#50268075415', 'https://www.biomedit.ch/rdf/sphn-schema/sphn/ndc#50242004164', 'https://www.biomedit.ch/rdf/sphn-schema/sphn/ndc#409475503', 'https://www.biomedit.ch/rdf/sphn-schema/sphn/ndc#47781058717', 'https://www.biomedit.ch/rdf/sphn-schema/sphn/ndc#597015237', 'https://www.biomedit.ch/rdf/sphn-schema/sphn/ndc#409792261', 'https://www.biomedit.ch/rdf/sphn-schema/sphn/ndc#93314701', 'https://www.biomedit.ch/rdf/sphn-schema/sphn/ndc#25021014330', 'https://www.biomedit.ch/rdf/sphn-schema/sphn/ndc#51079088820', 'https://www.biomedit.ch/rdf/sphn-schema/sphn/ndc#121054410', 'https://www.biomedit.ch/rdf/sphn-schema/sphn/ndc#51079005820', 'https://www.biomedit.ch/rdf/sphn-schema/sphn/ndc#51672131200', 'https://www.biomedit.ch/rdf/sphn-schema/sphn/ndc#74194063', 'https://www.biomedit.ch/rdf/sphn-schema/sphn/ndc#45802011222', 'https://www.biomedit.ch/rdf/sphn-schema/sphn/ndc#68180031906', 'https://www.biomedit.ch/rdf/sphn-schema/sphn/ndc#7610004920', 'https://www.biomedit.ch/rdf/sphn-schema/sphn/ndc#10939033733', 'https://www.biomedit.ch/rdf/sphn-schema/sphn/ndc#51079028520', 'https://www.biomedit.ch/rdf/sphn-schema/sphn/ndc#338004304', 'https://www.biomedit.ch/rdf/sphn-schema/sphn/ndc#60687023101', 'https://www.biomedit.ch/rdf/sphn-schema/sphn/ndc#65162089803', 'https://www.biomedit.ch/rdf/sphn-schema/sphn/ndc#71019028507', 'https://www.biomedit.ch/rdf/sphn-schema/sphn/ndc#904608561', 'https://www.biomedit.ch/rdf/sphn-schema/sphn/ndc#378001805', 'https://www.biomedit.ch/rdf/sphn-schema/sphn/ndc#187301030', 'https://www.biomedit.ch/rdf/sphn-schema/sphn/ndc#63739012810', 'https://www.biomedit.ch/rdf/sphn-schema/sphn/ndc#703951403', 'https://www.biomedit.ch/rdf/sphn-schema/sphn/ndc#51079002320', 'https://www.biomedit.ch/rdf/sphn-schema/sphn/ndc#68084066601', 'https://www.biomedit.ch/rdf/sphn-schema/sphn/ndc#23918703', 'https://www.biomedit.ch/rdf/sphn-schema/sphn/ndc#536589588', 'https://www.biomedit.ch/rdf/sphn-schema/sphn/ndc#409189001', 'https://www.biomedit.ch/rdf/sphn-schema/sphn/ndc#68084045001', 'https://www.biomedit.ch/rdf/sphn-schema/sphn/ndc#67457042612', 'https://www.biomedit.ch/rdf/sphn-schema/sphn/ndc#904678370', 'https://www.biomedit.ch/rdf/sphn-schema/sphn/ndc#904605261', 'https://www.biomedit.ch/rdf/sphn-schema/sphn/ndc#49317030', 'https://www.biomedit.ch/rdf/sphn-schema/sphn/ndc#76045000910', 'https://www.biomedit.ch/rdf/sphn-schema/sphn/ndc#904637061', 'https://www.biomedit.ch/rdf/sphn-schema/sphn/ndc#58160082152', 'https://www.biomedit.ch/rdf/sphn-schema/sphn/ndc#904716261', 'https://www.biomedit.ch/rdf/sphn-schema/sphn/ndc#68084096601', 'https://www.biomedit.ch/rdf/sphn-schema/sphn/ndc#8290306513', 'https://www.biomedit.ch/rdf/sphn-schema/sphn/ndc#173069704', 'https://www.biomedit.ch/rdf/sphn-schema/sphn/ndc#44502210', 'https://www.biomedit.ch/rdf/sphn-schema/sphn/ndc#904673061', 'https://www.biomedit.ch/rdf/sphn-schema/sphn/ndc#60569049501', 'https://www.biomedit.ch/rdf/sphn-schema/sphn/ndc#781317796', 'https://www.biomedit.ch/rdf/sphn-schema/sphn/ndc#76329301205', 'https://www.biomedit.ch/rdf/sphn-schema/sphn/ndc#409471332', 'https://www.biomedit.ch/rdf/sphn-schema/sphn/ndc#67457055400', 'https://www.biomedit.ch/rdf/sphn-schema/sphn/ndc#409127332', 'https://www.biomedit.ch/rdf/sphn-schema/sphn/ndc#121155000', 'https://www.biomedit.ch/rdf/sphn-schema/sphn/ndc#68992307503', 'https://www.biomedit.ch/rdf/sphn-schema/sphn/ndc#54874025', 'https://www.biomedit.ch/rdf/sphn-schema/sphn/ndc#43547040710', 'https://www.biomedit.ch/rdf/sphn-schema/sphn/ndc#641618810', 'https://www.biomedit.ch/rdf/sphn-schema/sphn/ndc#406917576', 'https://www.biomedit.ch/rdf/sphn-schema/sphn/ndc#185505001', 'https://www.biomedit.ch/rdf/sphn-schema/sphn/ndc#115165901', 'https://www.biomedit.ch/rdf/sphn-schema/sphn/ndc#16729004301', 'https://www.biomedit.ch/rdf/sphn-schema/sphn/ndc#74434190', 'https://www.biomedit.ch/rdf/sphn-schema/sphn/ndc#10006070033', 'https://www.biomedit.ch/rdf/sphn-schema/sphn/ndc#32909071503', 'https://www.biomedit.ch/rdf/sphn-schema/sphn/ndc#43547040210', 'https://www.biomedit.ch/rdf/sphn-schema/sphn/ndc#8290306424', 'https://www.biomedit.ch/rdf/sphn-schema/sphn/ndc#63323056887', 'https://www.biomedit.ch/rdf/sphn-schema/sphn/ndc#904632261', 'https://www.biomedit.ch/rdf/sphn-schema/sphn/ndc#781210301', 'https://www.biomedit.ch/rdf/sphn-schema/sphn/ndc#51079007620', 'https://www.biomedit.ch/rdf/sphn-schema/sphn/ndc#338067104', 'https://www.biomedit.ch/rdf/sphn-schema/sphn/ndc#62584073301', 'https://www.biomedit.ch/rdf/sphn-schema/sphn/ndc#68462010230', 'https://www.biomedit.ch/rdf/sphn-schema/sphn/ndc#93003901', 'https://www.biomedit.ch/rdf/sphn-schema/sphn/ndc#338051909', 'https://www.biomedit.ch/rdf/sphn-schema/sphn/ndc#57664051083', 'https://www.biomedit.ch/rdf/sphn-schema/sphn/ndc#472030680', 'https://www.biomedit.ch/rdf/sphn-schema/sphn/ndc#76204080001', 'https://www.biomedit.ch/rdf/sphn-schema/sphn/ndc#63739041110', 'https://www.biomedit.ch/rdf/sphn-schema/sphn/ndc#68084009901', 'https://www.biomedit.ch/rdf/sphn-schema/sphn/ndc#9454401', 'https://www.biomedit.ch/rdf/sphn-schema/sphn/ndc#597008717', 'https://www.biomedit.ch/rdf/sphn-schema/sphn/ndc#36000003310', 'https://www.biomedit.ch/rdf/sphn-schema/sphn/ndc#10019095601', 'https://www.biomedit.ch/rdf/sphn-schema/sphn/ndc#517857510', 'https://www.biomedit.ch/rdf/sphn-schema/sphn/ndc#68094010961', 'https://www.biomedit.ch/rdf/sphn-schema/sphn/ndc#10019055304', 'https://www.biomedit.ch/rdf/sphn-schema/sphn/ndc#409198530', 'https://www.biomedit.ch/rdf/sphn-schema/sphn/ndc#58526000541', 'https://www.biomedit.ch/rdf/sphn-schema/sphn/ndc#904530661', 'https://www.biomedit.ch/rdf/sphn-schema/sphn/ndc#904582461', 'https://www.biomedit.ch/rdf/sphn-schema/sphn/ndc#65649020175', 'https://www.biomedit.ch/rdf/sphn-schema/sphn/ndc#703854023', 'https://www.biomedit.ch/rdf/sphn-schema/sphn/ndc#24338012213', 'https://www.biomedit.ch/rdf/sphn-schema/sphn/ndc#338350841', 'https://www.biomedit.ch/rdf/sphn-schema/sphn/ndc#143989001', 'https://www.biomedit.ch/rdf/sphn-schema/sphn/ndc#54829725', 'https://www.biomedit.ch/rdf/sphn-schema/sphn/ndc#904681907', 'https://www.biomedit.ch/rdf/sphn-schema/sphn/ndc#781196160', 'https://www.biomedit.ch/rdf/sphn-schema/sphn/ndc#548560400', 'https://www.biomedit.ch/rdf/sphn-schema/sphn/ndc#904677361', 'https://www.biomedit.ch/rdf/sphn-schema/sphn/ndc#406831562', 'https://www.biomedit.ch/rdf/sphn-schema/sphn/ndc#25021031002', 'https://www.biomedit.ch/rdf/sphn-schema/sphn/ndc#8092360', 'https://www.biomedit.ch/rdf/sphn-schema/sphn/ndc#56017675', 'https://www.biomedit.ch/rdf/sphn-schema/sphn/ndc#65597010330', 'https://www.biomedit.ch/rdf/sphn-schema/sphn/ndc#54092018981', 'https://www.biomedit.ch/rdf/sphn-schema/sphn/ndc#55566220000', 'https://www.biomedit.ch/rdf/sphn-schema/sphn/ndc#409230517', 'https://www.biomedit.ch/rdf/sphn-schema/sphn/ndc#60505082901', 'https://www.biomedit.ch/rdf/sphn-schema/sphn/ndc#65162041603', 'https://www.biomedit.ch/rdf/sphn-schema/sphn/ndc#487950125', 'https://www.biomedit.ch/rdf/sphn-schema/sphn/ndc#60687012901', 'https://www.biomedit.ch/rdf/sphn-schema/sphn/ndc#2751001', 'https://www.biomedit.ch/rdf/sphn-schema/sphn/ndc#143971910', 'https://www.biomedit.ch/rdf/sphn-schema/sphn/ndc#50474059540', 'https://www.biomedit.ch/rdf/sphn-schema/sphn/ndc#641602725', 'https://www.biomedit.ch/rdf/sphn-schema/sphn/ndc#409427701', 'https://www.biomedit.ch/rdf/sphn-schema/sphn/ndc#78035834', 'https://www.biomedit.ch/rdf/sphn-schema/sphn/ndc#131247760', 'https://www.biomedit.ch/rdf/sphn-schema/sphn/ndc#168000480', 'https://www.biomedit.ch/rdf/sphn-schema/sphn/ndc#16729023993', 'https://www.biomedit.ch/rdf/sphn-schema/sphn/ndc#641141035', 'https://www.biomedit.ch/rdf/sphn-schema/sphn/ndc#781523864', 'https://www.biomedit.ch/rdf/sphn-schema/sphn/ndc#904657561', 'https://www.biomedit.ch/rdf/sphn-schema/sphn/ndc#11917007645', 'https://www.biomedit.ch/rdf/sphn-schema/sphn/ndc#63323048201', 'https://www.biomedit.ch/rdf/sphn-schema/sphn/ndc#59762502501', 'https://www.biomedit.ch/rdf/sphn-schema/sphn/ndc#50268061513', 'https://www.biomedit.ch/rdf/sphn-schema/sphn/ndc#264780020', 'https://www.biomedit.ch/rdf/sphn-schema/sphn/ndc#61314022705', 'https://www.biomedit.ch/rdf/sphn-schema/sphn/ndc#67512514', 'https://www.biomedit.ch/rdf/sphn-schema/sphn/ndc#469305130', 'https://www.biomedit.ch/rdf/sphn-schema/sphn/ndc#409226720', 'https://www.biomedit.ch/rdf/sphn-schema/sphn/ndc#48433021940', 'https://www.biomedit.ch/rdf/sphn-schema/sphn/ndc#173068220', 'https://www.biomedit.ch/rdf/sphn-schema/sphn/ndc#63717087716', 'https://www.biomedit.ch/rdf/sphn-schema/sphn/ndc#68382041201', 'https://www.biomedit.ch/rdf/sphn-schema/sphn/ndc#2821501', 'https://www.biomedit.ch/rdf/sphn-schema/sphn/ndc#904549213', 'https://www.biomedit.ch/rdf/sphn-schema/sphn/ndc#121457735', 'https://www.biomedit.ch/rdf/sphn-schema/sphn/ndc#703409401', 'https://www.biomedit.ch/rdf/sphn-schema/sphn/ndc#338080304', 'https://www.biomedit.ch/rdf/sphn-schema/sphn/ndc#61314020315', 'https://www.biomedit.ch/rdf/sphn-schema/sphn/ndc#409490234', 'https://www.biomedit.ch/rdf/sphn-schema/sphn/ndc#24208031510', 'https://www.biomedit.ch/rdf/sphn-schema/sphn/ndc#37000002304', 'https://www.biomedit.ch/rdf/sphn-schema/sphn/ndc#832121101', 'https://www.biomedit.ch/rdf/sphn-schema/sphn/ndc#60687025301', 'https://www.biomedit.ch/rdf/sphn-schema/sphn/ndc#54016625', 'https://www.biomedit.ch/rdf/sphn-schema/sphn/ndc#63739007910', 'https://www.biomedit.ch/rdf/sphn-schema/sphn/ndc#49702022813', 'https://www.biomedit.ch/rdf/sphn-schema/sphn/ndc#338004911', 'https://www.biomedit.ch/rdf/sphn-schema/sphn/ndc#472033730', 'https://www.biomedit.ch/rdf/sphn-schema/sphn/ndc#990792225', 'https://www.biomedit.ch/rdf/sphn-schema/sphn/ndc#68084024801', 'https://www.biomedit.ch/rdf/sphn-schema/sphn/ndc#64501030', 'https://www.biomedit.ch/rdf/sphn-schema/sphn/ndc#51224001310', 'https://www.biomedit.ch/rdf/sphn-schema/sphn/ndc#62756051244', 'https://www.biomedit.ch/rdf/sphn-schema/sphn/ndc#51672129802', 'https://www.biomedit.ch/rdf/sphn-schema/sphn/ndc#68084028101', 'https://www.biomedit.ch/rdf/sphn-schema/sphn/ndc#781207601', 'https://www.biomedit.ch/rdf/sphn-schema/sphn/ndc#68084038801', 'https://www.biomedit.ch/rdf/sphn-schema/sphn/ndc#93031901', 'https://www.biomedit.ch/rdf/sphn-schema/sphn/ndc#143967310', 'https://www.biomedit.ch/rdf/sphn-schema/sphn/ndc#77333098310', 'https://www.biomedit.ch/rdf/sphn-schema/sphn/ndc#60687022601', 'https://www.biomedit.ch/rdf/sphn-schema/sphn/ndc#904646161', 'https://www.biomedit.ch/rdf/sphn-schema/sphn/ndc#60687023401', 'https://www.biomedit.ch/rdf/sphn-schema/sphn/ndc#50268075615', 'https://www.biomedit.ch/rdf/sphn-schema/sphn/ndc#338070948', 'https://www.biomedit.ch/rdf/sphn-schema/sphn/ndc#51079016503', 'https://www.biomedit.ch/rdf/sphn-schema/sphn/ndc#69097042602', 'https://www.biomedit.ch/rdf/sphn-schema/sphn/ndc#51293080101', 'https://www.biomedit.ch/rdf/sphn-schema/sphn/ndc#9069801', 'https://www.biomedit.ch/rdf/sphn-schema/sphn/ndc#338080704', 'https://www.biomedit.ch/rdf/sphn-schema/sphn/ndc#904565661', 'https://www.biomedit.ch/rdf/sphn-schema/sphn/ndc#781543820', 'https://www.biomedit.ch/rdf/sphn-schema/sphn/ndc#59762503301', 'https://www.biomedit.ch/rdf/sphn-schema/sphn/ndc#54162055007', 'https://www.biomedit.ch/rdf/sphn-schema/sphn/ndc#63323026929', 'https://www.biomedit.ch/rdf/sphn-schema/sphn/ndc#409468802', 'https://www.biomedit.ch/rdf/sphn-schema/sphn/ndc#51552005106', 'https://www.biomedit.ch/rdf/sphn-schema/sphn/ndc#904699880', 'https://www.biomedit.ch/rdf/sphn-schema/sphn/ndc#68084077401', 'https://www.biomedit.ch/rdf/sphn-schema/sphn/ndc#50268040115', 'https://www.biomedit.ch/rdf/sphn-schema/sphn/ndc#36000032202', 'https://www.biomedit.ch/rdf/sphn-schema/sphn/ndc#61553012011', 'https://www.biomedit.ch/rdf/sphn-schema/sphn/ndc#51079048020', 'https://www.biomedit.ch/rdf/sphn-schema/sphn/ndc#173068224', 'https://www.biomedit.ch/rdf/sphn-schema/sphn/ndc#703480501', 'https://www.biomedit.ch/rdf/sphn-schema/sphn/ndc#78027422', 'https://www.biomedit.ch/rdf/sphn-schema/sphn/ndc#68084047901', 'https://www.biomedit.ch/rdf/sphn-schema/sphn/ndc#904198261', 'https://www.biomedit.ch/rdf/sphn-schema/sphn/ndc#51079045120', 'https://www.biomedit.ch/rdf/sphn-schema/sphn/ndc#65162018810', 'https://www.biomedit.ch/rdf/sphn-schema/sphn/ndc#904662261', 'https://www.biomedit.ch/rdf/sphn-schema/sphn/ndc#37205065318', 'https://www.biomedit.ch/rdf/sphn-schema/sphn/ndc#338004902', 'https://www.biomedit.ch/rdf/sphn-schema/sphn/ndc#63323026965', 'https://www.biomedit.ch/rdf/sphn-schema/sphn/ndc#51079005120', 'https://www.biomedit.ch/rdf/sphn-schema/sphn/ndc#121481000', 'https://www.biomedit.ch/rdf/sphn-schema/sphn/ndc#74706811', 'https://www.biomedit.ch/rdf/sphn-schema/sphn/ndc#45802005536', 'https://www.biomedit.ch/rdf/sphn-schema/sphn/ndc#904629304', 'https://www.biomedit.ch/rdf/sphn-schema/sphn/ndc#258368890', 'https://www.biomedit.ch/rdf/sphn-schema/sphn/ndc#904224461', 'https://www.biomedit.ch/rdf/sphn-schema/sphn/ndc#70860010410', 'https://www.biomedit.ch/rdf/sphn-schema/sphn/ndc#904549261', 'https://www.biomedit.ch/rdf/sphn-schema/sphn/ndc#93031801', 'https://www.biomedit.ch/rdf/sphn-schema/sphn/ndc#23155029442', 'https://www.biomedit.ch/rdf/sphn-schema/sphn/ndc#50268014315', 'https://www.biomedit.ch/rdf/sphn-schema/sphn/ndc#47781058368', 'https://www.biomedit.ch/rdf/sphn-schema/sphn/ndc#60687038921', 'https://www.biomedit.ch/rdf/sphn-schema/sphn/ndc#904645361', 'https://www.biomedit.ch/rdf/sphn-schema/sphn/ndc#68084015701', 'https://www.biomedit.ch/rdf/sphn-schema/sphn/ndc#49702020548', 'https://www.biomedit.ch/rdf/sphn-schema/sphn/ndc#904635361', 'https://www.biomedit.ch/rdf/sphn-schema/sphn/ndc#51079068420', 'https://www.biomedit.ch/rdf/sphn-schema/sphn/ndc#781723864', 'https://www.biomedit.ch/rdf/sphn-schema/sphn/ndc#65293000310', 'https://www.biomedit.ch/rdf/sphn-schema/sphn/ndc#224185530', 'https://www.biomedit.ch/rdf/sphn-schema/sphn/ndc#44567024110', 'https://www.biomedit.ch/rdf/sphn-schema/sphn/ndc#703332104', 'https://www.biomedit.ch/rdf/sphn-schema/sphn/ndc#63020004901', 'https://www.biomedit.ch/rdf/sphn-schema/sphn/ndc#944270007', 'https://www.biomedit.ch/rdf/sphn-schema/sphn/ndc#75062040', 'https://www.biomedit.ch/rdf/sphn-schema/sphn/ndc#57237004801', 'https://www.biomedit.ch/rdf/sphn-schema/sphn/ndc#51079098020', 'https://www.biomedit.ch/rdf/sphn-schema/sphn/ndc#64764011907', 'https://www.biomedit.ch/rdf/sphn-schema/sphn/ndc#409427601', 'https://www.biomedit.ch/rdf/sphn-schema/sphn/ndc#61958060101', 'https://www.biomedit.ch/rdf/sphn-schema/sphn/ndc#228300311', 'https://www.biomedit.ch/rdf/sphn-schema/sphn/ndc#51079029920', 'https://www.biomedit.ch/rdf/sphn-schema/sphn/ndc#904608261', 'https://www.biomedit.ch/rdf/sphn-schema/sphn/ndc#68084031801', 'https://www.biomedit.ch/rdf/sphn-schema/sphn/ndc#168001135', 'https://www.biomedit.ch/rdf/sphn-schema/sphn/ndc#51079074620', 'https://www.biomedit.ch/rdf/sphn-schema/sphn/ndc#59011042020', 'https://www.biomedit.ch/rdf/sphn-schema/sphn/ndc#70092903505', 'https://www.biomedit.ch/rdf/sphn-schema/sphn/ndc#36000030660', 'https://www.biomedit.ch/rdf/sphn-schema/sphn/ndc#51079086320', 'https://www.biomedit.ch/rdf/sphn-schema/sphn/ndc#904657161', 'https://www.biomedit.ch/rdf/sphn-schema/sphn/ndc#61958250101', 'https://www.biomedit.ch/rdf/sphn-schema/sphn/ndc#49999010830', 'https://www.biomedit.ch/rdf/sphn-schema/sphn/ndc#70594004801', 'https://www.biomedit.ch/rdf/sphn-schema/sphn/ndc#338081104', 'https://www.biomedit.ch/rdf/sphn-schema/sphn/ndc#258368990', 'https://www.biomedit.ch/rdf/sphn-schema/sphn/ndc#51079077420', 'https://www.biomedit.ch/rdf/sphn-schema/sphn/ndc#77333094810', 'https://www.biomedit.ch/rdf/sphn-schema/sphn/ndc#63323027205', 'https://www.biomedit.ch/rdf/sphn-schema/sphn/ndc#641047725', 'https://www.biomedit.ch/rdf/sphn-schema/sphn/ndc#904670806', 'https://www.biomedit.ch/rdf/sphn-schema/sphn/ndc#64980010401', 'https://www.biomedit.ch/rdf/sphn-schema/sphn/ndc#904586061', 'https://www.biomedit.ch/rdf/sphn-schema/sphn/ndc#51079075920', 'https://www.biomedit.ch/rdf/sphn-schema/sphn/ndc#54569515500', 'https://www.biomedit.ch/rdf/sphn-schema/sphn/ndc#904625549', 'https://www.biomedit.ch/rdf/sphn-schema/sphn/ndc#904385461', 'https://www.biomedit.ch/rdf/sphn-schema/sphn/ndc#597015337', 'https://www.biomedit.ch/rdf/sphn-schema/sphn/ndc#51079052420', 'https://www.biomedit.ch/rdf/sphn-schema/sphn/ndc#121483940', 'https://www.biomedit.ch/rdf/sphn-schema/sphn/ndc#904628361', 'https://www.biomedit.ch/rdf/sphn-schema/sphn/ndc#60687029301', 'https://www.biomedit.ch/rdf/sphn-schema/sphn/ndc#173052000', 'https://www.biomedit.ch/rdf/sphn-schema/sphn/ndc#517460225', 'https://www.biomedit.ch/rdf/sphn-schema/sphn/ndc#23916330', 'https://www.biomedit.ch/rdf/sphn-schema/sphn/ndc#8290002191', 'https://www.biomedit.ch/rdf/sphn-schema/sphn/ndc#51079027920', 'https://www.biomedit.ch/rdf/sphn-schema/sphn/ndc#60687047301', 'https://www.biomedit.ch/rdf/sphn-schema/sphn/ndc#51079041820', 'https://www.biomedit.ch/rdf/sphn-schema/sphn/ndc#904630061', 'https://www.biomedit.ch/rdf/sphn-schema/sphn/ndc#58980041012', 'https://www.biomedit.ch/rdf/sphn-schema/sphn/ndc#17478021515', 'https://www.biomedit.ch/rdf/sphn-schema/sphn/ndc#24208091019', 'https://www.biomedit.ch/rdf/sphn-schema/sphn/ndc#68462015713', 'https://www.biomedit.ch/rdf/sphn-schema/sphn/ndc#338011704', 'https://www.biomedit.ch/rdf/sphn-schema/sphn/ndc#65649030103', 'https://www.biomedit.ch/rdf/sphn-schema/sphn/ndc#57896042101', 'https://www.biomedit.ch/rdf/sphn-schema/sphn/ndc#69315090401', 'https://www.biomedit.ch/rdf/sphn-schema/sphn/ndc#9001104', 'https://www.biomedit.ch/rdf/sphn-schema/sphn/ndc#904656461', 'https://www.biomedit.ch/rdf/sphn-schema/sphn/ndc#23155000301', 'https://www.biomedit.ch/rdf/sphn-schema/sphn/ndc#59762100201', 'https://www.biomedit.ch/rdf/sphn-schema/sphn/ndc#60505068104', 'https://www.biomedit.ch/rdf/sphn-schema/sphn/ndc#68084040001', 'https://www.biomedit.ch/rdf/sphn-schema/sphn/ndc#60505011400', 'https://www.biomedit.ch/rdf/sphn-schema/sphn/ndc#61553005148', 'https://www.biomedit.ch/rdf/sphn-schema/sphn/ndc#409795309', 'https://www.biomedit.ch/rdf/sphn-schema/sphn/ndc#39822100001', 'https://www.biomedit.ch/rdf/sphn-schema/sphn/ndc#121174410', 'https://www.biomedit.ch/rdf/sphn-schema/sphn/ndc#62584074601', 'https://www.biomedit.ch/rdf/sphn-schema/sphn/ndc#55513054610', 'https://www.biomedit.ch/rdf/sphn-schema/sphn/ndc#60687011821', 'https://www.biomedit.ch/rdf/sphn-schema/sphn/ndc#74679922', 'https://www.biomedit.ch/rdf/sphn-schema/sphn/ndc#69097084607', 'https://www.biomedit.ch/rdf/sphn-schema/sphn/ndc#51927174300', 'https://www.biomedit.ch/rdf/sphn-schema/sphn/ndc#121176130', 'https://www.biomedit.ch/rdf/sphn-schema/sphn/ndc#69095050', 'https://www.biomedit.ch/rdf/sphn-schema/sphn/ndc#536338101', 'https://www.biomedit.ch/rdf/sphn-schema/sphn/ndc#2751017', 'https://www.biomedit.ch/rdf/sphn-schema/sphn/ndc#944270004', 'https://www.biomedit.ch/rdf/sphn-schema/sphn/ndc#245531601', 'https://www.biomedit.ch/rdf/sphn-schema/sphn/ndc#60687044301', 'https://www.biomedit.ch/rdf/sphn-schema/sphn/ndc#63739064510', 'https://www.biomedit.ch/rdf/sphn-schema/sphn/ndc#23155016831', 'https://www.biomedit.ch/rdf/sphn-schema/sphn/ndc#93221001', 'https://www.biomedit.ch/rdf/sphn-schema/sphn/ndc#55111026281', 'https://www.biomedit.ch/rdf/sphn-schema/sphn/ndc#378180977', 'https://www.biomedit.ch/rdf/sphn-schema/sphn/ndc#63323053383', 'https://www.biomedit.ch/rdf/sphn-schema/sphn/ndc#904682076', 'https://www.biomedit.ch/rdf/sphn-schema/sphn/ndc#409739172', 'https://www.biomedit.ch/rdf/sphn-schema/sphn/ndc#904693806', 'https://www.biomedit.ch/rdf/sphn-schema/sphn/ndc#51079097220', 'https://www.biomedit.ch/rdf/sphn-schema/sphn/ndc#310028339', 'https://www.biomedit.ch/rdf/sphn-schema/sphn/ndc#37205011278', 'https://www.biomedit.ch/rdf/sphn-schema/sphn/ndc#536478701', 'https://www.biomedit.ch/rdf/sphn-schema/sphn/ndc#63323061720', 'https://www.biomedit.ch/rdf/sphn-schema/sphn/ndc#68084084501', 'https://www.biomedit.ch/rdf/sphn-schema/sphn/ndc#17478028810', 'https://www.biomedit.ch/rdf/sphn-schema/sphn/ndc#78065920', 'https://www.biomedit.ch/rdf/sphn-schema/sphn/ndc#121086850', 'https://www.biomedit.ch/rdf/sphn-schema/sphn/ndc#51079077120', 'https://www.biomedit.ch/rdf/sphn-schema/sphn/ndc#66993059402', 'https://www.biomedit.ch/rdf/sphn-schema/sphn/ndc#173093356', 'https://www.biomedit.ch/rdf/sphn-schema/sphn/ndc#591352530', 'https://www.biomedit.ch/rdf/sphn-schema/sphn/ndc#68382030930', 'https://www.biomedit.ch/rdf/sphn-schema/sphn/ndc#904637461', 'https://www.biomedit.ch/rdf/sphn-schema/sphn/ndc#51079045820', 'https://www.biomedit.ch/rdf/sphn-schema/sphn/ndc#42023016410', 'https://www.biomedit.ch/rdf/sphn-schema/sphn/ndc#832121601', 'https://www.biomedit.ch/rdf/sphn-schema/sphn/ndc#63824072283', 'https://www.biomedit.ch/rdf/sphn-schema/sphn/ndc#61314001910', 'https://www.biomedit.ch/rdf/sphn-schema/sphn/ndc#143951910', 'https://www.biomedit.ch/rdf/sphn-schema/sphn/ndc#54023525', 'https://www.biomedit.ch/rdf/sphn-schema/sphn/ndc#904661761', 'https://www.biomedit.ch/rdf/sphn-schema/sphn/ndc#51079055720', 'https://www.biomedit.ch/rdf/sphn-schema/sphn/ndc#50111091501', 'https://www.biomedit.ch/rdf/sphn-schema/sphn/ndc#69108530', 'https://www.biomedit.ch/rdf/sphn-schema/sphn/ndc#63323056984', 'https://www.biomedit.ch/rdf/sphn-schema/sphn/ndc#63323049289', 'https://www.biomedit.ch/rdf/sphn-schema/sphn/ndc#54458032344', 'https://www.biomedit.ch/rdf/sphn-schema/sphn/ndc#25208000201', 'https://www.biomedit.ch/rdf/sphn-schema/sphn/ndc#904650561', 'https://www.biomedit.ch/rdf/sphn-schema/sphn/ndc#68180028201', 'https://www.biomedit.ch/rdf/sphn-schema/sphn/ndc#65862020190', 'https://www.biomedit.ch/rdf/sphn-schema/sphn/ndc#172428510', 'https://www.biomedit.ch/rdf/sphn-schema/sphn/ndc#574705012', 'https://www.biomedit.ch/rdf/sphn-schema/sphn/ndc#51079039220', 'https://www.biomedit.ch/rdf/sphn-schema/sphn/ndc#378180577', 'https://www.biomedit.ch/rdf/sphn-schema/sphn/ndc#66689030708', 'https://www.biomedit.ch/rdf/sphn-schema/sphn/ndc#58790000228', 'https://www.biomedit.ch/rdf/sphn-schema/sphn/ndc#50268008415', 'https://www.biomedit.ch/rdf/sphn-schema/sphn/ndc#23611501', 'https://www.biomedit.ch/rdf/sphn-schema/sphn/ndc#54023524', 'https://www.biomedit.ch/rdf/sphn-schema/sphn/ndc#409117630', 'https://www.biomedit.ch/rdf/sphn-schema/sphn/ndc#60505614604', 'https://www.biomedit.ch/rdf/sphn-schema/sphn/ndc#904054460', 'https://www.biomedit.ch/rdf/sphn-schema/sphn/ndc#43353063330', 'https://www.biomedit.ch/rdf/sphn-schema/sphn/ndc#10122032510', 'https://www.biomedit.ch/rdf/sphn-schema/sphn/ndc#63739012710', 'https://www.biomedit.ch/rdf/sphn-schema/sphn/ndc#9514004', 'https://www.biomedit.ch/rdf/sphn-schema/sphn/ndc#62584026601', 'https://www.biomedit.ch/rdf/sphn-schema/sphn/ndc#63323010605', 'https://www.biomedit.ch/rdf/sphn-schema/sphn/ndc#78069620', 'https://www.biomedit.ch/rdf/sphn-schema/sphn/ndc#77333094010', 'https://www.biomedit.ch/rdf/sphn-schema/sphn/ndc#63323096330', 'https://www.biomedit.ch/rdf/sphn-schema/sphn/ndc#51079032301', 'https://www.biomedit.ch/rdf/sphn-schema/sphn/ndc#2831517', 'https://www.biomedit.ch/rdf/sphn-schema/sphn/ndc#68084025401', 'https://www.biomedit.ch/rdf/sphn-schema/sphn/ndc#47335067281', 'https://www.biomedit.ch/rdf/sphn-schema/sphn/ndc#832030101', 'https://www.biomedit.ch/rdf/sphn-schema/sphn/ndc#378161001', 'https://www.biomedit.ch/rdf/sphn-schema/sphn/ndc#641607901', 'https://www.biomedit.ch/rdf/sphn-schema/sphn/ndc#93065801', 'https://www.biomedit.ch/rdf/sphn-schema/sphn/ndc#378087199', 'https://www.biomedit.ch/rdf/sphn-schema/sphn/ndc#904686190', 'https://www.biomedit.ch/rdf/sphn-schema/sphn/ndc#43547036909', 'https://www.biomedit.ch/rdf/sphn-schema/sphn/ndc#71288000630', 'https://www.biomedit.ch/rdf/sphn-schema/sphn/ndc#904582460', 'https://www.biomedit.ch/rdf/sphn-schema/sphn/ndc#68084023001', 'https://www.biomedit.ch/rdf/sphn-schema/sphn/ndc#904585261', 'https://www.biomedit.ch/rdf/sphn-schema/sphn/ndc#63739050010', 'https://www.biomedit.ch/rdf/sphn-schema/sphn/ndc#713010950', 'https://www.biomedit.ch/rdf/sphn-schema/sphn/ndc#47781058468', 'https://www.biomedit.ch/rdf/sphn-schema/sphn/ndc#904052360', 'https://www.biomedit.ch/rdf/sphn-schema/sphn/ndc#60505614704', 'https://www.biomedit.ch/rdf/sphn-schema/sphn/ndc#24208048610', 'https://www.biomedit.ch/rdf/sphn-schema/sphn/ndc#50268068415', 'https://www.biomedit.ch/rdf/sphn-schema/sphn/ndc#69238148901', 'https://www.biomedit.ch/rdf/sphn-schema/sphn/ndc#904629161', 'https://www.biomedit.ch/rdf/sphn-schema/sphn/ndc#904585861', 'https://www.biomedit.ch/rdf/sphn-schema/sphn/ndc#63739067410', 'https://www.biomedit.ch/rdf/sphn-schema/sphn/ndc#75062280', 'https://www.biomedit.ch/rdf/sphn-schema/sphn/ndc#904692761', 'https://www.biomedit.ch/rdf/sphn-schema/sphn/ndc#17856200205', 'https://www.biomedit.ch/rdf/sphn-schema/sphn/ndc#59676056201', 'https://www.biomedit.ch/rdf/sphn-schema/sphn/ndc#781104613', 'https://www.biomedit.ch/rdf/sphn-schema/sphn/ndc#68462063801', 'https://www.biomedit.ch/rdf/sphn-schema/sphn/ndc#65649023141', 'https://www.biomedit.ch/rdf/sphn-schema/sphn/ndc#68084007965', 'https://www.biomedit.ch/rdf/sphn-schema/sphn/ndc#60505075304', 'https://www.biomedit.ch/rdf/sphn-schema/sphn/ndc#68084002801', 'https://www.biomedit.ch/rdf/sphn-schema/sphn/ndc#51079081020', 'https://www.biomedit.ch/rdf/sphn-schema/sphn/ndc#51079069020', 'https://www.biomedit.ch/rdf/sphn-schema/sphn/ndc#65862019301', 'https://www.biomedit.ch/rdf/sphn-schema/sphn/ndc#61553043241', 'https://www.biomedit.ch/rdf/sphn-schema/sphn/ndc#143959525', 'https://www.biomedit.ch/rdf/sphn-schema/sphn/ndc#187170405', 'https://www.biomedit.ch/rdf/sphn-schema/sphn/ndc#36000028325', 'https://www.biomedit.ch/rdf/sphn-schema/sphn/ndc#66689040150', 'https://www.biomedit.ch/rdf/sphn-schema/sphn/ndc#904578961', 'https://www.biomedit.ch/rdf/sphn-schema/sphn/ndc#517083001', 'https://www.biomedit.ch/rdf/sphn-schema/sphn/ndc#904674561', 'https://www.biomedit.ch/rdf/sphn-schema/sphn/ndc#68382077277', 'https://www.biomedit.ch/rdf/sphn-schema/sphn/ndc#50383066730', 'https://www.biomedit.ch/rdf/sphn-schema/sphn/ndc#904661961', 'https://www.biomedit.ch/rdf/sphn-schema/sphn/ndc#60687043801', 'https://www.biomedit.ch/rdf/sphn-schema/sphn/ndc#121481040', 'https://www.biomedit.ch/rdf/sphn-schema/sphn/ndc#61553025409', 'https://www.biomedit.ch/rdf/sphn-schema/sphn/ndc#50458092510', 'https://www.biomedit.ch/rdf/sphn-schema/sphn/ndc#5200010', 'https://www.biomedit.ch/rdf/sphn-schema/sphn/ndc#223176001', 'https://www.biomedit.ch/rdf/sphn-schema/sphn/ndc#43547036809', 'https://www.biomedit.ch/rdf/sphn-schema/sphn/ndc#63739094310', 'https://www.biomedit.ch/rdf/sphn-schema/sphn/ndc#63824071298', 'https://www.biomedit.ch/rdf/sphn-schema/sphn/ndc#603385521', 'https://www.biomedit.ch/rdf/sphn-schema/sphn/ndc#51079060420', 'https://www.biomedit.ch/rdf/sphn-schema/sphn/ndc#409651001', 'https://www.biomedit.ch/rdf/sphn-schema/sphn/ndc#168020437', 'https://www.biomedit.ch/rdf/sphn-schema/sphn/ndc#45802058062', 'https://www.biomedit.ch/rdf/sphn-schema/sphn/ndc#409177805', 'https://www.biomedit.ch/rdf/sphn-schema/sphn/ndc#904655061', 'https://www.biomedit.ch/rdf/sphn-schema/sphn/ndc#641092825', 'https://www.biomedit.ch/rdf/sphn-schema/sphn/ndc#904644461', 'https://www.biomedit.ch/rdf/sphn-schema/sphn/ndc#121476605', 'https://www.biomedit.ch/rdf/sphn-schema/sphn/ndc#61314054701', 'https://www.biomedit.ch/rdf/sphn-schema/sphn/ndc#23917705', 'https://www.biomedit.ch/rdf/sphn-schema/sphn/ndc#409610202', 'https://www.biomedit.ch/rdf/sphn-schema/sphn/ndc#63739027201', 'https://www.biomedit.ch/rdf/sphn-schema/sphn/ndc#597000160', 'https://www.biomedit.ch/rdf/sphn-schema/sphn/ndc#67457019602', 'https://www.biomedit.ch/rdf/sphn-schema/sphn/ndc#55111055610', 'https://www.biomedit.ch/rdf/sphn-schema/sphn/ndc#19481604', 'https://www.biomedit.ch/rdf/sphn-schema/sphn/ndc#24584305', 'https://www.biomedit.ch/rdf/sphn-schema/sphn/ndc#63824000840', 'https://www.biomedit.ch/rdf/sphn-schema/sphn/ndc#409317701', 'https://www.biomedit.ch/rdf/sphn-schema/sphn/ndc#69303220', 'https://www.biomedit.ch/rdf/sphn-schema/sphn/ndc#67457042010', 'https://www.biomedit.ch/rdf/sphn-schema/sphn/ndc#55150016402', 'https://www.biomedit.ch/rdf/sphn-schema/sphn/ndc#68084014901', 'https://www.biomedit.ch/rdf/sphn-schema/sphn/ndc#45802058084', 'https://www.biomedit.ch/rdf/sphn-schema/sphn/ndc#10019007587', 'https://www.biomedit.ch/rdf/sphn-schema/sphn/ndc#10267146501', 'https://www.biomedit.ch/rdf/sphn-schema/sphn/ndc#85113204', 'https://www.biomedit.ch/rdf/sphn-schema/sphn/ndc#71015892', 'https://www.biomedit.ch/rdf/sphn-schema/sphn/ndc#74659490', 'https://www.biomedit.ch/rdf/sphn-schema/sphn/ndc#338067504', 'https://www.biomedit.ch/rdf/sphn-schema/sphn/ndc#51079010520', 'https://www.biomedit.ch/rdf/sphn-schema/sphn/ndc#63739051810', 'https://www.biomedit.ch/rdf/sphn-schema/sphn/ndc#781344095', 'https://www.biomedit.ch/rdf/sphn-schema/sphn/ndc#172436560', 'https://www.biomedit.ch/rdf/sphn-schema/sphn/ndc#54022463', 'https://www.biomedit.ch/rdf/sphn-schema/sphn/ndc#904215461', 'https://www.biomedit.ch/rdf/sphn-schema/sphn/ndc#51079093520', 'https://www.biomedit.ch/rdf/sphn-schema/sphn/ndc#63739035410', 'https://www.biomedit.ch/rdf/sphn-schema/sphn/ndc#50268015215', 'https://www.biomedit.ch/rdf/sphn-schema/sphn/ndc#51991075933', 'https://www.biomedit.ch/rdf/sphn-schema/sphn/ndc#115146860', 'https://www.biomedit.ch/rdf/sphn-schema/sphn/ndc#69784018001', 'https://www.biomedit.ch/rdf/sphn-schema/sphn/ndc#338105102', 'https://www.biomedit.ch/rdf/sphn-schema/sphn/ndc#904678061', 'https://www.biomedit.ch/rdf/sphn-schema/sphn/ndc#68084050201', 'https://www.biomedit.ch/rdf/sphn-schema/sphn/ndc#16729004201', 'https://www.biomedit.ch/rdf/sphn-schema/sphn/ndc#36000001225', 'https://www.biomedit.ch/rdf/sphn-schema/sphn/ndc#43598040516', 'https://www.biomedit.ch/rdf/sphn-schema/sphn/ndc#66553000201', 'https://www.biomedit.ch/rdf/sphn-schema/sphn/ndc#76329330401', 'https://www.biomedit.ch/rdf/sphn-schema/sphn/ndc#63323069404', 'https://www.biomedit.ch/rdf/sphn-schema/sphn/ndc#904635961', 'https://www.biomedit.ch/rdf/sphn-schema/sphn/ndc#51079098620', 'https://www.biomedit.ch/rdf/sphn-schema/sphn/ndc#904640161', 'https://www.biomedit.ch/rdf/sphn-schema/sphn/ndc#25021012120', 'https://www.biomedit.ch/rdf/sphn-schema/sphn/ndc#17478071110', 'https://www.biomedit.ch/rdf/sphn-schema/sphn/ndc#904579461', 'https://www.biomedit.ch/rdf/sphn-schema/sphn/ndc#50242004413', 'https://www.biomedit.ch/rdf/sphn-schema/sphn/ndc#51079098120', 'https://www.biomedit.ch/rdf/sphn-schema/sphn/ndc#60505311000', 'https://www.biomedit.ch/rdf/sphn-schema/sphn/ndc#64764091830', 'https://www.biomedit.ch/rdf/sphn-schema/sphn/ndc#206886002', 'https://www.biomedit.ch/rdf/sphn-schema/sphn/ndc#85432402', 'https://www.biomedit.ch/rdf/sphn-schema/sphn/ndc#406895801', 'https://www.biomedit.ch/rdf/sphn-schema/sphn/ndc#944049505', 'https://www.biomedit.ch/rdf/sphn-schema/sphn/ndc#409272301', 'https://www.biomedit.ch/rdf/sphn-schema/sphn/ndc#409018101', 'https://www.biomedit.ch/rdf/sphn-schema/sphn/ndc#63739002910', 'https://www.biomedit.ch/rdf/sphn-schema/sphn/ndc#54000725', 'https://www.biomedit.ch/rdf/sphn-schema/sphn/ndc#574080530', 'https://www.biomedit.ch/rdf/sphn-schema/sphn/ndc#58468012601', 'https://www.biomedit.ch/rdf/sphn-schema/sphn/ndc#25021067376', 'https://www.biomedit.ch/rdf/sphn-schema/sphn/ndc#904645061', 'https://www.biomedit.ch/rdf/sphn-schema/sphn/ndc#904666561', 'https://www.biomedit.ch/rdf/sphn-schema/sphn/ndc#904505359', 'https://www.biomedit.ch/rdf/sphn-schema/sphn/ndc#51079098220', 'https://www.biomedit.ch/rdf/sphn-schema/sphn/ndc#121063810', 'https://www.biomedit.ch/rdf/sphn-schema/sphn/ndc#121053005', 'https://www.biomedit.ch/rdf/sphn-schema/sphn/ndc#60687022401', 'https://www.biomedit.ch/rdf/sphn-schema/sphn/ndc#121097800', 'https://www.biomedit.ch/rdf/sphn-schema/sphn/ndc#228253910', 'https://www.biomedit.ch/rdf/sphn-schema/sphn/ndc#46074905', 'https://www.biomedit.ch/rdf/sphn-schema/sphn/ndc#2751101', 'https://www.biomedit.ch/rdf/sphn-schema/sphn/ndc#64764080510', 'https://www.biomedit.ch/rdf/sphn-schema/sphn/ndc#76014000433', 'https://www.biomedit.ch/rdf/sphn-schema/sphn/ndc#904198861', 'https://www.biomedit.ch/rdf/sphn-schema/sphn/ndc#42858030125', 'https://www.biomedit.ch/rdf/sphn-schema/sphn/ndc#37205061465', 'https://www.biomedit.ch/rdf/sphn-schema/sphn/ndc#75062430', 'https://www.biomedit.ch/rdf/sphn-schema/sphn/ndc#378181377', 'https://www.biomedit.ch/rdf/sphn-schema/sphn/ndc#70436001982', 'https://www.biomedit.ch/rdf/sphn-schema/sphn/ndc#904647561', 'https://www.biomedit.ch/rdf/sphn-schema/sphn/ndc#57664037708', 'https://www.biomedit.ch/rdf/sphn-schema/sphn/ndc#904660461', 'https://www.biomedit.ch/rdf/sphn-schema/sphn/ndc#60687014301', 'https://www.biomedit.ch/rdf/sphn-schema/sphn/ndc#63739026310', 'https://www.biomedit.ch/rdf/sphn-schema/sphn/ndc#310111001', 'https://www.biomedit.ch/rdf/sphn-schema/sphn/ndc#51079044420', 'https://www.biomedit.ch/rdf/sphn-schema/sphn/ndc#71041724', 'https://www.biomedit.ch/rdf/sphn-schema/sphn/ndc#536100836', 'https://www.biomedit.ch/rdf/sphn-schema/sphn/ndc#121048910', 'https://www.biomedit.ch/rdf/sphn-schema/sphn/ndc#904658561', 'https://www.biomedit.ch/rdf/sphn-schema/sphn/ndc#23155066201', 'https://www.biomedit.ch/rdf/sphn-schema/sphn/ndc#63323049227', 'https://www.biomedit.ch/rdf/sphn-schema/sphn/ndc#54001720', 'https://www.biomedit.ch/rdf/sphn-schema/sphn/ndc#61314065625', 'https://www.biomedit.ch/rdf/sphn-schema/sphn/ndc#43547027010', 'https://www.biomedit.ch/rdf/sphn-schema/sphn/ndc#169750111', 'https://www.biomedit.ch/rdf/sphn-schema/sphn/ndc#68084035801', 'https://www.biomedit.ch/rdf/sphn-schema/sphn/ndc#406577162', 'https://www.biomedit.ch/rdf/sphn-schema/sphn/ndc#61314063705', 'https://www.biomedit.ch/rdf/sphn-schema/sphn/ndc#406905076', 'https://www.biomedit.ch/rdf/sphn-schema/sphn/ndc#310075590', 'https://www.biomedit.ch/rdf/sphn-schema/sphn/ndc#409113403', 'https://www.biomedit.ch/rdf/sphn-schema/sphn/ndc#904644961', 'https://www.biomedit.ch/rdf/sphn-schema/sphn/ndc#338350341', 'https://www.biomedit.ch/rdf/sphn-schema/sphn/ndc#66582041428', 'https://www.biomedit.ch/rdf/sphn-schema/sphn/ndc#70000042401', 'https://www.biomedit.ch/rdf/sphn-schema/sphn/ndc#9004722', 'https://www.biomedit.ch/rdf/sphn-schema/sphn/ndc#409798325', 'https://www.biomedit.ch/rdf/sphn-schema/sphn/ndc#9082501', 'https://www.biomedit.ch/rdf/sphn-schema/sphn/ndc#904282161', 'https://www.biomedit.ch/rdf/sphn-schema/sphn/ndc#338100702', 'https://www.biomedit.ch/rdf/sphn-schema/sphn/ndc#6022761', 'https://www.biomedit.ch/rdf/sphn-schema/sphn/ndc#781210201', 'https://www.biomedit.ch/rdf/sphn-schema/sphn/ndc#65862020230', 'https://www.biomedit.ch/rdf/sphn-schema/sphn/ndc#16729009401', 'https://www.biomedit.ch/rdf/sphn-schema/sphn/ndc#42023022110', 'https://www.biomedit.ch/rdf/sphn-schema/sphn/ndc#25021015899', 'https://www.biomedit.ch/rdf/sphn-schema/sphn/ndc#378180377', 'https://www.biomedit.ch/rdf/sphn-schema/sphn/ndc#24201010024', 'https://www.biomedit.ch/rdf/sphn-schema/sphn/ndc#409272003', 'https://www.biomedit.ch/rdf/sphn-schema/sphn/ndc#42023016425', 'https://www.biomedit.ch/rdf/sphn-schema/sphn/ndc#904691761', 'https://www.biomedit.ch/rdf/sphn-schema/sphn/ndc#68016001129', 'https://www.biomedit.ch/rdf/sphn-schema/sphn/ndc#61314032610', 'https://www.biomedit.ch/rdf/sphn-schema/sphn/ndc#904656761', 'https://www.biomedit.ch/rdf/sphn-schema/sphn/ndc#50268014013', 'https://www.biomedit.ch/rdf/sphn-schema/sphn/ndc#406036562', 'https://www.biomedit.ch/rdf/sphn-schema/sphn/ndc#61553018348', 'https://www.biomedit.ch/rdf/sphn-schema/sphn/ndc#59762372802', 'https://www.biomedit.ch/rdf/sphn-schema/sphn/ndc#67877023022', 'https://www.biomedit.ch/rdf/sphn-schema/sphn/ndc#904647861', 'https://www.biomedit.ch/rdf/sphn-schema/sphn/ndc#68094020462', 'https://www.biomedit.ch/rdf/sphn-schema/sphn/ndc#832121201', 'https://www.biomedit.ch/rdf/sphn-schema/sphn/ndc#904580061', 'https://www.biomedit.ch/rdf/sphn-schema/sphn/ndc#904585361', 'https://www.biomedit.ch/rdf/sphn-schema/sphn/ndc#51079052020', 'https://www.biomedit.ch/rdf/sphn-schema/sphn/ndc#904645561', 'https://www.biomedit.ch/rdf/sphn-schema/sphn/ndc#143967325', 'https://www.biomedit.ch/rdf/sphn-schema/sphn/ndc#51079008620', 'https://www.biomedit.ch/rdf/sphn-schema/sphn/ndc#378447201', 'https://www.biomedit.ch/rdf/sphn-schema/sphn/ndc#54162055009', 'https://www.biomedit.ch/rdf/sphn-schema/sphn/ndc#51079002420', 'https://www.biomedit.ch/rdf/sphn-schema/sphn/ndc#54879000200', 'https://www.biomedit.ch/rdf/sphn-schema/sphn/ndc#63323001302', 'https://www.biomedit.ch/rdf/sphn-schema/sphn/ndc#63323087115', 'https://www.biomedit.ch/rdf/sphn-schema/sphn/ndc#68084018101', 'https://www.biomedit.ch/rdf/sphn-schema/sphn/ndc#63323082074', 'https://www.biomedit.ch/rdf/sphn-schema/sphn/ndc#12547015040', 'https://www.biomedit.ch/rdf/sphn-schema/sphn/ndc#32121201', 'https://www.biomedit.ch/rdf/sphn-schema/sphn/ndc#25021030102', 'https://www.biomedit.ch/rdf/sphn-schema/sphn/ndc#50458058010', 'https://www.biomedit.ch/rdf/sphn-schema/sphn/ndc#65162089903', 'https://www.biomedit.ch/rdf/sphn-schema/sphn/ndc#63323056990', 'https://www.biomedit.ch/rdf/sphn-schema/sphn/ndc#54629012691', 'https://www.biomedit.ch/rdf/sphn-schema/sphn/ndc#781202001', 'https://www.biomedit.ch/rdf/sphn-schema/sphn/ndc#25021013283', 'https://www.biomedit.ch/rdf/sphn-schema/sphn/ndc#63739022510', 'https://www.biomedit.ch/rdf/sphn-schema/sphn/ndc#168001231', 'https://www.biomedit.ch/rdf/sphn-schema/sphn/ndc#59762492101', 'https://www.biomedit.ch/rdf/sphn-schema/sphn/ndc#904640961', 'https://www.biomedit.ch/rdf/sphn-schema/sphn/ndc#603137859', 'https://www.biomedit.ch/rdf/sphn-schema/sphn/ndc#517821025', 'https://www.biomedit.ch/rdf/sphn-schema/sphn/ndc#904020161', 'https://www.biomedit.ch/rdf/sphn-schema/sphn/ndc#68094010859', 'https://www.biomedit.ch/rdf/sphn-schema/sphn/ndc#68084042301', 'https://www.biomedit.ch/rdf/sphn-schema/sphn/ndc#65649055102', 'https://www.biomedit.ch/rdf/sphn-schema/sphn/ndc#51079094320', 'https://www.biomedit.ch/rdf/sphn-schema/sphn/ndc#143985725', 'https://www.biomedit.ch/rdf/sphn-schema/sphn/ndc#49502050002', 'https://www.biomedit.ch/rdf/sphn-schema/sphn/ndc#17478041940', 'https://www.biomedit.ch/rdf/sphn-schema/sphn/ndc#92771060002', 'https://www.biomedit.ch/rdf/sphn-schema/sphn/ndc#143989701', 'https://www.biomedit.ch/rdf/sphn-schema/sphn/ndc#60687025601', 'https://www.biomedit.ch/rdf/sphn-schema/sphn/ndc#68084031901', 'https://www.biomedit.ch/rdf/sphn-schema/sphn/ndc#338358048', 'https://www.biomedit.ch/rdf/sphn-schema/sphn/ndc#51079073620', 'https://www.biomedit.ch/rdf/sphn-schema/sphn/ndc#51079013320', 'https://www.biomedit.ch/rdf/sphn-schema/sphn/ndc#60505075204', 'https://www.biomedit.ch/rdf/sphn-schema/sphn/ndc#45802043803', 'https://www.biomedit.ch/rdf/sphn-schema/sphn/ndc#65162025310', 'https://www.biomedit.ch/rdf/sphn-schema/sphn/ndc#50268075715', 'https://www.biomedit.ch/rdf/sphn-schema/sphn/ndc#51079049920', 'https://www.biomedit.ch/rdf/sphn-schema/sphn/ndc#63323028010', 'https://www.biomedit.ch/rdf/sphn-schema/sphn/ndc#338004931', 'https://www.biomedit.ch/rdf/sphn-schema/sphn/ndc#904637761', 'https://www.biomedit.ch/rdf/sphn-schema/sphn/ndc#61314031801', 'https://www.biomedit.ch/rdf/sphn-schema/sphn/ndc#517090125', 'https://www.biomedit.ch/rdf/sphn-schema/sphn/ndc#186077660', 'https://www.biomedit.ch/rdf/sphn-schema/sphn/ndc#46287000660', 'https://www.biomedit.ch/rdf/sphn-schema/sphn/ndc#338070341', 'https://www.biomedit.ch/rdf/sphn-schema/sphn/ndc#43598044774', 'https://www.biomedit.ch/rdf/sphn-schema/sphn/ndc#51079044120', 'https://www.biomedit.ch/rdf/sphn-schema/sphn/ndc#781375595', 'https://www.biomedit.ch/rdf/sphn-schema/sphn/ndc#71288041083', 'https://www.biomedit.ch/rdf/sphn-schema/sphn/ndc#406055262', 'https://www.biomedit.ch/rdf/sphn-schema/sphn/ndc#63739057310', 'https://www.biomedit.ch/rdf/sphn-schema/sphn/ndc#23050601', 'https://www.biomedit.ch/rdf/sphn-schema/sphn/ndc#60687039801', 'https://www.biomedit.ch/rdf/sphn-schema/sphn/ndc#51079024620', 'https://www.biomedit.ch/rdf/sphn-schema/sphn/ndc#10370010103', 'https://www.biomedit.ch/rdf/sphn-schema/sphn/ndc#60429006301', 'https://www.biomedit.ch/rdf/sphn-schema/sphn/ndc#60505006500', 'https://www.biomedit.ch/rdf/sphn-schema/sphn/ndc#67877010501', 'https://www.biomedit.ch/rdf/sphn-schema/sphn/ndc#63739048610', 'https://www.biomedit.ch/rdf/sphn-schema/sphn/ndc#39822400001', 'https://www.biomedit.ch/rdf/sphn-schema/sphn/ndc#378041501', 'https://www.biomedit.ch/rdf/sphn-schema/sphn/ndc#904628889', 'https://www.biomedit.ch/rdf/sphn-schema/sphn/ndc#17478093415', 'https://www.biomedit.ch/rdf/sphn-schema/sphn/ndc#904052361', 'https://www.biomedit.ch/rdf/sphn-schema/sphn/ndc#55150032325', 'https://www.biomedit.ch/rdf/sphn-schema/sphn/ndc#10019055302', 'https://www.biomedit.ch/rdf/sphn-schema/sphn/ndc#409337504', 'https://www.biomedit.ch/rdf/sphn-schema/sphn/ndc#904592161', 'https://www.biomedit.ch/rdf/sphn-schema/sphn/ndc#591040401', 'https://www.biomedit.ch/rdf/sphn-schema/sphn/ndc#574705050', 'https://www.biomedit.ch/rdf/sphn-schema/sphn/ndc#16729013700', 'https://www.biomedit.ch/rdf/sphn-schema/sphn/ndc#409781124', 'https://www.biomedit.ch/rdf/sphn-schema/sphn/ndc#781324494', 'https://www.biomedit.ch/rdf/sphn-schema/sphn/ndc#121467500', 'https://www.biomedit.ch/rdf/sphn-schema/sphn/ndc#67457015303', 'https://www.biomedit.ch/rdf/sphn-schema/sphn/ndc#61958070101', 'https://www.biomedit.ch/rdf/sphn-schema/sphn/ndc#904623561', 'https://www.biomedit.ch/rdf/sphn-schema/sphn/ndc#409318201', 'https://www.biomedit.ch/rdf/sphn-schema/sphn/ndc#63323050720', 'https://www.biomedit.ch/rdf/sphn-schema/sphn/ndc#904639161', 'https://www.biomedit.ch/rdf/sphn-schema/sphn/ndc#4080085', 'https://www.biomedit.ch/rdf/sphn-schema/sphn/ndc#42367057087', 'https://www.biomedit.ch/rdf/sphn-schema/sphn/ndc#68084025301', 'https://www.biomedit.ch/rdf/sphn-schema/sphn/ndc#61958200201', 'https://www.biomedit.ch/rdf/sphn-schema/sphn/ndc#63323016501', 'https://www.biomedit.ch/rdf/sphn-schema/sphn/ndc#51079010720', 'https://www.biomedit.ch/rdf/sphn-schema/sphn/ndc#904680861', 'https://www.biomedit.ch/rdf/sphn-schema/sphn/ndc#904592961', 'https://www.biomedit.ch/rdf/sphn-schema/sphn/ndc#50458057810', 'https://www.biomedit.ch/rdf/sphn-schema/sphn/ndc#944049302', 'https://www.biomedit.ch/rdf/sphn-schema/sphn/ndc#50484001030', 'https://www.biomedit.ch/rdf/sphn-schema/sphn/ndc#904666761', 'https://www.biomedit.ch/rdf/sphn-schema/sphn/ndc#409379301', 'https://www.biomedit.ch/rdf/sphn-schema/sphn/ndc#904759161', 'https://www.biomedit.ch/rdf/sphn-schema/sphn/ndc#57237000511', 'https://www.biomedit.ch/rdf/sphn-schema/sphn/ndc#338055318', 'https://www.biomedit.ch/rdf/sphn-schema/sphn/ndc#121148800', 'https://www.biomedit.ch/rdf/sphn-schema/sphn/ndc#60687019501', 'https://www.biomedit.ch/rdf/sphn-schema/sphn/ndc#63739035810', 'https://www.biomedit.ch/rdf/sphn-schema/sphn/ndc#70004080640', 'https://www.biomedit.ch/rdf/sphn-schema/sphn/ndc#121197100', 'https://www.biomedit.ch/rdf/sphn-schema/sphn/ndc#68084019801', 'https://www.biomedit.ch/rdf/sphn-schema/sphn/ndc#8104205', 'https://www.biomedit.ch/rdf/sphn-schema/sphn/ndc#63739051910', 'https://www.biomedit.ch/rdf/sphn-schema/sphn/ndc#51991089533', 'https://www.biomedit.ch/rdf/sphn-schema/sphn/ndc#50111043301', 'https://www.biomedit.ch/rdf/sphn-schema/sphn/ndc#64253022235', 'https://www.biomedit.ch/rdf/sphn-schema/sphn/ndc#65649030303', 'https://www.biomedit.ch/rdf/sphn-schema/sphn/ndc#16729018201', 'https://www.biomedit.ch/rdf/sphn-schema/sphn/ndc#51079092320', 'https://www.biomedit.ch/rdf/sphn-schema/sphn/ndc#50268086015', 'https://www.biomedit.ch/rdf/sphn-schema/sphn/ndc#8083303', 'https://www.biomedit.ch/rdf/sphn-schema/sphn/ndc#17478054005', 'https://www.biomedit.ch/rdf/sphn-schema/sphn/ndc#378672705', 'https://www.biomedit.ch/rdf/sphn-schema/sphn/ndc#904504260', 'https://www.biomedit.ch/rdf/sphn-schema/sphn/ndc#50268017715', 'https://www.biomedit.ch/rdf/sphn-schema/sphn/ndc#597018390', 'https://www.biomedit.ch/rdf/sphn-schema/sphn/ndc#68084012801', 'https://www.biomedit.ch/rdf/sphn-schema/sphn/ndc#60505700902', 'https://www.biomedit.ch/rdf/sphn-schema/sphn/ndc#64380073706', 'https://www.biomedit.ch/rdf/sphn-schema/sphn/ndc#597007575', 'https://www.biomedit.ch/rdf/sphn-schema/sphn/ndc#19515090641', 'https://www.biomedit.ch/rdf/sphn-schema/sphn/ndc#63323022905', 'https://www.biomedit.ch/rdf/sphn-schema/sphn/ndc#406052710', 'https://www.biomedit.ch/rdf/sphn-schema/sphn/ndc#904636561', 'https://www.biomedit.ch/rdf/sphn-schema/sphn/ndc#63739047810', 'https://www.biomedit.ch/rdf/sphn-schema/sphn/ndc#39822031005', 'https://www.biomedit.ch/rdf/sphn-schema/sphn/ndc#61703040841', 'https://www.biomedit.ch/rdf/sphn-schema/sphn/ndc#173071920', 'https://www.biomedit.ch/rdf/sphn-schema/sphn/ndc#68084039901', 'https://www.biomedit.ch/rdf/sphn-schema/sphn/ndc#173069504', 'https://www.biomedit.ch/rdf/sphn-schema/sphn/ndc#187526802', 'https://www.biomedit.ch/rdf/sphn-schema/sphn/ndc#904632461', 'https://www.biomedit.ch/rdf/sphn-schema/sphn/ndc#536110788', 'https://www.biomedit.ch/rdf/sphn-schema/sphn/ndc#51079088220', 'https://www.biomedit.ch/rdf/sphn-schema/sphn/ndc#60687019001', 'https://www.biomedit.ch/rdf/sphn-schema/sphn/ndc#597002402', 'https://www.biomedit.ch/rdf/sphn-schema/sphn/ndc#469321110', 'https://www.biomedit.ch/rdf/sphn-schema/sphn/ndc#24208029525', 'https://www.biomedit.ch/rdf/sphn-schema/sphn/ndc#904663961', 'https://www.biomedit.ch/rdf/sphn-schema/sphn/ndc#51079028501', 'https://www.biomedit.ch/rdf/sphn-schema/sphn/ndc#338069104', 'https://www.biomedit.ch/rdf/sphn-schema/sphn/ndc#338355248', 'https://www.biomedit.ch/rdf/sphn-schema/sphn/ndc#36000028225', 'https://www.biomedit.ch/rdf/sphn-schema/sphn/ndc#60505299603', 'https://www.biomedit.ch/rdf/sphn-schema/sphn/ndc#54817525', 'https://www.biomedit.ch/rdf/sphn-schema/sphn/ndc#409610210', 'https://www.biomedit.ch/rdf/sphn-schema/sphn/ndc#50458057910', 'https://www.biomedit.ch/rdf/sphn-schema/sphn/ndc#338055311', 'https://www.biomedit.ch/rdf/sphn-schema/sphn/ndc#781328909', 'https://www.biomedit.ch/rdf/sphn-schema/sphn/ndc#68084007001', 'https://www.biomedit.ch/rdf/sphn-schema/sphn/ndc#4631301', 'https://www.biomedit.ch/rdf/sphn-schema/sphn/ndc#93227534', 'https://www.biomedit.ch/rdf/sphn-schema/sphn/ndc#50383077515', 'https://www.biomedit.ch/rdf/sphn-schema/sphn/ndc#904651961', 'https://www.biomedit.ch/rdf/sphn-schema/sphn/ndc#904636961', 'https://www.biomedit.ch/rdf/sphn-schema/sphn/ndc#64679075903', 'https://www.biomedit.ch/rdf/sphn-schema/sphn/ndc#60505700602', 'https://www.biomedit.ch/rdf/sphn-schema/sphn/ndc#143939810', 'https://www.biomedit.ch/rdf/sphn-schema/sphn/ndc#62584071301', 'https://www.biomedit.ch/rdf/sphn-schema/sphn/ndc#68180051201', 'https://www.biomedit.ch/rdf/sphn-schema/sphn/ndc#60687063801', 'https://www.biomedit.ch/rdf/sphn-schema/sphn/ndc#904671839', 'https://www.biomedit.ch/rdf/sphn-schema/sphn/ndc#406324301', 'https://www.biomedit.ch/rdf/sphn-schema/sphn/ndc#2871501', 'https://www.biomedit.ch/rdf/sphn-schema/sphn/ndc#23155011801', 'https://www.biomedit.ch/rdf/sphn-schema/sphn/ndc#51079054320', 'https://www.biomedit.ch/rdf/sphn-schema/sphn/ndc#61314014405', 'https://www.biomedit.ch/rdf/sphn-schema/sphn/ndc#904272561', 'https://www.biomedit.ch/rdf/sphn-schema/sphn/ndc#409662502', 'https://www.biomedit.ch/rdf/sphn-schema/sphn/ndc#54408425', 'https://www.biomedit.ch/rdf/sphn-schema/sphn/ndc#172572860', 'https://www.biomedit.ch/rdf/sphn-schema/sphn/ndc#338114703', 'https://www.biomedit.ch/rdf/sphn-schema/sphn/ndc#51079072420', 'https://www.biomedit.ch/rdf/sphn-schema/sphn/ndc#68084025901', 'https://www.biomedit.ch/rdf/sphn-schema/sphn/ndc#50742062001', 'https://www.biomedit.ch/rdf/sphn-schema/sphn/ndc#904589161', 'https://www.biomedit.ch/rdf/sphn-schema/sphn/ndc#2831501', 'https://www.biomedit.ch/rdf/sphn-schema/sphn/ndc#76439030910', 'https://www.biomedit.ch/rdf/sphn-schema/sphn/ndc#487980101', 'https://www.biomedit.ch/rdf/sphn-schema/sphn/ndc#36000000306', 'https://www.biomedit.ch/rdf/sphn-schema/sphn/ndc#68682036890', 'https://www.biomedit.ch/rdf/sphn-schema/sphn/ndc#51079094708', 'https://www.biomedit.ch/rdf/sphn-schema/sphn/ndc#59676057001', 'https://www.biomedit.ch/rdf/sphn-schema/sphn/ndc#68084018001', 'https://www.biomedit.ch/rdf/sphn-schema/sphn/ndc#50383068304', 'https://www.biomedit.ch/rdf/sphn-schema/sphn/ndc#63323042605', 'https://www.biomedit.ch/rdf/sphn-schema/sphn/ndc#68180048509', 'https://www.biomedit.ch/rdf/sphn-schema/sphn/ndc#487970101', 'https://www.biomedit.ch/rdf/sphn-schema/sphn/ndc#63323056883', 'https://www.biomedit.ch/rdf/sphn-schema/sphn/ndc#904526161', 'https://www.biomedit.ch/rdf/sphn-schema/sphn/ndc#904580961', 'https://www.biomedit.ch/rdf/sphn-schema/sphn/ndc#60687024201', 'https://www.biomedit.ch/rdf/sphn-schema/sphn/ndc#60687053501', 'https://www.biomedit.ch/rdf/sphn-schema/sphn/ndc#54001820', 'https://www.biomedit.ch/rdf/sphn-schema/sphn/ndc#54288010310', 'https://www.biomedit.ch/rdf/sphn-schema/sphn/ndc#904617261', 'https://www.biomedit.ch/rdf/sphn-schema/sphn/ndc#33358036430', 'https://www.biomedit.ch/rdf/sphn-schema/sphn/ndc#63323041820', 'https://www.biomedit.ch/rdf/sphn-schema/sphn/ndc#904589361', 'https://www.biomedit.ch/rdf/sphn-schema/sphn/ndc#70860030005', 'https://www.biomedit.ch/rdf/sphn-schema/sphn/ndc#71288040211', 'https://www.biomedit.ch/rdf/sphn-schema/sphn/ndc#61924018808', 'https://www.biomedit.ch/rdf/sphn-schema/sphn/ndc#61703034250', 'https://www.biomedit.ch/rdf/sphn-schema/sphn/ndc#17478021502', 'https://www.biomedit.ch/rdf/sphn-schema/sphn/ndc#536440601', 'https://www.biomedit.ch/rdf/sphn-schema/sphn/ndc#36000028425', 'https://www.biomedit.ch/rdf/sphn-schema/sphn/ndc#63323053501', 'https://www.biomedit.ch/rdf/sphn-schema/sphn/ndc#23031204', 'https://www.biomedit.ch/rdf/sphn-schema/sphn/ndc#17478003002', 'https://www.biomedit.ch/rdf/sphn-schema/sphn/ndc#63323056890', 'https://www.biomedit.ch/rdf/sphn-schema/sphn/ndc#57896079101', 'https://www.biomedit.ch/rdf/sphn-schema/sphn/ndc#245005301', 'https://www.biomedit.ch/rdf/sphn-schema/sphn/ndc#48433020230', 'https://www.biomedit.ch/rdf/sphn-schema/sphn/ndc#51079088120', 'https://www.biomedit.ch/rdf/sphn-schema/sphn/ndc#904682894', 'https://www.biomedit.ch/rdf/sphn-schema/sphn/ndc#641604425', 'https://www.biomedit.ch/rdf/sphn-schema/sphn/ndc#93738201', 'https://www.biomedit.ch/rdf/sphn-schema/sphn/ndc#904588061', 'https://www.biomedit.ch/rdf/sphn-schema/sphn/ndc#904639061', 'https://www.biomedit.ch/rdf/sphn-schema/sphn/ndc#781315972', 'https://www.biomedit.ch/rdf/sphn-schema/sphn/ndc#60505079204', 'https://www.biomedit.ch/rdf/sphn-schema/sphn/ndc#185083101', 'https://www.biomedit.ch/rdf/sphn-schema/sphn/ndc#21922000909', 'https://www.biomedit.ch/rdf/sphn-schema/sphn/ndc#904663861', 'https://www.biomedit.ch/rdf/sphn-schema/sphn/ndc#54355663', 'https://www.biomedit.ch/rdf/sphn-schema/sphn/ndc#69600125', 'https://www.biomedit.ch/rdf/sphn-schema/sphn/ndc#51079093220', 'https://www.biomedit.ch/rdf/sphn-schema/sphn/ndc#64764054411', 'https://www.biomedit.ch/rdf/sphn-schema/sphn/ndc#61553020648', 'https://www.biomedit.ch/rdf/sphn-schema/sphn/ndc#50268063615', 'https://www.biomedit.ch/rdf/sphn-schema/sphn/ndc#51079044220', 'https://www.biomedit.ch/rdf/sphn-schema/sphn/ndc#409904517', 'https://www.biomedit.ch/rdf/sphn-schema/sphn/ndc#409707426', 'https://www.biomedit.ch/rdf/sphn-schema/sphn/ndc#409492834', 'https://www.biomedit.ch/rdf/sphn-schema/sphn/ndc#93610812', 'https://www.biomedit.ch/rdf/sphn-schema/sphn/ndc#63739049910', 'https://www.biomedit.ch/rdf/sphn-schema/sphn/ndc#121478505', 'https://www.biomedit.ch/rdf/sphn-schema/sphn/ndc#409205105', 'https://www.biomedit.ch/rdf/sphn-schema/sphn/ndc#44567024010', 'https://www.biomedit.ch/rdf/sphn-schema/sphn/ndc#904666661', 'https://www.biomedit.ch/rdf/sphn-schema/sphn/ndc#487020101', 'https://www.biomedit.ch/rdf/sphn-schema/sphn/ndc#641607325', 'https://www.biomedit.ch/rdf/sphn-schema/sphn/ndc#68084085501', 'https://www.biomedit.ch/rdf/sphn-schema/sphn/ndc#641605725', 'https://www.biomedit.ch/rdf/sphn-schema/sphn/ndc#45802073030', 'https://www.biomedit.ch/rdf/sphn-schema/sphn/ndc#51079017220', 'https://www.biomedit.ch/rdf/sphn-schema/sphn/ndc#51991093498', 'https://www.biomedit.ch/rdf/sphn-schema/sphn/ndc#45802005911', 'https://www.biomedit.ch/rdf/sphn-schema/sphn/ndc#51079011820', 'https://www.biomedit.ch/rdf/sphn-schema/sphn/ndc#64253033335', 'https://www.biomedit.ch/rdf/sphn-schema/sphn/ndc#703367801', 'https://www.biomedit.ch/rdf/sphn-schema/sphn/ndc#904689004', 'https://www.biomedit.ch/rdf/sphn-schema/sphn/ndc#68084062001', 'https://www.biomedit.ch/rdf/sphn-schema/sphn/ndc#43547036703', 'https://www.biomedit.ch/rdf/sphn-schema/sphn/ndc#409508216', 'https://www.biomedit.ch/rdf/sphn-schema/sphn/ndc#6494300', 'https://www.biomedit.ch/rdf/sphn-schema/sphn/ndc#54001920', 'https://www.biomedit.ch/rdf/sphn-schema/sphn/ndc#61958100301', 'https://www.biomedit.ch/rdf/sphn-schema/sphn/ndc#731040106', 'https://www.biomedit.ch/rdf/sphn-schema/sphn/ndc#55150030801', 'https://www.biomedit.ch/rdf/sphn-schema/sphn/ndc#703565601', 'https://www.biomedit.ch/rdf/sphn-schema/sphn/ndc#68084009801', 'https://www.biomedit.ch/rdf/sphn-schema/sphn/ndc#781315695', 'https://www.biomedit.ch/rdf/sphn-schema/sphn/ndc#904504661', 'https://www.biomedit.ch/rdf/sphn-schema/sphn/ndc#51079086920', 'https://www.biomedit.ch/rdf/sphn-schema/sphn/ndc#3089431', 'https://www.biomedit.ch/rdf/sphn-schema/sphn/ndc#38396055018', 'https://www.biomedit.ch/rdf/sphn-schema/sphn/ndc#69339013819', 'https://www.biomedit.ch/rdf/sphn-schema/sphn/ndc#50268006115', 'https://www.biomedit.ch/rdf/sphn-schema/sphn/ndc#70000032301', 'https://www.biomedit.ch/rdf/sphn-schema/sphn/ndc#25021040201', 'https://www.biomedit.ch/rdf/sphn-schema/sphn/ndc#143968910', 'https://www.biomedit.ch/rdf/sphn-schema/sphn/ndc#51079092920', 'https://www.biomedit.ch/rdf/sphn-schema/sphn/ndc#60687049301', 'https://www.biomedit.ch/rdf/sphn-schema/sphn/ndc#54818125', 'https://www.biomedit.ch/rdf/sphn-schema/sphn/ndc#310028239', 'https://www.biomedit.ch/rdf/sphn-schema/sphn/ndc#68084070301', 'https://www.biomedit.ch/rdf/sphn-schema/sphn/ndc#68084067521', 'https://www.biomedit.ch/rdf/sphn-schema/sphn/ndc#591354060', 'https://www.biomedit.ch/rdf/sphn-schema/sphn/ndc#409672923', 'https://www.biomedit.ch/rdf/sphn-schema/sphn/ndc#55150020720', 'https://www.biomedit.ch/rdf/sphn-schema/sphn/ndc#60505251903', 'https://www.biomedit.ch/rdf/sphn-schema/sphn/ndc#409317802', 'https://www.biomedit.ch/rdf/sphn-schema/sphn/ndc#338040903', 'https://www.biomedit.ch/rdf/sphn-schema/sphn/ndc#62584026501', 'https://www.biomedit.ch/rdf/sphn-schema/sphn/ndc#49781014214', 'https://www.biomedit.ch/rdf/sphn-schema/sphn/ndc#68084080801', 'https://www.biomedit.ch/rdf/sphn-schema/sphn/ndc#78024615', 'https://www.biomedit.ch/rdf/sphn-schema/sphn/ndc#68084057201', 'https://www.biomedit.ch/rdf/sphn-schema/sphn/ndc#60505011200', 'https://www.biomedit.ch/rdf/sphn-schema/sphn/ndc#51079000220', 'https://www.biomedit.ch/rdf/sphn-schema/sphn/ndc#904655761', 'https://www.biomedit.ch/rdf/sphn-schema/sphn/ndc#63323022138', 'https://www.biomedit.ch/rdf/sphn-schema/sphn/ndc#68084044701', 'https://www.biomedit.ch/rdf/sphn-schema/sphn/ndc#406910076', 'https://www.biomedit.ch/rdf/sphn-schema/sphn/ndc#51079064420', 'https://www.biomedit.ch/rdf/sphn-schema/sphn/ndc#51079025520', 'https://www.biomedit.ch/rdf/sphn-schema/sphn/ndc#145150605', 'https://www.biomedit.ch/rdf/sphn-schema/sphn/ndc#68547050102', 'https://www.biomedit.ch/rdf/sphn-schema/sphn/ndc#51079007220', 'https://www.biomedit.ch/rdf/sphn-schema/sphn/ndc#47781059891', 'https://www.biomedit.ch/rdf/sphn-schema/sphn/ndc#132020145', 'https://www.biomedit.ch/rdf/sphn-schema/sphn/ndc#409707714', 'https://www.biomedit.ch/rdf/sphn-schema/sphn/ndc#52565000814', 'https://www.biomedit.ch/rdf/sphn-schema/sphn/ndc#60687010001', 'https://www.biomedit.ch/rdf/sphn-schema/sphn/ndc#67919001101', 'https://www.biomedit.ch/rdf/sphn-schema/sphn/ndc#63323031510', 'https://www.biomedit.ch/rdf/sphn-schema/sphn/ndc#781104813', 'https://www.biomedit.ch/rdf/sphn-schema/sphn/ndc#597026010', 'https://www.biomedit.ch/rdf/sphn-schema/sphn/ndc#50268032315', 'https://www.biomedit.ch/rdf/sphn-schema/sphn/ndc#23585318', 'https://www.biomedit.ch/rdf/sphn-schema/sphn/ndc#641607825', 'https://www.biomedit.ch/rdf/sphn-schema/sphn/ndc#409733201', 'https://www.biomedit.ch/rdf/sphn-schema/sphn/ndc#60505011300', 'https://www.biomedit.ch/rdf/sphn-schema/sphn/ndc#48433010801', 'https://www.biomedit.ch/rdf/sphn-schema/sphn/ndc#55150015410', 'https://www.biomedit.ch/rdf/sphn-schema/sphn/ndc#68462029201', 'https://www.biomedit.ch/rdf/sphn-schema/sphn/ndc#51079088420', 'https://www.biomedit.ch/rdf/sphn-schema/sphn/ndc#50268085215', 'https://www.biomedit.ch/rdf/sphn-schema/sphn/ndc#59762100301', 'https://www.biomedit.ch/rdf/sphn-schema/sphn/ndc#51079000720', 'https://www.biomedit.ch/rdf/sphn-schema/sphn/ndc#68382079801', 'https://www.biomedit.ch/rdf/sphn-schema/sphn/ndc#65064725', 'https://www.biomedit.ch/rdf/sphn-schema/sphn/ndc#904651661', 'https://www.biomedit.ch/rdf/sphn-schema/sphn/ndc#904504561', 'https://www.biomedit.ch/rdf/sphn-schema/sphn/ndc#50268068515', 'https://www.biomedit.ch/rdf/sphn-schema/sphn/ndc#63323018410', 'https://www.biomedit.ch/rdf/sphn-schema/sphn/ndc#8084402', 'https://www.biomedit.ch/rdf/sphn-schema/sphn/ndc#93342501', 'https://www.biomedit.ch/rdf/sphn-schema/sphn/ndc#70710134401', 'https://www.biomedit.ch/rdf/sphn-schema/sphn/ndc#51079082120', 'https://www.biomedit.ch/rdf/sphn-schema/sphn/ndc#173075600', 'https://www.biomedit.ch/rdf/sphn-schema/sphn/ndc#39022311', 'https://www.biomedit.ch/rdf/sphn-schema/sphn/ndc#406833062', 'https://www.biomedit.ch/rdf/sphn-schema/sphn/ndc#185012360', 'https://www.biomedit.ch/rdf/sphn-schema/sphn/ndc#143963310', 'https://www.biomedit.ch/rdf/sphn-schema/sphn/ndc#68982062303', 'https://www.biomedit.ch/rdf/sphn-schema/sphn/ndc#68462015811', 'https://www.biomedit.ch/rdf/sphn-schema/sphn/ndc#904642281', 'https://www.biomedit.ch/rdf/sphn-schema/sphn/ndc#904623761', 'https://www.biomedit.ch/rdf/sphn-schema/sphn/ndc#8290306525', 'https://www.biomedit.ch/rdf/sphn-schema/sphn/ndc#904650661', 'https://www.biomedit.ch/rdf/sphn-schema/sphn/ndc#63739007310', 'https://www.biomedit.ch/rdf/sphn-schema/sphn/ndc#14789010910', 'https://www.biomedit.ch/rdf/sphn-schema/sphn/ndc#50268014515', 'https://www.biomedit.ch/rdf/sphn-schema/sphn/ndc#409909422', 'https://www.biomedit.ch/rdf/sphn-schema/sphn/ndc#6394132', 'https://www.biomedit.ch/rdf/sphn-schema/sphn/ndc#66553000101', 'https://www.biomedit.ch/rdf/sphn-schema/sphn/ndc#51079045320', 'https://www.biomedit.ch/rdf/sphn-schema/sphn/ndc#44567061101', 'https://www.biomedit.ch/rdf/sphn-schema/sphn/ndc#59762171002', 'https://www.biomedit.ch/rdf/sphn-schema/sphn/ndc#378207201', 'https://www.biomedit.ch/rdf/sphn-schema/sphn/ndc#31722053101', 'https://www.biomedit.ch/rdf/sphn-schema/sphn/ndc#59762106101', 'https://www.biomedit.ch/rdf/sphn-schema/sphn/ndc#79854010892', 'https://www.biomedit.ch/rdf/sphn-schema/sphn/ndc#904635161', 'https://www.biomedit.ch/rdf/sphn-schema/sphn/ndc#74518211', 'https://www.biomedit.ch/rdf/sphn-schema/sphn/ndc#54352763', 'https://www.biomedit.ch/rdf/sphn-schema/sphn/ndc#8083703'}\n"
     ]
    }
   ],
   "source": [
    "substance_code_instances = set()\n",
    "for s, p, o in g.triples((None, URIRef('http://www.w3.org/1999/02/22-rdf-syntax-ns#type'), URIRef('https://www.biomedit.ch/rdf/sphn-schema/sphn/DrugPrescription'))):\n",
    "    # For each DrugPrescription, find the associated drug codes\n",
    "    for _, code_predicate, code in g.triples((s, URIRef('https://www.biomedit.ch/rdf/sphn-schema/sphn/hasDrug'), None)):\n",
    "        for _, code_predicate, code in g.triples((code, URIRef('https://www.biomedit.ch/rdf/sphn-schema/sphn/hasActiveIngredient'), None)):\n",
    "            for _, code_predicate, code in g.triples((code, URIRef('https://www.biomedit.ch/rdf/sphn-schema/sphn/hasCode'), None)):\n",
    "                substance_code_instances.add(str(code))\n",
    "\n",
    "print(f\"Found {len(substance_code_instances)} substance code instances.\")\n",
    "print(substance_code_instances)"
   ]
  },
  {
   "cell_type": "code",
   "execution_count": 381,
   "id": "0087c797",
   "metadata": {},
   "outputs": [
    {
     "name": "stdout",
     "output_type": "stream",
     "text": [
      "Found 1 severity code instances.\n",
      "{'Serious'}\n"
     ]
    }
   ],
   "source": [
    "severity_code_instances = set()\n",
    "for s, p, o in g.triples((None, URIRef('http://www.w3.org/1999/02/22-rdf-syntax-ns#type'), URIRef('https://www.biomedit.ch/rdf/sphn-schema/sphn/AdverseEvent'))):\n",
    "    # For each AdverseEvent, find the associated severity codes\n",
    "    for _, code_predicate, code in g.triples((s, URIRef('https://www.biomedit.ch/rdf/sphn-schema/sphn/hasSeverity'), None)):\n",
    "        severity_code_instances.add(str(code))\n",
    "\n",
    "print(f\"Found {len(severity_code_instances)} severity code instances.\")\n",
    "print(severity_code_instances)"
   ]
  },
  {
   "cell_type": "code",
   "execution_count": 382,
   "id": "cd2bad4a",
   "metadata": {},
   "outputs": [
    {
     "name": "stdout",
     "output_type": "stream",
     "text": [
      "Found 0 lab test dates.\n",
      "set()\n"
     ]
    }
   ],
   "source": [
    "lab_test_dates = set()\n",
    "for s, p, o in g.triples((None, URIRef('http://www.w3.org/1999/02/22-rdf-syntax-ns#type'), URIRef('https://www.biomedit.ch/rdf/sphn-schema/sphn/LabTestEvent'))):\n",
    "    # For each LabTestEvent, find the associated dates\n",
    "    for _, date_predicate, date in g.triples((s, URIRef('https://www.biomedit.ch/rdf/sphn-schema/sphn/hasDate'), None)):\n",
    "        lab_test_dates.add(str(date))\n",
    "print(f\"Found {len(lab_test_dates)} lab test dates.\")\n",
    "print(lab_test_dates)"
   ]
  },
  {
   "cell_type": "code",
   "execution_count": 383,
   "id": "deb4bbdf",
   "metadata": {},
   "outputs": [
    {
     "name": "stdout",
     "output_type": "stream",
     "text": [
      "Threshold set: {'2023-10-05', '2023-10-04', '2023-10-01', '2023-10-02', '2023-10-06', '2023-10-07', '2023-10-09', '2023-10-08', '2023-10-03', '2023-10-10'}\n"
     ]
    }
   ],
   "source": [
    "dates_set = set()\n",
    "for i in range(10):\n",
    "    dates_set.add(f\"2023-10-{i+1:02d}\")\n",
    "\n",
    "print(f\"Threshold set: {dates_set}\")"
   ]
  },
  {
   "cell_type": "code",
   "execution_count": 384,
   "id": "2a5babd1",
   "metadata": {},
   "outputs": [
    {
     "name": "stdout",
     "output_type": "stream",
     "text": [
      "Found 1 drug code instances.\n",
      "{'M01AE01'}\n"
     ]
    }
   ],
   "source": [
    "drug_value_instances = set()\n",
    "for s, p, o in g.triples((None, URIRef('http://www.w3.org/1999/02/22-rdf-syntax-ns#type'), URIRef('https://www.biomedit.ch/rdf/sphn-schema/sphn/DrugPrescription'))):\n",
    "    # For each DrugPrescription, find the associated drug codes\n",
    "    for _, code_predicate, code in g.triples((s, URIRef('https://www.biomedit.ch/rdf/sphn-schema/sphn/hasDrug'), None)):\n",
    "        for _, code_predicate, code in g.triples((code, URIRef('https://www.biomedit.ch/rdf/sphn-schema/sphn/hasCode'), None)):\n",
    "            for _,code_predicate, code in g.triples((code, URIRef('https://www.biomedit.ch/rdf/sphn-schema/sphn/hasValue'), None)):\n",
    "                drug_value_instances.add(str(code))\n",
    "\n",
    "print(f\"Found {len(drug_value_instances)} drug code instances.\")\n",
    "print(drug_value_instances)"
   ]
  },
  {
   "cell_type": "code",
   "execution_count": 385,
   "id": "ac81f46b",
   "metadata": {},
   "outputs": [
    {
     "name": "stdout",
     "output_type": "stream",
     "text": [
      "Threshold set: {0.0, 1.0, 2.0, 3.0, 4.0, 5.0, 6.0, 7.0, 8.0, 9.0}\n"
     ]
    }
   ],
   "source": [
    "threshold_set = set()\n",
    "for i in range(10):\n",
    "    threshold_set.add(i/1.0)\n",
    "\n",
    "print(f\"Threshold set: {threshold_set}\")"
   ]
  },
  {
   "cell_type": "code",
   "execution_count": 386,
   "id": "3adf3e06",
   "metadata": {},
   "outputs": [
    {
     "name": "stdout",
     "output_type": "stream",
     "text": [
      "Age set: {15, 16, 17, 18, 19, 20, 21, 22, 23, 24, 25, 26, 27, 28, 29, 30, 31, 32, 33, 34, 35, 36, 37, 38, 39, 40, 41, 42, 43, 44, 45, 46, 47, 48, 49, 50, 51, 52, 53, 54, 55, 56, 57, 58, 59, 60, 61, 62, 63, 64, 65, 66, 67, 68, 69, 70, 71, 72, 73, 74, 75, 76, 77, 78, 79}\n"
     ]
    }
   ],
   "source": [
    "age_set = set()\n",
    "for i in range(15, 80):\n",
    "    age_set.add(i)\n",
    "print(f\"Age set: {age_set}\")"
   ]
  },
  {
   "cell_type": "code",
   "execution_count": 417,
   "id": "643557a1",
   "metadata": {},
   "outputs": [
    {
     "data": {
      "text/plain": [
       "17"
      ]
     },
     "execution_count": 417,
     "metadata": {},
     "output_type": "execute_result"
    }
   ],
   "source": [
    "import yaml\n",
    "\n",
    "# Load data from the YAML file\n",
    "yaml_file = \"question_query_templates.yaml\"\n",
    "\n",
    "with open(yaml_file, mode=\"r\", encoding=\"utf-8\") as file:\n",
    "    question_query_data_original = yaml.safe_load(file)\n",
    "len(question_query_data_original)"
   ]
  },
  {
   "cell_type": "code",
   "execution_count": 418,
   "id": "eb8e7207",
   "metadata": {},
   "outputs": [],
   "source": [
    "# Add template numbers to the question_query_data_original\n",
    "for index, entry in enumerate(question_query_data_original):\n",
    "    entry[\"TemplateNumber\"] = index + 1  # Start numbering from 1\n",
    "\n",
    "# Print the updated list to verify\n",
    "# for entry in question_query_data_original:\n",
    "#     print(entry)"
   ]
  },
  {
   "cell_type": "code",
   "execution_count": 420,
   "id": "5cb5721d",
   "metadata": {},
   "outputs": [],
   "source": [
    "import re\n",
    "pattern = r\"\\{[a-zA-Z0-9]+\\}\"\n",
    "pattern_pref = r\"sphn:[a-zA-Z]+\"\n",
    "prefix = \"<https://www.biomedit.ch/rdf/sphn-schema/sphn/\"\n",
    "rdf_prefix = \"<http://www.w3.org/1999/02/22-rdf-syntax-ns#\"\n",
    "for query in question_query_data_original:\n",
    "    half_update_query = query[\"Query\"]\n",
    "    if(re.search(r\"rdf:type\", half_update_query) is not None):\n",
    "        half_update_query = re.sub(r\"rdf:type\", rdf_prefix + \"type>\" , half_update_query, count = 1)\n",
    "\n",
    "    while re.search(pattern_pref, half_update_query):\n",
    "        match = re.search(pattern_pref, half_update_query).group(0)\n",
    "        replacement = prefix + match.split(\":\")[1] + \">\"\n",
    "        # print(f\"Replacing {match} with {replacement}\")\n",
    "        half_update_query = half_update_query.replace(match, replacement, 1)\n",
    "    query[\"Query\"] = half_update_query            \n",
    "    "
   ]
  },
  {
   "cell_type": "code",
   "execution_count": 421,
   "id": "251faef9",
   "metadata": {},
   "outputs": [],
   "source": [
    "import re\n",
    "import random\n",
    "generated_qq = []\n",
    "pattern = r\"§[a-zA-Z0-9]+§\"\n",
    "prefix = \"<https://www.biomedit.ch/rdf/sphn-schema/sphn/\"\n",
    "# Iterate through the question-query data and replace placeholders with actual instances\n",
    "# Using counter to account for questions with multiple placeholders basically adding lots of templates with one placeholder less\n",
    "# Random samplin used to reduce running time\n",
    "counter = 0\n",
    "question_query_data = question_query_data_original.copy()\n",
    "while counter <len(question_query_data):\n",
    "    entry = question_query_data[counter]\n",
    "    counter += 1\n",
    "    question = entry.get(\"Question\")\n",
    "    query = entry.get(\"Query\")\n",
    "    if \"§Diagnosis\" in entry[\"Question\"] and \"§Diagnosis\" in entry[\"Query\"]:\n",
    "        sampled_diagnosiscode_instances = random.sample(list(diagnosis_code_instances), 10)\n",
    "        for diagnosis in sampled_diagnosiscode_instances:\n",
    "            #Change this as per the URI to get the unique identifier for each class\n",
    "            q_replace = (str(diagnosis).split('/')[-1]).split('#')[-1]\n",
    "            query_replace = \"<\"+diagnosis+\">\"\n",
    "            # query_replace = \"\\\"\" + q_replace+\"\\\"\"\n",
    "            updated_question = re.sub(r\"§Diagnosis\\d*§\", q_replace,question , count =1)\n",
    "            updated_query = re.sub(r\"§Diagnosis\\d*§\", query_replace, query, count =1)\n",
    "            if re.search(pattern, updated_question) is None and re.search(pattern, updated_query) is None:\n",
    "                generated_qq.append({\"Question\": updated_question, \"Query\": updated_query, \"Template\": question_query_data_original[entry.get(\"TemplateNumber\")-1].get(\"Query\") , \"QuestionNumber\": len(generated_qq) + 1,\n",
    "                                     \"QuestionTemplate\": question_query_data_original[entry.get(\"TemplateNumber\")-1].get(\"Question\")})\n",
    "            else:\n",
    "                question_query_data.append({\"Question\": updated_question, \"Query\": updated_query, \"TemplateNumber\": entry.get(\"TemplateNumber\")})\n",
    "        continue\n",
    "    if \"§Threshold§\" in entry[\"Question\"] or \"§Threshold§\" in entry[\"Query\"]:\n",
    "        sampled_threshold_set = random.sample(list(threshold_set), 10)\n",
    "        for threshold in sampled_threshold_set:\n",
    "            updated_question = re.sub(r\"§Threshold\\d*§\", str(threshold), question, count=1)\n",
    "            updated_query = re.sub(r\"§Threshold\\d*§\", str(threshold), query, count=1)\n",
    "            if re.search(pattern, updated_question) is None and re.search(pattern, updated_query) is None:\n",
    "                generated_qq.append({\"Question\": updated_question, \"Query\": updated_query, \"Template\": question_query_data_original[entry.get(\"TemplateNumber\")-1].get(\"Query\") , \"QuestionNumber\": len(generated_qq) + 1,\n",
    "                                     \"QuestionTemplate\": question_query_data_original[entry.get(\"TemplateNumber\")-1].get(\"Question\")})\n",
    "            else:\n",
    "                question_query_data.append({\"Question\": updated_question, \"Query\": updated_query, \"TemplateNumber\": entry.get(\"TemplateNumber\")})\n",
    "        continue\n",
    "    if \"§Age\" in entry[\"Question\"] or \"§Age\" in entry[\"Query\"]:\n",
    "        sampled_age_set = random.sample(list(age_set), 10)\n",
    "        for age in sampled_age_set:\n",
    "            updated_question = re.sub(r\"§Age\\d*§\", str(age), question, count=1)\n",
    "            updated_query = re.sub(r\"§Age\\d*§\", str(age), query, count=1)\n",
    "            if re.search(pattern, updated_question) is None and re.search(pattern, updated_query) is None:\n",
    "                generated_qq.append({\"Question\": updated_question, \"Query\": updated_query, \"Template\": question_query_data_original[entry.get(\"TemplateNumber\")-1].get(\"Query\") , \"QuestionNumber\": len(generated_qq) + 1,\n",
    "                                     \"QuestionTemplate\": question_query_data_original[entry.get(\"TemplateNumber\")-1].get(\"Question\")})\n",
    "            else:\n",
    "                question_query_data.append({\"Question\": updated_question, \"Query\": updated_query, \"TemplateNumber\": entry.get(\"TemplateNumber\")})\n",
    "        continue\n",
    "    if \"§Drug\" in entry[\"Question\"] or \"§Drug\" in entry[\"Query\"]:\n",
    "        sampled_drug_code_instances = random.sample(list(drug_code_instances), 1)\n",
    "        for drug in sampled_drug_code_instances:\n",
    "            #Change this as per the URI to get the unique identifier for each class\n",
    "            q_replace = (str(drug).split('/')[-1]).split('#')[-1]\n",
    "            query_replace = \"<\"+drug+\">\"\n",
    "            # query_replace = \"\\\"\" + q_replace+\"\\\"\"\n",
    "            updated_question = re.sub(r\"§Drug\\d*§\", q_replace, question, count=1)\n",
    "            updated_query = re.sub(r\"§Drug\\d*§\", query_replace, query, count=1)\n",
    "            if re.search(pattern, updated_question) is None and re.search(pattern, updated_query) is None:\n",
    "                generated_qq.append({\"Question\": updated_question, \"Query\": updated_query, \"Template\": question_query_data_original[entry.get(\"TemplateNumber\")-1].get(\"Query\") , \"QuestionNumber\": len(generated_qq) + 1,\n",
    "                                     \"QuestionTemplate\": question_query_data_original[entry.get(\"TemplateNumber\")-1].get(\"Question\")})\n",
    "            else:\n",
    "                question_query_data.append({\"Question\": updated_question, \"Query\": updated_query, \"TemplateNumber\": entry.get(\"TemplateNumber\")})\n",
    "        continue\n",
    "    if \"§Severity\" in entry[\"Question\"] or \"§Severity\" in entry[\"Query\"]:\n",
    "        sampled_severity_code_instances = random.sample(list(severity_code_instances), 1)\n",
    "        for severity in sampled_severity_code_instances:\n",
    "            #Change this as per the URI to get the unique identifier for each class\n",
    "            q_replace = (str(severity).split('/')[-1]).split('#')[-1]\n",
    "            query_replace =  \"<\"+severity+\">\"\n",
    "            updated_question = re.sub(r\"§Severity\\d*§\", q_replace, question, count=1)\n",
    "            updated_query = re.sub(r\"§Severity\\d*§\", query_replace, query, count=1)\n",
    "            if re.search(pattern, updated_question) is None and re.search(pattern, updated_query) is None:\n",
    "                generated_qq.append({\"Question\": updated_question, \"Query\": updated_query, \"Template\": question_query_data_original[entry.get(\"TemplateNumber\")-1].get(\"Query\") , \"QuestionNumber\": len(generated_qq) + 1,\n",
    "                                     \"QuestionTemplate\": question_query_data_original[entry.get(\"TemplateNumber\")-1].get(\"Question\")})\n",
    "            else:\n",
    "                question_query_data.append({\"Question\": updated_question, \"Query\": updated_query, \"TemplateNumber\": entry.get(\"TemplateNumber\")})\n",
    "        continue\n",
    "    if \"§Substance\" in entry[\"Question\"] or \"§Substance\" in entry[\"Query\"]:\n",
    "        sampled_substance_code_instances = random.sample(list(substance_code_instances), 1)\n",
    "        for substance in sampled_substance_code_instances:\n",
    "            #Change this as per the URI to get the unique identifier for each class\n",
    "            q_replace = (str(substance).split('/')[-1]).split('#')[-1]\n",
    "            query_replace = \"<\"+substance+\">\"\n",
    "            updated_question = re.sub(r\"§Substance\\d*§\", q_replace, question, count=1)\n",
    "            updated_query = re.sub(r\"§Substance\\d*§\", query_replace, query, count=1)\n",
    "            if re.search(pattern, updated_question) is None and re.search(pattern, updated_query) is None:\n",
    "                generated_qq.append({\"Question\": updated_question, \"Query\": updated_query, \"Template\": question_query_data_original[entry.get(\"TemplateNumber\")-1].get(\"Query\") , \"QuestionNumber\": len(generated_qq) + 1,\n",
    "                                     \"QuestionTemplate\": question_query_data_original[entry.get(\"TemplateNumber\")-1].get(\"Question\")})\n",
    "            else:\n",
    "                question_query_data.append({\"Question\": updated_question, \"Query\": updated_query, \"TemplateNumber\": entry.get(\"TemplateNumber\")})\n",
    "        continue\n",
    "    if \"§Date\" in entry[\"Question\"] or \"§Date\" in entry[\"Query\"]:\n",
    "        sampled_lab_test_dates = random.sample(list(dates_set), 5)\n",
    "        for date in sampled_lab_test_dates:\n",
    "            #Change this as per the URI to get the unique identifier for each class\n",
    "            q_replace = (str(date).split('/')[-1]).split('#')[-1]\n",
    "            query_replace = \"<\"+date+\">\"\n",
    "            updated_question = re.sub(r\"§Date\\d*§\", q_replace, question, count=1)\n",
    "            updated_query = re.sub(r\"§Date\\d*§\", query_replace, query, count=1)\n",
    "            if re.search(pattern, updated_question) is None and re.search(pattern, updated_query) is None:\n",
    "                generated_qq.append({\"Question\": updated_question, \"Query\": updated_query, \"Template\": question_query_data_original[entry.get(\"TemplateNumber\")-1].get(\"Query\") , \"QuestionNumber\": len(generated_qq) + 1,\n",
    "                                     \"QuestionTemplate\": question_query_data_original[entry.get(\"TemplateNumber\")-1].get(\"Question\")})\n",
    "            else:\n",
    "                question_query_data.append({\"Question\":updated_question, \"Query\": updated_query, \"TemplateNumber\": entry.get(\"TemplateNumber\")})\n",
    "        continue\n",
    "    generated_qq.append({\"Question\": question, \"Query\": query, \"Template\": question_query_data_original[entry.get(\"TemplateNumber\")-1].get(\"Query\") , \"QuestionNumber\": len(generated_qq) + 1,\n",
    "                                     \"QuestionTemplate\": question_query_data_original[entry.get(\"TemplateNumber\")-1].get(\"Question\")})\n",
    "            \n",
    "\n",
    "\n",
    "output_yaml = \"generated_question_query_pairs.yaml\"\n",
    "with open(output_yaml, mode=\"w\", encoding=\"utf-8\") as file:\n",
    "    yaml.dump(generated_qq, file, default_flow_style=False, allow_unicode=True)   "
   ]
  },
  {
   "cell_type": "code",
   "execution_count": 412,
   "id": "1fda89bf",
   "metadata": {},
   "outputs": [
    {
     "name": "stdout",
     "output_type": "stream",
     "text": [
      "SELECT ?patient WHERE { ?event <https://www.biomedit.ch/rdf/sphn-schema/sphn/hasSubjectPseudoIdentifier> ?patient . ?event <https://www.biomedit.ch/rdf/sphn-schema/sphn/hasLabResult> ?res . ?res <https://www.biomedit.ch/rdf/sphn-schema/sphn/hasQuantityValue> ?val . FILTER(?val > §Threshold§ ) }\n",
      "YAML file 'question_query_pairs_examples.yaml' created successfully.\n",
      "Number of unique entries: 14\n",
      "{'Question': 'Which patients have been diagnosed with I314?', 'Query': 'SELECT ?patient WHERE { ?patient <https://www.biomedit.ch/rdf/sphn-schema/sphn/hasDiagnosis> ?diag . ?diag <https://www.biomedit.ch/rdf/sphn-schema/sphn/hasCode> ?code . ?code <https://www.biomedit.ch/rdf/sphn-schema/sphn/hasCodeValue> <https://www.biomedit.ch/rdf/sphn-schema/sphn/icd#I314> . }', 'Template': 'SELECT ?patient WHERE { ?patient <https://www.biomedit.ch/rdf/sphn-schema/sphn/hasDiagnosis> ?diag . ?diag <https://www.biomedit.ch/rdf/sphn-schema/sphn/hasCode> ?code . ?code <https://www.biomedit.ch/rdf/sphn-schema/sphn/hasCodeValue> §Diagnosis§ . }', 'QuestionNumber': 1, 'QuestionTemplate': 'Which patients have been diagnosed with §Diagnosis§?'}\n",
      "{'Question': 'Which patient’s lab results have surpassed the threshold of 8.0?', 'Query': 'SELECT ?patient WHERE { ?event <https://www.biomedit.ch/rdf/sphn-schema/sphn/hasSubjectPseudoIdentifier> ?patient . ?event <https://www.biomedit.ch/rdf/sphn-schema/sphn/hasLabResult> ?res . ?res <https://www.biomedit.ch/rdf/sphn-schema/sphn/hasQuantityValue> ?val . FILTER(?val > 8.0 ) }', 'Template': 'SELECT ?patient WHERE { ?event <https://www.biomedit.ch/rdf/sphn-schema/sphn/hasSubjectPseudoIdentifier> ?patient . ?event <https://www.biomedit.ch/rdf/sphn-schema/sphn/hasLabResult> ?res . ?res <https://www.biomedit.ch/rdf/sphn-schema/sphn/hasQuantityValue> ?val . FILTER(?val > §Threshold§ ) }', 'QuestionNumber': 11, 'QuestionTemplate': 'Which patient’s lab results have surpassed the threshold of §Threshold§?'}\n",
      "{'Question': 'Which patients have taken M01AE01?', 'Query': '?patient WHERE { ?presc <https://www.biomedit.ch/rdf/sphn-schema/sphn/hasSubjectPseudoIdentifier> ?patient . ?presc <https://www.biomedit.ch/rdf/sphn-schema/sphn/hasDrug> ?drug . ?drug <https://www.biomedit.ch/rdf/sphn-schema/sphn/hasCode> ?code . ?code <https://www.biomedit.ch/rdf/sphn-schema/sphn/hasCodeValue> <M01AE01> }', 'Template': '?patient WHERE { ?presc <https://www.biomedit.ch/rdf/sphn-schema/sphn/hasSubjectPseudoIdentifier> ?patient . ?presc <https://www.biomedit.ch/rdf/sphn-schema/sphn/hasDrug> ?drug . ?drug <https://www.biomedit.ch/rdf/sphn-schema/sphn/hasCode> ?code . ?code <https://www.biomedit.ch/rdf/sphn-schema/sphn/hasCodeValue> §Drug§ }', 'QuestionNumber': 21, 'QuestionTemplate': 'Which patients have taken §Drug§?'}\n",
      "{'Question': 'How many patients are there who have been diagnosed with I63422 ?', 'Query': 'SELECT (COUNT(DISTINCT ?patient) AS ?numPatients) WHERE { ?patient <https://www.biomedit.ch/rdf/sphn-schema/sphn/hasDiagnosis> ?diag . ?diag <https://www.biomedit.ch/rdf/sphn-schema/sphn/hasCode> ?code . ?code <https://www.biomedit.ch/rdf/sphn-schema/sphn/hasCodeValue> <https://www.biomedit.ch/rdf/sphn-schema/sphn/icd#I63422> . }', 'Template': 'SELECT (COUNT(DISTINCT ?patient) AS ?numPatients) WHERE { ?patient <https://www.biomedit.ch/rdf/sphn-schema/sphn/hasDiagnosis> ?diag . ?diag <https://www.biomedit.ch/rdf/sphn-schema/sphn/hasCode> ?code . ?code <https://www.biomedit.ch/rdf/sphn-schema/sphn/hasCodeValue> §Diagnosis§ . }', 'QuestionNumber': 22, 'QuestionTemplate': 'How many patients are there who have been diagnosed with §Diagnosis§ ?'}\n",
      "{'Question': 'How many patients have enrolled per site?', 'Query': 'SELECT ?site (COUNT(DISTINCT ?patient) AS ?count) WHERE { ?event <http://www.w3.org/1999/02/22-rdf-syntax-ns#type> <https://www.biomedit.ch/rdf/sphn-schema/sphn/EnrollmentEvent> . ?event <https://www.biomedit.ch/rdf/sphn-schema/sphn/hasSite> ?site . ?event <https://www.biomedit.ch/rdf/sphn-schema/sphn/hasSubjectPseudoIdentifier> ?patient . } GROUP BY ?site', 'Template': 'SELECT ?site (COUNT(DISTINCT ?patient) AS ?count) WHERE { ?event <http://www.w3.org/1999/02/22-rdf-syntax-ns#type> <https://www.biomedit.ch/rdf/sphn-schema/sphn/EnrollmentEvent> . ?event <https://www.biomedit.ch/rdf/sphn-schema/sphn/hasSite> ?site . ?event <https://www.biomedit.ch/rdf/sphn-schema/sphn/hasSubjectPseudoIdentifier> ?patient . } GROUP BY ?site', 'QuestionNumber': 32, 'QuestionTemplate': 'How many patients have enrolled per site?'}\n",
      "{'Question': 'What patients are over the age of 19?', 'Query': 'SELECT ?patient WHERE { ?patient <https://www.biomedit.ch/rdf/sphn-schema/sphn/hasBirthDate> ?dob . BIND(year(NOW()) - year(?dob) AS ?age) FILTER(?age >= 19 ) }', 'Template': 'SELECT ?patient WHERE { ?patient <https://www.biomedit.ch/rdf/sphn-schema/sphn/hasBirthDate> ?dob . BIND(year(NOW()) - year(?dob) AS ?age) FILTER(?age >= §Age§ ) }', 'QuestionNumber': 33, 'QuestionTemplate': 'What patients are over the age of §Age§?'}\n",
      "{'Question': 'Which patients have been exposed to the drug M01AE01?', 'Query': 'SELECT ?patient WHERE { ?presc <https://www.biomedit.ch/rdf/sphn-schema/sphn/hasSubjectPseudoIdentifier> ?patient . ?presc <https://www.biomedit.ch/rdf/sphn-schema/sphn/hasDrug> ?drug . ?drug <https://www.biomedit.ch/rdf/sphn-schema/sphn/hasCode> ?code . ?code <https://www.biomedit.ch/rdf/sphn-schema/sphn/hasCodeValue> <M01AE01> }', 'Template': 'SELECT ?patient WHERE { ?presc <https://www.biomedit.ch/rdf/sphn-schema/sphn/hasSubjectPseudoIdentifier> ?patient . ?presc <https://www.biomedit.ch/rdf/sphn-schema/sphn/hasDrug> ?drug . ?drug <https://www.biomedit.ch/rdf/sphn-schema/sphn/hasCode> ?code . ?code <https://www.biomedit.ch/rdf/sphn-schema/sphn/hasCodeValue> §Drug§ }', 'QuestionNumber': 43, 'QuestionTemplate': 'Which patients have been exposed to the drug §Drug§?'}\n",
      "{'Question': 'Which patients have been exposed to the substance 409189001?', 'Query': 'SELECT ?patient WHERE { ?presc <https://www.biomedit.ch/rdf/sphn-schema/sphn/hasSubjectPseudoIdentifier> ?patient . ?presc <https://www.biomedit.ch/rdf/sphn-schema/sphn/hasDrug> ?drug . ?drug <https://www.biomedit.ch/rdf/sphn-schema/sphn/hasSubstanceClass> ?class . ?class <https://www.biomedit.ch/rdf/sphn-schema/sphn/hasCode> ?code . ?code <https://www.biomedit.ch/rdf/sphn-schema/sphn/hasCodeValue> <https://www.biomedit.ch/rdf/sphn-schema/sphn/ndc#409189001> . }', 'Template': 'SELECT ?patient WHERE { ?presc <https://www.biomedit.ch/rdf/sphn-schema/sphn/hasSubjectPseudoIdentifier> ?patient . ?presc <https://www.biomedit.ch/rdf/sphn-schema/sphn/hasDrug> ?drug . ?drug <https://www.biomedit.ch/rdf/sphn-schema/sphn/hasSubstanceClass> ?class . ?class <https://www.biomedit.ch/rdf/sphn-schema/sphn/hasCode> ?code . ?code <https://www.biomedit.ch/rdf/sphn-schema/sphn/hasCodeValue> §Substance§ . }', 'QuestionNumber': 44, 'QuestionTemplate': 'Which patients have been exposed to the substance §Substance§?'}\n",
      "{'Question': 'Which patients have not reached the threshold of 4.0 for their lab tests?', 'Query': 'SELECT ?patient WHERE { ?event <https://www.biomedit.ch/rdf/sphn-schema/sphn/hasSubjectPseudoIdentifier> ?patient . ?event <https://www.biomedit.ch/rdf/sphn-schema/sphn/hasLabResult> ?res . ?res <https://www.biomedit.ch/rdf/sphn-schema/sphn/hasQuantityValue> ?val . FILTER(?val < 4.0 ) }', 'Template': 'SELECT ?patient WHERE { ?event <https://www.biomedit.ch/rdf/sphn-schema/sphn/hasSubjectPseudoIdentifier> ?patient . ?event <https://www.biomedit.ch/rdf/sphn-schema/sphn/hasLabResult> ?res . ?res <https://www.biomedit.ch/rdf/sphn-schema/sphn/hasQuantityValue> ?val . FILTER(?val < §Threshold§ ) }', 'QuestionNumber': 45, 'QuestionTemplate': 'Which patients have not reached the threshold of §Threshold§ for their lab tests?'}\n",
      "{'Question': 'Which patients have had a Serious adverse event?', 'Query': 'SELECT ?patient WHERE { ?ae <http://www.w3.org/1999/02/22-rdf-syntax-ns#type> <https://www.biomedit.ch/rdf/sphn-schema/sphn/AdverseEvent> . ?ae <https://www.biomedit.ch/rdf/sphn-schema/sphn/hasSubjectPseudoIdentifier> ?patient . ?ae <https://www.biomedit.ch/rdf/sphn-schema/sphn/hasSeverity> ?sev . FILTER(?sev IN (\"<Serious>\")) }', 'Template': 'SELECT ?patient WHERE { ?ae <http://www.w3.org/1999/02/22-rdf-syntax-ns#type> <https://www.biomedit.ch/rdf/sphn-schema/sphn/AdverseEvent> . ?ae <https://www.biomedit.ch/rdf/sphn-schema/sphn/hasSubjectPseudoIdentifier> ?patient . ?ae <https://www.biomedit.ch/rdf/sphn-schema/sphn/hasSeverity> ?sev . FILTER(?sev IN (\"§Severity§\")) }', 'QuestionNumber': 55, 'QuestionTemplate': 'Which patients have had a §Severity§ adverse event?'}\n",
      "{'Question': 'Which patients have had a test event after the date of 2023-10-09?', 'Query': 'SELECT ?patient WHERE { ?event <http://www.w3.org/1999/02/22-rdf-syntax-ns#type> <https://www.biomedit.ch/rdf/sphn-schema/sphn/LabTestEvent> . ?event <https://www.biomedit.ch/rdf/sphn-schema/sphn/hasSubjectPseudoIdentifier> ?patient .?event <https://www.biomedit.ch/rdf/sphn-schema/sphn/hasDate> ?date .FILTER(?date > \"<2023-10-09>\"^^xsd:date)}', 'Template': 'SELECT ?patient WHERE { ?event <http://www.w3.org/1999/02/22-rdf-syntax-ns#type> <https://www.biomedit.ch/rdf/sphn-schema/sphn/LabTestEvent> . ?event <https://www.biomedit.ch/rdf/sphn-schema/sphn/hasSubjectPseudoIdentifier> ?patient .?event <https://www.biomedit.ch/rdf/sphn-schema/sphn/hasDate> ?date .FILTER(?date > \"§Date§\"^^xsd:date)}', 'QuestionNumber': 56, 'QuestionTemplate': 'Which patients have had a test event after the date of §Date§?'}\n",
      "{'Question': 'Which patient has been diagnosed with I209 and had a lab result surpass the threshold of 1.0?', 'Query': 'SELECT ?patient WHERE { ?patient <https://www.biomedit.ch/rdf/sphn-schema/sphn/hasDiagnosis> ?diag . ?diag <https://www.biomedit.ch/rdf/sphn-schema/sphn/hasCode> ?code . ?code <https://www.biomedit.ch/rdf/sphn-schema/sphn/hasCodeValue> <https://www.biomedit.ch/rdf/sphn-schema/sphn/icd#I209> . ?event <https://www.biomedit.ch/rdf/sphn-schema/sphn/hasSubjectPseudoIdentifier> ?patient . ?event <https://www.biomedit.ch/rdf/sphn-schema/sphn/hasLabResult> ?res . ?res <https://www.biomedit.ch/rdf/sphn-schema/sphn/hasQuantityValue> ?val . FILTER(?val > 1.0 ) }', 'Template': 'SELECT ?patient WHERE { ?patient <https://www.biomedit.ch/rdf/sphn-schema/sphn/hasDiagnosis> ?diag . ?diag <https://www.biomedit.ch/rdf/sphn-schema/sphn/hasCode> ?code . ?code <https://www.biomedit.ch/rdf/sphn-schema/sphn/hasCodeValue> §Diagnosis§ . ?event <https://www.biomedit.ch/rdf/sphn-schema/sphn/hasSubjectPseudoIdentifier> ?patient . ?event <https://www.biomedit.ch/rdf/sphn-schema/sphn/hasLabResult> ?res . ?res <https://www.biomedit.ch/rdf/sphn-schema/sphn/hasQuantityValue> ?val . FILTER(?val > §Threshold§ ) }', 'QuestionNumber': 61, 'QuestionTemplate': 'Which patient has been diagnosed with §Diagnosis§ and had a lab result surpass the threshold of §Threshold§?'}\n",
      "{'Question': 'Which patients have been diagnosed with I119 or I482', 'Query': 'SELECT ?patient WHERE { { ?patient <https://www.biomedit.ch/rdf/sphn-schema/sphn/hasDiagnosis> ?diag . ?diag <https://www.biomedit.ch/rdf/sphn-schema/sphn/hasCode> ?code . ?code <https://www.biomedit.ch/rdf/sphn-schema/sphn/hasCodeValue> <https://www.biomedit.ch/rdf/sphn-schema/sphn/icd#I119> .} UNION { ?patient <https://www.biomedit.ch/rdf/sphn-schema/sphn/hasDiagnosis> ?diag . ?diag <https://www.biomedit.ch/rdf/sphn-schema/sphn/hasCode> ?code . ?code <https://www.biomedit.ch/rdf/sphn-schema/sphn/hasCodeValue> <https://www.biomedit.ch/rdf/sphn-schema/sphn/icd#I482> . } }', 'Template': 'SELECT ?patient WHERE { { ?patient <https://www.biomedit.ch/rdf/sphn-schema/sphn/hasDiagnosis> ?diag . ?diag <https://www.biomedit.ch/rdf/sphn-schema/sphn/hasCode> ?code . ?code <https://www.biomedit.ch/rdf/sphn-schema/sphn/hasCodeValue> §Diagnosis1§ .} UNION { ?patient <https://www.biomedit.ch/rdf/sphn-schema/sphn/hasDiagnosis> ?diag . ?diag <https://www.biomedit.ch/rdf/sphn-schema/sphn/hasCode> ?code . ?code <https://www.biomedit.ch/rdf/sphn-schema/sphn/hasCodeValue> §Diagnosis2§ . } }', 'QuestionNumber': 161, 'QuestionTemplate': 'Which patients have been diagnosed with §Diagnosis1§ or §Diagnosis2§'}\n",
      "{'Question': 'Which patients have been diagnosed with I447 and have had a lab test surpass the value 3.0?', 'Query': 'SELECT ?patient WHERE { ?patient <https://www.biomedit.ch/rdf/sphn-schema/sphn/hasDiagnosis> ?diag . ?diag <https://www.biomedit.ch/rdf/sphn-schema/sphn/hasCode> ?code . ?code <https://www.biomedit.ch/rdf/sphn-schema/sphn/hasCodeValue> <https://www.biomedit.ch/rdf/sphn-schema/sphn/icd#I447> . ?event <https://www.biomedit.ch/rdf/sphn-schema/sphn/hasSubjectPseudoIdentifier> ?patient . ?event <https://www.biomedit.ch/rdf/sphn-schema/sphn/hasLabResult> ?res . ?res <https://www.biomedit.ch/rdf/sphn-schema/sphn/hasQuantityValue> ?val . FILTER(?val > 3.0) }', 'Template': 'SELECT ?patient WHERE { ?patient <https://www.biomedit.ch/rdf/sphn-schema/sphn/hasDiagnosis> ?diag . ?diag <https://www.biomedit.ch/rdf/sphn-schema/sphn/hasCode> ?code . ?code <https://www.biomedit.ch/rdf/sphn-schema/sphn/hasCodeValue> §Diagnosis§ . ?event <https://www.biomedit.ch/rdf/sphn-schema/sphn/hasSubjectPseudoIdentifier> ?patient . ?event <https://www.biomedit.ch/rdf/sphn-schema/sphn/hasLabResult> ?res . ?res <https://www.biomedit.ch/rdf/sphn-schema/sphn/hasQuantityValue> ?val . FILTER(?val > §Threshold§) }', 'QuestionNumber': 261, 'QuestionTemplate': 'Which patients have been diagnosed with §Diagnosis§ and have had a lab test surpass the value §Threshold§?'}\n"
     ]
    }
   ],
   "source": [
    "# Create a dictionary to store one entry per template type\n",
    "unique_entries = {}\n",
    "\n",
    "# Iterate through the generated_qq list\n",
    "for entry in generated_qq:\n",
    "    template = entry.get(\"Template\", \"Unknown Template\")\n",
    "    if template not in unique_entries:\n",
    "        unique_entries[template] = entry\n",
    "\n",
    "# Convert the dictionary values to a list\n",
    "unique_entries_list = list(unique_entries.values())\n",
    "example_entries_list = []\n",
    "print(unique_entries_list[1].get(\"Template\"))\n",
    "for entry in unique_entries_list:\n",
    "    example_entries_list.append({\"question_example\": entry.get(\"Question\"), \"query_example\": entry.get(\"Query\"), \"query_template\": entry.get(\"Template\"), \"question_template\": entry.get(\"QuestionTemplate\")})\n",
    "output_yaml = \"question_query_pairs_examples.yaml\"\n",
    "with open(output_yaml, mode=\"w\", encoding=\"utf-8\") as file:\n",
    "    yaml.dump(example_entries_list, file, default_flow_style=False, allow_unicode=True)\n",
    "\n",
    "print(f\"YAML file '{output_yaml}' created successfully.\")\n",
    "# Print the number of unique entries and the list\n",
    "print(f\"Number of unique entries: {len(unique_entries_list)}\")\n",
    "for item in unique_entries_list:\n",
    "    print(item)"
   ]
  },
  {
   "cell_type": "code",
   "execution_count": 407,
   "id": "cf50500e",
   "metadata": {},
   "outputs": [
    {
     "name": "stdout",
     "output_type": "stream",
     "text": [
      "14\n",
      "44\n"
     ]
    }
   ],
   "source": [
    "print(len(question_query_data_original))\n",
    "print(len(question_query_data))"
   ]
  },
  {
   "cell_type": "code",
   "execution_count": 399,
   "id": "111fecc7",
   "metadata": {},
   "outputs": [
    {
     "name": "stdout",
     "output_type": "stream",
     "text": [
      "YAML file 'grouped_question_query_pairs.yaml' created successfully.\n"
     ]
    }
   ],
   "source": [
    "import yaml\n",
    "from collections import defaultdict\n",
    "# Enumerate the templates in the generated_qq list\n",
    "for index, entry in enumerate(generated_qq, start=1):\n",
    "    entry[\"TemplateNumber\"] = index\n",
    "# Group entries by their template\n",
    "grouped_entries = defaultdict(list)\n",
    "for entry in generated_qq:\n",
    "    template = entry.get(\"Template\", \"Unknown Template\")\n",
    "    grouped_entries[template].append({\n",
    "        \"Question\": entry[\"Question\"],\n",
    "        \"Query\": entry[\"Query\"],\n",
    "        \"QuestionNumber\": entry[\"QuestionNumber\"]\n",
    "    })\n",
    "\n",
    "# Save the grouped entries to a YAML file\n",
    "output_yaml = \"grouped_question_query_pairs.yaml\"\n",
    "with open(output_yaml, mode=\"w\", encoding=\"utf-8\") as file:\n",
    "    yaml.dump(dict(grouped_entries), file, default_flow_style=False, allow_unicode=True)\n",
    "\n",
    "print(f\"YAML file '{output_yaml}' created successfully.\")"
   ]
  },
  {
   "cell_type": "code",
   "execution_count": 394,
   "id": "52701c7d",
   "metadata": {},
   "outputs": [
    {
     "name": "stdout",
     "output_type": "stream",
     "text": [
      "Loaded keys: ['?patient WHERE { ?presc <https://www.biomedit.ch/rdf/sphn-schema/sphn/hasSubjectPseudoIdentifier> ?patient . ?presc <https://www.biomedit.ch/rdf/sphn-schema/sphn/hasDrug> ?drug . ?drug <https://www.biomedit.ch/rdf/sphn-schema/sphn/hasCode> ?code . ?code <https://www.biomedit.ch/rdf/sphn-schema/sphn/hasCodeValue> §Drug§ }', 'SELECT (COUNT(DISTINCT ?patient) AS ?numPatients) WHERE { ?patient <https://www.biomedit.ch/rdf/sphn-schema/sphn/hasDiagnosis> ?diag . ?diag <https://www.biomedit.ch/rdf/sphn-schema/sphn/hasCode> ?code . ?code <https://www.biomedit.ch/rdf/sphn-schema/sphn/hasCodeValue> §Diagnosis§ . }', 'SELECT ?patient WHERE { ?ae <http://www.w3.org/1999/02/22-rdf-syntax-ns#type> <https://www.biomedit.ch/rdf/sphn-schema/sphn/AdverseEvent> . ?ae <https://www.biomedit.ch/rdf/sphn-schema/sphn/hasSubjectPseudoIdentifier> ?patient . ?ae <https://www.biomedit.ch/rdf/sphn-schema/sphn/hasSeverity> ?sev . FILTER(?sev IN (\"§Severity§\")) }', 'SELECT ?patient WHERE { ?event <https://www.biomedit.ch/rdf/sphn-schema/sphn/hasSubjectPseudoIdentifier> ?patient . ?event <https://www.biomedit.ch/rdf/sphn-schema/sphn/hasLabResult> ?res . ?res <https://www.biomedit.ch/rdf/sphn-schema/sphn/hasQuantityValue> ?val . FILTER(?val < §Threshold§ ) }', 'SELECT ?patient WHERE { ?event <https://www.biomedit.ch/rdf/sphn-schema/sphn/hasSubjectPseudoIdentifier> ?patient . ?event <https://www.biomedit.ch/rdf/sphn-schema/sphn/hasLabResult> ?res . ?res <https://www.biomedit.ch/rdf/sphn-schema/sphn/hasQuantityValue> ?val . FILTER(?val > §Threshold§ ) }', 'SELECT ?patient WHERE { ?patient <https://www.biomedit.ch/rdf/sphn-schema/sphn/hasBirthDate> ?dob . BIND(year(NOW()) - year(?dob) AS ?age) FILTER(?age >= §Age§ ) }', 'SELECT ?patient WHERE { ?patient <https://www.biomedit.ch/rdf/sphn-schema/sphn/hasDiagnosis> ?diag . ?diag <https://www.biomedit.ch/rdf/sphn-schema/sphn/hasCode> ?code . ?code <https://www.biomedit.ch/rdf/sphn-schema/sphn/hasCodeValue> §Diagnosis§ . ?event <https://www.biomedit.ch/rdf/sphn-schema/sphn/hasSubjectPseudoIdentifier> ?patient . ?event <https://www.biomedit.ch/rdf/sphn-schema/sphn/hasLabResult> ?res . ?res <https://www.biomedit.ch/rdf/sphn-schema/sphn/hasQuantityValue> ?val . FILTER(?val > §Threshold§ ) }', 'SELECT ?patient WHERE { ?patient <https://www.biomedit.ch/rdf/sphn-schema/sphn/hasDiagnosis> ?diag . ?diag <https://www.biomedit.ch/rdf/sphn-schema/sphn/hasCode> ?code . ?code <https://www.biomedit.ch/rdf/sphn-schema/sphn/hasCodeValue> §Diagnosis§ . ?event <https://www.biomedit.ch/rdf/sphn-schema/sphn/hasSubjectPseudoIdentifier> ?patient . ?event <https://www.biomedit.ch/rdf/sphn-schema/sphn/hasLabResult> ?res . ?res <https://www.biomedit.ch/rdf/sphn-schema/sphn/hasQuantityValue> ?val . FILTER(?val > §Threshold§) }', 'SELECT ?patient WHERE { ?patient <https://www.biomedit.ch/rdf/sphn-schema/sphn/hasDiagnosis> ?diag . ?diag <https://www.biomedit.ch/rdf/sphn-schema/sphn/hasCode> ?code . ?code <https://www.biomedit.ch/rdf/sphn-schema/sphn/hasCodeValue> §Diagnosis§ . }', 'SELECT ?patient WHERE { ?presc <https://www.biomedit.ch/rdf/sphn-schema/sphn/hasSubjectPseudoIdentifier> ?patient . ?presc <https://www.biomedit.ch/rdf/sphn-schema/sphn/hasDrug> ?drug . ?drug <https://www.biomedit.ch/rdf/sphn-schema/sphn/hasCode> ?code . ?code <https://www.biomedit.ch/rdf/sphn-schema/sphn/hasCodeValue> §Drug§ }', 'SELECT ?patient WHERE { { ?patient <https://www.biomedit.ch/rdf/sphn-schema/sphn/hasDiagnosis> ?diag . ?diag <https://www.biomedit.ch/rdf/sphn-schema/sphn/hasCode> ?code . ?code <https://www.biomedit.ch/rdf/sphn-schema/sphn/hasCodeValue> §Diagnosis1§ .} UNION { ?patient <https://www.biomedit.ch/rdf/sphn-schema/sphn/hasDiagnosis> ?diag . ?diag <https://www.biomedit.ch/rdf/sphn-schema/sphn/hasCode> ?code . ?code <https://www.biomedit.ch/rdf/sphn-schema/sphn/hasCodeValue> §Diagnosis2§ . } }']\n"
     ]
    }
   ],
   "source": [
    "import yaml\n",
    "\n",
    "# Load data from the grouped_question_query_pairs.yaml file\n",
    "grouped_qq_pairs_file = \"grouped_question_query_pairs.yaml\"\n",
    "\n",
    "with open(grouped_qq_pairs_file, mode=\"r\", encoding=\"utf-8\") as file:\n",
    "    grouped_qq_pairs_data = yaml.safe_load(file)\n",
    "\n",
    "# Print the keys to see the structure of the data\n",
    "print(f\"Loaded keys: {list(grouped_qq_pairs_data.keys())}\")"
   ]
  },
  {
   "cell_type": "code",
   "execution_count": 413,
   "id": "fe82f8ae",
   "metadata": {},
   "outputs": [],
   "source": [
    "for entry in generated_qq:\n",
    "    query = entry.get(\"Query\")\n",
    "    if \"§\" in query:\n",
    "        print(f\"Query with placeholder found: {query}\")\n",
    "    "
   ]
  }
 ],
 "metadata": {
  "kernelspec": {
   "display_name": "Python 3",
   "language": "python",
   "name": "python3"
  },
  "language_info": {
   "codemirror_mode": {
    "name": "ipython",
    "version": 3
   },
   "file_extension": ".py",
   "mimetype": "text/x-python",
   "name": "python",
   "nbconvert_exporter": "python",
   "pygments_lexer": "ipython3",
   "version": "3.11.0"
  }
 },
 "nbformat": 4,
 "nbformat_minor": 5
}
